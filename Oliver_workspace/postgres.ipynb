{
 "cells": [
  {
   "cell_type": "code",
   "execution_count": 1,
   "id": "supposed-research",
   "metadata": {},
   "outputs": [],
   "source": [
    "# Import packages\n",
    "import pandas as pd\n",
    "import numpy as np\n",
    "import psycopg2\n",
    "import sqlalchemy\n",
    "from sqlalchemy import create_engine"
   ]
  },
  {
   "cell_type": "code",
   "execution_count": 2,
   "id": "specific-castle",
   "metadata": {},
   "outputs": [],
   "source": [
    "# Allows notebook to display output from multiple lines in the same cess\n",
    "from IPython.core.interactiveshell import InteractiveShell\n",
    "InteractiveShell.ast_node_interactivity = \"all\""
   ]
  },
  {
   "cell_type": "code",
   "execution_count": 3,
   "id": "diagnostic-flood",
   "metadata": {},
   "outputs": [],
   "source": [
    "# import username and password\n",
    "from my_access import lhl_pg\n",
    "user = lhl_pg['username']\n",
    "pword = lhl_pg['password']"
   ]
  },
  {
   "cell_type": "code",
   "execution_count": 4,
   "id": "graphic-graphic",
   "metadata": {},
   "outputs": [],
   "source": [
    "# Postgres username, password, and database name\n",
    "POSTGRES_ADDRESS = 'mid-term-project.ca2jkepgjpne.us-east-2.rds.amazonaws.com' \n",
    "POSTGRES_PORT = '5432'\n",
    "POSTGRES_USERNAME = user\n",
    "POSTGRES_PASSWORD = pword\n",
    "POSTGRES_DBNAME = 'mid_term_project' ## CHANGE THIS TO YOUR DATABASE NAME\n",
    "\n",
    "postgres_str = (f'postgresql://{user}:{pword}@{POSTGRES_ADDRESS}:{POSTGRES_PORT}/{POSTGRES_DBNAME}')\n",
    "\n",
    "cnx = create_engine(postgres_str)"
   ]
  },
  {
   "cell_type": "code",
   "execution_count": 6,
   "id": "prescribed-andrew",
   "metadata": {},
   "outputs": [],
   "source": [
    "# # Import all flights from the first week of 2018 and 2019\n",
    "\n",
    "# query = \"\"\"SELECT * FROM flights\n",
    "# WHERE fl_date BETWEEN '2018-01-01' AND '2018-01-07'\n",
    "# OR fl_date BETWEEN '2019-01-01' AND '2019-01-07';\"\"\"\n",
    "# df = pd.read_sql_query(query, cnx)\n",
    "# df.to_csv('data/wk1_2018_2019.csv')"
   ]
  },
  {
   "cell_type": "code",
   "execution_count": 30,
   "id": "external-albert",
   "metadata": {},
   "outputs": [],
   "source": [
    "# # Import data for airports for which we have weather data\n",
    "# query = \"\"\"SELECT * FROM flights\n",
    "# WHERE origin IN ('ATL', 'CLT', 'DFW', 'IAH', 'JFK', 'LAX', 'ORD', 'RDU', 'SEA');\"\"\"\n",
    "# df = pd.read_sql_query(query, cnx)\n",
    "# df.to_csv('data/flights_for_weather.csv')"
   ]
  },
  {
   "cell_type": "code",
   "execution_count": 5,
   "id": "facial-brain",
   "metadata": {},
   "outputs": [],
   "source": [
    "# # Import all of flights_test\n",
    "# query = \"\"\"SELECT * FROM flights_test;\"\"\"\n",
    "# pd.read_sql_query(query, cnx).to_csv('data/raw_flights_test.csv')"
   ]
  },
  {
   "cell_type": "code",
   "execution_count": null,
   "id": "flying-bunch",
   "metadata": {},
   "outputs": [],
   "source": []
  }
 ],
 "metadata": {
  "kernelspec": {
   "display_name": "Python 3",
   "language": "python",
   "name": "python3"
  },
  "language_info": {
   "codemirror_mode": {
    "name": "ipython",
    "version": 3
   },
   "file_extension": ".py",
   "mimetype": "text/x-python",
   "name": "python",
   "nbconvert_exporter": "python",
   "pygments_lexer": "ipython3",
   "version": "3.6.10"
  }
 },
 "nbformat": 4,
 "nbformat_minor": 5
}
