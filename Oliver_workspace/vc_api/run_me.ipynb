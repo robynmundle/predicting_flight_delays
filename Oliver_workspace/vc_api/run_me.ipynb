{
 "cells": [
  {
   "cell_type": "code",
   "execution_count": 1,
   "id": "republican-visitor",
   "metadata": {},
   "outputs": [],
   "source": [
    "import pandas as pd\n",
    "import requests\n",
    "import json\n",
    "import re\n",
    "from datetime import datetime, date, timedelta\n",
    "from IPython.display import JSON\n",
    "\n",
    "import my_access\n",
    "from vc_api import *\n",
    "\n",
    "# load airport coordinates\n",
    "apt_coords = pd.read_csv('airport_coordinates.csv').rename(columns={\"Unnamed: 0\": \"code\"}).set_index('code')\n",
    "apt_coords = apt_coords[apt_coords.lat_long.notnull()]\n",
    "\n",
    "# make list of airport-date pairs to request\n",
    "df = pd.read_csv('test_airport_dates.csv', index_col=0)\n",
    "airports = [a for a in df.origin.unique() if a in apt_coords.index]\n",
    "dates = [f\"2020-01-0{i}\" for i in range(1,8)]\n",
    "list_ = []\n",
    "for date in dates:\n",
    "    for airport in airports:\n",
    "        list_.append((airport, date))\n",
    "list_ = list_[2011:]"
   ]
  },
  {
   "cell_type": "code",
   "execution_count": null,
   "id": "retained-stockholm",
   "metadata": {},
   "outputs": [],
   "source": [
    "api_key = # api Key goes here"
   ]
  },
  {
   "cell_type": "code",
   "execution_count": null,
   "id": "turned-ethiopia",
   "metadata": {},
   "outputs": [],
   "source": [
    "# #  uncomment and run\n",
    "# for item in list_:\n",
    "#     print(item)\n",
    "#     print(get_save(item[0], item[1], api_key))"
   ]
  }
 ],
 "metadata": {
  "kernelspec": {
   "display_name": "Python 3",
   "language": "python",
   "name": "python3"
  },
  "language_info": {
   "codemirror_mode": {
    "name": "ipython",
    "version": 3
   },
   "file_extension": ".py",
   "mimetype": "text/x-python",
   "name": "python",
   "nbconvert_exporter": "python",
   "pygments_lexer": "ipython3",
   "version": "3.6.10"
  }
 },
 "nbformat": 4,
 "nbformat_minor": 5
}
