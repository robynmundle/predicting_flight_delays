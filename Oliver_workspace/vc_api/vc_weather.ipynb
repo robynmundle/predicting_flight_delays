{
 "cells": [
  {
   "cell_type": "markdown",
   "id": "amended-chest",
   "metadata": {},
   "source": [
    "# Visual Crossing API requests"
   ]
  },
  {
   "cell_type": "code",
   "execution_count": 51,
   "id": "tight-installation",
   "metadata": {},
   "outputs": [],
   "source": [
    "# import packages\n",
    "import pandas as pd\n",
    "import requests\n",
    "import json\n",
    "import re\n",
    "from datetime import datetime, date, timedelta\n",
    "from IPython.display import JSON\n",
    "\n",
    "import my_access\n",
    "from vc_api import *"
   ]
  },
  {
   "cell_type": "code",
   "execution_count": 52,
   "id": "pursuant-protest",
   "metadata": {},
   "outputs": [],
   "source": [
    "# load airport lat-long data\n",
    "apt_coords = pd.read_csv('airport_coordinates.csv').rename(columns={\"Unnamed: 0\": \"code\"}).set_index('code')\n",
    "apt_coords = apt_coords[apt_coords.lat_long.notnull()]"
   ]
  },
  {
   "cell_type": "code",
   "execution_count": 53,
   "id": "changed-reason",
   "metadata": {},
   "outputs": [
    {
     "data": {
      "text/plain": [
       "lat_long    29.984399795532227, -95.34140014648438\n",
       "Name: IAH, dtype: object"
      ]
     },
     "execution_count": 53,
     "metadata": {},
     "output_type": "execute_result"
    }
   ],
   "source": [
    "# check that airport code is in apt_coords\n",
    "apt_coords.loc[\"IAH\"]"
   ]
  },
  {
   "cell_type": "code",
   "execution_count": 54,
   "id": "labeled-lyric",
   "metadata": {},
   "outputs": [],
   "source": [
    "# generate list of dates to \n",
    "start_date = \"2018-01-01\" # string - format YYYY-MM-DD\n",
    "end_date =  \"2019-12-31\" # string - format YYYY-MM-DD\n",
    "\n",
    "datelist = generate_dates(start_date, end_date)\n",
    "apt_code = \"IAH\" # airport 3-letter code\n",
    "api_key = my_access.visual_crossing2['api_key'] # api key goes here"
   ]
  },
  {
   "cell_type": "markdown",
   "id": "intelligent-traffic",
   "metadata": {},
   "source": [
    "DANGER: check details before running this. Commented out for safety."
   ]
  },
  {
   "cell_type": "code",
   "execution_count": 55,
   "id": "outside-gather",
   "metadata": {},
   "outputs": [],
   "source": [
    "# for date in datelist:\n",
    "#     if get_save(apt_code, date, api_key) != 200:\n",
    "#         print(f\"Request for {apt_code} on {date} failed.\")\n",
    "#         break\n",
    "#     else:\n",
    "#         print(f\"Data for {apt_code} on {date} retrieved successfully.\")"
   ]
  },
  {
   "cell_type": "markdown",
   "id": "accessory-design",
   "metadata": {},
   "source": [
    "### Get data for flights_test"
   ]
  },
  {
   "cell_type": "code",
   "execution_count": 58,
   "id": "selected-sense",
   "metadata": {},
   "outputs": [],
   "source": [
    "# load list of airports needed\n",
    "df = pd.read_csv('raw_flights_test.csv', index_col=0)"
   ]
  },
  {
   "cell_type": "code",
   "execution_count": 60,
   "id": "cultural-taylor",
   "metadata": {},
   "outputs": [],
   "source": [
    "airports = [a for a in df.origin.unique() if a in apt_coords.index] + [a for a in df.dest.unique() if a in apt_coords.index]\n",
    "airports = set(airports)\n",
    "dates = [f\"2020-01-0{i}\" for i in range(1,8)]"
   ]
  },
  {
   "cell_type": "code",
   "execution_count": 43,
   "id": "satisfactory-jumping",
   "metadata": {},
   "outputs": [],
   "source": [
    "api_key = my_access.visual_crossing2['api_key']"
   ]
  },
  {
   "cell_type": "code",
   "execution_count": 36,
   "id": "connected-price",
   "metadata": {},
   "outputs": [],
   "source": [
    "list_ = []\n",
    "for date in dates:\n",
    "    for airport in airports:\n",
    "        list_.append((airport, date))"
   ]
  },
  {
   "cell_type": "code",
   "execution_count": 40,
   "id": "creative-standard",
   "metadata": {},
   "outputs": [],
   "source": [
    "# for item in list_:\n",
    "#     print(item)\n",
    "#     print(get_save(item[0], item[1], api_key))"
   ]
  },
  {
   "cell_type": "code",
   "execution_count": 46,
   "id": "subsequent-horizontal",
   "metadata": {},
   "outputs": [],
   "source": [
    "# for item in list_[995:]:\n",
    "#     print(item)\n",
    "#     print(get_save(item[0], item[1], api_key))"
   ]
  },
  {
   "cell_type": "code",
   "execution_count": 47,
   "id": "lasting-costa",
   "metadata": {},
   "outputs": [
    {
     "name": "stdout",
     "output_type": "stream",
     "text": [
      "2011\n"
     ]
    }
   ],
   "source": [
    "next_ = ('ROC', '2020-01-07')\n",
    "print(list_.index(next_))"
   ]
  },
  {
   "cell_type": "code",
   "execution_count": 48,
   "id": "young-spencer",
   "metadata": {},
   "outputs": [
    {
     "data": {
      "text/plain": [
       "2331"
      ]
     },
     "execution_count": 48,
     "metadata": {},
     "output_type": "execute_result"
    }
   ],
   "source": [
    "len(list_)"
   ]
  },
  {
   "cell_type": "code",
   "execution_count": 50,
   "id": "adjusted-automation",
   "metadata": {},
   "outputs": [],
   "source": [
    "# list_[2011:]"
   ]
  },
  {
   "cell_type": "code",
   "execution_count": null,
   "id": "computational-klein",
   "metadata": {},
   "outputs": [],
   "source": []
  }
 ],
 "metadata": {
  "kernelspec": {
   "display_name": "Python 3",
   "language": "python",
   "name": "python3"
  },
  "language_info": {
   "codemirror_mode": {
    "name": "ipython",
    "version": 3
   },
   "file_extension": ".py",
   "mimetype": "text/x-python",
   "name": "python",
   "nbconvert_exporter": "python",
   "pygments_lexer": "ipython3",
   "version": "3.6.10"
  }
 },
 "nbformat": 4,
 "nbformat_minor": 5
}
