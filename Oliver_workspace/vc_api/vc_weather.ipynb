{
 "cells": [
  {
   "cell_type": "markdown",
   "id": "massive-earthquake",
   "metadata": {},
   "source": [
    "# Visual Crossing API requests"
   ]
  },
  {
   "cell_type": "code",
   "execution_count": 2,
   "id": "cultural-robinson",
   "metadata": {},
   "outputs": [],
   "source": [
    "# import packages\n",
    "import pandas as pd\n",
    "import requests\n",
    "import json\n",
    "import re\n",
    "from datetime import datetime, date, timedelta\n",
    "from IPython.display import JSON\n",
    "\n",
    "import my_access\n",
    "from vc_api import *"
   ]
  },
  {
   "cell_type": "code",
   "execution_count": 34,
   "id": "cordless-niagara",
   "metadata": {},
   "outputs": [],
   "source": [
    "# load airport lat-long data\n",
    "apt_coords = pd.read_csv('airport_coordinates.csv').rename(columns={\"Unnamed: 0\": \"code\"}).set_index('code')\n",
    "apt_coords = apt_coords[apt_coords.lat_long.notnull()]"
   ]
  },
  {
   "cell_type": "code",
   "execution_count": 38,
   "id": "declared-scale",
   "metadata": {},
   "outputs": [
    {
     "data": {
      "text/plain": [
       "lat_long    29.984399795532227, -95.34140014648438\n",
       "Name: IAH, dtype: object"
      ]
     },
     "execution_count": 38,
     "metadata": {},
     "output_type": "execute_result"
    }
   ],
   "source": [
    "# check that airport code is in apt_coords\n",
    "apt_coords.loc[\"IAH\"]"
   ]
  },
  {
   "cell_type": "code",
   "execution_count": 39,
   "id": "contained-trustee",
   "metadata": {},
   "outputs": [],
   "source": [
    "# generate list of dates to \n",
    "start_date = \"2018-01-01\" # string - format YYYY-MM-DD\n",
    "end_date =  \"2019-12-31\" # string - format YYYY-MM-DD\n",
    "\n",
    "datelist = generate_dates(start_date, end_date)\n",
    "apt_code = \"IAH\" # airport 3-letter code\n",
    "api_key = my_access.visual_crossing2['api_key'] # api key goes here"
   ]
  },
  {
   "cell_type": "markdown",
   "id": "decimal-banana",
   "metadata": {},
   "source": [
    "DANGER: check details before running this. Commented out for safety."
   ]
  },
  {
   "cell_type": "code",
   "execution_count": 1,
   "id": "hired-metropolitan",
   "metadata": {},
   "outputs": [],
   "source": [
    "# for date in datelist:\n",
    "#     if get_save(apt_code, date, api_key) != 200:\n",
    "#         print(f\"Request for {apt_code} on {date} failed.\")\n",
    "#         break\n",
    "#     else:\n",
    "#         print(f\"Data for {apt_code} on {date} retrieved successfully.\")"
   ]
  },
  {
   "cell_type": "markdown",
   "id": "closed-turning",
   "metadata": {},
   "source": [
    "### Get data for flights_test"
   ]
  },
  {
   "cell_type": "code",
   "execution_count": 6,
   "id": "nasty-sponsorship",
   "metadata": {},
   "outputs": [],
   "source": [
    "# load list of airports needed\n",
    "df = pd.read_csv('test_airport_dates.csv', index_col=0)"
   ]
  },
  {
   "cell_type": "code",
   "execution_count": 35,
   "id": "decimal-annex",
   "metadata": {},
   "outputs": [],
   "source": [
    "airports = [a for a in df.origin.unique() if a in apt_coords.index]\n",
    "dates = [f\"2020-01-0{i}\" for i in range(1,8)]"
   ]
  },
  {
   "cell_type": "code",
   "execution_count": 43,
   "id": "interracial-waters",
   "metadata": {},
   "outputs": [],
   "source": [
    "api_key = my_access.visual_crossing2['api_key']"
   ]
  },
  {
   "cell_type": "code",
   "execution_count": 36,
   "id": "simplified-pizza",
   "metadata": {},
   "outputs": [],
   "source": [
    "list_ = []\n",
    "for date in dates:\n",
    "    for airport in airports:\n",
    "        list_.append((airport, date))"
   ]
  },
  {
   "cell_type": "code",
   "execution_count": 40,
   "id": "wooden-bleeding",
   "metadata": {},
   "outputs": [],
   "source": [
    "# for item in list_:\n",
    "#     print(item)\n",
    "#     print(get_save(item[0], item[1], api_key))"
   ]
  },
  {
   "cell_type": "code",
   "execution_count": 46,
   "id": "international-israel",
   "metadata": {},
   "outputs": [],
   "source": [
    "# for item in list_[995:]:\n",
    "#     print(item)\n",
    "#     print(get_save(item[0], item[1], api_key))"
   ]
  },
  {
   "cell_type": "code",
   "execution_count": 47,
   "id": "romance-characteristic",
   "metadata": {},
   "outputs": [
    {
     "name": "stdout",
     "output_type": "stream",
     "text": [
      "2011\n"
     ]
    }
   ],
   "source": [
    "next_ = ('ROC', '2020-01-07')\n",
    "print(list_.index(next_))"
   ]
  },
  {
   "cell_type": "code",
   "execution_count": 48,
   "id": "funky-carrier",
   "metadata": {},
   "outputs": [
    {
     "data": {
      "text/plain": [
       "2331"
      ]
     },
     "execution_count": 48,
     "metadata": {},
     "output_type": "execute_result"
    }
   ],
   "source": [
    "len(list_)"
   ]
  },
  {
   "cell_type": "code",
   "execution_count": 50,
   "id": "confirmed-works",
   "metadata": {},
   "outputs": [],
   "source": [
    "# list_[2011:]"
   ]
  },
  {
   "cell_type": "code",
   "execution_count": null,
   "id": "friendly-moses",
   "metadata": {},
   "outputs": [],
   "source": []
  }
 ],
 "metadata": {
  "kernelspec": {
   "display_name": "Python 3",
   "language": "python",
   "name": "python3"
  },
  "language_info": {
   "codemirror_mode": {
    "name": "ipython",
    "version": 3
   },
   "file_extension": ".py",
   "mimetype": "text/x-python",
   "name": "python",
   "nbconvert_exporter": "python",
   "pygments_lexer": "ipython3",
   "version": "3.6.10"
  }
 },
 "nbformat": 4,
 "nbformat_minor": 5
}
