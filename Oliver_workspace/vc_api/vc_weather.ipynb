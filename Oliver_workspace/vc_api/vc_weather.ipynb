{
 "cells": [
  {
   "cell_type": "markdown",
   "id": "regulated-badge",
   "metadata": {},
   "source": [
    "# Visual Crossing API requests"
   ]
  },
  {
   "cell_type": "code",
   "execution_count": 6,
   "id": "limited-intent",
   "metadata": {},
   "outputs": [],
   "source": [
    "# import packages\n",
    "import pandas as pd\n",
    "import requests\n",
    "import json\n",
    "import re\n",
    "from datetime import datetime, date, timedelta\n",
    "from IPython.display import JSON\n",
    "\n",
    "from vc_api import *"
   ]
  },
  {
   "cell_type": "code",
   "execution_count": 7,
   "id": "statutory-television",
   "metadata": {},
   "outputs": [],
   "source": [
    "# load airport lat-long data\n",
    "apt_coords = pd.read_csv('airport_coordinates.csv').rename(columns={\"Unnamed: 0\": \"code\"}).set_index('code')"
   ]
  },
  {
   "cell_type": "code",
   "execution_count": 8,
   "id": "amazing-correspondence",
   "metadata": {},
   "outputs": [
    {
     "data": {
      "text/plain": [
       "lat_long    47.449001, -122.308998\n",
       "Name: SEA, dtype: object"
      ]
     },
     "execution_count": 8,
     "metadata": {},
     "output_type": "execute_result"
    }
   ],
   "source": [
    "# check that airport code is in apt_coords\n",
    "apt_coords.loc[\"SEA\"]"
   ]
  },
  {
   "cell_type": "code",
   "execution_count": 9,
   "id": "informal-overall",
   "metadata": {},
   "outputs": [],
   "source": [
    "# generate list of dates to \n",
    "start_date = \"2018-11-06\" # string - format YYYY-MM-DD\n",
    "end_date =  \"2019-12-31\"# string - format YYYY-MM-DD\n",
    "\n",
    "datelist = generate_dates(start_date, end_date)\n",
    "apt_code = \"ATL\" # airport 3-letter code\n",
    "api_key = \"\" # api key goes here"
   ]
  },
  {
   "cell_type": "markdown",
   "id": "peaceful-speed",
   "metadata": {},
   "source": [
    "DANGER: check details before running this. Commented out for safety."
   ]
  },
  {
   "cell_type": "code",
   "execution_count": 12,
   "id": "fourth-bumper",
   "metadata": {},
   "outputs": [],
   "source": [
    "# for date in datelist:\n",
    "#     if get_save(apt_code, date, api_key) != 200:\n",
    "#         print(f\"Request for {apt_code} on {date} failed.\")\n",
    "#         break\n",
    "#     else:\n",
    "#         print(f\"Data for {apt_code} on {date} retrieved successfully.\")"
   ]
  },
  {
   "cell_type": "code",
   "execution_count": null,
   "id": "asian-colombia",
   "metadata": {},
   "outputs": [],
   "source": []
  }
 ],
 "metadata": {
  "kernelspec": {
   "display_name": "Python 3",
   "language": "python",
   "name": "python3"
  },
  "language_info": {
   "codemirror_mode": {
    "name": "ipython",
    "version": 3
   },
   "file_extension": ".py",
   "mimetype": "text/x-python",
   "name": "python",
   "nbconvert_exporter": "python",
   "pygments_lexer": "ipython3",
   "version": "3.6.10"
  }
 },
 "nbformat": 4,
 "nbformat_minor": 5
}
