{
 "cells": [
  {
   "cell_type": "markdown",
   "id": "joined-dakota",
   "metadata": {},
   "source": [
    "# Models on Integrated Features"
   ]
  },
  {
   "cell_type": "code",
   "execution_count": 24,
   "id": "prostate-investor",
   "metadata": {},
   "outputs": [],
   "source": [
    "import pandas as pd\n",
    "import numpy as np\n",
    "import pickle\n",
    "\n",
    "from sklearn.model_selection import train_test_split\n",
    "from sklearn.linear_model import LinearRegression\n",
    "from sklearn.ensemble import RandomForestRegressor\n",
    "from sklearn.metrics import mean_squared_error, r2_score\n",
    "from sklearn.preprocessing import PolynomialFeatures\n",
    "from sklearn.model_selection import GridSearchCV"
   ]
  },
  {
   "cell_type": "code",
   "execution_count": 35,
   "id": "elementary-language",
   "metadata": {},
   "outputs": [
    {
     "name": "stderr",
     "output_type": "stream",
     "text": [
      "/home/omlean/anaconda3/envs/lighthouse/lib/python3.6/site-packages/numpy/lib/arraysetops.py:580: FutureWarning: elementwise comparison failed; returning scalar instead, but in the future will perform elementwise comparison\n",
      "  mask |= (ar1 == a)\n"
     ]
    }
   ],
   "source": [
    "# load data\n",
    "df = pd.read_csv('data/model_df_weather.csv', index_col=0)"
   ]
  },
  {
   "cell_type": "code",
   "execution_count": 36,
   "id": "interstate-shower",
   "metadata": {},
   "outputs": [
    {
     "data": {
      "text/html": [
       "<div>\n",
       "<style scoped>\n",
       "    .dataframe tbody tr th:only-of-type {\n",
       "        vertical-align: middle;\n",
       "    }\n",
       "\n",
       "    .dataframe tbody tr th {\n",
       "        vertical-align: top;\n",
       "    }\n",
       "\n",
       "    .dataframe thead th {\n",
       "        text-align: right;\n",
       "    }\n",
       "</style>\n",
       "<table border=\"1\" class=\"dataframe\">\n",
       "  <thead>\n",
       "    <tr style=\"text-align: right;\">\n",
       "      <th></th>\n",
       "      <th>arr_delay</th>\n",
       "      <th>precip</th>\n",
       "      <th>snow</th>\n",
       "      <th>windgust</th>\n",
       "      <th>cloudcover</th>\n",
       "      <th>carrier_speed_rank</th>\n",
       "      <th>flight_num_speed_rank</th>\n",
       "      <th>month</th>\n",
       "      <th>month_rank</th>\n",
       "      <th>dep_hour</th>\n",
       "      <th>...</th>\n",
       "      <th>snow_cat</th>\n",
       "      <th>windgust_cat</th>\n",
       "      <th>cloud_cat</th>\n",
       "      <th>fl_month</th>\n",
       "      <th>airline_delay</th>\n",
       "      <th>haul_length</th>\n",
       "      <th>dep_timeday</th>\n",
       "      <th>arr_timeday</th>\n",
       "      <th>busy_origin</th>\n",
       "      <th>busy_dest</th>\n",
       "    </tr>\n",
       "  </thead>\n",
       "  <tbody>\n",
       "    <tr>\n",
       "      <th>0</th>\n",
       "      <td>-2.0</td>\n",
       "      <td>0.0</td>\n",
       "      <td>0.0</td>\n",
       "      <td>40.7</td>\n",
       "      <td>74.3</td>\n",
       "      <td>0</td>\n",
       "      <td>1</td>\n",
       "      <td>1</td>\n",
       "      <td>0</td>\n",
       "      <td>19</td>\n",
       "      <td>...</td>\n",
       "      <td>0</td>\n",
       "      <td>2</td>\n",
       "      <td>2</td>\n",
       "      <td>1</td>\n",
       "      <td>1</td>\n",
       "      <td>0</td>\n",
       "      <td>3</td>\n",
       "      <td>3</td>\n",
       "      <td>4</td>\n",
       "      <td>3.0</td>\n",
       "    </tr>\n",
       "  </tbody>\n",
       "</table>\n",
       "<p>1 rows × 25 columns</p>\n",
       "</div>"
      ],
      "text/plain": [
       "   arr_delay  precip  snow  windgust  cloudcover  carrier_speed_rank  \\\n",
       "0       -2.0     0.0   0.0      40.7        74.3                   0   \n",
       "\n",
       "   flight_num_speed_rank  month  month_rank  dep_hour  ...  snow_cat  \\\n",
       "0                      1      1           0        19  ...         0   \n",
       "\n",
       "   windgust_cat  cloud_cat  fl_month  airline_delay  haul_length  dep_timeday  \\\n",
       "0             2          2         1              1            0            3   \n",
       "\n",
       "   arr_timeday  busy_origin  busy_dest  \n",
       "0            3            4        3.0  \n",
       "\n",
       "[1 rows x 25 columns]"
      ]
     },
     "execution_count": 36,
     "metadata": {},
     "output_type": "execute_result"
    }
   ],
   "source": [
    "df.head(1)"
   ]
  },
  {
   "cell_type": "markdown",
   "id": "neural-melbourne",
   "metadata": {},
   "source": [
    "## Model 4: Simple LinReg"
   ]
  },
  {
   "cell_type": "code",
   "execution_count": 7,
   "id": "internal-pioneer",
   "metadata": {},
   "outputs": [
    {
     "data": {
      "text/plain": [
       "Index(['arr_delay', 'precip', 'snow', 'windgust', 'cloudcover',\n",
       "       'carrier_speed_rank', 'flight_num_speed_rank', 'month', 'month_rank',\n",
       "       'dep_hour', 'arr_hour', 'hour_rank', 'dep_hour_rank', 'arr_hour_rank',\n",
       "       'precip_cat', 'snow_cat', 'windgust_cat', 'cloud_cat', 'fl_month',\n",
       "       'airline_delay', 'haul_length', 'dep_timeday', 'arr_timeday',\n",
       "       'busy_origin', 'busy_dest'],\n",
       "      dtype='object')"
      ]
     },
     "execution_count": 7,
     "metadata": {},
     "output_type": "execute_result"
    }
   ],
   "source": [
    "df.columns"
   ]
  },
  {
   "cell_type": "code",
   "execution_count": 37,
   "id": "consecutive-composite",
   "metadata": {},
   "outputs": [],
   "source": [
    "x_cols = ['precip_cat', 'snow_cat', 'windgust_cat', 'cloud_cat', 'fl_month',\n",
    "       'airline_delay', 'haul_length', 'dep_timeday', 'arr_timeday',\n",
    "       'busy_origin', 'busy_dest']\n",
    "\n",
    "X = df[x_cols].to_numpy()\n",
    "y= df.arr_delay.to_numpy()\n",
    "\n",
    "X_train, X_test, y_train, y_test = train_test_split(X, y, test_size=0.2)"
   ]
  },
  {
   "cell_type": "code",
   "execution_count": 10,
   "id": "musical-interstate",
   "metadata": {},
   "outputs": [
    {
     "data": {
      "text/plain": [
       "LinearRegression()"
      ]
     },
     "execution_count": 10,
     "metadata": {},
     "output_type": "execute_result"
    }
   ],
   "source": [
    "lr = LinearRegression()\n",
    "lr.fit(X_train, y_train)"
   ]
  },
  {
   "cell_type": "code",
   "execution_count": 15,
   "id": "related-demographic",
   "metadata": {},
   "outputs": [],
   "source": [
    "# filename = 'models/lr4.sav'\n",
    "# pickle.dump(lr, open(filename, 'wb'))"
   ]
  },
  {
   "cell_type": "code",
   "execution_count": 13,
   "id": "wireless-voltage",
   "metadata": {},
   "outputs": [
    {
     "data": {
      "text/plain": [
       "0.0353581725167299"
      ]
     },
     "execution_count": 13,
     "metadata": {},
     "output_type": "execute_result"
    }
   ],
   "source": [
    "lr.score(X_test, y_test)"
   ]
  },
  {
   "cell_type": "markdown",
   "id": "adolescent-savannah",
   "metadata": {},
   "source": [
    "# Model5: Hail Mary Random Forest - defaults"
   ]
  },
  {
   "cell_type": "code",
   "execution_count": 19,
   "id": "stainless-sally",
   "metadata": {},
   "outputs": [],
   "source": [
    "rf1 = RandomForestRegressor()\n",
    "rf1.fit(X_train, y_train)\n",
    "\n",
    "filename = 'models/rf1.sav'\n",
    "pickle.dump(rf1, open(filename, 'wb'))"
   ]
  },
  {
   "cell_type": "code",
   "execution_count": 21,
   "id": "municipal-bullet",
   "metadata": {},
   "outputs": [
    {
     "name": "stdout",
     "output_type": "stream",
     "text": [
      "0.05976359190644176\n"
     ]
    }
   ],
   "source": [
    "y_pred = rf1.predict(X_test)\n",
    "print(r2_score(y_test, y_pred))"
   ]
  },
  {
   "cell_type": "markdown",
   "id": "played-module",
   "metadata": {},
   "source": [
    "# Model 6: Random Forest with 500 estimators"
   ]
  },
  {
   "cell_type": "code",
   "execution_count": 23,
   "id": "subtle-thread",
   "metadata": {},
   "outputs": [],
   "source": [
    "rf2 = RandomForestRegressor(n_estimators=500)\n",
    "rf2.fit(X_train, y_train)\n",
    "\n",
    "filename = 'models/rf2.sav'\n",
    "pickle.dump(rf2, open(filename, 'wb'))"
   ]
  },
  {
   "cell_type": "code",
   "execution_count": 30,
   "id": "nervous-eating",
   "metadata": {},
   "outputs": [
    {
     "name": "stdout",
     "output_type": "stream",
     "text": [
      "0.060161045485841225\n"
     ]
    }
   ],
   "source": [
    "y_pred = rf2.predict(X_test)\n",
    "print(r2_score(y_test, y_pred))"
   ]
  },
  {
   "cell_type": "code",
   "execution_count": 31,
   "id": "furnished-distinction",
   "metadata": {},
   "outputs": [
    {
     "name": "stdout",
     "output_type": "stream",
     "text": [
      "0.12521874844809677\n"
     ]
    }
   ],
   "source": [
    "y_trainpred = rf2.predict(X_train)\n",
    "print(r2_score(y_train, y_trainpred))"
   ]
  },
  {
   "cell_type": "markdown",
   "id": "daily-spare",
   "metadata": {},
   "source": [
    "# Model 7: Polynomial regression"
   ]
  },
  {
   "cell_type": "code",
   "execution_count": 26,
   "id": "intensive-sessions",
   "metadata": {},
   "outputs": [],
   "source": [
    "poly = PolynomialFeatures(2)\n",
    "X_poly = poly.fit_transform(X)\n",
    "\n",
    "X_poly_train, X_poly_test, y_poly_train, y_poly_test = train_test_split(X_poly, y, test_size=0.2)"
   ]
  },
  {
   "cell_type": "code",
   "execution_count": 32,
   "id": "answering-preserve",
   "metadata": {},
   "outputs": [],
   "source": [
    "plr = LinearRegression()\n",
    "plr.fit(X_poly_train, y_poly_train)\n",
    "\n",
    "filename = 'models/plr01.sav'\n",
    "pickle.dump(plr, open(filename, 'wb'))"
   ]
  },
  {
   "cell_type": "code",
   "execution_count": 33,
   "id": "civic-tragedy",
   "metadata": {},
   "outputs": [
    {
     "data": {
      "text/plain": [
       "0.04628511122630863"
      ]
     },
     "execution_count": 33,
     "metadata": {},
     "output_type": "execute_result"
    }
   ],
   "source": [
    "plr.score(X_poly_test, y_poly_test)"
   ]
  },
  {
   "cell_type": "code",
   "execution_count": 34,
   "id": "billion-updating",
   "metadata": {},
   "outputs": [
    {
     "data": {
      "text/plain": [
       "0.045765259868254304"
      ]
     },
     "execution_count": 34,
     "metadata": {},
     "output_type": "execute_result"
    }
   ],
   "source": [
    "plr.score(X_poly_train, y_poly_train)"
   ]
  },
  {
   "cell_type": "markdown",
   "id": "technical-federal",
   "metadata": {},
   "source": [
    "This doesn't seem to be overfitting. Maybe try higher-order polynomial features"
   ]
  },
  {
   "cell_type": "markdown",
   "id": "friendly-japanese",
   "metadata": {},
   "source": [
    "# Model 8: Polynomial regression, third-order polynomials"
   ]
  },
  {
   "cell_type": "code",
   "execution_count": 38,
   "id": "optimum-terror",
   "metadata": {},
   "outputs": [],
   "source": [
    "poly3 = PolynomialFeatures(3)\n",
    "X_poly3 = poly.fit_transform(X)\n",
    "\n",
    "X_poly3_train, X_poly3_test, y_poly3_train, y_poly3_test = train_test_split(X_poly3, y, test_size=0.2)"
   ]
  },
  {
   "cell_type": "code",
   "execution_count": 39,
   "id": "assured-mounting",
   "metadata": {},
   "outputs": [],
   "source": [
    "plr2 = LinearRegression()\n",
    "plr2.fit(X_poly_train, y_poly_train)\n",
    "\n",
    "filename = 'models/plr02.sav'\n",
    "pickle.dump(plr2, open(filename, 'wb'))"
   ]
  },
  {
   "cell_type": "code",
   "execution_count": 40,
   "id": "increased-blackjack",
   "metadata": {},
   "outputs": [
    {
     "data": {
      "text/plain": [
       "0.04510721284466834"
      ]
     },
     "execution_count": 40,
     "metadata": {},
     "output_type": "execute_result"
    }
   ],
   "source": [
    "plr.score(X_poly3_test, y_poly3_test)"
   ]
  },
  {
   "cell_type": "code",
   "execution_count": 41,
   "id": "noticed-christmas",
   "metadata": {},
   "outputs": [
    {
     "data": {
      "text/plain": [
       "0.04605904851084508"
      ]
     },
     "execution_count": 41,
     "metadata": {},
     "output_type": "execute_result"
    }
   ],
   "source": [
    "plr.score(X_poly3_train, y_poly3_train)"
   ]
  },
  {
   "cell_type": "code",
   "execution_count": null,
   "id": "injured-paragraph",
   "metadata": {},
   "outputs": [],
   "source": []
  }
 ],
 "metadata": {
  "kernelspec": {
   "display_name": "Python 3",
   "language": "python",
   "name": "python3"
  },
  "language_info": {
   "codemirror_mode": {
    "name": "ipython",
    "version": 3
   },
   "file_extension": ".py",
   "mimetype": "text/x-python",
   "name": "python",
   "nbconvert_exporter": "python",
   "pygments_lexer": "ipython3",
   "version": "3.6.10"
  }
 },
 "nbformat": 4,
 "nbformat_minor": 5
}
