{
 "cells": [
  {
   "cell_type": "markdown",
   "id": "material-thong",
   "metadata": {},
   "source": [
    "# Models on Integrated Features"
   ]
  },
  {
   "cell_type": "code",
   "execution_count": 4,
   "id": "automotive-tumor",
   "metadata": {},
   "outputs": [],
   "source": [
    "import pandas as pd\n",
    "import numpy as np\n",
    "import pickle\n",
    "\n",
    "from sklearn.model_selection import train_test_split\n",
    "from sklearn.linear_model import LinearRegression\n",
    "from sklearn.ensemble import RandomForestRegressor\n",
    "from sklearn.metrics import mean_squared_error, r2_score\n",
    "from sklearn.preprocessing import PolynomialFeatures\n",
    "from sklearn.model_selection import GridSearchCV"
   ]
  },
  {
   "cell_type": "code",
   "execution_count": 5,
   "id": "shaped-plaintiff",
   "metadata": {},
   "outputs": [
    {
     "name": "stderr",
     "output_type": "stream",
     "text": [
      "/home/omlean/anaconda3/envs/lighthouse/lib/python3.6/site-packages/numpy/lib/arraysetops.py:580: FutureWarning: elementwise comparison failed; returning scalar instead, but in the future will perform elementwise comparison\n",
      "  mask |= (ar1 == a)\n"
     ]
    }
   ],
   "source": [
    "# load data\n",
    "df = pd.read_csv('data/model_df_weather.csv', index_col=0)"
   ]
  },
  {
   "cell_type": "code",
   "execution_count": 6,
   "id": "extra-vietnam",
   "metadata": {},
   "outputs": [
    {
     "data": {
      "text/html": [
       "<div>\n",
       "<style scoped>\n",
       "    .dataframe tbody tr th:only-of-type {\n",
       "        vertical-align: middle;\n",
       "    }\n",
       "\n",
       "    .dataframe tbody tr th {\n",
       "        vertical-align: top;\n",
       "    }\n",
       "\n",
       "    .dataframe thead th {\n",
       "        text-align: right;\n",
       "    }\n",
       "</style>\n",
       "<table border=\"1\" class=\"dataframe\">\n",
       "  <thead>\n",
       "    <tr style=\"text-align: right;\">\n",
       "      <th></th>\n",
       "      <th>arr_delay</th>\n",
       "      <th>precip</th>\n",
       "      <th>snow</th>\n",
       "      <th>windgust</th>\n",
       "      <th>cloudcover</th>\n",
       "      <th>carrier_speed_rank</th>\n",
       "      <th>flight_num_speed_rank</th>\n",
       "      <th>month</th>\n",
       "      <th>month_rank</th>\n",
       "      <th>dep_hour</th>\n",
       "      <th>...</th>\n",
       "      <th>snow_cat</th>\n",
       "      <th>windgust_cat</th>\n",
       "      <th>cloud_cat</th>\n",
       "      <th>fl_month</th>\n",
       "      <th>airline_delay</th>\n",
       "      <th>haul_length</th>\n",
       "      <th>dep_timeday</th>\n",
       "      <th>arr_timeday</th>\n",
       "      <th>busy_origin</th>\n",
       "      <th>busy_dest</th>\n",
       "    </tr>\n",
       "  </thead>\n",
       "  <tbody>\n",
       "    <tr>\n",
       "      <th>0</th>\n",
       "      <td>-2.0</td>\n",
       "      <td>0.0</td>\n",
       "      <td>0.0</td>\n",
       "      <td>40.7</td>\n",
       "      <td>74.3</td>\n",
       "      <td>0</td>\n",
       "      <td>1</td>\n",
       "      <td>1</td>\n",
       "      <td>0</td>\n",
       "      <td>19</td>\n",
       "      <td>...</td>\n",
       "      <td>0</td>\n",
       "      <td>2</td>\n",
       "      <td>2</td>\n",
       "      <td>1</td>\n",
       "      <td>1</td>\n",
       "      <td>0</td>\n",
       "      <td>3</td>\n",
       "      <td>3</td>\n",
       "      <td>4</td>\n",
       "      <td>3.0</td>\n",
       "    </tr>\n",
       "  </tbody>\n",
       "</table>\n",
       "<p>1 rows × 25 columns</p>\n",
       "</div>"
      ],
      "text/plain": [
       "   arr_delay  precip  snow  windgust  cloudcover  carrier_speed_rank  \\\n",
       "0       -2.0     0.0   0.0      40.7        74.3                   0   \n",
       "\n",
       "   flight_num_speed_rank  month  month_rank  dep_hour  ...  snow_cat  \\\n",
       "0                      1      1           0        19  ...         0   \n",
       "\n",
       "   windgust_cat  cloud_cat  fl_month  airline_delay  haul_length  dep_timeday  \\\n",
       "0             2          2         1              1            0            3   \n",
       "\n",
       "   arr_timeday  busy_origin  busy_dest  \n",
       "0            3            4        3.0  \n",
       "\n",
       "[1 rows x 25 columns]"
      ]
     },
     "execution_count": 6,
     "metadata": {},
     "output_type": "execute_result"
    }
   ],
   "source": [
    "df.head(1)"
   ]
  },
  {
   "cell_type": "markdown",
   "id": "dutch-upper",
   "metadata": {},
   "source": [
    "## Model 4: Simple LinReg"
   ]
  },
  {
   "cell_type": "code",
   "execution_count": 7,
   "id": "civic-problem",
   "metadata": {},
   "outputs": [
    {
     "data": {
      "text/plain": [
       "Index(['arr_delay', 'precip', 'snow', 'windgust', 'cloudcover',\n",
       "       'carrier_speed_rank', 'flight_num_speed_rank', 'month', 'month_rank',\n",
       "       'dep_hour', 'arr_hour', 'hour_rank', 'dep_hour_rank', 'arr_hour_rank',\n",
       "       'precip_cat', 'snow_cat', 'windgust_cat', 'cloud_cat', 'fl_month',\n",
       "       'airline_delay', 'haul_length', 'dep_timeday', 'arr_timeday',\n",
       "       'busy_origin', 'busy_dest'],\n",
       "      dtype='object')"
      ]
     },
     "execution_count": 7,
     "metadata": {},
     "output_type": "execute_result"
    }
   ],
   "source": [
    "df.columns"
   ]
  },
  {
   "cell_type": "code",
   "execution_count": 8,
   "id": "remarkable-discount",
   "metadata": {},
   "outputs": [],
   "source": [
    "x_cols = ['carrier_speed_rank', 'flight_num_speed_rank','month_rank',\n",
    "       'dep_hour_rank', 'arr_hour_rank', 'precip_cat', 'snow_cat',\n",
    "          'windgust_cat', 'cloud_cat', 'fl_month',\n",
    "       'airline_delay', 'haul_length', 'dep_timeday', 'arr_timeday',\n",
    "       'busy_origin', 'busy_dest']\n",
    "\n",
    "X = df[x_cols].to_numpy()\n",
    "y= df.arr_delay.to_numpy()\n",
    "\n",
    "X_train, X_test, y_train, y_test = train_test_split(X, y, test_size=0.2)"
   ]
  },
  {
   "cell_type": "code",
   "execution_count": 9,
   "id": "detailed-sampling",
   "metadata": {},
   "outputs": [
    {
     "data": {
      "text/plain": [
       "LinearRegression()"
      ]
     },
     "execution_count": 9,
     "metadata": {},
     "output_type": "execute_result"
    }
   ],
   "source": [
    "lr = LinearRegression()\n",
    "lr.fit(X_train, y_train)"
   ]
  },
  {
   "cell_type": "code",
   "execution_count": null,
   "id": "integrated-belly",
   "metadata": {},
   "outputs": [],
   "source": [
    "# filename = 'models/lr4.sav'\n",
    "# pickle.dump(lr, open(filename, 'wb'))"
   ]
  },
  {
   "cell_type": "code",
   "execution_count": 10,
   "id": "lasting-vanilla",
   "metadata": {},
   "outputs": [
    {
     "data": {
      "text/plain": [
       "0.07284327944179692"
      ]
     },
     "execution_count": 10,
     "metadata": {},
     "output_type": "execute_result"
    }
   ],
   "source": [
    "lr.score(X_test, y_test)"
   ]
  },
  {
   "cell_type": "code",
   "execution_count": 14,
   "id": "blind-raise",
   "metadata": {},
   "outputs": [],
   "source": [
    "# filename = 'models/lr_0.07.sav'\n",
    "# pickle.dump(lr, open(filename, 'wb'))"
   ]
  },
  {
   "cell_type": "markdown",
   "id": "responsible-examination",
   "metadata": {},
   "source": [
    "# Model5: Hail Mary Random Forest - defaults"
   ]
  },
  {
   "cell_type": "code",
   "execution_count": 12,
   "id": "listed-driver",
   "metadata": {},
   "outputs": [
    {
     "data": {
      "text/plain": [
       "RandomForestRegressor()"
      ]
     },
     "execution_count": 12,
     "metadata": {},
     "output_type": "execute_result"
    }
   ],
   "source": [
    "rf1 = RandomForestRegressor()\n",
    "rf1.fit(X_train, y_train)\n",
    "\n",
    "# filename = 'models/rf1.sav'\n",
    "# pickle.dump(rf1, open(filename, 'wb'))"
   ]
  },
  {
   "cell_type": "code",
   "execution_count": 15,
   "id": "severe-pencil",
   "metadata": {},
   "outputs": [
    {
     "ename": "TypeError",
     "evalue": "file must have 'read' and 'readline' attributes",
     "output_type": "error",
     "traceback": [
      "\u001b[0;31m---------------------------------------------------------------------------\u001b[0m",
      "\u001b[0;31mTypeError\u001b[0m                                 Traceback (most recent call last)",
      "\u001b[0;32m<ipython-input-15-1187f846204e>\u001b[0m in \u001b[0;36m<module>\u001b[0;34m\u001b[0m\n\u001b[0;32m----> 1\u001b[0;31m \u001b[0mpickle\u001b[0m\u001b[0;34m.\u001b[0m\u001b[0mload\u001b[0m\u001b[0;34m(\u001b[0m\u001b[0;34m'models/rf1.sav'\u001b[0m\u001b[0;34m)\u001b[0m\u001b[0;34m\u001b[0m\u001b[0;34m\u001b[0m\u001b[0m\n\u001b[0m",
      "\u001b[0;31mTypeError\u001b[0m: file must have 'read' and 'readline' attributes"
     ]
    }
   ],
   "source": [
    "pickle.load( open( \"'models/rf1.sav'\", \"rb\" ))"
   ]
  },
  {
   "cell_type": "code",
   "execution_count": 13,
   "id": "scheduled-tuesday",
   "metadata": {},
   "outputs": [
    {
     "name": "stdout",
     "output_type": "stream",
     "text": [
      "0.00611263205182766\n"
     ]
    }
   ],
   "source": [
    "y_pred = rf1.predict(X_test)\n",
    "print(r2_score(y_test, y_pred))"
   ]
  },
  {
   "cell_type": "markdown",
   "id": "revised-friend",
   "metadata": {},
   "source": [
    "# Model 6: Random Forest with 500 estimators"
   ]
  },
  {
   "cell_type": "code",
   "execution_count": null,
   "id": "copyrighted-resident",
   "metadata": {},
   "outputs": [],
   "source": [
    "rf2 = RandomForestRegressor(n_estimators=500)\n",
    "rf2.fit(X_train, y_train)\n",
    "\n",
    "filename = 'models/rf2.sav'\n",
    "pickle.dump(rf2, open(filename, 'wb'))"
   ]
  },
  {
   "cell_type": "code",
   "execution_count": null,
   "id": "configured-washington",
   "metadata": {},
   "outputs": [],
   "source": [
    "y_pred = rf2.predict(X_test)\n",
    "print(r2_score(y_test, y_pred))"
   ]
  },
  {
   "cell_type": "code",
   "execution_count": null,
   "id": "impressed-submission",
   "metadata": {},
   "outputs": [],
   "source": [
    "y_trainpred = rf2.predict(X_train)\n",
    "print(r2_score(y_train, y_trainpred))"
   ]
  },
  {
   "cell_type": "markdown",
   "id": "emotional-denial",
   "metadata": {},
   "source": [
    "# Model 7: Polynomial regression"
   ]
  },
  {
   "cell_type": "code",
   "execution_count": null,
   "id": "fantastic-patrick",
   "metadata": {},
   "outputs": [],
   "source": [
    "poly = PolynomialFeatures(2)\n",
    "X_poly = poly.fit_transform(X)\n",
    "\n",
    "X_poly_train, X_poly_test, y_poly_train, y_poly_test = train_test_split(X_poly, y, test_size=0.2)"
   ]
  },
  {
   "cell_type": "code",
   "execution_count": null,
   "id": "returning-tooth",
   "metadata": {},
   "outputs": [],
   "source": [
    "plr = LinearRegression()\n",
    "plr.fit(X_poly_train, y_poly_train)\n",
    "\n",
    "filename = 'models/plr01.sav'\n",
    "pickle.dump(plr, open(filename, 'wb'))"
   ]
  },
  {
   "cell_type": "code",
   "execution_count": null,
   "id": "ranging-parameter",
   "metadata": {},
   "outputs": [],
   "source": [
    "plr.score(X_poly_test, y_poly_test)"
   ]
  },
  {
   "cell_type": "code",
   "execution_count": null,
   "id": "dated-dutch",
   "metadata": {},
   "outputs": [],
   "source": [
    "plr.score(X_poly_train, y_poly_train)"
   ]
  },
  {
   "cell_type": "markdown",
   "id": "dense-federation",
   "metadata": {},
   "source": [
    "This doesn't seem to be overfitting. Maybe try higher-order polynomial features"
   ]
  },
  {
   "cell_type": "markdown",
   "id": "pressing-facial",
   "metadata": {},
   "source": [
    "# Model 8: Polynomial regression, third-order polynomials"
   ]
  },
  {
   "cell_type": "code",
   "execution_count": null,
   "id": "opening-notion",
   "metadata": {},
   "outputs": [],
   "source": [
    "poly3 = PolynomialFeatures(3)\n",
    "X_poly3 = poly.fit_transform(X)\n",
    "\n",
    "X_poly3_train, X_poly3_test, y_poly3_train, y_poly3_test = train_test_split(X_poly3, y, test_size=0.2)"
   ]
  },
  {
   "cell_type": "code",
   "execution_count": null,
   "id": "little-morning",
   "metadata": {},
   "outputs": [],
   "source": [
    "plr2 = LinearRegression()\n",
    "plr2.fit(X_poly_train, y_poly_train)\n",
    "\n",
    "filename = 'models/plr02.sav'\n",
    "pickle.dump(plr2, open(filename, 'wb'))"
   ]
  },
  {
   "cell_type": "code",
   "execution_count": null,
   "id": "cleared-century",
   "metadata": {},
   "outputs": [],
   "source": [
    "plr.score(X_poly3_test, y_poly3_test)"
   ]
  },
  {
   "cell_type": "code",
   "execution_count": null,
   "id": "emotional-athens",
   "metadata": {},
   "outputs": [],
   "source": [
    "plr.score(X_poly3_train, y_poly3_train)"
   ]
  },
  {
   "cell_type": "markdown",
   "id": "injured-desire",
   "metadata": {},
   "source": [
    "Still not overfitting, but isn't doing any better. Try a different approach."
   ]
  },
  {
   "cell_type": "markdown",
   "id": "religious-active",
   "metadata": {},
   "source": [
    "# Model 9: Random forest grid search with cross-validation: All features"
   ]
  },
  {
   "cell_type": "code",
   "execution_count": null,
   "id": "genetic-fifth",
   "metadata": {},
   "outputs": [],
   "source": [
    "df = pd.read_csv('data/model_df_weather.csv', index_col=0)\n",
    "cols = ['carrier_speed_rank', 'flight_num_speed_rank', 'month_rank',\n",
    "       'dep_hour_rank', 'arr_hour_rank', 'precip_cat', 'snow_cat',\n",
    "        'windgust_cat', 'cloud_cat', 'fl_month', 'airline_delay', \n",
    "        'haul_length', 'dep_timeday', 'arr_timeday', 'busy_origin', 'busy_dest']\n",
    "X = df[cols].to_numpy()\n",
    "y = df['arr_delay'].to_numpy()"
   ]
  },
  {
   "cell_type": "code",
   "execution_count": null,
   "id": "eastern-beijing",
   "metadata": {},
   "outputs": [],
   "source": [
    "X_train, X_test, y_train, y_test = train_test_split(X, y, test_size=0.2)"
   ]
  },
  {
   "cell_type": "code",
   "execution_count": null,
   "id": "overhead-determination",
   "metadata": {},
   "outputs": [],
   "source": [
    "grid = {'n_estimators': [10, 50],\n",
    "       'max_depth': [None, 5, 20],\n",
    "#        'min_samples_leaf': [1, 10, 100, 1000]\n",
    "       }\n",
    "\n",
    "gs = GridSearchCV(estimator=RandomForestRegressor(), param_grid=grid)\n",
    "gs.fit(X_train, y_train)\n",
    "print(gs.best_params_)\n",
    "print(gs.best_score_)\n",
    "model = gs.best_estimator_"
   ]
  },
  {
   "cell_type": "code",
   "execution_count": null,
   "id": "tutorial-christopher",
   "metadata": {},
   "outputs": [],
   "source": [
    "filename = 'models/rf3.sav'\n",
    "pickle.dump(model, open(filename, 'wb'))"
   ]
  },
  {
   "cell_type": "code",
   "execution_count": null,
   "id": "beautiful-amino",
   "metadata": {},
   "outputs": [],
   "source": [
    "filename = 'models/gs1.sav'\n",
    "pickle.dump(gs, open(filename, 'wb'))"
   ]
  },
  {
   "cell_type": "markdown",
   "id": "raising-laundry",
   "metadata": {},
   "source": [
    "# Model 10: Logistic Regression - Baseline"
   ]
  },
  {
   "cell_type": "code",
   "execution_count": 3,
   "id": "scheduled-duplicate",
   "metadata": {},
   "outputs": [],
   "source": [
    "from sklearn.linear_model import LogisticRegression\n",
    "lr = LogisticRegression()"
   ]
  },
  {
   "cell_type": "code",
   "execution_count": null,
   "id": "controlling-toyota",
   "metadata": {},
   "outputs": [],
   "source": []
  }
 ],
 "metadata": {
  "kernelspec": {
   "display_name": "Python 3",
   "language": "python",
   "name": "python3"
  },
  "language_info": {
   "codemirror_mode": {
    "name": "ipython",
    "version": 3
   },
   "file_extension": ".py",
   "mimetype": "text/x-python",
   "name": "python",
   "nbconvert_exporter": "python",
   "pygments_lexer": "ipython3",
   "version": "3.6.10"
  }
 },
 "nbformat": 4,
 "nbformat_minor": 5
}
