{
 "cells": [
  {
   "cell_type": "code",
   "execution_count": 1,
   "id": "fantastic-colon",
   "metadata": {},
   "outputs": [],
   "source": [
    "import pandas as pd\n",
    "import numpy as np\n",
    "import matplotlib.pyplot as plt\n",
    "from datetime import datetime\n",
    "\n",
    "import pickle\n",
    "\n",
    "from sklearn.model_selection import train_test_split\n",
    "from sklearn.linear_model import LinearRegression\n",
    "from sklearn.metrics import r2_score"
   ]
  },
  {
   "cell_type": "code",
   "execution_count": 2,
   "id": "eastern-chicago",
   "metadata": {},
   "outputs": [],
   "source": [
    "# functions\n",
    "\n",
    "def rem_outliers(df, col):\n",
    "    ''' Remove outliers which fall outside of 3 standard deviations above and below the mean of the data set\n",
    "            Input\n",
    "                (0) dataframe containing the data\n",
    "                (1) column to remove outliers from\n",
    "            Output\n",
    "                rows of df which are classified as outliers in the specified column are directly removed\n",
    "                print out stating count of outliers removed '''\n",
    "    mean, cutoff = np.mean(df[col]), np.std(df[col]) * 3   # 3 stddev outside the mean\n",
    "    lower, upper = mean - cutoff, mean + cutoff\n",
    "    outliers = [x for x in df[col] if x < lower or x > upper]\n",
    "    df.drop(df[(df[col] > upper) | (df[col] < lower)].index, inplace=True)\n",
    "    return f'{len(outliers)} outliers removed'"
   ]
  },
  {
   "cell_type": "markdown",
   "id": "competitive-temple",
   "metadata": {},
   "source": [
    "# Models incorporating weather data"
   ]
  },
  {
   "cell_type": "code",
   "execution_count": 3,
   "id": "balanced-alexandria",
   "metadata": {},
   "outputs": [],
   "source": [
    "# import joined table\n",
    "df = pd.read_csv('data/flights_for_weather_joined.csv')\n",
    "# drop useless columns\n",
    "df.drop(columns=['Unnamed: 0', 'origin_city_name', 'dest_city_name', 'dup'], inplace=True)\n",
    "# split data\n",
    "mask = np.random.rand(len(df)) < 0.8\n",
    "df_train = df[mask].copy()\n",
    "df_test = df[~mask].copy()"
   ]
  },
  {
   "cell_type": "code",
   "execution_count": 4,
   "id": "handed-lebanon",
   "metadata": {},
   "outputs": [
    {
     "data": {
      "text/plain": [
       "'87381 outliers removed'"
      ]
     },
     "execution_count": 4,
     "metadata": {},
     "output_type": "execute_result"
    }
   ],
   "source": [
    "# remove outliers for arr_delay\n",
    "rem_outliers(df_train, 'arr_delay')"
   ]
  },
  {
   "cell_type": "code",
   "execution_count": 5,
   "id": "capital-mortality",
   "metadata": {},
   "outputs": [],
   "source": [
    "# get mean delays per carrier\n",
    "carrier_delays = df_train.groupby('mkt_unique_carrier').mean()['arr_delay'].sort_values()"
   ]
  },
  {
   "cell_type": "code",
   "execution_count": 6,
   "id": "transsexual-primary",
   "metadata": {},
   "outputs": [
    {
     "data": {
      "text/plain": [
       "mkt_unique_carrier\n",
       "DL   -3.788203\n",
       "B6   -3.475944\n",
       "VX   -3.349896\n",
       "AS   -1.821548\n",
       "NK   -1.802648\n",
       "UA   -1.396647\n",
       "HA   -0.911696\n",
       "WN   -0.382472\n",
       "F9   -0.306235\n",
       "G4    0.765197\n",
       "AA    1.181994\n",
       "Name: arr_delay, dtype: float64"
      ]
     },
     "execution_count": 6,
     "metadata": {},
     "output_type": "execute_result"
    }
   ],
   "source": [
    "carrier_delays.sort_values()"
   ]
  },
  {
   "cell_type": "code",
   "execution_count": 7,
   "id": "empirical-observer",
   "metadata": {},
   "outputs": [
    {
     "data": {
      "text/plain": [
       "<BarContainer object of 11 artists>"
      ]
     },
     "execution_count": 7,
     "metadata": {},
     "output_type": "execute_result"
    },
    {
     "data": {
      "image/png": "[encoded data removed]",
      "text/plain": [
       "<Figure size 432x288 with 1 Axes>"
      ]
     },
     "metadata": {
      "needs_background": "light"
     },
     "output_type": "display_data"
    }
   ],
   "source": [
    "plt.bar(x=carrier_delays.index, height=carrier_delays.values)"
   ]
  },
  {
   "cell_type": "markdown",
   "id": "italic-capability",
   "metadata": {},
   "source": [
    "There seems to be a significant difference in average delays per carrier, so that's worth factoring in."
   ]
  },
  {
   "cell_type": "code",
   "execution_count": 8,
   "id": "confidential-ready",
   "metadata": {},
   "outputs": [],
   "source": [
    "# create rankings for carriers\n",
    "rankings = {}\n",
    "for carr in carrier_delays.index:\n",
    "    if carrier_delays[carr] <= -2:\n",
    "        rankings[carr] = 0\n",
    "    elif carrier_delays[carr] > -2 and carrier_delays[carr] <= 0:\n",
    "        rankings[carr] = 1\n",
    "    elif carrier_delays[carr] > 0:\n",
    "        rankings[carr] = 2\n",
    "        \n",
    "def rank_carrier(carr):\n",
    "    return rankings[carr]\n",
    "\n",
    "df_train['carrier_speed_rank'] = df_train['mkt_unique_carrier'].apply(rank_carrier)"
   ]
  },
  {
   "cell_type": "code",
   "execution_count": 9,
   "id": "commercial-supply",
   "metadata": {},
   "outputs": [
    {
     "data": {
      "text/plain": [
       "Text(0.5, 1.0, 'Mean delay times by flight number')"
      ]
     },
     "execution_count": 9,
     "metadata": {},
     "output_type": "execute_result"
    },
    {
     "data": {
      "image/png": "[encoded data removed]",
      "text/plain": [
       "<Figure size 432x288 with 1 Axes>"
      ]
     },
     "metadata": {
      "needs_background": "light"
     },
     "output_type": "display_data"
    }
   ],
   "source": [
    "# check distribution of mean delay per flight number\n",
    "flight_num_delay = df_train.groupby(['op_unique_carrier','op_carrier_fl_num']).mean().arr_delay.sort_values()\n",
    "\n",
    "plt.hist(flight_num_delay, bins=50)\n",
    "plt.xlabel(\"mean_delay\")\n",
    "plt.title(\"Mean delay times by flight number\")"
   ]
  },
  {
   "cell_type": "code",
   "execution_count": 10,
   "id": "seventh-discrimination",
   "metadata": {},
   "outputs": [
    {
     "data": {
      "text/plain": [
       "op_unique_carrier  op_carrier_fl_num\n",
       "OO                 4749                 0\n",
       "UA                 1648                 0\n",
       "DL                 2214                 0\n",
       "F9                 1907                 0\n",
       "B6                 1088                 0\n",
       "                                       ..\n",
       "ZW                 3156                 4\n",
       "9E                 5540                 4\n",
       "AS                 280                  4\n",
       "WN                 1117                 4\n",
       "AA                 2162                 4\n",
       "Name: arr_delay, Length: 24926, dtype: category\n",
       "Categories (5, int64): [0 < 1 < 2 < 3 < 4]"
      ]
     },
     "execution_count": 10,
     "metadata": {},
     "output_type": "execute_result"
    }
   ],
   "source": [
    "# bin by mean delay time\n",
    "ranks = pd.qcut(flight_num_delay, 5, labels = [0,1,2,3,4])\n",
    "ranks"
   ]
  },
  {
   "cell_type": "code",
   "execution_count": 11,
   "id": "committed-collective",
   "metadata": {},
   "outputs": [],
   "source": [
    "df_train['flight_num_speed_rank'] = df_train.apply(lambda x: ranks.loc[x.op_unique_carrier, x.op_carrier_fl_num], axis=1)"
   ]
  },
  {
   "cell_type": "code",
   "execution_count": 12,
   "id": "saving-tribe",
   "metadata": {},
   "outputs": [],
   "source": [
    "# add month column\n",
    "def month(datestring):\n",
    "    date = datetime.strptime(datestring, \"%Y-%m-%d\")\n",
    "    return date.month\n",
    "\n",
    "df_train['month'] = df_train.fl_date.apply(month)"
   ]
  },
  {
   "cell_type": "code",
   "execution_count": 13,
   "id": "finite-covering",
   "metadata": {},
   "outputs": [
    {
     "data": {
      "text/plain": [
       "Text(0.5, 1.0, 'mean delays per month')"
      ]
     },
     "execution_count": 13,
     "metadata": {},
     "output_type": "execute_result"
    },
    {
     "data": {
      "image/png": "[encoded data removed]",
      "text/plain": [
       "<Figure size 432x288 with 1 Axes>"
      ]
     },
     "metadata": {
      "needs_background": "light"
     },
     "output_type": "display_data"
    }
   ],
   "source": [
    "# check correlation of month with delay\n",
    "month_delays = df_train.groupby('month').mean().arr_delay\n",
    "\n",
    "plt.bar(x=month_delays.index, height=month_delays.values)\n",
    "plt.xlabel(\"month\")\n",
    "plt.ylabel(\"mean arr_delay\")\n",
    "plt.title(\"mean delays per month\")"
   ]
  },
  {
   "cell_type": "code",
   "execution_count": 14,
   "id": "southwest-rochester",
   "metadata": {},
   "outputs": [],
   "source": [
    "# bin months by mean delays\n",
    "bins = pd.qcut(month_delays, 3, labels=[0,1,2])\n",
    "df_train['month_rank'] = df_train.month.apply(lambda x: bins.loc[x])"
   ]
  },
  {
   "cell_type": "code",
   "execution_count": 15,
   "id": "tutorial-protection",
   "metadata": {},
   "outputs": [],
   "source": [
    "# add columns for hour of departure and arrival \n",
    "def hour(t):\n",
    "    s = str(t)\n",
    "    if len(s) < 3:\n",
    "        return 0\n",
    "    elif len(s) == 3:\n",
    "        return int(s[0])\n",
    "    elif len(s) == 4:\n",
    "        if int(s[:2]) == 24:\n",
    "            return 0\n",
    "        else:\n",
    "            return int(s[:2])\n",
    "\n",
    "df_train['dep_hour'] = df_train.crs_dep_time.apply(hour)\n",
    "df_train['arr_hour'] = df_train.crs_arr_time.apply(hour)"
   ]
  },
  {
   "cell_type": "code",
   "execution_count": 16,
   "id": "burning-organ",
   "metadata": {},
   "outputs": [
    {
     "data": {
      "text/plain": [
       "<BarContainer object of 24 artists>"
      ]
     },
     "execution_count": 16,
     "metadata": {},
     "output_type": "execute_result"
    },
    {
     "data": {
      "image/png": "[encoded data removed]",
      "text/plain": [
       "<Figure size 432x288 with 1 Axes>"
      ]
     },
     "metadata": {
      "needs_background": "light"
     },
     "output_type": "display_data"
    }
   ],
   "source": [
    "# relate hour of departure to arr_delay\n",
    "dep_hour_delay = df_train.groupby('dep_hour').mean().arr_delay\n",
    "plt.bar(x=dep_hour_delay.index, height=dep_hour_delay.values)"
   ]
  },
  {
   "cell_type": "code",
   "execution_count": 17,
   "id": "italic-dependence",
   "metadata": {},
   "outputs": [],
   "source": [
    "# 0300 is an outlier because there's only one case of it\n",
    "ranks = pd.qcut(dep_hour_delay, 3, labels=[0,1,2])\n",
    "\n",
    "df_train['dep_hour_rank'] = df_train.dep_hour.apply(lambda x: ranks.loc[x])"
   ]
  },
  {
   "cell_type": "code",
   "execution_count": 18,
   "id": "blond-cambodia",
   "metadata": {},
   "outputs": [
    {
     "data": {
      "text/plain": [
       "<BarContainer object of 24 artists>"
      ]
     },
     "execution_count": 18,
     "metadata": {},
     "output_type": "execute_result"
    },
    {
     "data": {
      "image/png": "[encoded data removed]",
      "text/plain": [
       "<Figure size 432x288 with 1 Axes>"
      ]
     },
     "metadata": {
      "needs_background": "light"
     },
     "output_type": "display_data"
    }
   ],
   "source": [
    "# same for arrival hour\n",
    "arr_hour_delay = df_train.groupby('arr_hour').mean().arr_delay\n",
    "plt.bar(x=arr_hour_delay.index, height=arr_hour_delay.values)"
   ]
  },
  {
   "cell_type": "code",
   "execution_count": 19,
   "id": "guided-personality",
   "metadata": {},
   "outputs": [],
   "source": [
    "# bin values\n",
    "ranks = pd.qcut(arr_hour_delay, 3, labels=[0,1,2])\n",
    "\n",
    "df_train['arr_hour_rank'] = df_train.arr_hour.apply(lambda x: ranks.loc[x])"
   ]
  },
  {
   "cell_type": "code",
   "execution_count": 20,
   "id": "stretch-civilization",
   "metadata": {},
   "outputs": [],
   "source": [
    "# save progress\n",
    "# df_train.to_csv('data/weather_features_save.csv')"
   ]
  },
  {
   "cell_type": "markdown",
   "id": "assumed-implementation",
   "metadata": {},
   "source": [
    "#### Weather columns"
   ]
  },
  {
   "cell_type": "code",
   "execution_count": 21,
   "id": "passing-loading",
   "metadata": {},
   "outputs": [
    {
     "data": {
      "text/html": [
       "<div>\n",
       "<style scoped>\n",
       "    .dataframe tbody tr th:only-of-type {\n",
       "        vertical-align: middle;\n",
       "    }\n",
       "\n",
       "    .dataframe tbody tr th {\n",
       "        vertical-align: top;\n",
       "    }\n",
       "\n",
       "    .dataframe thead th {\n",
       "        text-align: right;\n",
       "    }\n",
       "</style>\n",
       "<table border=\"1\" class=\"dataframe\">\n",
       "  <thead>\n",
       "    <tr style=\"text-align: right;\">\n",
       "      <th></th>\n",
       "      <th>fl_date</th>\n",
       "      <th>mkt_unique_carrier</th>\n",
       "      <th>mkt_carrier_fl_num</th>\n",
       "      <th>op_unique_carrier</th>\n",
       "      <th>tail_num</th>\n",
       "      <th>op_carrier_fl_num</th>\n",
       "      <th>origin_airport_id</th>\n",
       "      <th>origin</th>\n",
       "      <th>dest_airport_id</th>\n",
       "      <th>dest</th>\n",
       "      <th>...</th>\n",
       "      <th>windgust</th>\n",
       "      <th>cloudcover</th>\n",
       "      <th>carrier_speed_rank</th>\n",
       "      <th>flight_num_speed_rank</th>\n",
       "      <th>month</th>\n",
       "      <th>month_rank</th>\n",
       "      <th>dep_hour</th>\n",
       "      <th>arr_hour</th>\n",
       "      <th>dep_hour_rank</th>\n",
       "      <th>arr_hour_rank</th>\n",
       "    </tr>\n",
       "  </thead>\n",
       "  <tbody>\n",
       "    <tr>\n",
       "      <th>0</th>\n",
       "      <td>2018-01-01</td>\n",
       "      <td>DL</td>\n",
       "      <td>3494</td>\n",
       "      <td>9E</td>\n",
       "      <td>N302PQ</td>\n",
       "      <td>3494</td>\n",
       "      <td>10397</td>\n",
       "      <td>ATL</td>\n",
       "      <td>15412</td>\n",
       "      <td>TYS</td>\n",
       "      <td>...</td>\n",
       "      <td>40.7</td>\n",
       "      <td>74.3</td>\n",
       "      <td>0</td>\n",
       "      <td>1</td>\n",
       "      <td>1</td>\n",
       "      <td>0</td>\n",
       "      <td>19</td>\n",
       "      <td>20</td>\n",
       "      <td>2</td>\n",
       "      <td>2</td>\n",
       "    </tr>\n",
       "    <tr>\n",
       "      <th>1</th>\n",
       "      <td>2018-01-01</td>\n",
       "      <td>DL</td>\n",
       "      <td>3500</td>\n",
       "      <td>9E</td>\n",
       "      <td>N316PQ</td>\n",
       "      <td>3500</td>\n",
       "      <td>10397</td>\n",
       "      <td>ATL</td>\n",
       "      <td>10431</td>\n",
       "      <td>AVL</td>\n",
       "      <td>...</td>\n",
       "      <td>40.7</td>\n",
       "      <td>74.3</td>\n",
       "      <td>0</td>\n",
       "      <td>0</td>\n",
       "      <td>1</td>\n",
       "      <td>0</td>\n",
       "      <td>22</td>\n",
       "      <td>22</td>\n",
       "      <td>2</td>\n",
       "      <td>2</td>\n",
       "    </tr>\n",
       "    <tr>\n",
       "      <th>2</th>\n",
       "      <td>2018-01-01</td>\n",
       "      <td>DL</td>\n",
       "      <td>3513</td>\n",
       "      <td>9E</td>\n",
       "      <td>N316PQ</td>\n",
       "      <td>3513</td>\n",
       "      <td>10397</td>\n",
       "      <td>ATL</td>\n",
       "      <td>11995</td>\n",
       "      <td>GSO</td>\n",
       "      <td>...</td>\n",
       "      <td>40.7</td>\n",
       "      <td>74.3</td>\n",
       "      <td>0</td>\n",
       "      <td>3</td>\n",
       "      <td>1</td>\n",
       "      <td>0</td>\n",
       "      <td>15</td>\n",
       "      <td>16</td>\n",
       "      <td>1</td>\n",
       "      <td>1</td>\n",
       "    </tr>\n",
       "    <tr>\n",
       "      <th>3</th>\n",
       "      <td>2018-01-01</td>\n",
       "      <td>B6</td>\n",
       "      <td>1</td>\n",
       "      <td>B6</td>\n",
       "      <td>N954JB</td>\n",
       "      <td>1</td>\n",
       "      <td>12478</td>\n",
       "      <td>JFK</td>\n",
       "      <td>11697</td>\n",
       "      <td>FLL</td>\n",
       "      <td>...</td>\n",
       "      <td>55.4</td>\n",
       "      <td>24.9</td>\n",
       "      <td>0</td>\n",
       "      <td>2</td>\n",
       "      <td>1</td>\n",
       "      <td>0</td>\n",
       "      <td>10</td>\n",
       "      <td>14</td>\n",
       "      <td>1</td>\n",
       "      <td>1</td>\n",
       "    </tr>\n",
       "    <tr>\n",
       "      <th>5</th>\n",
       "      <td>2018-01-01</td>\n",
       "      <td>B6</td>\n",
       "      <td>18</td>\n",
       "      <td>B6</td>\n",
       "      <td>N236JB</td>\n",
       "      <td>18</td>\n",
       "      <td>12478</td>\n",
       "      <td>JFK</td>\n",
       "      <td>10721</td>\n",
       "      <td>BOS</td>\n",
       "      <td>...</td>\n",
       "      <td>55.4</td>\n",
       "      <td>24.9</td>\n",
       "      <td>0</td>\n",
       "      <td>1</td>\n",
       "      <td>1</td>\n",
       "      <td>0</td>\n",
       "      <td>13</td>\n",
       "      <td>15</td>\n",
       "      <td>1</td>\n",
       "      <td>1</td>\n",
       "    </tr>\n",
       "  </tbody>\n",
       "</table>\n",
       "<p>5 rows × 41 columns</p>\n",
       "</div>"
      ],
      "text/plain": [
       "      fl_date mkt_unique_carrier  mkt_carrier_fl_num op_unique_carrier  \\\n",
       "0  2018-01-01                 DL                3494                9E   \n",
       "1  2018-01-01                 DL                3500                9E   \n",
       "2  2018-01-01                 DL                3513                9E   \n",
       "3  2018-01-01                 B6                   1                B6   \n",
       "5  2018-01-01                 B6                  18                B6   \n",
       "\n",
       "  tail_num  op_carrier_fl_num  origin_airport_id origin  dest_airport_id dest  \\\n",
       "0   N302PQ               3494              10397    ATL            15412  TYS   \n",
       "1   N316PQ               3500              10397    ATL            10431  AVL   \n",
       "2   N316PQ               3513              10397    ATL            11995  GSO   \n",
       "3   N954JB                  1              12478    JFK            11697  FLL   \n",
       "5   N236JB                 18              12478    JFK            10721  BOS   \n",
       "\n",
       "   ...  windgust  cloudcover  carrier_speed_rank  flight_num_speed_rank  \\\n",
       "0  ...      40.7        74.3                   0                      1   \n",
       "1  ...      40.7        74.3                   0                      0   \n",
       "2  ...      40.7        74.3                   0                      3   \n",
       "3  ...      55.4        24.9                   0                      2   \n",
       "5  ...      55.4        24.9                   0                      1   \n",
       "\n",
       "   month  month_rank  dep_hour  arr_hour  dep_hour_rank  arr_hour_rank  \n",
       "0      1           0        19        20              2              2  \n",
       "1      1           0        22        22              2              2  \n",
       "2      1           0        15        16              1              1  \n",
       "3      1           0        10        14              1              1  \n",
       "5      1           0        13        15              1              1  \n",
       "\n",
       "[5 rows x 41 columns]"
      ]
     },
     "execution_count": 21,
     "metadata": {},
     "output_type": "execute_result"
    }
   ],
   "source": [
    "df_train.head()"
   ]
  },
  {
   "cell_type": "code",
   "execution_count": 22,
   "id": "gorgeous-elizabeth",
   "metadata": {},
   "outputs": [
    {
     "name": "stdout",
     "output_type": "stream",
     "text": [
      "3226948\n",
      "3090686\n"
     ]
    }
   ],
   "source": [
    "print(len(df_train))\n",
    "df_train.dropna(inplace=True)\n",
    "print(len(df_train))"
   ]
  },
  {
   "cell_type": "code",
   "execution_count": 23,
   "id": "improved-healthcare",
   "metadata": {},
   "outputs": [
    {
     "data": {
      "text/plain": [
       "(array([2.701048e+06, 1.539810e+05, 8.373600e+04, 5.511400e+04,\n",
       "        3.839800e+04, 1.927700e+04, 1.429400e+04, 5.167000e+03,\n",
       "        7.962000e+03, 1.936000e+03, 1.578000e+03, 1.139000e+03,\n",
       "        1.312000e+03, 1.665000e+03, 2.656000e+03, 0.000000e+00,\n",
       "        3.670000e+02, 0.000000e+00, 6.500000e+02, 4.060000e+02]),\n",
       " array([  0.   ,   5.941,  11.882,  17.823,  23.764,  29.705,  35.646,\n",
       "         41.587,  47.528,  53.469,  59.41 ,  65.351,  71.292,  77.233,\n",
       "         83.174,  89.115,  95.056, 100.997, 106.938, 112.879, 118.82 ]),\n",
       " <a list of 20 Patch objects>)"
      ]
     },
     "execution_count": 23,
     "metadata": {},
     "output_type": "execute_result"
    },
    {
     "data": {
      "image/png": "[encoded data removed]",
      "text/plain": [
       "<Figure size 432x288 with 1 Axes>"
      ]
     },
     "metadata": {
      "needs_background": "light"
     },
     "output_type": "display_data"
    }
   ],
   "source": [
    "# check distribution of weather columns\n",
    "plt.hist(df_train.precip, bins=20)"
   ]
  },
  {
   "cell_type": "code",
   "execution_count": 24,
   "id": "bronze-philadelphia",
   "metadata": {},
   "outputs": [
    {
     "data": {
      "text/plain": [
       "precip\n",
       "light        2.081741\n",
       "moderate     8.306971\n",
       "heavy       11.443942\n",
       "Name: arr_delay, dtype: float64"
      ]
     },
     "execution_count": 24,
     "metadata": {},
     "output_type": "execute_result"
    }
   ],
   "source": [
    "# how well does nonzero precipitation correlate with delays?\n",
    "df_precip = df_train[df_train.precip != 0]\n",
    "precip = pd.cut(df_precip.precip, 3, labels = ['light','moderate','heavy'])\n",
    "df_precip.groupby(precip).mean().arr_delay\n",
    "# plt.scatter(x=precip.precip, y=precip.arr_delay)"
   ]
  },
  {
   "cell_type": "code",
   "execution_count": 25,
   "id": "eleven-bookmark",
   "metadata": {},
   "outputs": [
    {
     "data": {
      "text/plain": [
       "2929191      0.01\n",
       "1644386      0.01\n",
       "1644387      0.01\n",
       "1644412      0.01\n",
       "3818602      0.01\n",
       "            ...  \n",
       "3030486    118.82\n",
       "3030483    118.82\n",
       "3030481    118.82\n",
       "3027966    118.82\n",
       "3027944    118.82\n",
       "Name: precip, Length: 1089270, dtype: float64"
      ]
     },
     "execution_count": 25,
     "metadata": {},
     "output_type": "execute_result"
    }
   ],
   "source": [
    "df_precip.precip.sort_values()"
   ]
  },
  {
   "cell_type": "code",
   "execution_count": 26,
   "id": "varying-mambo",
   "metadata": {},
   "outputs": [
    {
     "data": {
      "text/plain": [
       "array([-1.08810000e-01,  3.96133333e+01,  7.92166667e+01,  1.18820000e+02])"
      ]
     },
     "execution_count": 26,
     "metadata": {},
     "output_type": "execute_result"
    }
   ],
   "source": [
    "precip_bins = precip = pd.cut(df_precip.precip, 3, retbins=True)\n",
    "precip_bins[1]"
   ]
  },
  {
   "cell_type": "code",
   "execution_count": 27,
   "id": "formal-tracker",
   "metadata": {},
   "outputs": [],
   "source": [
    "precip = pd.cut(df_precip.precip, 3, labels=[\"light\", \"moderate\", \"heavy\"])\n",
    "df_train['precip_cat'] = precip.astype(str)\n",
    "df_train.precip_cat.fillna(value=\"None\", inplace=True)"
   ]
  },
  {
   "cell_type": "code",
   "execution_count": 28,
   "id": "breeding-prototype",
   "metadata": {},
   "outputs": [
    {
     "data": {
      "text/plain": [
       "Text(0, 0.5, 'Mean arr_delay')"
      ]
     },
     "execution_count": 28,
     "metadata": {},
     "output_type": "execute_result"
    },
    {
     "data": {
      "image/png": "[encoded data removed]",
      "text/plain": [
       "<Figure size 432x288 with 1 Axes>"
      ]
     },
     "metadata": {
      "needs_background": "light"
     },
     "output_type": "display_data"
    }
   ],
   "source": [
    "precip_means = df_train.groupby('precip_cat').mean().arr_delay.sort_values()\n",
    "plt.bar(x=precip_means.index, height=precip_means.values)\n",
    "plt.title(\"Effect of precipitation on delays\")\n",
    "plt.xlabel(\"Precipitation level\")\n",
    "plt.ylabel(\"Mean arr_delay\")"
   ]
  },
  {
   "cell_type": "markdown",
   "id": "particular-english",
   "metadata": {},
   "source": [
    "#### Snow"
   ]
  },
  {
   "cell_type": "code",
   "execution_count": 29,
   "id": "together-allowance",
   "metadata": {},
   "outputs": [
    {
     "data": {
      "text/plain": [
       "(array([3.031492e+06, 2.009100e+04, 2.002800e+04, 3.760000e+03,\n",
       "        7.016000e+03, 2.002000e+03, 1.465000e+03, 7.370000e+02,\n",
       "        2.410000e+03, 2.800000e+02, 2.100000e+02, 0.000000e+00,\n",
       "        4.300000e+02, 0.000000e+00, 6.510000e+02, 0.000000e+00,\n",
       "        1.400000e+01, 0.000000e+00, 0.000000e+00, 1.000000e+02]),\n",
       " array([ 0.   ,  0.737,  1.474,  2.211,  2.948,  3.685,  4.422,  5.159,\n",
       "         5.896,  6.633,  7.37 ,  8.107,  8.844,  9.581, 10.318, 11.055,\n",
       "        11.792, 12.529, 13.266, 14.003, 14.74 ]),\n",
       " <a list of 20 Patch objects>)"
      ]
     },
     "execution_count": 29,
     "metadata": {},
     "output_type": "execute_result"
    },
    {
     "data": {
      "image/png": "[encoded data removed]",
      "text/plain": [
       "<Figure size 432x288 with 1 Axes>"
      ]
     },
     "metadata": {
      "needs_background": "light"
     },
     "output_type": "display_data"
    }
   ],
   "source": [
    "plt.hist(df_train.snow, bins=20)"
   ]
  },
  {
   "cell_type": "code",
   "execution_count": 30,
   "id": "unsigned-stress",
   "metadata": {},
   "outputs": [
    {
     "data": {
      "text/plain": [
       "snow\n",
       "(0.049, 1.04]    4.998591\n",
       "(1.04, 1.88]     4.878224\n",
       "(1.88, 14.74]    9.536541\n",
       "Name: arr_delay, dtype: float64"
      ]
     },
     "execution_count": 30,
     "metadata": {},
     "output_type": "execute_result"
    }
   ],
   "source": [
    "df_snow = df_train[df_train.snow != 0]\n",
    "snowcats = pd.qcut(df_snow.snow, 3)\n",
    "df_snow.groupby(snowcats).mean().arr_delay"
   ]
  },
  {
   "cell_type": "code",
   "execution_count": null,
   "id": "selected-trouble",
   "metadata": {},
   "outputs": [],
   "source": []
  },
  {
   "cell_type": "code",
   "execution_count": 31,
   "id": "rotary-station",
   "metadata": {},
   "outputs": [],
   "source": [
    "# add this into df_train\n",
    "df_train['snow_cat'] = snowcats.astype(str)\n",
    "df_train.snow_cat.fillna(value=\"None\", inplace=True)"
   ]
  },
  {
   "cell_type": "code",
   "execution_count": 32,
   "id": "universal-estate",
   "metadata": {},
   "outputs": [
    {
     "data": {
      "text/plain": [
       "None             3016042\n",
       "(0.049, 1.04]      29805\n",
       "(1.88, 14.74]      24794\n",
       "(1.04, 1.88]       20045\n",
       "Name: snow_cat, dtype: int64"
      ]
     },
     "execution_count": 32,
     "metadata": {},
     "output_type": "execute_result"
    }
   ],
   "source": [
    "df_train.snow_cat.value_counts()"
   ]
  },
  {
   "cell_type": "code",
   "execution_count": 33,
   "id": "fluid-background",
   "metadata": {},
   "outputs": [
    {
     "data": {
      "text/plain": [
       "Text(0, 0.5, 'Mean arr_delay')"
      ]
     },
     "execution_count": 33,
     "metadata": {},
     "output_type": "execute_result"
    },
    {
     "data": {
      "image/png": "[encoded data removed]",
      "text/plain": [
       "<Figure size 432x288 with 1 Axes>"
      ]
     },
     "metadata": {
      "needs_background": "light"
     },
     "output_type": "display_data"
    }
   ],
   "source": [
    "snow_means = df_train.groupby('snow_cat').mean().arr_delay.sort_values()\n",
    "plt.bar(x=snow_means.index, height=snow_means.values)\n",
    "plt.title(\"Effect of snow on delays\")\n",
    "plt.xlabel(\"Snow level\")\n",
    "plt.ylabel(\"Mean arr_delay\")"
   ]
  },
  {
   "cell_type": "markdown",
   "id": "stylish-modem",
   "metadata": {},
   "source": [
    "#### Windgust"
   ]
  },
  {
   "cell_type": "code",
   "execution_count": 34,
   "id": "likely-cooper",
   "metadata": {},
   "outputs": [
    {
     "data": {
      "text/plain": [
       "(array([1.037545e+06, 0.000000e+00, 8.430000e+02, 0.000000e+00,\n",
       "        3.129810e+05, 5.926650e+05, 3.343200e+05, 3.051920e+05,\n",
       "        2.215940e+05, 1.096100e+05, 7.373300e+04, 3.752800e+04,\n",
       "        3.830400e+04, 1.231200e+04, 6.611000e+03, 4.891000e+03,\n",
       "        7.100000e+02, 1.206000e+03, 2.680000e+02, 3.730000e+02]),\n",
       " array([  0.   ,   6.285,  12.57 ,  18.855,  25.14 ,  31.425,  37.71 ,\n",
       "         43.995,  50.28 ,  56.565,  62.85 ,  69.135,  75.42 ,  81.705,\n",
       "         87.99 ,  94.275, 100.56 , 106.845, 113.13 , 119.415, 125.7  ]),\n",
       " <a list of 20 Patch objects>)"
      ]
     },
     "execution_count": 34,
     "metadata": {},
     "output_type": "execute_result"
    },
    {
     "data": {
      "image/png": "[encoded data removed]",
      "text/plain": [
       "<Figure size 432x288 with 1 Axes>"
      ]
     },
     "metadata": {
      "needs_background": "light"
     },
     "output_type": "display_data"
    }
   ],
   "source": [
    "plt.hist(df_train.windgust, bins=20)"
   ]
  },
  {
   "cell_type": "code",
   "execution_count": 35,
   "id": "weird-recording",
   "metadata": {},
   "outputs": [
    {
     "data": {
      "text/plain": [
       "windgust\n",
       "(14.799000000000001, 35.3]   -1.593131\n",
       "(35.3, 46.5]                 -0.421189\n",
       "(46.5, 125.7]                 0.682517\n",
       "Name: arr_delay, dtype: float64"
      ]
     },
     "execution_count": 35,
     "metadata": {},
     "output_type": "execute_result"
    }
   ],
   "source": [
    "# bin only on nonzero values\n",
    "df_wind = df_train[df_train.windgust != 0]\n",
    "bins = pd.qcut(df_wind.windgust, 3)\n",
    "df_wind.groupby(bins).mean().arr_delay.sort_values()\n"
   ]
  },
  {
   "cell_type": "code",
   "execution_count": null,
   "id": "chinese-cisco",
   "metadata": {},
   "outputs": [],
   "source": []
  },
  {
   "cell_type": "code",
   "execution_count": 36,
   "id": "embedded-western",
   "metadata": {},
   "outputs": [],
   "source": [
    "df_train['windgust_cat'] = bins.astype(str)\n",
    "df_train.windgust_cat.fillna(value=\"None\", inplace=True)"
   ]
  },
  {
   "cell_type": "markdown",
   "id": "equal-integrity",
   "metadata": {},
   "source": [
    "### cloudcover"
   ]
  },
  {
   "cell_type": "code",
   "execution_count": 37,
   "id": "bulgarian-dairy",
   "metadata": {},
   "outputs": [
    {
     "data": {
      "text/plain": [
       "(array([ 80062., 152643., 239978., 297709., 382898., 418667., 423770.,\n",
       "        350550., 334572., 409837.]),\n",
       " array([  0.,  10.,  20.,  30.,  40.,  50.,  60.,  70.,  80.,  90., 100.]),\n",
       " <a list of 10 Patch objects>)"
      ]
     },
     "execution_count": 37,
     "metadata": {},
     "output_type": "execute_result"
    },
    {
     "data": {
      "image/png": "[encoded data removed]",
      "text/plain": [
       "<Figure size 432x288 with 1 Axes>"
      ]
     },
     "metadata": {
      "needs_background": "light"
     },
     "output_type": "display_data"
    }
   ],
   "source": [
    "plt.hist(df_train.cloudcover)"
   ]
  },
  {
   "cell_type": "code",
   "execution_count": 38,
   "id": "harmful-letter",
   "metadata": {},
   "outputs": [
    {
     "data": {
      "text/plain": [
       "cloudcover\n",
       "(-0.001, 47.3]   -2.604859\n",
       "(47.3, 71.8]     -1.538212\n",
       "(71.8, 100.0]     0.734273\n",
       "Name: arr_delay, dtype: float64"
      ]
     },
     "execution_count": 38,
     "metadata": {},
     "output_type": "execute_result"
    }
   ],
   "source": [
    "bins = pd.qcut(df_train.cloudcover, 3)\n",
    "df_train.groupby(bins).mean().arr_delay.sort_values()"
   ]
  },
  {
   "cell_type": "code",
   "execution_count": 39,
   "id": "combined-paper",
   "metadata": {},
   "outputs": [],
   "source": [
    "df_train['cloud_cat'] = bins"
   ]
  },
  {
   "cell_type": "code",
   "execution_count": 40,
   "id": "brave-exception",
   "metadata": {},
   "outputs": [],
   "source": [
    "# df_train.to_csv('data/weather_feature_save.csv')"
   ]
  },
  {
   "cell_type": "code",
   "execution_count": 41,
   "id": "passive-recipe",
   "metadata": {},
   "outputs": [
    {
     "data": {
      "text/plain": [
       "Index(['fl_date', 'mkt_unique_carrier', 'mkt_carrier_fl_num',\n",
       "       'op_unique_carrier', 'tail_num', 'op_carrier_fl_num',\n",
       "       'origin_airport_id', 'origin', 'dest_airport_id', 'dest',\n",
       "       'crs_dep_time', 'dep_time', 'dep_delay', 'taxi_out', 'wheels_off',\n",
       "       'wheels_on', 'taxi_in', 'crs_arr_time', 'arr_time', 'arr_delay',\n",
       "       'diverted', 'crs_elapsed_time', 'actual_elapsed_time', 'distance',\n",
       "       'carrier_delay', 'weather_delay', 'nas_delay', 'security_delay',\n",
       "       'late_aircraft_delay', 'precip', 'snow', 'windgust', 'cloudcover',\n",
       "       'carrier_speed_rank', 'flight_num_speed_rank', 'month', 'month_rank',\n",
       "       'dep_hour', 'arr_hour', 'dep_hour_rank', 'arr_hour_rank', 'precip_cat',\n",
       "       'snow_cat', 'windgust_cat', 'cloud_cat'],\n",
       "      dtype='object')"
      ]
     },
     "execution_count": 41,
     "metadata": {},
     "output_type": "execute_result"
    }
   ],
   "source": [
    "df_train.columns"
   ]
  },
  {
   "cell_type": "code",
   "execution_count": null,
   "id": "renewable-campbell",
   "metadata": {},
   "outputs": [],
   "source": [
    "df_"
   ]
  },
  {
   "cell_type": "code",
   "execution_count": 42,
   "id": "actual-shirt",
   "metadata": {},
   "outputs": [
    {
     "data": {
      "text/html": [
       "<div>\n",
       "<style scoped>\n",
       "    .dataframe tbody tr th:only-of-type {\n",
       "        vertical-align: middle;\n",
       "    }\n",
       "\n",
       "    .dataframe tbody tr th {\n",
       "        vertical-align: top;\n",
       "    }\n",
       "\n",
       "    .dataframe thead th {\n",
       "        text-align: right;\n",
       "    }\n",
       "</style>\n",
       "<table border=\"1\" class=\"dataframe\">\n",
       "  <thead>\n",
       "    <tr style=\"text-align: right;\">\n",
       "      <th></th>\n",
       "      <th>carrier_speed_rank</th>\n",
       "      <th>flight_num_speed_rank</th>\n",
       "      <th>month_rank</th>\n",
       "      <th>dep_hour_rank</th>\n",
       "      <th>arr_hour_rank</th>\n",
       "      <th>precip_cat</th>\n",
       "      <th>snow_cat</th>\n",
       "      <th>windgust_cat</th>\n",
       "      <th>cloud_cat</th>\n",
       "      <th>arr_delay</th>\n",
       "    </tr>\n",
       "  </thead>\n",
       "  <tbody>\n",
       "    <tr>\n",
       "      <th>0</th>\n",
       "      <td>0</td>\n",
       "      <td>1</td>\n",
       "      <td>0</td>\n",
       "      <td>2</td>\n",
       "      <td>2</td>\n",
       "      <td>None</td>\n",
       "      <td>None</td>\n",
       "      <td>(35.3, 46.5]</td>\n",
       "      <td>(71.8, 100.0]</td>\n",
       "      <td>-2.0</td>\n",
       "    </tr>\n",
       "    <tr>\n",
       "      <th>1</th>\n",
       "      <td>0</td>\n",
       "      <td>0</td>\n",
       "      <td>0</td>\n",
       "      <td>2</td>\n",
       "      <td>2</td>\n",
       "      <td>None</td>\n",
       "      <td>None</td>\n",
       "      <td>(35.3, 46.5]</td>\n",
       "      <td>(71.8, 100.0]</td>\n",
       "      <td>-6.0</td>\n",
       "    </tr>\n",
       "    <tr>\n",
       "      <th>2</th>\n",
       "      <td>0</td>\n",
       "      <td>3</td>\n",
       "      <td>0</td>\n",
       "      <td>1</td>\n",
       "      <td>1</td>\n",
       "      <td>None</td>\n",
       "      <td>None</td>\n",
       "      <td>(35.3, 46.5]</td>\n",
       "      <td>(71.8, 100.0]</td>\n",
       "      <td>-12.0</td>\n",
       "    </tr>\n",
       "    <tr>\n",
       "      <th>3</th>\n",
       "      <td>0</td>\n",
       "      <td>2</td>\n",
       "      <td>0</td>\n",
       "      <td>1</td>\n",
       "      <td>1</td>\n",
       "      <td>None</td>\n",
       "      <td>None</td>\n",
       "      <td>(46.5, 125.7]</td>\n",
       "      <td>(-0.001, 47.3]</td>\n",
       "      <td>74.0</td>\n",
       "    </tr>\n",
       "    <tr>\n",
       "      <th>5</th>\n",
       "      <td>0</td>\n",
       "      <td>1</td>\n",
       "      <td>0</td>\n",
       "      <td>1</td>\n",
       "      <td>1</td>\n",
       "      <td>None</td>\n",
       "      <td>None</td>\n",
       "      <td>(46.5, 125.7]</td>\n",
       "      <td>(-0.001, 47.3]</td>\n",
       "      <td>-2.0</td>\n",
       "    </tr>\n",
       "    <tr>\n",
       "      <th>...</th>\n",
       "      <td>...</td>\n",
       "      <td>...</td>\n",
       "      <td>...</td>\n",
       "      <td>...</td>\n",
       "      <td>...</td>\n",
       "      <td>...</td>\n",
       "      <td>...</td>\n",
       "      <td>...</td>\n",
       "      <td>...</td>\n",
       "      <td>...</td>\n",
       "    </tr>\n",
       "    <tr>\n",
       "      <th>4141425</th>\n",
       "      <td>2</td>\n",
       "      <td>4</td>\n",
       "      <td>2</td>\n",
       "      <td>1</td>\n",
       "      <td>1</td>\n",
       "      <td>None</td>\n",
       "      <td>None</td>\n",
       "      <td>(14.799000000000001, 35.3]</td>\n",
       "      <td>(-0.001, 47.3]</td>\n",
       "      <td>-5.0</td>\n",
       "    </tr>\n",
       "    <tr>\n",
       "      <th>4141426</th>\n",
       "      <td>2</td>\n",
       "      <td>2</td>\n",
       "      <td>2</td>\n",
       "      <td>1</td>\n",
       "      <td>1</td>\n",
       "      <td>None</td>\n",
       "      <td>None</td>\n",
       "      <td>(14.799000000000001, 35.3]</td>\n",
       "      <td>(-0.001, 47.3]</td>\n",
       "      <td>-19.0</td>\n",
       "    </tr>\n",
       "    <tr>\n",
       "      <th>4141428</th>\n",
       "      <td>2</td>\n",
       "      <td>4</td>\n",
       "      <td>2</td>\n",
       "      <td>2</td>\n",
       "      <td>2</td>\n",
       "      <td>light</td>\n",
       "      <td>None</td>\n",
       "      <td>(46.5, 125.7]</td>\n",
       "      <td>(47.3, 71.8]</td>\n",
       "      <td>82.0</td>\n",
       "    </tr>\n",
       "    <tr>\n",
       "      <th>4141429</th>\n",
       "      <td>2</td>\n",
       "      <td>4</td>\n",
       "      <td>2</td>\n",
       "      <td>2</td>\n",
       "      <td>2</td>\n",
       "      <td>light</td>\n",
       "      <td>None</td>\n",
       "      <td>(46.5, 125.7]</td>\n",
       "      <td>(47.3, 71.8]</td>\n",
       "      <td>22.0</td>\n",
       "    </tr>\n",
       "    <tr>\n",
       "      <th>4141430</th>\n",
       "      <td>2</td>\n",
       "      <td>3</td>\n",
       "      <td>2</td>\n",
       "      <td>0</td>\n",
       "      <td>0</td>\n",
       "      <td>light</td>\n",
       "      <td>None</td>\n",
       "      <td>(46.5, 125.7]</td>\n",
       "      <td>(47.3, 71.8]</td>\n",
       "      <td>2.0</td>\n",
       "    </tr>\n",
       "  </tbody>\n",
       "</table>\n",
       "<p>3090686 rows × 10 columns</p>\n",
       "</div>"
      ],
      "text/plain": [
       "         carrier_speed_rank  flight_num_speed_rank  month_rank  dep_hour_rank  \\\n",
       "0                         0                      1           0              2   \n",
       "1                         0                      0           0              2   \n",
       "2                         0                      3           0              1   \n",
       "3                         0                      2           0              1   \n",
       "5                         0                      1           0              1   \n",
       "...                     ...                    ...         ...            ...   \n",
       "4141425                   2                      4           2              1   \n",
       "4141426                   2                      2           2              1   \n",
       "4141428                   2                      4           2              2   \n",
       "4141429                   2                      4           2              2   \n",
       "4141430                   2                      3           2              0   \n",
       "\n",
       "         arr_hour_rank precip_cat snow_cat                windgust_cat  \\\n",
       "0                    2       None     None                (35.3, 46.5]   \n",
       "1                    2       None     None                (35.3, 46.5]   \n",
       "2                    1       None     None                (35.3, 46.5]   \n",
       "3                    1       None     None               (46.5, 125.7]   \n",
       "5                    1       None     None               (46.5, 125.7]   \n",
       "...                ...        ...      ...                         ...   \n",
       "4141425              1       None     None  (14.799000000000001, 35.3]   \n",
       "4141426              1       None     None  (14.799000000000001, 35.3]   \n",
       "4141428              2      light     None               (46.5, 125.7]   \n",
       "4141429              2      light     None               (46.5, 125.7]   \n",
       "4141430              0      light     None               (46.5, 125.7]   \n",
       "\n",
       "              cloud_cat  arr_delay  \n",
       "0         (71.8, 100.0]       -2.0  \n",
       "1         (71.8, 100.0]       -6.0  \n",
       "2         (71.8, 100.0]      -12.0  \n",
       "3        (-0.001, 47.3]       74.0  \n",
       "5        (-0.001, 47.3]       -2.0  \n",
       "...                 ...        ...  \n",
       "4141425  (-0.001, 47.3]       -5.0  \n",
       "4141426  (-0.001, 47.3]      -19.0  \n",
       "4141428    (47.3, 71.8]       82.0  \n",
       "4141429    (47.3, 71.8]       22.0  \n",
       "4141430    (47.3, 71.8]        2.0  \n",
       "\n",
       "[3090686 rows x 10 columns]"
      ]
     },
     "execution_count": 42,
     "metadata": {},
     "output_type": "execute_result"
    }
   ],
   "source": [
    "feats = df_train[['fl_date', 'mkt_unique_carrier', 'mkt_carrier_fl_num',\n",
    "       'op_unique_carrier', 'tail_num', 'op_carrier_fl_num',\n",
    "       'origin_airport_id', 'origin', 'dest_airport_id', 'dest',\n",
    "       'crs_dep_time', 'dep_time', 'dep_delay', 'taxi_out', 'wheels_off',\n",
    "       'wheels_on', 'taxi_in', 'crs_arr_time', 'arr_time', 'arr_delay',\n",
    "       'diverted', 'crs_elapsed_time', 'actual_elapsed_time', 'distance',\n",
    "       'carrier_delay', 'weather_delay', 'nas_delay', 'security_delay',\n",
    "       'late_aircraft_delay', 'precip', 'snow', 'windgust', 'cloudcover',\n",
    "       'carrier_speed_rank', 'flight_num_speed_rank', 'month', 'month_rank',\n",
    "       'dep_hour', 'arr_hour', 'dep_hour_rank', 'arr_hour_rank', 'precip_cat',\n",
    "       'snow_cat', 'windgust_cat', 'cloud_cat']]\n",
    "feats"
   ]
  },
  {
   "cell_type": "code",
   "execution_count": 266,
   "id": "sonic-stability",
   "metadata": {},
   "outputs": [],
   "source": [
    "feats = pd.get_dummies(data=feats)"
   ]
  },
  {
   "cell_type": "markdown",
   "id": "polished-alcohol",
   "metadata": {},
   "source": [
    "# Model 1: LinReg, sample of data, weather only"
   ]
  },
  {
   "cell_type": "code",
   "execution_count": 274,
   "id": "organized-ghost",
   "metadata": {},
   "outputs": [],
   "source": [
    "# create sample of data\n",
    "feats_sample = feats.sample(n=10000, random_state=58)"
   ]
  },
  {
   "cell_type": "code",
   "execution_count": 277,
   "id": "equivalent-roulette",
   "metadata": {},
   "outputs": [],
   "source": [
    "X = feats_sample[['precip_cat_None',\n",
    "       'precip_cat_heavy', 'precip_cat_light', 'precip_cat_moderate',\n",
    "       'snow_cat_None', 'snow_cat_heavy', 'snow_cat_light',\n",
    "       'windgust_cat_None', 'windgust_cat_light', 'windgust_cat_moderate',\n",
    "       'windgust_cat_strong', 'cloud_cat_0', 'cloud_cat_1', 'cloud_cat_2']].to_numpy()\n",
    "y = feats_sample.arr_delay\n",
    "\n",
    "X_train, X_test, y_train, y_test = train_test_split(X, y, test_size=0.2)"
   ]
  },
  {
   "cell_type": "code",
   "execution_count": 279,
   "id": "encouraging-adolescent",
   "metadata": {},
   "outputs": [
    {
     "data": {
      "text/plain": [
       "LinearRegression()"
      ]
     },
     "execution_count": 279,
     "metadata": {},
     "output_type": "execute_result"
    }
   ],
   "source": [
    "lr = LinearRegression()\n",
    "lr.fit(X_train, y_train)"
   ]
  },
  {
   "cell_type": "code",
   "execution_count": 294,
   "id": "exempt-incidence",
   "metadata": {},
   "outputs": [],
   "source": [
    "filename = 'models/lr.sav'\n",
    "pickle.dump(lr, open(filename, 'wb'))"
   ]
  },
  {
   "cell_type": "code",
   "execution_count": 281,
   "id": "eastern-banks",
   "metadata": {},
   "outputs": [
    {
     "data": {
      "text/plain": [
       "0.026503953784403622"
      ]
     },
     "execution_count": 281,
     "metadata": {},
     "output_type": "execute_result"
    }
   ],
   "source": [
    "lr.score(X_test, y_test)"
   ]
  },
  {
   "cell_type": "markdown",
   "id": "former-retailer",
   "metadata": {},
   "source": [
    "# Model 2: Whole set, weather only"
   ]
  },
  {
   "cell_type": "code",
   "execution_count": 283,
   "id": "beginning-pasta",
   "metadata": {},
   "outputs": [],
   "source": [
    "X = feats[['precip_cat_None',\n",
    "       'precip_cat_heavy', 'precip_cat_light', 'precip_cat_moderate',\n",
    "       'snow_cat_None', 'snow_cat_heavy', 'snow_cat_light',\n",
    "       'windgust_cat_None', 'windgust_cat_light', 'windgust_cat_moderate',\n",
    "       'windgust_cat_strong', 'cloud_cat_0', 'cloud_cat_1', 'cloud_cat_2']].to_numpy()\n",
    "y = feats.arr_delay\n",
    "\n",
    "X_train, X_test, y_train, y_test = train_test_split(X, y, test_size=0.2)"
   ]
  },
  {
   "cell_type": "code",
   "execution_count": 284,
   "id": "anonymous-wound",
   "metadata": {},
   "outputs": [
    {
     "data": {
      "text/plain": [
       "LinearRegression()"
      ]
     },
     "execution_count": 284,
     "metadata": {},
     "output_type": "execute_result"
    }
   ],
   "source": [
    "lr2 = LinearRegression()\n",
    "lr2.fit(X_train, y_train)"
   ]
  },
  {
   "cell_type": "code",
   "execution_count": 295,
   "id": "based-controversy",
   "metadata": {},
   "outputs": [],
   "source": [
    "filename = 'models/lr2.sav'\n",
    "pickle.dump(lr2, open(filename, 'wb'))"
   ]
  },
  {
   "cell_type": "code",
   "execution_count": 285,
   "id": "international-glance",
   "metadata": {},
   "outputs": [
    {
     "data": {
      "text/plain": [
       "0.01747998952818297"
      ]
     },
     "execution_count": 285,
     "metadata": {},
     "output_type": "execute_result"
    }
   ],
   "source": [
    "lr2.score(X_test, y_test)"
   ]
  },
  {
   "cell_type": "markdown",
   "id": "western-process",
   "metadata": {},
   "source": [
    "# Model 3: Linear Regression, whole set, all features"
   ]
  },
  {
   "cell_type": "code",
   "execution_count": 287,
   "id": "arbitrary-hughes",
   "metadata": {},
   "outputs": [],
   "source": [
    "X = feats.drop(columns='arr_delay').to_numpy()\n",
    "y = feats.arr_delay.to_numpy()\n",
    "\n",
    "X_train, X_test, y_train, y_test = train_test_split(X, y, test_size=0.2)"
   ]
  },
  {
   "cell_type": "code",
   "execution_count": 288,
   "id": "fiscal-uganda",
   "metadata": {},
   "outputs": [
    {
     "data": {
      "text/plain": [
       "LinearRegression()"
      ]
     },
     "execution_count": 288,
     "metadata": {},
     "output_type": "execute_result"
    }
   ],
   "source": [
    "lr3 = LinearRegression()\n",
    "lr3.fit(X_train, y_train)"
   ]
  },
  {
   "cell_type": "code",
   "execution_count": 296,
   "id": "beneficial-repair",
   "metadata": {},
   "outputs": [],
   "source": [
    "filename = 'models/lr3.sav'\n",
    "pickle.dump(lr3, open(filename, 'wb'))"
   ]
  },
  {
   "cell_type": "code",
   "execution_count": 290,
   "id": "optimum-financing",
   "metadata": {},
   "outputs": [
    {
     "data": {
      "text/plain": [
       "0.07250786250338603"
      ]
     },
     "execution_count": 290,
     "metadata": {},
     "output_type": "execute_result"
    }
   ],
   "source": [
    "lr3.score(X_test, y_test)"
   ]
  }
 ],
 "metadata": {
  "kernelspec": {
   "display_name": "Python 3",
   "language": "python",
   "name": "python3"
  },
  "language_info": {
   "codemirror_mode": {
    "name": "ipython",
    "version": 3
   },
   "file_extension": ".py",
   "mimetype": "text/x-python",
   "name": "python",
   "nbconvert_exporter": "python",
   "pygments_lexer": "ipython3",
   "version": "3.6.10"
  }
 },
 "nbformat": 4,
 "nbformat_minor": 5
}
