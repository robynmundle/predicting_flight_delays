{
 "cells": [
  {
   "cell_type": "markdown",
   "id": "capital-parallel",
   "metadata": {},
   "source": [
    "# Parsing JSON files for weather information"
   ]
  },
  {
   "cell_type": "code",
   "execution_count": 122,
   "id": "tutorial-union",
   "metadata": {},
   "outputs": [],
   "source": [
    "import pandas as pd\n",
    "import os\n",
    "import json\n",
    "from IPython.display import JSON"
   ]
  },
  {
   "cell_type": "markdown",
   "id": "progressive-neighborhood",
   "metadata": {},
   "source": [
    "#### **Task 3**: Does the weather affect the delay? \n",
    "Use the API to pull the weather information for flights. There is no need to get weather for ALL flights. We can choose the right representative sample. Let's focus on four weather types:\n",
    "- sunny\n",
    "- cloudy\n",
    "- rainy\n",
    "- snow.\n",
    "Test the hypothesis that these 4 delays are from the same distribution. If they are not, which ones are significantly different?"
   ]
  },
  {
   "cell_type": "code",
   "execution_count": 123,
   "id": "related-effects",
   "metadata": {},
   "outputs": [],
   "source": [
    "# list json files\n",
    "directory = \"vc_api/weather-data/\"\n",
    "files = [file for file in os.listdir(directory) if not file.startswith(\".\")]\n",
    "\n",
    "airport = []\n",
    "date = []\n",
    "weather = []\n",
    "windspeed = []\n",
    "\n",
    "for file in files:\n",
    "    with open(directory+file) as f:\n",
    "        j = json.load(f)\n",
    "    airport.append(file[:3]) # airport code\n",
    "    date.append(j['days'][0]['datetime'])\n",
    "    windspeed.append(j['days'][0]['windspeed'])\n",
    "    weather.append(j['days'][0]['conditions'])\n",
    "\n",
    "# create DataFrame\n",
    "d = {'airport': airport, 'date': date, 'conditions': weather, 'windspeed': windspeed}\n",
    "weather_df = pd.DataFrame(data=d)\n",
    "weather_df['date'] = pd.to_datetime(weather_df.date)\n",
    "\n",
    "# bin conditions into 4 categories\n",
    "weather_dict = {'Partially cloudy': 'Sunny', 'Overcast': 'Cloudy', 'Clear': 'Sunny', 'Rain, Overcast': 'Rain',\n",
    "       'Rain, Partially cloudy': 'Rain', 'Rain': 'Rain', 'Snow, Partially cloudy': 'Snow',\n",
    "       'Snow, Overcast': 'Snow', 'Snow': 'Snow'}\n",
    "\n",
    "weather_df['weather'] = weather_df.conditions.apply(lambda x: weather_dict[x])\n",
    "weather_df.drop(columns='conditions', inplace=True)"
   ]
  },
  {
   "cell_type": "code",
   "execution_count": 125,
   "id": "aerial-rochester",
   "metadata": {},
   "outputs": [
    {
     "data": {
      "text/plain": [
       "array(['ATL', 'DFW', 'JFK', 'LAX', 'ORD', 'RDU', 'SEA'], dtype=object)"
      ]
     },
     "execution_count": 125,
     "metadata": {},
     "output_type": "execute_result"
    }
   ],
   "source": [
    "weather_df.airport.unique()"
   ]
  },
  {
   "cell_type": "code",
   "execution_count": 127,
   "id": "fleet-smooth",
   "metadata": {},
   "outputs": [],
   "source": [
    "# weather_df.to_csv([file])"
   ]
  },
  {
   "cell_type": "code",
   "execution_count": 132,
   "id": "impossible-astronomy",
   "metadata": {},
   "outputs": [],
   "source": [
    "# reload data from csv\n",
    "df = pd.read_csv('data/weather_01.csv').drop(columns='Unnamed: 0')"
   ]
  },
  {
   "cell_type": "code",
   "execution_count": 134,
   "id": "dedicated-think",
   "metadata": {},
   "outputs": [
    {
     "data": {
      "text/html": [
       "<div>\n",
       "<style scoped>\n",
       "    .dataframe tbody tr th:only-of-type {\n",
       "        vertical-align: middle;\n",
       "    }\n",
       "\n",
       "    .dataframe tbody tr th {\n",
       "        vertical-align: top;\n",
       "    }\n",
       "\n",
       "    .dataframe thead th {\n",
       "        text-align: right;\n",
       "    }\n",
       "</style>\n",
       "<table border=\"1\" class=\"dataframe\">\n",
       "  <thead>\n",
       "    <tr style=\"text-align: right;\">\n",
       "      <th></th>\n",
       "      <th>airport</th>\n",
       "      <th>date</th>\n",
       "      <th>windspeed</th>\n",
       "      <th>weather</th>\n",
       "    </tr>\n",
       "  </thead>\n",
       "  <tbody>\n",
       "    <tr>\n",
       "      <th>0</th>\n",
       "      <td>ATL</td>\n",
       "      <td>2018-01-01</td>\n",
       "      <td>27.6</td>\n",
       "      <td>Sunny</td>\n",
       "    </tr>\n",
       "    <tr>\n",
       "      <th>1</th>\n",
       "      <td>ATL</td>\n",
       "      <td>2018-01-02</td>\n",
       "      <td>16.5</td>\n",
       "      <td>Sunny</td>\n",
       "    </tr>\n",
       "    <tr>\n",
       "      <th>2</th>\n",
       "      <td>ATL</td>\n",
       "      <td>2018-01-03</td>\n",
       "      <td>22.3</td>\n",
       "      <td>Sunny</td>\n",
       "    </tr>\n",
       "    <tr>\n",
       "      <th>3</th>\n",
       "      <td>ATL</td>\n",
       "      <td>2018-01-04</td>\n",
       "      <td>35.2</td>\n",
       "      <td>Sunny</td>\n",
       "    </tr>\n",
       "    <tr>\n",
       "      <th>4</th>\n",
       "      <td>ATL</td>\n",
       "      <td>2018-01-05</td>\n",
       "      <td>27.6</td>\n",
       "      <td>Sunny</td>\n",
       "    </tr>\n",
       "  </tbody>\n",
       "</table>\n",
       "</div>"
      ],
      "text/plain": [
       "  airport        date  windspeed weather\n",
       "0     ATL  2018-01-01       27.6   Sunny\n",
       "1     ATL  2018-01-02       16.5   Sunny\n",
       "2     ATL  2018-01-03       22.3   Sunny\n",
       "3     ATL  2018-01-04       35.2   Sunny\n",
       "4     ATL  2018-01-05       27.6   Sunny"
      ]
     },
     "execution_count": 134,
     "metadata": {},
     "output_type": "execute_result"
    }
   ],
   "source": [
    "df.head()"
   ]
  },
  {
   "cell_type": "code",
   "execution_count": null,
   "id": "convinced-consensus",
   "metadata": {},
   "outputs": [],
   "source": []
  }
 ],
 "metadata": {
  "kernelspec": {
   "display_name": "Python 3",
   "language": "python",
   "name": "python3"
  },
  "language_info": {
   "codemirror_mode": {
    "name": "ipython",
    "version": 3
   },
   "file_extension": ".py",
   "mimetype": "text/x-python",
   "name": "python",
   "nbconvert_exporter": "python",
   "pygments_lexer": "ipython3",
   "version": "3.6.10"
  }
 },
 "nbformat": 4,
 "nbformat_minor": 5
}
