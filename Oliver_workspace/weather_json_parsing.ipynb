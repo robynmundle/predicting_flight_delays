{
 "cells": [
  {
   "cell_type": "markdown",
   "id": "bored-watershed",
   "metadata": {},
   "source": [
    "# Parsing JSON files for weather information"
   ]
  },
  {
   "cell_type": "code",
   "execution_count": 102,
   "id": "breathing-pantyhose",
   "metadata": {},
   "outputs": [],
   "source": [
    "import pandas as pd\n",
    "import os\n",
    "import json\n",
    "from IPython.display import JSON"
   ]
  },
  {
   "cell_type": "markdown",
   "id": "weird-florida",
   "metadata": {},
   "source": [
    "#### **Task 3**: Does the weather affect the delay? \n",
    "Use the API to pull the weather information for flights. There is no need to get weather for ALL flights. We can choose the right representative sample. Let's focus on four weather types:\n",
    "- sunny\n",
    "- cloudy\n",
    "- rainy\n",
    "- snow.\n",
    "Test the hypothesis that these 4 delays are from the same distribution. If they are not, which ones are significantly different?"
   ]
  },
  {
   "cell_type": "code",
   "execution_count": 119,
   "id": "respiratory-applicant",
   "metadata": {},
   "outputs": [],
   "source": [
    "# list json files\n",
    "directory = \"vc_api/weather-data/\"\n",
    "files = [file for file in os.listdir(directory) if not file.startswith(\".\")]\n",
    "\n",
    "airport = []\n",
    "date = []\n",
    "weather = []\n",
    "windspeed = []\n",
    "\n",
    "for file in files:\n",
    "    with open(directory+file) as f:\n",
    "        j = json.load(f)\n",
    "    airport.append(file[:3]) # airport code\n",
    "    date.append(j['days'][0]['datetime'])\n",
    "    windspeed.append(j['days'][0]['windspeed'])\n",
    "    weather.append(j['days'][0]['conditions'])\n",
    "\n",
    "# create DataFrame\n",
    "d = {'airport': airport, 'date': date, 'conditions': weather, 'windspeed': windspeed}\n",
    "weather_df = pd.DataFrame(data=d)\n",
    "weather_df['date'] = pd.to_datetime(weather_df.date)\n",
    "\n",
    "# bin conditions into 4 categories\n",
    "weather_dict = {'Partially cloudy': 'Sunny', 'Overcast': 'Cloudy', 'Clear': 'Sunny', 'Rain, Overcast': 'Rain',\n",
    "       'Rain, Partially cloudy': 'Rain', 'Rain': 'Rain', 'Snow, Partially cloudy': 'Snow',\n",
    "       'Snow, Overcast': 'Snow', 'Snow': 'Snow'}\n",
    "\n",
    "weather_df['weather'] = weather_df.conditions.apply(lambda x: weather_dict[x])\n",
    "weather_df.drop(columns='conditions', inplace=True)"
   ]
  },
  {
   "cell_type": "code",
   "execution_count": 121,
   "id": "qualified-condition",
   "metadata": {},
   "outputs": [],
   "source": [
    "# weather_df.to_csv('data/weather_01.csv')"
   ]
  },
  {
   "cell_type": "code",
   "execution_count": null,
   "id": "lesser-belarus",
   "metadata": {},
   "outputs": [],
   "source": []
  }
 ],
 "metadata": {
  "kernelspec": {
   "display_name": "Python 3",
   "language": "python",
   "name": "python3"
  },
  "language_info": {
   "codemirror_mode": {
    "name": "ipython",
    "version": 3
   },
   "file_extension": ".py",
   "mimetype": "text/x-python",
   "name": "python",
   "nbconvert_exporter": "python",
   "pygments_lexer": "ipython3",
   "version": "3.6.10"
  }
 },
 "nbformat": 4,
 "nbformat_minor": 5
}
