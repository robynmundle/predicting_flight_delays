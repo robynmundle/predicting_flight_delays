{
 "cells": [
  {
   "cell_type": "code",
   "execution_count": null,
   "id": "infinite-toilet",
   "metadata": {},
   "outputs": [],
   "source": [
    "import pandas as pd\n",
    "import numpy as np\n",
    "import os\n",
    "import json"
   ]
  },
  {
   "cell_type": "code",
   "execution_count": null,
   "id": "oriented-neutral",
   "metadata": {},
   "outputs": [],
   "source": [
    "# Load all available weather data into a dataframe\n",
    "directory = \"vc_api/weather-data/\"\n",
    "files = [file for file in os.listdir(directory) if not file.startswith(\".\")]\n",
    "\n",
    "airport = []\n",
    "date = []\n",
    "precip = []\n",
    "snow = []\n",
    "snowdepth = []\n",
    "windgust = []\n",
    "cloudcover = []\n",
    "icon = []\n",
    "\n",
    "for file in files:\n",
    "    with open(directory+file) as f:\n",
    "        j = json.load(f)\n",
    "    airport.append(file[:3]) # airport code\n",
    "    date.append(j['days'][0]['datetime'])\n",
    "    precip.append(j['days'][0]['precip'])\n",
    "    snow.append(j['days'][0]['snow'])\n",
    "#     snowdepth.append(j['days'][0]['snowdepth'])\n",
    "    windgust.append(j['days'][0]['windgust'])\n",
    "    cloudcover.append(j['days'][0]['cloudcover'])\n",
    "#     icon.append(j['days'][0]['icon'])\n",
    "\n",
    "# create DataFrame\n",
    "d = {'origin': airport, 'fl_date': date, 'precip': precip, 'snow': snow,\n",
    "     'windgust': windgust, 'cloudcover': cloudcover}\n",
    "weather_df = pd.DataFrame(data=d).set_index(['fl_date', 'origin'])"
   ]
  },
  {
   "cell_type": "code",
   "execution_count": null,
   "id": "published-river",
   "metadata": {},
   "outputs": [],
   "source": [
    "# load your dataframe to add weather features to\n",
    "df = pd.read_csv('', index_col=0)"
   ]
  },
  {
   "cell_type": "code",
   "execution_count": null,
   "id": "infrared-summit",
   "metadata": {},
   "outputs": [],
   "source": [
    "# join weather columns by origin and destination\n",
    "df = df.join(weather_df, on=['fl_date', 'origin'], how='left').rename(columns={'precip':'origin_precip',\n",
    "                                                                              'snow':'origin_snow',\n",
    "                                                                              'windgust':'origin_windgust',\n",
    "                                                                              'cloudcover': 'origin_cloudcover'})\n",
    "df = df.join(weather_df, on=['fl_date', 'dest'], how='left').rename(columns={'precip':'dest_precip',\n",
    "                                                                              'snow':'dest_snow',\n",
    "                                                                              'windgust':'dest_windgust',\n",
    "                                                                              'cloudcover': 'dest_cloudcover'})"
   ]
  },
  {
   "cell_type": "markdown",
   "id": "crazy-struggle",
   "metadata": {},
   "source": [
    "Engineer weather features"
   ]
  },
  {
   "cell_type": "code",
   "execution_count": null,
   "id": "downtown-millennium",
   "metadata": {},
   "outputs": [],
   "source": [
    "# Bin weather into levels\n",
    "def precip_bins(val):\n",
    "    if np.isnan(val):\n",
    "        return np.nan\n",
    "    elif val > 79:\n",
    "        return 3\n",
    "    elif val > 39:\n",
    "        return 2\n",
    "    elif val > 0:\n",
    "        return 1\n",
    "    else:\n",
    "        return 0\n",
    "\n",
    "def snow_bins(val):\n",
    "    if np.isnan(val):\n",
    "        return np.nan\n",
    "    elif val > 1.8:\n",
    "        return 2\n",
    "    elif val > 0:\n",
    "        return 1\n",
    "    else:\n",
    "        return 0\n",
    "    \n",
    "def wind_bins(val):\n",
    "    if np.isnan(val):\n",
    "        return np.nan\n",
    "    elif val > 46:\n",
    "        return 3\n",
    "    elif val > 35:\n",
    "        return 2\n",
    "    elif val > 0:\n",
    "        return 1\n",
    "    else:\n",
    "        return 0\n",
    "    \n",
    "def cloud_bins(val):\n",
    "    if np.isnan(val):\n",
    "        return np.nan\n",
    "    elif val > 71:\n",
    "        return 2\n",
    "    elif val > 47:\n",
    "        return 1\n",
    "    else:\n",
    "        return 0\n",
    "    \n",
    "df['origin_precip_cat'] = df['origin_precip'].apply(precip_bins)\n",
    "df['origin_snow_cat'] = df['origin_snow'].apply(snow_bins)\n",
    "df['origin_windgust_cat'] = df['origin_windgust'].apply(wind_bins)\n",
    "df['origin_cloud_cat'] = df['origin_cloudcover'].apply(cloud_bins)\n",
    "df['dest_precip_cat'] = df['dest_precip'].apply(precip_bins)\n",
    "df['dest_snow_cat'] = df['dest_snow'].apply(snow_bins)\n",
    "df['dest_windgust_cat'] = df['dest_windgust'].apply(wind_bins)\n",
    "df['dest_cloud_cat'] = df['dest_cloudcover'].apply(cloud_bins)"
   ]
  },
  {
   "cell_type": "code",
   "execution_count": null,
   "id": "swedish-utility",
   "metadata": {},
   "outputs": [],
   "source": [
    "df.head(5)"
   ]
  },
  {
   "cell_type": "code",
   "execution_count": null,
   "id": "introductory-toner",
   "metadata": {},
   "outputs": [],
   "source": [
    "# # Save file\n",
    "# df.to_csv('')"
   ]
  },
  {
   "cell_type": "code",
   "execution_count": null,
   "id": "cathedral-electronics",
   "metadata": {},
   "outputs": [],
   "source": []
  }
 ],
 "metadata": {
  "kernelspec": {
   "display_name": "Python 3",
   "language": "python",
   "name": "python3"
  },
  "language_info": {
   "codemirror_mode": {
    "name": "ipython",
    "version": 3
   },
   "file_extension": ".py",
   "mimetype": "text/x-python",
   "name": "python",
   "nbconvert_exporter": "python",
   "pygments_lexer": "ipython3",
   "version": "3.6.10"
  }
 },
 "nbformat": 4,
 "nbformat_minor": 5
}
