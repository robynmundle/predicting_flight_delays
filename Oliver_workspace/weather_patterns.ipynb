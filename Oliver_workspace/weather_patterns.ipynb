{
 "cells": [
  {
   "cell_type": "markdown",
   "id": "acute-manufacturer",
   "metadata": {},
   "source": [
    "## Merging weather data with delay data to find patterns"
   ]
  },
  {
   "cell_type": "code",
   "execution_count": 34,
   "id": "civic-houston",
   "metadata": {},
   "outputs": [],
   "source": [
    "import pandas as pd\n",
    "import numpy as np\n",
    "import matplotlib.pyplot as plt\n",
    "import seaborn as sns\n",
    "\n",
    "from sklearn.ensemble import RandomForestRegressor"
   ]
  },
  {
   "cell_type": "code",
   "execution_count": 2,
   "id": "fifteen-fifth",
   "metadata": {},
   "outputs": [],
   "source": [
    "# load weather data\n",
    "weather_df = pd.read_csv('data/weather_01.csv').drop(columns=\"Unnamed: 0\")\n",
    "# load flight data for airports for which we have weather data\n",
    "flights_df = pd.read_csv('data/flights_sample_random_cleaned.csv').drop(columns=\"Unnamed: 0\")\n",
    "airports = weather_df.airport.unique()\n",
    "cond = flights_df.origin.isin(airports)\n",
    "flights_df = flights_df[cond]"
   ]
  },
  {
   "cell_type": "code",
   "execution_count": 3,
   "id": "thousand-cincinnati",
   "metadata": {},
   "outputs": [
    {
     "data": {
      "text/html": [
       "<div>\n",
       "<style scoped>\n",
       "    .dataframe tbody tr th:only-of-type {\n",
       "        vertical-align: middle;\n",
       "    }\n",
       "\n",
       "    .dataframe tbody tr th {\n",
       "        vertical-align: top;\n",
       "    }\n",
       "\n",
       "    .dataframe thead th {\n",
       "        text-align: right;\n",
       "    }\n",
       "</style>\n",
       "<table border=\"1\" class=\"dataframe\">\n",
       "  <thead>\n",
       "    <tr style=\"text-align: right;\">\n",
       "      <th></th>\n",
       "      <th>fl_date</th>\n",
       "      <th>mkt_unique_carrier</th>\n",
       "      <th>branded_code_share</th>\n",
       "      <th>mkt_carrier</th>\n",
       "      <th>mkt_carrier_fl_num</th>\n",
       "      <th>op_unique_carrier</th>\n",
       "      <th>op_carrier_fl_num</th>\n",
       "      <th>origin_airport_id</th>\n",
       "      <th>origin</th>\n",
       "      <th>origin_city_name</th>\n",
       "      <th>...</th>\n",
       "      <th>crs_elapsed_time</th>\n",
       "      <th>actual_elapsed_time</th>\n",
       "      <th>air_time</th>\n",
       "      <th>flights</th>\n",
       "      <th>distance</th>\n",
       "      <th>carrier_delay</th>\n",
       "      <th>weather_delay</th>\n",
       "      <th>nas_delay</th>\n",
       "      <th>security_delay</th>\n",
       "      <th>late_aircraft_delay</th>\n",
       "    </tr>\n",
       "  </thead>\n",
       "  <tbody>\n",
       "    <tr>\n",
       "      <th>4</th>\n",
       "      <td>2018-07-22</td>\n",
       "      <td>UA</td>\n",
       "      <td>UA</td>\n",
       "      <td>UA</td>\n",
       "      <td>2048</td>\n",
       "      <td>UA</td>\n",
       "      <td>2048</td>\n",
       "      <td>12892</td>\n",
       "      <td>LAX</td>\n",
       "      <td>Los Angeles, CA</td>\n",
       "      <td>...</td>\n",
       "      <td>75.0</td>\n",
       "      <td>64.0</td>\n",
       "      <td>44.0</td>\n",
       "      <td>1.0</td>\n",
       "      <td>236.0</td>\n",
       "      <td>0.0</td>\n",
       "      <td>0.0</td>\n",
       "      <td>0.0</td>\n",
       "      <td>0.0</td>\n",
       "      <td>0.0</td>\n",
       "    </tr>\n",
       "    <tr>\n",
       "      <th>5</th>\n",
       "      <td>2019-03-24</td>\n",
       "      <td>DL</td>\n",
       "      <td>DL</td>\n",
       "      <td>DL</td>\n",
       "      <td>416</td>\n",
       "      <td>DL</td>\n",
       "      <td>416</td>\n",
       "      <td>10397</td>\n",
       "      <td>ATL</td>\n",
       "      <td>Atlanta, GA</td>\n",
       "      <td>...</td>\n",
       "      <td>109.0</td>\n",
       "      <td>97.0</td>\n",
       "      <td>79.0</td>\n",
       "      <td>1.0</td>\n",
       "      <td>545.0</td>\n",
       "      <td>0.0</td>\n",
       "      <td>0.0</td>\n",
       "      <td>0.0</td>\n",
       "      <td>0.0</td>\n",
       "      <td>0.0</td>\n",
       "    </tr>\n",
       "    <tr>\n",
       "      <th>6</th>\n",
       "      <td>2018-06-14</td>\n",
       "      <td>DL</td>\n",
       "      <td>DL_CODESHARE</td>\n",
       "      <td>DL</td>\n",
       "      <td>4766</td>\n",
       "      <td>OO</td>\n",
       "      <td>4766</td>\n",
       "      <td>10397</td>\n",
       "      <td>ATL</td>\n",
       "      <td>Atlanta, GA</td>\n",
       "      <td>...</td>\n",
       "      <td>49.0</td>\n",
       "      <td>45.0</td>\n",
       "      <td>21.0</td>\n",
       "      <td>1.0</td>\n",
       "      <td>83.0</td>\n",
       "      <td>0.0</td>\n",
       "      <td>0.0</td>\n",
       "      <td>0.0</td>\n",
       "      <td>0.0</td>\n",
       "      <td>0.0</td>\n",
       "    </tr>\n",
       "    <tr>\n",
       "      <th>7</th>\n",
       "      <td>2018-09-29</td>\n",
       "      <td>AA</td>\n",
       "      <td>AA</td>\n",
       "      <td>AA</td>\n",
       "      <td>1014</td>\n",
       "      <td>AA</td>\n",
       "      <td>1014</td>\n",
       "      <td>12892</td>\n",
       "      <td>LAX</td>\n",
       "      <td>Los Angeles, CA</td>\n",
       "      <td>...</td>\n",
       "      <td>177.0</td>\n",
       "      <td>170.0</td>\n",
       "      <td>149.0</td>\n",
       "      <td>1.0</td>\n",
       "      <td>1242.0</td>\n",
       "      <td>0.0</td>\n",
       "      <td>0.0</td>\n",
       "      <td>0.0</td>\n",
       "      <td>0.0</td>\n",
       "      <td>0.0</td>\n",
       "    </tr>\n",
       "    <tr>\n",
       "      <th>11</th>\n",
       "      <td>2019-04-14</td>\n",
       "      <td>UA</td>\n",
       "      <td>UA</td>\n",
       "      <td>UA</td>\n",
       "      <td>260</td>\n",
       "      <td>UA</td>\n",
       "      <td>260</td>\n",
       "      <td>14747</td>\n",
       "      <td>SEA</td>\n",
       "      <td>Seattle, WA</td>\n",
       "      <td>...</td>\n",
       "      <td>294.0</td>\n",
       "      <td>289.0</td>\n",
       "      <td>257.0</td>\n",
       "      <td>1.0</td>\n",
       "      <td>2306.0</td>\n",
       "      <td>0.0</td>\n",
       "      <td>0.0</td>\n",
       "      <td>32.0</td>\n",
       "      <td>0.0</td>\n",
       "      <td>0.0</td>\n",
       "    </tr>\n",
       "  </tbody>\n",
       "</table>\n",
       "<p>5 rows × 37 columns</p>\n",
       "</div>"
      ],
      "text/plain": [
       "       fl_date mkt_unique_carrier branded_code_share mkt_carrier  \\\n",
       "4   2018-07-22                 UA                 UA          UA   \n",
       "5   2019-03-24                 DL                 DL          DL   \n",
       "6   2018-06-14                 DL       DL_CODESHARE          DL   \n",
       "7   2018-09-29                 AA                 AA          AA   \n",
       "11  2019-04-14                 UA                 UA          UA   \n",
       "\n",
       "    mkt_carrier_fl_num op_unique_carrier  op_carrier_fl_num  \\\n",
       "4                 2048                UA               2048   \n",
       "5                  416                DL                416   \n",
       "6                 4766                OO               4766   \n",
       "7                 1014                AA               1014   \n",
       "11                 260                UA                260   \n",
       "\n",
       "    origin_airport_id origin origin_city_name  ...  crs_elapsed_time  \\\n",
       "4               12892    LAX  Los Angeles, CA  ...              75.0   \n",
       "5               10397    ATL      Atlanta, GA  ...             109.0   \n",
       "6               10397    ATL      Atlanta, GA  ...              49.0   \n",
       "7               12892    LAX  Los Angeles, CA  ...             177.0   \n",
       "11              14747    SEA      Seattle, WA  ...             294.0   \n",
       "\n",
       "   actual_elapsed_time air_time flights distance  carrier_delay  \\\n",
       "4                 64.0     44.0     1.0    236.0            0.0   \n",
       "5                 97.0     79.0     1.0    545.0            0.0   \n",
       "6                 45.0     21.0     1.0     83.0            0.0   \n",
       "7                170.0    149.0     1.0   1242.0            0.0   \n",
       "11               289.0    257.0     1.0   2306.0            0.0   \n",
       "\n",
       "    weather_delay nas_delay security_delay  late_aircraft_delay  \n",
       "4             0.0       0.0            0.0                  0.0  \n",
       "5             0.0       0.0            0.0                  0.0  \n",
       "6             0.0       0.0            0.0                  0.0  \n",
       "7             0.0       0.0            0.0                  0.0  \n",
       "11            0.0      32.0            0.0                  0.0  \n",
       "\n",
       "[5 rows x 37 columns]"
      ]
     },
     "execution_count": 3,
     "metadata": {},
     "output_type": "execute_result"
    }
   ],
   "source": [
    "flights_df.head()"
   ]
  },
  {
   "cell_type": "code",
   "execution_count": 4,
   "id": "vocal-enforcement",
   "metadata": {},
   "outputs": [],
   "source": [
    "# add weather and windspeed columns\n",
    "\n",
    "def weather(row):\n",
    "    apt = row.origin\n",
    "    date = row.fl_date\n",
    "    c1, c2 = weather_df.airport == apt, weather_df.date == date\n",
    "    try:\n",
    "        w = weather_df[c1 & c2].iloc[0]\n",
    "        return w.weather\n",
    "    except:\n",
    "        return np.nan\n",
    "\n",
    "def windspeed(row):\n",
    "    apt = row.origin\n",
    "    date = row.fl_date\n",
    "    c1, c2 = weather_df.airport == apt, weather_df.date == date\n",
    "    try:\n",
    "        w = weather_df[c1 & c2].iloc[0]\n",
    "        return w.windspeed\n",
    "    except:\n",
    "        return np.nan\n",
    "    \n",
    "flights_df['weather'] = flights_df.apply(weather, 1)\n",
    "flights_df['windspeed'] = flights_df.apply(windspeed, 1)"
   ]
  },
  {
   "cell_type": "code",
   "execution_count": 5,
   "id": "conventional-capital",
   "metadata": {},
   "outputs": [],
   "source": [
    "# drop null columns\n",
    "cond = flights_df.weather.notnull()\n",
    "flights_df = flights_df[cond]"
   ]
  },
  {
   "cell_type": "code",
   "execution_count": 6,
   "id": "metric-hypothetical",
   "metadata": {},
   "outputs": [
    {
     "data": {
      "text/plain": [
       "Index(['fl_date', 'mkt_unique_carrier', 'branded_code_share', 'mkt_carrier',\n",
       "       'mkt_carrier_fl_num', 'op_unique_carrier', 'op_carrier_fl_num',\n",
       "       'origin_airport_id', 'origin', 'origin_city_name', 'dest_airport_id',\n",
       "       'dest', 'dest_city_name', 'crs_dep_time', 'dep_time', 'dep_delay',\n",
       "       'taxi_out', 'wheels_off', 'wheels_on', 'taxi_in', 'crs_arr_time',\n",
       "       'arr_time', 'arr_delay', 'cancelled', 'cancellation_code', 'diverted',\n",
       "       'dup', 'crs_elapsed_time', 'actual_elapsed_time', 'air_time', 'flights',\n",
       "       'distance', 'carrier_delay', 'weather_delay', 'nas_delay',\n",
       "       'security_delay', 'late_aircraft_delay', 'weather', 'windspeed'],\n",
       "      dtype='object')"
      ]
     },
     "execution_count": 6,
     "metadata": {},
     "output_type": "execute_result"
    }
   ],
   "source": [
    "flights_df.columns"
   ]
  },
  {
   "cell_type": "code",
   "execution_count": 7,
   "id": "undefined-present",
   "metadata": {},
   "outputs": [],
   "source": [
    "# copy only relevant features\n",
    "df = flights_df[['fl_date', 'origin', 'dep_delay', 'arr_delay', 'cancelled', 'cancellation_code', 'diverted',\n",
    "       'carrier_delay', 'weather_delay', 'nas_delay',\n",
    "       'security_delay', 'late_aircraft_delay', 'weather', 'windspeed']].copy()"
   ]
  },
  {
   "cell_type": "code",
   "execution_count": 8,
   "id": "sustainable-description",
   "metadata": {},
   "outputs": [
    {
     "data": {
      "text/plain": [
       "<matplotlib.axes._subplots.AxesSubplot at 0x7f1ad713a710>"
      ]
     },
     "execution_count": 8,
     "metadata": {},
     "output_type": "execute_result"
    },
    {
     "data": {
      "image/png": "[encoded data removed]",
      "text/plain": [
       "<Figure size 432x288 with 1 Axes>"
      ]
     },
     "metadata": {
      "needs_background": "light"
     },
     "output_type": "display_data"
    }
   ],
   "source": [
    "# see distribution for delays\n",
    "sns.boxplot(x=df.arr_delay)"
   ]
  },
  {
   "cell_type": "code",
   "execution_count": 9,
   "id": "adapted-natural",
   "metadata": {},
   "outputs": [],
   "source": [
    "# function \"borrowed\" from Robyn\n",
    "def rem_outliers(df, col):\n",
    "    ''' Remove outliers which fall outside of 3 standard deviations above and below the mean of the data set\n",
    "            Input\n",
    "                (0) dataframe containing the data\n",
    "                (1) column to remove outliers from\n",
    "            Output\n",
    "                rows of df which are classified as outliers in the specified column are directly removed\n",
    "                print out stating count of outliers removed '''\n",
    "    mean, cutoff = np.mean(df[col]), np.std(df[col]) * 3   # 3 stddev outside the mean\n",
    "    lower, upper = mean - cutoff, mean + cutoff\n",
    "    outliers = [x for x in df[col] if x < lower or x > upper]\n",
    "    df.drop(df[(df[col] > upper) | (df[col] < lower)].index, inplace=True)\n",
    "    return f'{len(outliers)} outliers removed'"
   ]
  },
  {
   "cell_type": "code",
   "execution_count": 10,
   "id": "usual-clarity",
   "metadata": {},
   "outputs": [
    {
     "data": {
      "text/plain": [
       "'39 outliers removed'"
      ]
     },
     "execution_count": 10,
     "metadata": {},
     "output_type": "execute_result"
    }
   ],
   "source": [
    "rem_outliers(df, 'arr_delay')"
   ]
  },
  {
   "cell_type": "code",
   "execution_count": 11,
   "id": "variable-crime",
   "metadata": {},
   "outputs": [
    {
     "data": {
      "text/plain": [
       "Text(0.5, 0, 'Arrival delay')"
      ]
     },
     "execution_count": 11,
     "metadata": {},
     "output_type": "execute_result"
    },
    {
     "data": {
      "image/png": "[encoded data removed]",
      "text/plain": [
       "<Figure size 432x288 with 1 Axes>"
      ]
     },
     "metadata": {
      "needs_background": "light"
     },
     "output_type": "display_data"
    }
   ],
   "source": [
    "# see distribution for delays again\n",
    "ax = sns.histplot(x=df.arr_delay)\n",
    "ax.set_xlabel(\"Arrival delay\")"
   ]
  },
  {
   "cell_type": "code",
   "execution_count": 12,
   "id": "italian-naples",
   "metadata": {},
   "outputs": [
    {
     "data": {
      "text/plain": [
       "Text(0, 0.5, 'Arrival delay')"
      ]
     },
     "execution_count": 12,
     "metadata": {},
     "output_type": "execute_result"
    },
    {
     "data": {
      "image/png": "[encoded data removed]",
      "text/plain": [
       "<Figure size 432x288 with 1 Axes>"
      ]
     },
     "metadata": {
      "needs_background": "light"
     },
     "output_type": "display_data"
    }
   ],
   "source": [
    "x = df.weather.to_numpy()\n",
    "y = df.arr_delay.to_numpy()\n",
    "\n",
    "ax = sns.violinplot(x=x, y=y, split=True, inner=\"quart\", linewidth=1)\n",
    "ax.set_ylabel(\"Arrival delay\")"
   ]
  },
  {
   "cell_type": "markdown",
   "id": "decimal-midnight",
   "metadata": {},
   "source": [
    "Based on raw correlation, weather doesn't significantly affect the arrival delay. However, snow seems to have a significant effect on the variance. I'll dig a little deeper."
   ]
  },
  {
   "cell_type": "code",
   "execution_count": 19,
   "id": "athletic-chase",
   "metadata": {},
   "outputs": [],
   "source": [
    "weather_dummies = pd.get_dummies(df.weather, prefix='weather')"
   ]
  },
  {
   "cell_type": "code",
   "execution_count": 23,
   "id": "obvious-theory",
   "metadata": {},
   "outputs": [],
   "source": [
    "df = pd.concat([df, weather_dummies], axis=1)"
   ]
  },
  {
   "cell_type": "code",
   "execution_count": 33,
   "id": "other-hardware",
   "metadata": {},
   "outputs": [
    {
     "data": {
      "text/plain": [
       "<matplotlib.axes._subplots.AxesSubplot at 0x7f1ad6242b70>"
      ]
     },
     "execution_count": 33,
     "metadata": {},
     "output_type": "execute_result"
    },
    {
     "data": {
      "image/png": "[encoded data removed]",
      "text/plain": [
       "<Figure size 432x288 with 2 Axes>"
      ]
     },
     "metadata": {
      "needs_background": "light"
     },
     "output_type": "display_data"
    }
   ],
   "source": [
    "df_num = df[['dep_delay', 'arr_delay', 'carrier_delay', 'weather_delay', 'nas_delay',\n",
    "             'late_aircraft_delay', 'windspeed', 'weather_Cloudy',\n",
    "             'weather_Rain', 'weather_Snow', 'weather_Sunny']]\n",
    "\n",
    "sns.heatmap(df_num.corr())"
   ]
  }
 ],
 "metadata": {
  "kernelspec": {
   "display_name": "Python 3",
   "language": "python",
   "name": "python3"
  },
  "language_info": {
   "codemirror_mode": {
    "name": "ipython",
    "version": 3
   },
   "file_extension": ".py",
   "mimetype": "text/x-python",
   "name": "python",
   "nbconvert_exporter": "python",
   "pygments_lexer": "ipython3",
   "version": "3.6.10"
  }
 },
 "nbformat": 4,
 "nbformat_minor": 5
}
