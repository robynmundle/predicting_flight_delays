{
 "cells": [
  {
   "cell_type": "markdown",
   "id": "hourly-dealing",
   "metadata": {},
   "source": [
    "## Merging weather data with delay data to find patterns"
   ]
  },
  {
   "cell_type": "code",
   "execution_count": 91,
   "id": "occasional-relevance",
   "metadata": {},
   "outputs": [],
   "source": [
    "import pandas as pd\n",
    "import numpy as np\n",
    "import matplotlib.pyplot as plt\n",
    "import seaborn as sns\n",
    "\n",
    "from sklearn.ensemble import RandomForestRegressor\n",
    "from sklearn.model_selection import train_test_split\n",
    "from sklearn.metrics import r2_score"
   ]
  },
  {
   "cell_type": "code",
   "execution_count": 2,
   "id": "spare-chapel",
   "metadata": {},
   "outputs": [],
   "source": [
    "from IPython.core.interactiveshell import InteractiveShell\n",
    "InteractiveShell.ast_node_interactivity = \"all\""
   ]
  },
  {
   "cell_type": "code",
   "execution_count": 3,
   "id": "yellow-mainland",
   "metadata": {},
   "outputs": [],
   "source": [
    "# load weather data\n",
    "weather_df = pd.read_csv('data/weather_02.csv').drop(columns=\"Unnamed: 0\")\n",
    "# load flight data for airports for which we have weather data\n",
    "flights_df = pd.read_csv('data/flights_random_50k_cleaned.csv').drop(columns=\"Unnamed: 0\")\n",
    "airports = weather_df.airport.unique()\n",
    "cond = flights_df.origin.isin(airports)\n",
    "flights_df = flights_df[cond]"
   ]
  },
  {
   "cell_type": "code",
   "execution_count": 4,
   "id": "alone-evanescence",
   "metadata": {},
   "outputs": [
    {
     "data": {
      "text/html": [
       "<div>\n",
       "<style scoped>\n",
       "    .dataframe tbody tr th:only-of-type {\n",
       "        vertical-align: middle;\n",
       "    }\n",
       "\n",
       "    .dataframe tbody tr th {\n",
       "        vertical-align: top;\n",
       "    }\n",
       "\n",
       "    .dataframe thead th {\n",
       "        text-align: right;\n",
       "    }\n",
       "</style>\n",
       "<table border=\"1\" class=\"dataframe\">\n",
       "  <thead>\n",
       "    <tr style=\"text-align: right;\">\n",
       "      <th></th>\n",
       "      <th>fl_date</th>\n",
       "      <th>mkt_unique_carrier</th>\n",
       "      <th>branded_code_share</th>\n",
       "      <th>mkt_carrier</th>\n",
       "      <th>mkt_carrier_fl_num</th>\n",
       "      <th>op_unique_carrier</th>\n",
       "      <th>tail_num</th>\n",
       "      <th>op_carrier_fl_num</th>\n",
       "      <th>origin_airport_id</th>\n",
       "      <th>origin</th>\n",
       "      <th>...</th>\n",
       "      <th>crs_elapsed_time</th>\n",
       "      <th>actual_elapsed_time</th>\n",
       "      <th>air_time</th>\n",
       "      <th>flights</th>\n",
       "      <th>distance</th>\n",
       "      <th>carrier_delay</th>\n",
       "      <th>weather_delay</th>\n",
       "      <th>nas_delay</th>\n",
       "      <th>security_delay</th>\n",
       "      <th>late_aircraft_delay</th>\n",
       "    </tr>\n",
       "  </thead>\n",
       "  <tbody>\n",
       "    <tr>\n",
       "      <th>5</th>\n",
       "      <td>2018-11-11</td>\n",
       "      <td>AA</td>\n",
       "      <td>AA</td>\n",
       "      <td>AA</td>\n",
       "      <td>1740</td>\n",
       "      <td>AA</td>\n",
       "      <td>N560UW</td>\n",
       "      <td>1740</td>\n",
       "      <td>11057</td>\n",
       "      <td>CLT</td>\n",
       "      <td>...</td>\n",
       "      <td>307.0</td>\n",
       "      <td>301.0</td>\n",
       "      <td>286.0</td>\n",
       "      <td>1.0</td>\n",
       "      <td>2077.0</td>\n",
       "      <td>0.0</td>\n",
       "      <td>0.0</td>\n",
       "      <td>0.0</td>\n",
       "      <td>0.0</td>\n",
       "      <td>0.0</td>\n",
       "    </tr>\n",
       "    <tr>\n",
       "      <th>6</th>\n",
       "      <td>2019-05-19</td>\n",
       "      <td>DL</td>\n",
       "      <td>DL</td>\n",
       "      <td>DL</td>\n",
       "      <td>724</td>\n",
       "      <td>DL</td>\n",
       "      <td>N590NW</td>\n",
       "      <td>724</td>\n",
       "      <td>10397</td>\n",
       "      <td>ATL</td>\n",
       "      <td>...</td>\n",
       "      <td>285.0</td>\n",
       "      <td>278.0</td>\n",
       "      <td>257.0</td>\n",
       "      <td>1.0</td>\n",
       "      <td>1892.0</td>\n",
       "      <td>0.0</td>\n",
       "      <td>0.0</td>\n",
       "      <td>0.0</td>\n",
       "      <td>0.0</td>\n",
       "      <td>0.0</td>\n",
       "    </tr>\n",
       "    <tr>\n",
       "      <th>8</th>\n",
       "      <td>2018-08-05</td>\n",
       "      <td>DL</td>\n",
       "      <td>DL</td>\n",
       "      <td>DL</td>\n",
       "      <td>2662</td>\n",
       "      <td>DL</td>\n",
       "      <td>N995AT</td>\n",
       "      <td>2662</td>\n",
       "      <td>14492</td>\n",
       "      <td>RDU</td>\n",
       "      <td>...</td>\n",
       "      <td>110.0</td>\n",
       "      <td>99.0</td>\n",
       "      <td>78.0</td>\n",
       "      <td>1.0</td>\n",
       "      <td>501.0</td>\n",
       "      <td>0.0</td>\n",
       "      <td>0.0</td>\n",
       "      <td>0.0</td>\n",
       "      <td>0.0</td>\n",
       "      <td>0.0</td>\n",
       "    </tr>\n",
       "    <tr>\n",
       "      <th>10</th>\n",
       "      <td>2019-05-11</td>\n",
       "      <td>AS</td>\n",
       "      <td>AS</td>\n",
       "      <td>AS</td>\n",
       "      <td>1795</td>\n",
       "      <td>AS</td>\n",
       "      <td>N626VA</td>\n",
       "      <td>1795</td>\n",
       "      <td>12892</td>\n",
       "      <td>LAX</td>\n",
       "      <td>...</td>\n",
       "      <td>155.0</td>\n",
       "      <td>132.0</td>\n",
       "      <td>115.0</td>\n",
       "      <td>1.0</td>\n",
       "      <td>834.0</td>\n",
       "      <td>0.0</td>\n",
       "      <td>0.0</td>\n",
       "      <td>0.0</td>\n",
       "      <td>0.0</td>\n",
       "      <td>0.0</td>\n",
       "    </tr>\n",
       "    <tr>\n",
       "      <th>11</th>\n",
       "      <td>2018-08-06</td>\n",
       "      <td>HA</td>\n",
       "      <td>HA</td>\n",
       "      <td>HA</td>\n",
       "      <td>29</td>\n",
       "      <td>HA</td>\n",
       "      <td>N391HA</td>\n",
       "      <td>29</td>\n",
       "      <td>14747</td>\n",
       "      <td>SEA</td>\n",
       "      <td>...</td>\n",
       "      <td>360.0</td>\n",
       "      <td>411.0</td>\n",
       "      <td>351.0</td>\n",
       "      <td>1.0</td>\n",
       "      <td>2640.0</td>\n",
       "      <td>49.0</td>\n",
       "      <td>0.0</td>\n",
       "      <td>0.0</td>\n",
       "      <td>0.0</td>\n",
       "      <td>0.0</td>\n",
       "    </tr>\n",
       "  </tbody>\n",
       "</table>\n",
       "<p>5 rows × 37 columns</p>\n",
       "</div>"
      ],
      "text/plain": [
       "       fl_date mkt_unique_carrier branded_code_share mkt_carrier  \\\n",
       "5   2018-11-11                 AA                 AA          AA   \n",
       "6   2019-05-19                 DL                 DL          DL   \n",
       "8   2018-08-05                 DL                 DL          DL   \n",
       "10  2019-05-11                 AS                 AS          AS   \n",
       "11  2018-08-06                 HA                 HA          HA   \n",
       "\n",
       "    mkt_carrier_fl_num op_unique_carrier tail_num  op_carrier_fl_num  \\\n",
       "5                 1740                AA   N560UW               1740   \n",
       "6                  724                DL   N590NW                724   \n",
       "8                 2662                DL   N995AT               2662   \n",
       "10                1795                AS   N626VA               1795   \n",
       "11                  29                HA   N391HA                 29   \n",
       "\n",
       "    origin_airport_id origin  ... crs_elapsed_time  actual_elapsed_time  \\\n",
       "5               11057    CLT  ...            307.0                301.0   \n",
       "6               10397    ATL  ...            285.0                278.0   \n",
       "8               14492    RDU  ...            110.0                 99.0   \n",
       "10              12892    LAX  ...            155.0                132.0   \n",
       "11              14747    SEA  ...            360.0                411.0   \n",
       "\n",
       "   air_time flights distance carrier_delay  weather_delay  nas_delay  \\\n",
       "5     286.0     1.0   2077.0           0.0            0.0        0.0   \n",
       "6     257.0     1.0   1892.0           0.0            0.0        0.0   \n",
       "8      78.0     1.0    501.0           0.0            0.0        0.0   \n",
       "10    115.0     1.0    834.0           0.0            0.0        0.0   \n",
       "11    351.0     1.0   2640.0          49.0            0.0        0.0   \n",
       "\n",
       "   security_delay late_aircraft_delay  \n",
       "5             0.0                 0.0  \n",
       "6             0.0                 0.0  \n",
       "8             0.0                 0.0  \n",
       "10            0.0                 0.0  \n",
       "11            0.0                 0.0  \n",
       "\n",
       "[5 rows x 37 columns]"
      ]
     },
     "execution_count": 4,
     "metadata": {},
     "output_type": "execute_result"
    }
   ],
   "source": [
    "flights_df.head()"
   ]
  },
  {
   "cell_type": "code",
   "execution_count": 5,
   "id": "illegal-doubt",
   "metadata": {},
   "outputs": [
    {
     "data": {
      "text/html": [
       "<div>\n",
       "<style scoped>\n",
       "    .dataframe tbody tr th:only-of-type {\n",
       "        vertical-align: middle;\n",
       "    }\n",
       "\n",
       "    .dataframe tbody tr th {\n",
       "        vertical-align: top;\n",
       "    }\n",
       "\n",
       "    .dataframe thead th {\n",
       "        text-align: right;\n",
       "    }\n",
       "</style>\n",
       "<table border=\"1\" class=\"dataframe\">\n",
       "  <thead>\n",
       "    <tr style=\"text-align: right;\">\n",
       "      <th></th>\n",
       "      <th>airport</th>\n",
       "      <th>date</th>\n",
       "      <th>precip</th>\n",
       "      <th>snow</th>\n",
       "      <th>snowdepth</th>\n",
       "      <th>windgust</th>\n",
       "      <th>cloudcover</th>\n",
       "      <th>icon</th>\n",
       "    </tr>\n",
       "  </thead>\n",
       "  <tbody>\n",
       "    <tr>\n",
       "      <th>0</th>\n",
       "      <td>ATL</td>\n",
       "      <td>2018-01-01</td>\n",
       "      <td>0.0</td>\n",
       "      <td>0.0</td>\n",
       "      <td>0.0</td>\n",
       "      <td>40.7</td>\n",
       "      <td>74.3</td>\n",
       "      <td>partly-cloudy-day</td>\n",
       "    </tr>\n",
       "    <tr>\n",
       "      <th>1</th>\n",
       "      <td>ATL</td>\n",
       "      <td>2018-01-02</td>\n",
       "      <td>0.0</td>\n",
       "      <td>0.0</td>\n",
       "      <td>0.0</td>\n",
       "      <td>NaN</td>\n",
       "      <td>29.6</td>\n",
       "      <td>partly-cloudy-day</td>\n",
       "    </tr>\n",
       "    <tr>\n",
       "      <th>2</th>\n",
       "      <td>ATL</td>\n",
       "      <td>2018-01-03</td>\n",
       "      <td>0.0</td>\n",
       "      <td>0.0</td>\n",
       "      <td>0.0</td>\n",
       "      <td>29.5</td>\n",
       "      <td>67.1</td>\n",
       "      <td>partly-cloudy-day</td>\n",
       "    </tr>\n",
       "    <tr>\n",
       "      <th>3</th>\n",
       "      <td>ATL</td>\n",
       "      <td>2018-01-04</td>\n",
       "      <td>0.0</td>\n",
       "      <td>0.0</td>\n",
       "      <td>0.0</td>\n",
       "      <td>51.8</td>\n",
       "      <td>6.9</td>\n",
       "      <td>wind</td>\n",
       "    </tr>\n",
       "    <tr>\n",
       "      <th>4</th>\n",
       "      <td>ATL</td>\n",
       "      <td>2018-01-05</td>\n",
       "      <td>0.0</td>\n",
       "      <td>0.0</td>\n",
       "      <td>0.0</td>\n",
       "      <td>37.1</td>\n",
       "      <td>28.0</td>\n",
       "      <td>partly-cloudy-day</td>\n",
       "    </tr>\n",
       "  </tbody>\n",
       "</table>\n",
       "</div>"
      ],
      "text/plain": [
       "  airport        date  precip  snow  snowdepth  windgust  cloudcover  \\\n",
       "0     ATL  2018-01-01     0.0   0.0        0.0      40.7        74.3   \n",
       "1     ATL  2018-01-02     0.0   0.0        0.0       NaN        29.6   \n",
       "2     ATL  2018-01-03     0.0   0.0        0.0      29.5        67.1   \n",
       "3     ATL  2018-01-04     0.0   0.0        0.0      51.8         6.9   \n",
       "4     ATL  2018-01-05     0.0   0.0        0.0      37.1        28.0   \n",
       "\n",
       "                icon  \n",
       "0  partly-cloudy-day  \n",
       "1  partly-cloudy-day  \n",
       "2  partly-cloudy-day  \n",
       "3               wind  \n",
       "4  partly-cloudy-day  "
      ]
     },
     "execution_count": 5,
     "metadata": {},
     "output_type": "execute_result"
    }
   ],
   "source": [
    "weather_df.head()"
   ]
  },
  {
   "cell_type": "code",
   "execution_count": 6,
   "id": "necessary-piece",
   "metadata": {},
   "outputs": [
    {
     "name": "stdout",
     "output_type": "stream",
     "text": [
      "snow\n"
     ]
    }
   ],
   "source": [
    "row = flights_df.iloc[int(np.random.rand() * len(flights_df))]\n",
    "\n",
    "apt = row.dest\n",
    "date = row.fl_date\n",
    "\n",
    "c1, c2 = weather_df.airport == apt, weather_df.date == date\n",
    "w = weather_df[c1 & c2]\n",
    "if len(w) == 1:\n",
    "    print(w.iloc[0].icon)\n",
    "else:\n",
    "    print(f\"Ambiguous: {len(w)} results\")\n",
    "# if len(w) == 1:\n",
    "#     print(w.iloc[0].weather)"
   ]
  },
  {
   "cell_type": "code",
   "execution_count": 7,
   "id": "funny-guess",
   "metadata": {},
   "outputs": [],
   "source": [
    "# add origin and destination weather columns\n",
    "\n",
    "def origin_weather(row):\n",
    "    apt = row.origin\n",
    "    date = row.fl_date\n",
    "\n",
    "    c1, c2 = weather_df.airport == apt, weather_df.date == date\n",
    "    w = weather_df[c1 & c2]\n",
    "    if len(w) == 1:\n",
    "        return w.iloc[0].icon\n",
    "    else:\n",
    "        return \"unavailable\"\n",
    "\n",
    "def dest_weather(row):\n",
    "    apt = row.dest\n",
    "    date = row.fl_date\n",
    "\n",
    "    c1, c2 = weather_df.airport == apt, weather_df.date == date\n",
    "    w = weather_df[c1 & c2]\n",
    "    if len(w) == 1:\n",
    "        return w.iloc[0].icon\n",
    "    else:\n",
    "        return \"unavailable\"\n",
    "\n",
    "    \n",
    "flights_df['origin_weather'] = flights_df.apply(origin_weather, 1)\n",
    "flights_df['dest_weather'] = flights_df.apply(dest_weather, 1)"
   ]
  },
  {
   "cell_type": "code",
   "execution_count": 8,
   "id": "latin-senator",
   "metadata": {},
   "outputs": [
    {
     "data": {
      "text/plain": [
       "partly-cloudy-day    4492\n",
       "rain                 4318\n",
       "wind                 1258\n",
       "clear-day            1142\n",
       "cloudy               1036\n",
       "unavailable           560\n",
       "snow                  366\n",
       "Name: origin_weather, dtype: int64"
      ]
     },
     "execution_count": 8,
     "metadata": {},
     "output_type": "execute_result"
    }
   ],
   "source": [
    "flights_df.origin_weather.value_counts()"
   ]
  },
  {
   "cell_type": "code",
   "execution_count": 9,
   "id": "animal-cheat",
   "metadata": {},
   "outputs": [
    {
     "data": {
      "text/plain": [
       "unavailable          11237\n",
       "partly-cloudy-day      721\n",
       "rain                   603\n",
       "wind                   200\n",
       "clear-day              188\n",
       "cloudy                 169\n",
       "snow                    54\n",
       "Name: dest_weather, dtype: int64"
      ]
     },
     "execution_count": 9,
     "metadata": {},
     "output_type": "execute_result"
    }
   ],
   "source": [
    "flights_df.dest_weather.value_counts()"
   ]
  },
  {
   "cell_type": "code",
   "execution_count": 10,
   "id": "tropical-daniel",
   "metadata": {},
   "outputs": [],
   "source": [
    "# drop null origin_weather rows\n",
    "cond = flights_df.origin_weather != \"unavailable\"\n",
    "flights_df = flights_df[cond]"
   ]
  },
  {
   "cell_type": "code",
   "execution_count": 11,
   "id": "comprehensive-college",
   "metadata": {},
   "outputs": [
    {
     "data": {
      "text/html": [
       "<div>\n",
       "<style scoped>\n",
       "    .dataframe tbody tr th:only-of-type {\n",
       "        vertical-align: middle;\n",
       "    }\n",
       "\n",
       "    .dataframe tbody tr th {\n",
       "        vertical-align: top;\n",
       "    }\n",
       "\n",
       "    .dataframe thead th {\n",
       "        text-align: right;\n",
       "    }\n",
       "</style>\n",
       "<table border=\"1\" class=\"dataframe\">\n",
       "  <thead>\n",
       "    <tr style=\"text-align: right;\">\n",
       "      <th></th>\n",
       "      <th>fl_date</th>\n",
       "      <th>mkt_unique_carrier</th>\n",
       "      <th>branded_code_share</th>\n",
       "      <th>mkt_carrier</th>\n",
       "      <th>mkt_carrier_fl_num</th>\n",
       "      <th>op_unique_carrier</th>\n",
       "      <th>tail_num</th>\n",
       "      <th>op_carrier_fl_num</th>\n",
       "      <th>origin_airport_id</th>\n",
       "      <th>origin</th>\n",
       "      <th>...</th>\n",
       "      <th>air_time</th>\n",
       "      <th>flights</th>\n",
       "      <th>distance</th>\n",
       "      <th>carrier_delay</th>\n",
       "      <th>weather_delay</th>\n",
       "      <th>nas_delay</th>\n",
       "      <th>security_delay</th>\n",
       "      <th>late_aircraft_delay</th>\n",
       "      <th>origin_weather</th>\n",
       "      <th>dest_weather</th>\n",
       "    </tr>\n",
       "  </thead>\n",
       "  <tbody>\n",
       "    <tr>\n",
       "      <th>5</th>\n",
       "      <td>2018-11-11</td>\n",
       "      <td>AA</td>\n",
       "      <td>AA</td>\n",
       "      <td>AA</td>\n",
       "      <td>1740</td>\n",
       "      <td>AA</td>\n",
       "      <td>N560UW</td>\n",
       "      <td>1740</td>\n",
       "      <td>11057</td>\n",
       "      <td>CLT</td>\n",
       "      <td>...</td>\n",
       "      <td>286.0</td>\n",
       "      <td>1.0</td>\n",
       "      <td>2077.0</td>\n",
       "      <td>0.0</td>\n",
       "      <td>0.0</td>\n",
       "      <td>0.0</td>\n",
       "      <td>0.0</td>\n",
       "      <td>0.0</td>\n",
       "      <td>partly-cloudy-day</td>\n",
       "      <td>unavailable</td>\n",
       "    </tr>\n",
       "    <tr>\n",
       "      <th>6</th>\n",
       "      <td>2019-05-19</td>\n",
       "      <td>DL</td>\n",
       "      <td>DL</td>\n",
       "      <td>DL</td>\n",
       "      <td>724</td>\n",
       "      <td>DL</td>\n",
       "      <td>N590NW</td>\n",
       "      <td>724</td>\n",
       "      <td>10397</td>\n",
       "      <td>ATL</td>\n",
       "      <td>...</td>\n",
       "      <td>257.0</td>\n",
       "      <td>1.0</td>\n",
       "      <td>1892.0</td>\n",
       "      <td>0.0</td>\n",
       "      <td>0.0</td>\n",
       "      <td>0.0</td>\n",
       "      <td>0.0</td>\n",
       "      <td>0.0</td>\n",
       "      <td>partly-cloudy-day</td>\n",
       "      <td>unavailable</td>\n",
       "    </tr>\n",
       "    <tr>\n",
       "      <th>8</th>\n",
       "      <td>2018-08-05</td>\n",
       "      <td>DL</td>\n",
       "      <td>DL</td>\n",
       "      <td>DL</td>\n",
       "      <td>2662</td>\n",
       "      <td>DL</td>\n",
       "      <td>N995AT</td>\n",
       "      <td>2662</td>\n",
       "      <td>14492</td>\n",
       "      <td>RDU</td>\n",
       "      <td>...</td>\n",
       "      <td>78.0</td>\n",
       "      <td>1.0</td>\n",
       "      <td>501.0</td>\n",
       "      <td>0.0</td>\n",
       "      <td>0.0</td>\n",
       "      <td>0.0</td>\n",
       "      <td>0.0</td>\n",
       "      <td>0.0</td>\n",
       "      <td>rain</td>\n",
       "      <td>unavailable</td>\n",
       "    </tr>\n",
       "    <tr>\n",
       "      <th>10</th>\n",
       "      <td>2019-05-11</td>\n",
       "      <td>AS</td>\n",
       "      <td>AS</td>\n",
       "      <td>AS</td>\n",
       "      <td>1795</td>\n",
       "      <td>AS</td>\n",
       "      <td>N626VA</td>\n",
       "      <td>1795</td>\n",
       "      <td>12892</td>\n",
       "      <td>LAX</td>\n",
       "      <td>...</td>\n",
       "      <td>115.0</td>\n",
       "      <td>1.0</td>\n",
       "      <td>834.0</td>\n",
       "      <td>0.0</td>\n",
       "      <td>0.0</td>\n",
       "      <td>0.0</td>\n",
       "      <td>0.0</td>\n",
       "      <td>0.0</td>\n",
       "      <td>rain</td>\n",
       "      <td>unavailable</td>\n",
       "    </tr>\n",
       "    <tr>\n",
       "      <th>11</th>\n",
       "      <td>2018-08-06</td>\n",
       "      <td>HA</td>\n",
       "      <td>HA</td>\n",
       "      <td>HA</td>\n",
       "      <td>29</td>\n",
       "      <td>HA</td>\n",
       "      <td>N391HA</td>\n",
       "      <td>29</td>\n",
       "      <td>14747</td>\n",
       "      <td>SEA</td>\n",
       "      <td>...</td>\n",
       "      <td>351.0</td>\n",
       "      <td>1.0</td>\n",
       "      <td>2640.0</td>\n",
       "      <td>49.0</td>\n",
       "      <td>0.0</td>\n",
       "      <td>0.0</td>\n",
       "      <td>0.0</td>\n",
       "      <td>0.0</td>\n",
       "      <td>partly-cloudy-day</td>\n",
       "      <td>unavailable</td>\n",
       "    </tr>\n",
       "  </tbody>\n",
       "</table>\n",
       "<p>5 rows × 39 columns</p>\n",
       "</div>"
      ],
      "text/plain": [
       "       fl_date mkt_unique_carrier branded_code_share mkt_carrier  \\\n",
       "5   2018-11-11                 AA                 AA          AA   \n",
       "6   2019-05-19                 DL                 DL          DL   \n",
       "8   2018-08-05                 DL                 DL          DL   \n",
       "10  2019-05-11                 AS                 AS          AS   \n",
       "11  2018-08-06                 HA                 HA          HA   \n",
       "\n",
       "    mkt_carrier_fl_num op_unique_carrier tail_num  op_carrier_fl_num  \\\n",
       "5                 1740                AA   N560UW               1740   \n",
       "6                  724                DL   N590NW                724   \n",
       "8                 2662                DL   N995AT               2662   \n",
       "10                1795                AS   N626VA               1795   \n",
       "11                  29                HA   N391HA                 29   \n",
       "\n",
       "    origin_airport_id origin  ... air_time  flights distance carrier_delay  \\\n",
       "5               11057    CLT  ...    286.0      1.0   2077.0           0.0   \n",
       "6               10397    ATL  ...    257.0      1.0   1892.0           0.0   \n",
       "8               14492    RDU  ...     78.0      1.0    501.0           0.0   \n",
       "10              12892    LAX  ...    115.0      1.0    834.0           0.0   \n",
       "11              14747    SEA  ...    351.0      1.0   2640.0          49.0   \n",
       "\n",
       "   weather_delay nas_delay  security_delay  late_aircraft_delay  \\\n",
       "5            0.0       0.0             0.0                  0.0   \n",
       "6            0.0       0.0             0.0                  0.0   \n",
       "8            0.0       0.0             0.0                  0.0   \n",
       "10           0.0       0.0             0.0                  0.0   \n",
       "11           0.0       0.0             0.0                  0.0   \n",
       "\n",
       "       origin_weather dest_weather  \n",
       "5   partly-cloudy-day  unavailable  \n",
       "6   partly-cloudy-day  unavailable  \n",
       "8                rain  unavailable  \n",
       "10               rain  unavailable  \n",
       "11  partly-cloudy-day  unavailable  \n",
       "\n",
       "[5 rows x 39 columns]"
      ]
     },
     "execution_count": 11,
     "metadata": {},
     "output_type": "execute_result"
    }
   ],
   "source": [
    "flights_df.head()"
   ]
  },
  {
   "cell_type": "code",
   "execution_count": 12,
   "id": "green-hours",
   "metadata": {},
   "outputs": [
    {
     "data": {
      "text/plain": [
       "Index(['fl_date', 'mkt_unique_carrier', 'branded_code_share', 'mkt_carrier',\n",
       "       'mkt_carrier_fl_num', 'op_unique_carrier', 'tail_num',\n",
       "       'op_carrier_fl_num', 'origin_airport_id', 'origin', 'origin_city_name',\n",
       "       'dest_airport_id', 'dest', 'dest_city_name', 'crs_dep_time', 'dep_time',\n",
       "       'dep_delay', 'taxi_out', 'wheels_off', 'wheels_on', 'taxi_in',\n",
       "       'crs_arr_time', 'arr_time', 'arr_delay', 'cancelled', 'diverted', 'dup',\n",
       "       'crs_elapsed_time', 'actual_elapsed_time', 'air_time', 'flights',\n",
       "       'distance', 'carrier_delay', 'weather_delay', 'nas_delay',\n",
       "       'security_delay', 'late_aircraft_delay', 'origin_weather',\n",
       "       'dest_weather'],\n",
       "      dtype='object')"
      ]
     },
     "execution_count": 12,
     "metadata": {},
     "output_type": "execute_result"
    }
   ],
   "source": [
    "flights_df.columns"
   ]
  },
  {
   "cell_type": "code",
   "execution_count": 13,
   "id": "roman-theorem",
   "metadata": {},
   "outputs": [],
   "source": [
    "# copy only relevant features\n",
    "flights_df = flights_df[['fl_date', 'origin', 'dep_delay', 'arr_delay', 'diverted',\n",
    "       'carrier_delay', 'weather_delay', 'nas_delay',\n",
    "       'security_delay', 'late_aircraft_delay', 'origin_weather', ]].copy()"
   ]
  },
  {
   "cell_type": "code",
   "execution_count": 14,
   "id": "joint-platinum",
   "metadata": {},
   "outputs": [
    {
     "data": {
      "text/plain": [
       "<matplotlib.axes._subplots.AxesSubplot at 0x7ff8efdadcc0>"
      ]
     },
     "execution_count": 14,
     "metadata": {},
     "output_type": "execute_result"
    },
    {
     "data": {
      "image/png": "[encoded data removed]",
      "text/plain": [
       "<Figure size 432x288 with 1 Axes>"
      ]
     },
     "metadata": {
      "needs_background": "light"
     },
     "output_type": "display_data"
    }
   ],
   "source": [
    "# see distribution for delays\n",
    "sns.boxplot(x=flights_df.arr_delay)"
   ]
  },
  {
   "cell_type": "code",
   "execution_count": 15,
   "id": "prepared-thing",
   "metadata": {},
   "outputs": [],
   "source": [
    "# function \"borrowed\" from Robyn\n",
    "def rem_outliers(df, col):\n",
    "    ''' Remove outliers which fall outside of 3 standard deviations above and below the mean of the data set\n",
    "            Input\n",
    "                (0) dataframe containing the data\n",
    "                (1) column to remove outliers from\n",
    "            Output\n",
    "                rows of df which are classified as outliers in the specified column are directly removed\n",
    "                print out stating count of outliers removed '''\n",
    "    mean, cutoff = np.mean(df[col]), np.std(df[col]) * 3   # 3 stddev outside the mean\n",
    "    lower, upper = mean - cutoff, mean + cutoff\n",
    "    outliers = [x for x in df[col] if x < lower or x > upper]\n",
    "    df.drop(df[(df[col] > upper) | (df[col] < lower)].index, inplace=True)\n",
    "    return f'{len(outliers)} outliers removed'"
   ]
  },
  {
   "cell_type": "code",
   "execution_count": 16,
   "id": "floppy-knife",
   "metadata": {},
   "outputs": [
    {
     "data": {
      "text/plain": [
       "'225 outliers removed'"
      ]
     },
     "execution_count": 16,
     "metadata": {},
     "output_type": "execute_result"
    }
   ],
   "source": [
    "rem_outliers(flights_df, 'arr_delay')"
   ]
  },
  {
   "cell_type": "code",
   "execution_count": 17,
   "id": "official-arena",
   "metadata": {},
   "outputs": [
    {
     "data": {
      "text/plain": [
       "Text(0.5, 0, 'Arrival delay')"
      ]
     },
     "execution_count": 17,
     "metadata": {},
     "output_type": "execute_result"
    },
    {
     "data": {
      "image/png": "[encoded data removed]",
      "text/plain": [
       "<Figure size 432x288 with 1 Axes>"
      ]
     },
     "metadata": {
      "needs_background": "light"
     },
     "output_type": "display_data"
    }
   ],
   "source": [
    "# see distribution for delays again\n",
    "ax = sns.histplot(x=flights_df.arr_delay)\n",
    "ax.set_xlabel(\"Arrival delay\")"
   ]
  },
  {
   "cell_type": "code",
   "execution_count": 18,
   "id": "surface-corps",
   "metadata": {},
   "outputs": [
    {
     "data": {
      "text/plain": [
       "Text(0, 0.5, 'Arrival delay')"
      ]
     },
     "execution_count": 18,
     "metadata": {},
     "output_type": "execute_result"
    },
    {
     "data": {
      "image/png": "[encoded data removed]",
      "text/plain": [
       "<Figure size 432x288 with 1 Axes>"
      ]
     },
     "metadata": {
      "needs_background": "light"
     },
     "output_type": "display_data"
    }
   ],
   "source": [
    "x = flights_df.origin_weather.to_numpy()\n",
    "y = flights_df.arr_delay.to_numpy()\n",
    "\n",
    "ax = sns.violinplot(x=x, y=y, split=True, inner=\"quart\", linewidth=1)\n",
    "ax.set_ylabel(\"Arrival delay\")"
   ]
  },
  {
   "cell_type": "markdown",
   "id": "fitting-tamil",
   "metadata": {},
   "source": [
    "Based on raw correlation, weather doesn't significantly affect the arrival delay. However, snow seems to have a significant effect on the variance. I'll dig a little deeper."
   ]
  },
  {
   "cell_type": "code",
   "execution_count": 19,
   "id": "registered-richardson",
   "metadata": {},
   "outputs": [],
   "source": [
    "weather_dummies = pd.get_dummies(flights_df.origin_weather, prefix='or_weather')"
   ]
  },
  {
   "cell_type": "code",
   "execution_count": 20,
   "id": "detected-texture",
   "metadata": {},
   "outputs": [],
   "source": [
    "flights_df = pd.concat([flights_df, weather_dummies], axis=1)"
   ]
  },
  {
   "cell_type": "code",
   "execution_count": 21,
   "id": "middle-packet",
   "metadata": {},
   "outputs": [
    {
     "data": {
      "text/plain": [
       "<matplotlib.axes._subplots.AxesSubplot at 0x7ff8efcc8400>"
      ]
     },
     "execution_count": 21,
     "metadata": {},
     "output_type": "execute_result"
    },
    {
     "data": {
      "image/png": "[encoded data removed]",
      "text/plain": [
       "<Figure size 432x288 with 2 Axes>"
      ]
     },
     "metadata": {
      "needs_background": "light"
     },
     "output_type": "display_data"
    }
   ],
   "source": [
    "df_num = flights_df[['dep_delay', 'arr_delay', 'carrier_delay', 'weather_delay', 'nas_delay', 'security_delay',\n",
    "       'late_aircraft_delay', 'or_weather_clear-day', 'or_weather_cloudy', 'or_weather_partly-cloudy-day', 'or_weather_rain',\n",
    "       'or_weather_snow', 'or_weather_wind']]\n",
    "\n",
    "sns.heatmap(df_num.corr())"
   ]
  },
  {
   "cell_type": "markdown",
   "id": "accompanied-twenty",
   "metadata": {},
   "source": [
    "## Narrow in on \"extreme weather\" "
   ]
  },
  {
   "cell_type": "code",
   "execution_count": 105,
   "id": "favorite-motion",
   "metadata": {},
   "outputs": [
    {
     "name": "stderr",
     "output_type": "stream",
     "text": [
      "/home/omlean/anaconda3/envs/lighthouse/lib/python3.6/site-packages/IPython/core/interactiveshell.py:3072: DtypeWarning: Columns (26) have mixed types.Specify dtype option on import or set low_memory=False.\n",
      "  interactivity=interactivity, compiler=compiler, result=result)\n"
     ]
    }
   ],
   "source": [
    "df_weather = pd.read_csv('data/weather_03.csv').drop(columns=\"Unnamed: 0\")\n",
    "df_flights = pd.read_csv('data/flights_for_weather.csv').drop(columns='Unnamed: 0')"
   ]
  },
  {
   "cell_type": "code",
   "execution_count": 106,
   "id": "boring-polymer",
   "metadata": {},
   "outputs": [],
   "source": [
    "df_weather['windgust'] = df_weather['windgust'].fillna(value=0)"
   ]
  },
  {
   "cell_type": "code",
   "execution_count": 107,
   "id": "painted-federal",
   "metadata": {},
   "outputs": [
    {
     "data": {
      "text/plain": [
       "'69979 outliers removed'"
      ]
     },
     "execution_count": 107,
     "metadata": {},
     "output_type": "execute_result"
    }
   ],
   "source": [
    "rem_outliers(df_flights, 'arr_delay')"
   ]
  },
  {
   "cell_type": "code",
   "execution_count": 108,
   "id": "dominican-comfort",
   "metadata": {},
   "outputs": [],
   "source": [
    "cols = ['fl_date', 'origin_airport_id', 'origin', 'dest_airport_id', 'dest',\n",
    "        'crs_dep_time', 'dep_time', 'dep_delay', 'arr_delay', 'cancelled',\n",
    "        'cancellation_code', 'diverted', 'carrier_delay', 'weather_delay', \n",
    "        'nas_delay', 'security_delay', 'late_aircraft_delay']\n",
    "df_flights = df_flights[cols]\n",
    "for col in ['cancellation_code', 'carrier_delay', 'weather_delay', 'nas_delay', 'security_delay', 'late_aircraft_delay']:\n",
    "    df_flights[col] = df_flights[col].fillna(value=0)\n",
    "\n",
    "\n",
    "# make groupby\n",
    "median_delays = df_flights.groupby(['origin', 'fl_date']).median().arr_delay"
   ]
  },
  {
   "cell_type": "markdown",
   "id": "large-jersey",
   "metadata": {},
   "source": [
    "find quantiles that give the best prediction of delays"
   ]
  },
  {
   "cell_type": "code",
   "execution_count": 109,
   "id": "superb-berkeley",
   "metadata": {},
   "outputs": [],
   "source": [
    "def median_delay(row):\n",
    "    apt = row.airport\n",
    "    date = row.date\n",
    "    try:\n",
    "        return median_delays[apt, date]\n",
    "    except KeyError:\n",
    "        return np.nan\n",
    "\n",
    "df_weather['median_out_delay'] = df_weather.apply(median_delay, axis=1)\n",
    "# mean_out_delay is the mean ultimate (arrival) delay of outgoing flights from that airport on that day"
   ]
  },
  {
   "cell_type": "code",
   "execution_count": 110,
   "id": "necessary-neighborhood",
   "metadata": {},
   "outputs": [
    {
     "data": {
      "text/html": [
       "<div>\n",
       "<style scoped>\n",
       "    .dataframe tbody tr th:only-of-type {\n",
       "        vertical-align: middle;\n",
       "    }\n",
       "\n",
       "    .dataframe tbody tr th {\n",
       "        vertical-align: top;\n",
       "    }\n",
       "\n",
       "    .dataframe thead th {\n",
       "        text-align: right;\n",
       "    }\n",
       "</style>\n",
       "<table border=\"1\" class=\"dataframe\">\n",
       "  <thead>\n",
       "    <tr style=\"text-align: right;\">\n",
       "      <th></th>\n",
       "      <th>airport</th>\n",
       "      <th>date</th>\n",
       "      <th>precip</th>\n",
       "      <th>snow</th>\n",
       "      <th>snowdepth</th>\n",
       "      <th>windgust</th>\n",
       "      <th>cloudcover</th>\n",
       "      <th>icon</th>\n",
       "      <th>median_out_delay</th>\n",
       "    </tr>\n",
       "  </thead>\n",
       "  <tbody>\n",
       "    <tr>\n",
       "      <th>0</th>\n",
       "      <td>ATL</td>\n",
       "      <td>2018-01-01</td>\n",
       "      <td>0.0</td>\n",
       "      <td>0.0</td>\n",
       "      <td>0.0</td>\n",
       "      <td>40.7</td>\n",
       "      <td>74.3</td>\n",
       "      <td>partly-cloudy-day</td>\n",
       "      <td>-3.0</td>\n",
       "    </tr>\n",
       "    <tr>\n",
       "      <th>1</th>\n",
       "      <td>ATL</td>\n",
       "      <td>2018-01-02</td>\n",
       "      <td>0.0</td>\n",
       "      <td>0.0</td>\n",
       "      <td>0.0</td>\n",
       "      <td>0.0</td>\n",
       "      <td>29.6</td>\n",
       "      <td>partly-cloudy-day</td>\n",
       "      <td>-4.0</td>\n",
       "    </tr>\n",
       "    <tr>\n",
       "      <th>2</th>\n",
       "      <td>ATL</td>\n",
       "      <td>2018-01-03</td>\n",
       "      <td>0.0</td>\n",
       "      <td>0.0</td>\n",
       "      <td>0.0</td>\n",
       "      <td>29.5</td>\n",
       "      <td>67.1</td>\n",
       "      <td>partly-cloudy-day</td>\n",
       "      <td>-6.0</td>\n",
       "    </tr>\n",
       "    <tr>\n",
       "      <th>3</th>\n",
       "      <td>ATL</td>\n",
       "      <td>2018-01-04</td>\n",
       "      <td>0.0</td>\n",
       "      <td>0.0</td>\n",
       "      <td>0.0</td>\n",
       "      <td>51.8</td>\n",
       "      <td>6.9</td>\n",
       "      <td>wind</td>\n",
       "      <td>-7.0</td>\n",
       "    </tr>\n",
       "    <tr>\n",
       "      <th>4</th>\n",
       "      <td>ATL</td>\n",
       "      <td>2018-01-05</td>\n",
       "      <td>0.0</td>\n",
       "      <td>0.0</td>\n",
       "      <td>0.0</td>\n",
       "      <td>37.1</td>\n",
       "      <td>28.0</td>\n",
       "      <td>partly-cloudy-day</td>\n",
       "      <td>-6.0</td>\n",
       "    </tr>\n",
       "  </tbody>\n",
       "</table>\n",
       "</div>"
      ],
      "text/plain": [
       "  airport        date  precip  snow  snowdepth  windgust  cloudcover  \\\n",
       "0     ATL  2018-01-01     0.0   0.0        0.0      40.7        74.3   \n",
       "1     ATL  2018-01-02     0.0   0.0        0.0       0.0        29.6   \n",
       "2     ATL  2018-01-03     0.0   0.0        0.0      29.5        67.1   \n",
       "3     ATL  2018-01-04     0.0   0.0        0.0      51.8         6.9   \n",
       "4     ATL  2018-01-05     0.0   0.0        0.0      37.1        28.0   \n",
       "\n",
       "                icon  median_out_delay  \n",
       "0  partly-cloudy-day              -3.0  \n",
       "1  partly-cloudy-day              -4.0  \n",
       "2  partly-cloudy-day              -6.0  \n",
       "3               wind              -7.0  \n",
       "4  partly-cloudy-day              -6.0  "
      ]
     },
     "execution_count": 110,
     "metadata": {},
     "output_type": "execute_result"
    }
   ],
   "source": [
    "df_weather.head()"
   ]
  },
  {
   "cell_type": "code",
   "execution_count": 111,
   "id": "exciting-whole",
   "metadata": {},
   "outputs": [
    {
     "data": {
      "text/plain": [
       "(array([3.100e+01, 2.090e+02, 8.130e+02, 2.851e+03, 1.581e+03, 3.630e+02,\n",
       "        1.670e+02, 6.200e+01, 3.400e+01, 3.500e+01, 1.400e+01, 1.000e+01,\n",
       "        1.000e+01, 5.000e+00, 6.000e+00, 1.000e+00, 2.000e+00, 2.000e+00,\n",
       "        1.000e+00, 1.000e+00]),\n",
       " array([-27.5  , -21.675, -15.85 , -10.025,  -4.2  ,   1.625,   7.45 ,\n",
       "         13.275,  19.1  ,  24.925,  30.75 ,  36.575,  42.4  ,  48.225,\n",
       "         54.05 ,  59.875,  65.7  ,  71.525,  77.35 ,  83.175,  89.   ]),\n",
       " <a list of 20 Patch objects>)"
      ]
     },
     "execution_count": 111,
     "metadata": {},
     "output_type": "execute_result"
    },
    {
     "data": {
      "image/png": "[encoded data removed]",
      "text/plain": [
       "<Figure size 432x288 with 1 Axes>"
      ]
     },
     "metadata": {
      "needs_background": "light"
     },
     "output_type": "display_data"
    }
   ],
   "source": [
    "plt.hist(df_weather.median_out_delay, bins=20)"
   ]
  },
  {
   "cell_type": "code",
   "execution_count": 112,
   "id": "strong-shell",
   "metadata": {},
   "outputs": [],
   "source": [
    "def percentile(series, perc=5):\n",
    "    div = 100/perc\n",
    "    return series.sort_values(ascending=False).reset_index(drop=True)[int(len(series)/div)]\n",
    "\n",
    "def is_extreme(series, perc=5):\n",
    "    return (series >= percentile(series, perc=perc)).astype(int)\n",
    "\n",
    "df_weather['extreme_precip'] = is_extreme(df_weather.precip)\n",
    "df_weather['extreme_snow'] = is_extreme(df_weather.snow, 0.1)\n",
    "df_weather['extreme_windgust'] = is_extreme(df_weather.windgust, 5)\n",
    "df_weather['extreme_cloudcover'] = is_extreme(df_weather.cloudcover, 5)"
   ]
  },
  {
   "cell_type": "code",
   "execution_count": 113,
   "id": "thrown-volleyball",
   "metadata": {},
   "outputs": [
    {
     "data": {
      "text/html": [
       "<div>\n",
       "<style scoped>\n",
       "    .dataframe tbody tr th:only-of-type {\n",
       "        vertical-align: middle;\n",
       "    }\n",
       "\n",
       "    .dataframe tbody tr th {\n",
       "        vertical-align: top;\n",
       "    }\n",
       "\n",
       "    .dataframe thead th {\n",
       "        text-align: right;\n",
       "    }\n",
       "</style>\n",
       "<table border=\"1\" class=\"dataframe\">\n",
       "  <thead>\n",
       "    <tr style=\"text-align: right;\">\n",
       "      <th></th>\n",
       "      <th>airport</th>\n",
       "      <th>date</th>\n",
       "      <th>precip</th>\n",
       "      <th>snow</th>\n",
       "      <th>snowdepth</th>\n",
       "      <th>windgust</th>\n",
       "      <th>cloudcover</th>\n",
       "      <th>icon</th>\n",
       "      <th>median_out_delay</th>\n",
       "      <th>extreme_precip</th>\n",
       "      <th>extreme_snow</th>\n",
       "      <th>extreme_windgust</th>\n",
       "      <th>extreme_cloudcover</th>\n",
       "    </tr>\n",
       "  </thead>\n",
       "  <tbody>\n",
       "    <tr>\n",
       "      <th>0</th>\n",
       "      <td>ATL</td>\n",
       "      <td>2018-01-01</td>\n",
       "      <td>0.0</td>\n",
       "      <td>0.0</td>\n",
       "      <td>0.0</td>\n",
       "      <td>40.7</td>\n",
       "      <td>74.3</td>\n",
       "      <td>partly-cloudy-day</td>\n",
       "      <td>-3.0</td>\n",
       "      <td>0</td>\n",
       "      <td>0</td>\n",
       "      <td>0</td>\n",
       "      <td>0</td>\n",
       "    </tr>\n",
       "    <tr>\n",
       "      <th>1</th>\n",
       "      <td>ATL</td>\n",
       "      <td>2018-01-02</td>\n",
       "      <td>0.0</td>\n",
       "      <td>0.0</td>\n",
       "      <td>0.0</td>\n",
       "      <td>0.0</td>\n",
       "      <td>29.6</td>\n",
       "      <td>partly-cloudy-day</td>\n",
       "      <td>-4.0</td>\n",
       "      <td>0</td>\n",
       "      <td>0</td>\n",
       "      <td>0</td>\n",
       "      <td>0</td>\n",
       "    </tr>\n",
       "    <tr>\n",
       "      <th>2</th>\n",
       "      <td>ATL</td>\n",
       "      <td>2018-01-03</td>\n",
       "      <td>0.0</td>\n",
       "      <td>0.0</td>\n",
       "      <td>0.0</td>\n",
       "      <td>29.5</td>\n",
       "      <td>67.1</td>\n",
       "      <td>partly-cloudy-day</td>\n",
       "      <td>-6.0</td>\n",
       "      <td>0</td>\n",
       "      <td>0</td>\n",
       "      <td>0</td>\n",
       "      <td>0</td>\n",
       "    </tr>\n",
       "    <tr>\n",
       "      <th>3</th>\n",
       "      <td>ATL</td>\n",
       "      <td>2018-01-04</td>\n",
       "      <td>0.0</td>\n",
       "      <td>0.0</td>\n",
       "      <td>0.0</td>\n",
       "      <td>51.8</td>\n",
       "      <td>6.9</td>\n",
       "      <td>wind</td>\n",
       "      <td>-7.0</td>\n",
       "      <td>0</td>\n",
       "      <td>0</td>\n",
       "      <td>0</td>\n",
       "      <td>0</td>\n",
       "    </tr>\n",
       "    <tr>\n",
       "      <th>4</th>\n",
       "      <td>ATL</td>\n",
       "      <td>2018-01-05</td>\n",
       "      <td>0.0</td>\n",
       "      <td>0.0</td>\n",
       "      <td>0.0</td>\n",
       "      <td>37.1</td>\n",
       "      <td>28.0</td>\n",
       "      <td>partly-cloudy-day</td>\n",
       "      <td>-6.0</td>\n",
       "      <td>0</td>\n",
       "      <td>0</td>\n",
       "      <td>0</td>\n",
       "      <td>0</td>\n",
       "    </tr>\n",
       "  </tbody>\n",
       "</table>\n",
       "</div>"
      ],
      "text/plain": [
       "  airport        date  precip  snow  snowdepth  windgust  cloudcover  \\\n",
       "0     ATL  2018-01-01     0.0   0.0        0.0      40.7        74.3   \n",
       "1     ATL  2018-01-02     0.0   0.0        0.0       0.0        29.6   \n",
       "2     ATL  2018-01-03     0.0   0.0        0.0      29.5        67.1   \n",
       "3     ATL  2018-01-04     0.0   0.0        0.0      51.8         6.9   \n",
       "4     ATL  2018-01-05     0.0   0.0        0.0      37.1        28.0   \n",
       "\n",
       "                icon  median_out_delay  extreme_precip  extreme_snow  \\\n",
       "0  partly-cloudy-day              -3.0               0             0   \n",
       "1  partly-cloudy-day              -4.0               0             0   \n",
       "2  partly-cloudy-day              -6.0               0             0   \n",
       "3               wind              -7.0               0             0   \n",
       "4  partly-cloudy-day              -6.0               0             0   \n",
       "\n",
       "   extreme_windgust  extreme_cloudcover  \n",
       "0                 0                   0  \n",
       "1                 0                   0  \n",
       "2                 0                   0  \n",
       "3                 0                   0  \n",
       "4                 0                   0  "
      ]
     },
     "execution_count": 113,
     "metadata": {},
     "output_type": "execute_result"
    }
   ],
   "source": [
    "df_weather.head()"
   ]
  },
  {
   "cell_type": "markdown",
   "id": "imperial-stupid",
   "metadata": {},
   "source": [
    "# Random Forest Regressor 1"
   ]
  },
  {
   "cell_type": "code",
   "execution_count": 114,
   "id": "involved-capability",
   "metadata": {},
   "outputs": [],
   "source": [
    "X = df_weather[['extreme_precip', 'extreme_snow',\n",
    "                'extreme_windgust', 'extreme_cloudcover']].to_numpy()\n",
    "y = df_weather.median_out_delay.to_numpy()"
   ]
  },
  {
   "cell_type": "code",
   "execution_count": 115,
   "id": "checked-gathering",
   "metadata": {},
   "outputs": [],
   "source": [
    "X_train, X_test, y_train, y_test = train_test_split(X, y, test_size=0.2)"
   ]
  },
  {
   "cell_type": "code",
   "execution_count": 116,
   "id": "modular-accordance",
   "metadata": {},
   "outputs": [
    {
     "data": {
      "text/plain": [
       "RandomForestRegressor()"
      ]
     },
     "execution_count": 116,
     "metadata": {},
     "output_type": "execute_result"
    }
   ],
   "source": [
    "rf = RandomForestRegressor(n_estimators=100)\n",
    "rf.fit(X_train, y_train)"
   ]
  },
  {
   "cell_type": "code",
   "execution_count": 117,
   "id": "documentary-mistake",
   "metadata": {},
   "outputs": [
    {
     "data": {
      "text/plain": [
       "array([0.7522537 , 0.10402844, 0.07947767, 0.06424019])"
      ]
     },
     "execution_count": 117,
     "metadata": {},
     "output_type": "execute_result"
    }
   ],
   "source": [
    "rf.feature_importances_"
   ]
  },
  {
   "cell_type": "code",
   "execution_count": 118,
   "id": "similar-dress",
   "metadata": {},
   "outputs": [],
   "source": [
    "y_pred = rf.predict(X_test)"
   ]
  },
  {
   "cell_type": "code",
   "execution_count": 119,
   "id": "floppy-cornell",
   "metadata": {},
   "outputs": [
    {
     "data": {
      "text/plain": [
       "0.08717692719300707"
      ]
     },
     "execution_count": 119,
     "metadata": {},
     "output_type": "execute_result"
    }
   ],
   "source": [
    "r2_score(y_test, y_pred)"
   ]
  },
  {
   "cell_type": "markdown",
   "id": "premium-friendly",
   "metadata": {},
   "source": [
    "I'll try with the original weather columns"
   ]
  },
  {
   "cell_type": "code",
   "execution_count": 120,
   "id": "undefined-paradise",
   "metadata": {},
   "outputs": [],
   "source": [
    "X = df_weather[['precip', 'snow', 'windgust', 'cloudcover']].to_numpy()\n",
    "y = df_weather.median_out_delay.to_numpy()\n",
    "X_train, X_test, y_train, y_test = train_test_split(X, y, test_size=0.2)"
   ]
  },
  {
   "cell_type": "code",
   "execution_count": 121,
   "id": "funded-webcam",
   "metadata": {},
   "outputs": [
    {
     "data": {
      "text/plain": [
       "RandomForestRegressor()"
      ]
     },
     "execution_count": 121,
     "metadata": {},
     "output_type": "execute_result"
    }
   ],
   "source": [
    "rf = RandomForestRegressor(n_estimators=100)\n",
    "rf.fit(X_train, y_train)"
   ]
  },
  {
   "cell_type": "code",
   "execution_count": 122,
   "id": "extra-inventory",
   "metadata": {},
   "outputs": [
    {
     "data": {
      "text/plain": [
       "0.15491755281972097"
      ]
     },
     "execution_count": 122,
     "metadata": {},
     "output_type": "execute_result"
    }
   ],
   "source": [
    "y_pred = rf.predict(X_test)\n",
    "r2_score(y_test, y_pred)"
   ]
  },
  {
   "cell_type": "code",
   "execution_count": 123,
   "id": "republican-stack",
   "metadata": {},
   "outputs": [
    {
     "data": {
      "text/plain": [
       "array([0.35449222, 0.11277057, 0.21867988, 0.31405733])"
      ]
     },
     "execution_count": 123,
     "metadata": {},
     "output_type": "execute_result"
    }
   ],
   "source": [
    "rf.feature_importances_"
   ]
  },
  {
   "cell_type": "markdown",
   "id": "bottom-portable",
   "metadata": {},
   "source": [
    "Now let's try plugging the weather data back into the original flights data"
   ]
  },
  {
   "cell_type": "code",
   "execution_count": 124,
   "id": "outer-czech",
   "metadata": {},
   "outputs": [
    {
     "name": "stderr",
     "output_type": "stream",
     "text": [
      "/home/omlean/anaconda3/envs/lighthouse/lib/python3.6/site-packages/IPython/core/interactiveshell.py:3072: DtypeWarning: Columns (26) have mixed types.Specify dtype option on import or set low_memory=False.\n",
      "  interactivity=interactivity, compiler=compiler, result=result)\n"
     ]
    },
    {
     "data": {
      "text/plain": [
       "'69979 outliers removed'"
      ]
     },
     "execution_count": 124,
     "metadata": {},
     "output_type": "execute_result"
    }
   ],
   "source": [
    "df_flights = pd.read_csv('data/flights_for_weather.csv').drop(columns='Unnamed: 0')\n",
    "rem_outliers(df_flights, 'arr_delay')"
   ]
  },
  {
   "cell_type": "code",
   "execution_count": null,
   "id": "psychological-conference",
   "metadata": {},
   "outputs": [],
   "source": [
    "c1 = df.arr_time.notnull()\n",
    "c2 = df.arr_delay.notnull()\n",
    "df = df[c1 & c2]\n",
    "\n",
    "#  same with dep_delay\n",
    "c3 = df.dep_time.notnull()\n",
    "c4 = df.dep_delay.notnull()\n",
    "df = df[c3 & c4]"
   ]
  }
 ],
 "metadata": {
  "kernelspec": {
   "display_name": "Python 3",
   "language": "python",
   "name": "python3"
  },
  "language_info": {
   "codemirror_mode": {
    "name": "ipython",
    "version": 3
   },
   "file_extension": ".py",
   "mimetype": "text/x-python",
   "name": "python",
   "nbconvert_exporter": "python",
   "pygments_lexer": "ipython3",
   "version": "3.6.10"
  }
 },
 "nbformat": 4,
 "nbformat_minor": 5
}
