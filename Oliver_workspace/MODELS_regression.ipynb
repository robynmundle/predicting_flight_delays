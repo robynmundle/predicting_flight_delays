{
 "cells": [
  {
   "cell_type": "markdown",
   "id": "funny-screen",
   "metadata": {},
   "source": [
    "# Regression models"
   ]
  },
  {
   "cell_type": "code",
   "execution_count": 1,
   "id": "personalized-raleigh",
   "metadata": {},
   "outputs": [],
   "source": [
    "import pandas as pd\n",
    "import numpy as np\n",
    "import pickle\n",
    "\n",
    "from sklearn.model_selection import train_test_split\n",
    "from sklearn.linear_model import LinearRegression, ElasticNet\n",
    "from sklearn.ensemble import RandomForestRegressor\n",
    "from sklearn.metrics import mean_squared_error, r2_score\n",
    "from sklearn.preprocessing import PolynomialFeatures\n",
    "from sklearn.model_selection import GridSearchCV\n",
    "from sklearn.decomposition import PCA\n",
    "from sklearn.preprocessing import StandardScaler"
   ]
  },
  {
   "cell_type": "code",
   "execution_count": 2,
   "id": "fixed-belief",
   "metadata": {},
   "outputs": [],
   "source": [
    "pd.set_option('display.max_columns', None)"
   ]
  },
  {
   "cell_type": "code",
   "execution_count": 3,
   "id": "decimal-trainer",
   "metadata": {},
   "outputs": [],
   "source": [
    "# load data\n",
    "df = pd.read_csv('data/model_df_full.csv', index_col=0)"
   ]
  },
  {
   "cell_type": "code",
   "execution_count": 4,
   "id": "prospective-letters",
   "metadata": {},
   "outputs": [
    {
     "data": {
      "text/html": [
       "<div>\n",
       "<style scoped>\n",
       "    .dataframe tbody tr th:only-of-type {\n",
       "        vertical-align: middle;\n",
       "    }\n",
       "\n",
       "    .dataframe tbody tr th {\n",
       "        vertical-align: top;\n",
       "    }\n",
       "\n",
       "    .dataframe thead th {\n",
       "        text-align: right;\n",
       "    }\n",
       "</style>\n",
       "<table border=\"1\" class=\"dataframe\">\n",
       "  <thead>\n",
       "    <tr style=\"text-align: right;\">\n",
       "      <th></th>\n",
       "      <th>fl_date</th>\n",
       "      <th>mkt_unique_carrier</th>\n",
       "      <th>mkt_carrier_fl_num</th>\n",
       "      <th>tail_num</th>\n",
       "      <th>op_carrier_fl_num</th>\n",
       "      <th>origin_airport_id</th>\n",
       "      <th>origin</th>\n",
       "      <th>dest_airport_id</th>\n",
       "      <th>dest</th>\n",
       "      <th>dep_time</th>\n",
       "      <th>dep_delay</th>\n",
       "      <th>taxi_out</th>\n",
       "      <th>wheels_off</th>\n",
       "      <th>wheels_on</th>\n",
       "      <th>taxi_in</th>\n",
       "      <th>arr_time</th>\n",
       "      <th>arr_delay</th>\n",
       "      <th>diverted</th>\n",
       "      <th>crs_elapsed_time</th>\n",
       "      <th>actual_elapsed_time</th>\n",
       "      <th>distance</th>\n",
       "      <th>carrier_delay</th>\n",
       "      <th>weather_delay</th>\n",
       "      <th>nas_delay</th>\n",
       "      <th>security_delay</th>\n",
       "      <th>late_aircraft_delay</th>\n",
       "      <th>dep_hour</th>\n",
       "      <th>arr_hour</th>\n",
       "      <th>arr_hour_rank</th>\n",
       "      <th>month</th>\n",
       "      <th>month_rank</th>\n",
       "      <th>fl_num_speek_rank</th>\n",
       "      <th>carrier_rank</th>\n",
       "      <th>origin_precip</th>\n",
       "      <th>origin_snow</th>\n",
       "      <th>origin_windgust</th>\n",
       "      <th>origin_cloudcover</th>\n",
       "      <th>dest_precip</th>\n",
       "      <th>dest_snow</th>\n",
       "      <th>dest_windgust</th>\n",
       "      <th>dest_cloudcover</th>\n",
       "      <th>origin_precip_cat</th>\n",
       "      <th>origin_snow_cat</th>\n",
       "      <th>origin_windgust_cat</th>\n",
       "      <th>origin_cloud_cat</th>\n",
       "      <th>dest_precip_cat</th>\n",
       "      <th>dest_snow_cat</th>\n",
       "      <th>dest_windgust_cat</th>\n",
       "      <th>dest_cloud_cat</th>\n",
       "      <th>delay_flag</th>\n",
       "      <th>day</th>\n",
       "      <th>weekday</th>\n",
       "      <th>airline_delay</th>\n",
       "      <th>haul_length</th>\n",
       "      <th>dep_timeday</th>\n",
       "      <th>arr_timeday</th>\n",
       "      <th>delay_dep_h</th>\n",
       "      <th>delay_arr_h</th>\n",
       "      <th>busy_origin</th>\n",
       "      <th>busy_dest</th>\n",
       "      <th>origin_delay</th>\n",
       "    </tr>\n",
       "  </thead>\n",
       "  <tbody>\n",
       "    <tr>\n",
       "      <th>0</th>\n",
       "      <td>2018-01-01</td>\n",
       "      <td>B6</td>\n",
       "      <td>3</td>\n",
       "      <td>6078</td>\n",
       "      <td>3</td>\n",
       "      <td>12478</td>\n",
       "      <td>JFK</td>\n",
       "      <td>14843</td>\n",
       "      <td>SJU</td>\n",
       "      <td>1138.0</td>\n",
       "      <td>28.0</td>\n",
       "      <td>28.0</td>\n",
       "      <td>1206.0</td>\n",
       "      <td>1626.0</td>\n",
       "      <td>4.0</td>\n",
       "      <td>1630.0</td>\n",
       "      <td>32.0</td>\n",
       "      <td>0.0</td>\n",
       "      <td>228.0</td>\n",
       "      <td>232.0</td>\n",
       "      <td>1598.0</td>\n",
       "      <td>22.0</td>\n",
       "      <td>0.0</td>\n",
       "      <td>4.0</td>\n",
       "      <td>0.0</td>\n",
       "      <td>6.0</td>\n",
       "      <td>11</td>\n",
       "      <td>15</td>\n",
       "      <td>1</td>\n",
       "      <td>1</td>\n",
       "      <td>0</td>\n",
       "      <td>1.0</td>\n",
       "      <td>0</td>\n",
       "      <td>0.0</td>\n",
       "      <td>0.0</td>\n",
       "      <td>55.4</td>\n",
       "      <td>24.9</td>\n",
       "      <td>3.909477</td>\n",
       "      <td>3.909477</td>\n",
       "      <td>3.909477</td>\n",
       "      <td>3.909477</td>\n",
       "      <td>0.0</td>\n",
       "      <td>0.0</td>\n",
       "      <td>3.0</td>\n",
       "      <td>0.0</td>\n",
       "      <td>3.909477</td>\n",
       "      <td>3.909477</td>\n",
       "      <td>3.909477</td>\n",
       "      <td>3.909477</td>\n",
       "      <td>1</td>\n",
       "      <td>1</td>\n",
       "      <td>0</td>\n",
       "      <td>3</td>\n",
       "      <td>1</td>\n",
       "      <td>1</td>\n",
       "      <td>2</td>\n",
       "      <td>1</td>\n",
       "      <td>1</td>\n",
       "      <td>3</td>\n",
       "      <td>3.0</td>\n",
       "      <td>3</td>\n",
       "    </tr>\n",
       "  </tbody>\n",
       "</table>\n",
       "</div>"
      ],
      "text/plain": [
       "      fl_date mkt_unique_carrier  mkt_carrier_fl_num  tail_num  \\\n",
       "0  2018-01-01                 B6                   3      6078   \n",
       "\n",
       "   op_carrier_fl_num  origin_airport_id origin  dest_airport_id dest  \\\n",
       "0                  3              12478    JFK            14843  SJU   \n",
       "\n",
       "   dep_time  dep_delay  taxi_out  wheels_off  wheels_on  taxi_in  arr_time  \\\n",
       "0    1138.0       28.0      28.0      1206.0     1626.0      4.0    1630.0   \n",
       "\n",
       "   arr_delay  diverted  crs_elapsed_time  actual_elapsed_time  distance  \\\n",
       "0       32.0       0.0             228.0                232.0    1598.0   \n",
       "\n",
       "   carrier_delay  weather_delay  nas_delay  security_delay  \\\n",
       "0           22.0            0.0        4.0             0.0   \n",
       "\n",
       "   late_aircraft_delay  dep_hour  arr_hour  arr_hour_rank  month  month_rank  \\\n",
       "0                  6.0        11        15              1      1           0   \n",
       "\n",
       "   fl_num_speek_rank  carrier_rank  origin_precip  origin_snow  \\\n",
       "0                1.0             0            0.0          0.0   \n",
       "\n",
       "   origin_windgust  origin_cloudcover  dest_precip  dest_snow  dest_windgust  \\\n",
       "0             55.4               24.9     3.909477   3.909477       3.909477   \n",
       "\n",
       "   dest_cloudcover  origin_precip_cat  origin_snow_cat  origin_windgust_cat  \\\n",
       "0         3.909477                0.0              0.0                  3.0   \n",
       "\n",
       "   origin_cloud_cat  dest_precip_cat  dest_snow_cat  dest_windgust_cat  \\\n",
       "0               0.0         3.909477       3.909477           3.909477   \n",
       "\n",
       "   dest_cloud_cat  delay_flag  day  weekday  airline_delay  haul_length  \\\n",
       "0        3.909477           1    1        0              3            1   \n",
       "\n",
       "   dep_timeday  arr_timeday  delay_dep_h  delay_arr_h  busy_origin  busy_dest  \\\n",
       "0            1            2            1            1            3        3.0   \n",
       "\n",
       "   origin_delay  \n",
       "0             3  "
      ]
     },
     "execution_count": 4,
     "metadata": {},
     "output_type": "execute_result"
    }
   ],
   "source": [
    "df.head(1)"
   ]
  },
  {
   "cell_type": "code",
   "execution_count": 4,
   "id": "scheduled-driving",
   "metadata": {},
   "outputs": [],
   "source": [
    "all_use_cols = ['arr_delay','origin', 'dest', 'diverted', 'crs_elapsed_time',\n",
    "       'actual_elapsed_time', 'distance', 'carrier_delay', 'weather_delay',\n",
    "       'nas_delay', 'security_delay', 'late_aircraft_delay', 'dep_hour',\n",
    "       'arr_hour', 'arr_hour_rank', 'month', 'month_rank', 'fl_num_speek_rank', 'carrier_rank',\n",
    "       'origin_precip', 'origin_snow', 'origin_windgust', 'origin_cloudcover',\n",
    "       'dest_precip', 'dest_snow', 'dest_windgust', 'dest_cloudcover',\n",
    "       'origin_precip_cat', 'origin_snow_cat', 'origin_windgust_cat',\n",
    "       'origin_cloud_cat', 'dest_precip_cat', 'dest_snow_cat',\n",
    "       'dest_windgust_cat', 'dest_cloud_cat', 'delay_flag', 'day', 'weekday',\n",
    "       'airline_delay', 'haul_length', 'dep_timeday', 'arr_timeday',\n",
    "       'delay_dep_h', 'delay_arr_h', 'busy_origin', 'busy_dest',\n",
    "       'origin_delay']"
   ]
  },
  {
   "cell_type": "code",
   "execution_count": 5,
   "id": "amino-angola",
   "metadata": {},
   "outputs": [],
   "source": [
    "# all columns that might conceivably be used for training\n",
    "df = df[all_use_cols]"
   ]
  },
  {
   "cell_type": "markdown",
   "id": "driven-arthur",
   "metadata": {},
   "source": [
    "# Linear regression"
   ]
  },
  {
   "cell_type": "markdown",
   "id": "unlimited-longer",
   "metadata": {},
   "source": [
    "### 01 - default params, without weather"
   ]
  },
  {
   "cell_type": "code",
   "execution_count": 8,
   "id": "focal-parent",
   "metadata": {},
   "outputs": [],
   "source": [
    "cols = ['arr_hour_rank', 'month_rank', 'haul_length', 'fl_num_speek_rank', 'carrier_rank', 'weekday',\n",
    "        'delay_dep_h', 'delay_arr_h', 'busy_origin', 'busy_dest', 'origin_delay']\n",
    "\n",
    "X = df[cols].to_numpy()\n",
    "y = df.arr_delay.to_numpy()\n",
    "\n",
    "X_train, X_test, y_train, y_test = train_test_split(X, y, test_size=0.2)"
   ]
  },
  {
   "cell_type": "code",
   "execution_count": 9,
   "id": "certified-criticism",
   "metadata": {},
   "outputs": [
    {
     "data": {
      "text/plain": [
       "0.040294051146506416"
      ]
     },
     "execution_count": 9,
     "metadata": {},
     "output_type": "execute_result"
    }
   ],
   "source": [
    "lr = LinearRegression()\n",
    "lr.fit(X_train, y_train)\n",
    "lr.score(X_test, y_test)"
   ]
  },
  {
   "cell_type": "markdown",
   "id": "after-contest",
   "metadata": {},
   "source": [
    "Result: 0.04"
   ]
  },
  {
   "cell_type": "markdown",
   "id": "hungarian-rings",
   "metadata": {},
   "source": [
    "### 02 - default params, weather added"
   ]
  },
  {
   "cell_type": "code",
   "execution_count": 10,
   "id": "different-perception",
   "metadata": {},
   "outputs": [],
   "source": [
    "cols = ['arr_hour_rank', 'month_rank', 'haul_length', 'fl_num_speek_rank', 'carrier_rank', 'weekday',\n",
    "        'delay_dep_h', 'delay_arr_h', 'busy_origin', 'busy_dest', 'origin_delay',\n",
    "       'origin_precip_cat', 'origin_snow_cat',\n",
    "       'origin_windgust_cat', 'origin_cloud_cat', 'dest_precip_cat',\n",
    "       'dest_snow_cat', 'dest_windgust_cat', 'dest_cloud_cat']\n",
    "\n",
    "X = df[cols].to_numpy()\n",
    "y = df.arr_delay.to_numpy()\n",
    "\n",
    "X_train, X_test, y_train, y_test = train_test_split(X, y, test_size=0.2)"
   ]
  },
  {
   "cell_type": "code",
   "execution_count": 11,
   "id": "unable-algebra",
   "metadata": {},
   "outputs": [
    {
     "data": {
      "text/plain": [
       "0.056038517946014554"
      ]
     },
     "execution_count": 11,
     "metadata": {},
     "output_type": "execute_result"
    }
   ],
   "source": [
    "lr2 = LinearRegression()\n",
    "lr2.fit(X_train, y_train)\n",
    "lr2.score(X_test, y_test)"
   ]
  },
  {
   "cell_type": "markdown",
   "id": "portuguese-butter",
   "metadata": {},
   "source": [
    "Score: 0.055\n",
    "Weather features improve predictive power. Let's try adding polynomials."
   ]
  },
  {
   "cell_type": "markdown",
   "id": "visible-hydrogen",
   "metadata": {},
   "source": [
    "### 03 - default params, weather added, polynomials - 2nd order"
   ]
  },
  {
   "cell_type": "code",
   "execution_count": 12,
   "id": "alert-fabric",
   "metadata": {},
   "outputs": [],
   "source": [
    "cols = ['arr_hour_rank', 'month_rank', 'haul_length', 'fl_num_speek_rank', 'carrier_rank', 'weekday',\n",
    "        'delay_dep_h', 'delay_arr_h', 'busy_origin', 'busy_dest', 'origin_delay',\n",
    "       'origin_precip_cat', 'origin_snow_cat',\n",
    "       'origin_windgust_cat', 'origin_cloud_cat', 'dest_precip_cat',\n",
    "       'dest_snow_cat', 'dest_windgust_cat', 'dest_cloud_cat']\n",
    "\n",
    "X = df[cols].to_numpy()\n",
    "y = df.arr_delay.to_numpy()\n",
    "\n",
    "poly = PolynomialFeatures(2)\n",
    "X_poly = poly.fit_transform(X)\n",
    "\n",
    "X_train, X_test, y_train, y_test = train_test_split(X_poly, y, test_size=0.2)"
   ]
  },
  {
   "cell_type": "code",
   "execution_count": 13,
   "id": "convertible-heating",
   "metadata": {},
   "outputs": [
    {
     "data": {
      "text/plain": [
       "0.07539503827411442"
      ]
     },
     "execution_count": 13,
     "metadata": {},
     "output_type": "execute_result"
    }
   ],
   "source": [
    "model_03 = LinearRegression()\n",
    "model_03.fit(X_train, y_train)\n",
    "model_03.score(X_test, y_test)"
   ]
  },
  {
   "cell_type": "code",
   "execution_count": 14,
   "id": "completed-breeding",
   "metadata": {},
   "outputs": [],
   "source": [
    "# filename = 'models/model_03.sav'\n",
    "# pickle.dump(model_03, open(filename, 'wb'))"
   ]
  },
  {
   "cell_type": "markdown",
   "id": "restricted-heading",
   "metadata": {},
   "source": [
    "Score = 0.076 - better again. How does this compare to the training set?"
   ]
  },
  {
   "cell_type": "code",
   "execution_count": 15,
   "id": "documented-still",
   "metadata": {},
   "outputs": [
    {
     "data": {
      "text/plain": [
       "0.07680762786486939"
      ]
     },
     "execution_count": 15,
     "metadata": {},
     "output_type": "execute_result"
    }
   ],
   "source": [
    "model_03.score(X_train, y_train)"
   ]
  },
  {
   "cell_type": "markdown",
   "id": "collectible-industry",
   "metadata": {},
   "source": [
    "0.078. About the same, so we're not overfitting yet. Let's try 3rd-order polynomials"
   ]
  },
  {
   "cell_type": "markdown",
   "id": "nominated-protection",
   "metadata": {},
   "source": [
    "### 04 - default params, weather added, polynomials - 3rd order"
   ]
  },
  {
   "cell_type": "code",
   "execution_count": 4,
   "id": "annoying-rehabilitation",
   "metadata": {},
   "outputs": [],
   "source": [
    "cols = ['arr_hour_rank', 'month_rank', 'haul_length', 'fl_num_speek_rank', 'carrier_rank', 'weekday',\n",
    "        'delay_dep_h', 'delay_arr_h', 'busy_origin', 'busy_dest', 'origin_delay',\n",
    "       'origin_precip_cat', 'origin_snow_cat',\n",
    "       'origin_windgust_cat', 'origin_cloud_cat', 'dest_precip_cat',\n",
    "       'dest_snow_cat', 'dest_windgust_cat', 'dest_cloud_cat']\n",
    "\n",
    "X = df[cols].to_numpy()\n",
    "y = df.arr_delay.to_numpy()\n",
    "\n",
    "poly = PolynomialFeatures(3)\n",
    "X_poly = poly.fit_transform(X)\n",
    "\n",
    "X_train, X_test, y_train, y_test = train_test_split(X_poly, y, test_size=0.2)"
   ]
  },
  {
   "cell_type": "code",
   "execution_count": 5,
   "id": "reasonable-university",
   "metadata": {},
   "outputs": [
    {
     "data": {
      "text/plain": [
       "0.08389678808424572"
      ]
     },
     "execution_count": 5,
     "metadata": {},
     "output_type": "execute_result"
    }
   ],
   "source": [
    "model_04 = LinearRegression()\n",
    "model_04.fit(X_train, y_train)\n",
    "model_04.score(X_test, y_test)"
   ]
  },
  {
   "cell_type": "code",
   "execution_count": 6,
   "id": "acute-navigator",
   "metadata": {},
   "outputs": [
    {
     "data": {
      "text/plain": [
       "707.1344100740351"
      ]
     },
     "execution_count": 6,
     "metadata": {},
     "output_type": "execute_result"
    }
   ],
   "source": [
    "y_pred = model_04.predict(X_test)\n",
    "mean_squared_error(y_test, y_pred)"
   ]
  },
  {
   "cell_type": "code",
   "execution_count": 7,
   "id": "distinguished-opera",
   "metadata": {},
   "outputs": [
    {
     "data": {
      "text/plain": [
       "26.591998986049077"
      ]
     },
     "execution_count": 7,
     "metadata": {},
     "output_type": "execute_result"
    }
   ],
   "source": [
    "mean_squared_error(y_test, y_pred, squared=False)"
   ]
  },
  {
   "cell_type": "code",
   "execution_count": 8,
   "id": "native-indonesia",
   "metadata": {},
   "outputs": [],
   "source": [
    "# filename = 'models/model_04.sav'\n",
    "# pickle.dump(model_04, open(filename, 'wb'))"
   ]
  },
  {
   "cell_type": "markdown",
   "id": "appropriate-multiple",
   "metadata": {},
   "source": [
    "0.083 - even better. How does it compare to the test set?"
   ]
  },
  {
   "cell_type": "code",
   "execution_count": 11,
   "id": "transsexual-appointment",
   "metadata": {},
   "outputs": [
    {
     "data": {
      "text/plain": [
       "0.08888570183677313"
      ]
     },
     "execution_count": 11,
     "metadata": {},
     "output_type": "execute_result"
    }
   ],
   "source": [
    "model_04.score(X_train, y_train)"
   ]
  },
  {
   "cell_type": "markdown",
   "id": "boring-notion",
   "metadata": {},
   "source": [
    "0.089 - It fits the training set slightly better than the test set. \n",
    "But that took quite a long time, so let's see if we can trim down the features and get a similar result. That might also deal with the overfitting."
   ]
  },
  {
   "cell_type": "markdown",
   "id": "powered-frame",
   "metadata": {},
   "source": [
    "### 05 - Detect feature importances using RandomForestRegression on a sample of the data"
   ]
  },
  {
   "cell_type": "code",
   "execution_count": 16,
   "id": "alternative-probe",
   "metadata": {},
   "outputs": [],
   "source": [
    "sample_mask = np.random.rand(len(X_train)) < 0.1\n",
    "X_train_sample = X_train[sample_mask,:]\n",
    "y_train_sample = y_train[sample_mask]"
   ]
  },
  {
   "cell_type": "code",
   "execution_count": 19,
   "id": "concrete-machinery",
   "metadata": {},
   "outputs": [
    {
     "data": {
      "text/plain": [
       "RandomForestRegressor(n_estimators=50)"
      ]
     },
     "execution_count": 19,
     "metadata": {},
     "output_type": "execute_result"
    }
   ],
   "source": [
    "model_05 = RandomForestRegressor(n_estimators=50)\n",
    "model_05.fit(X_train_sample, y_train_sample)"
   ]
  },
  {
   "cell_type": "code",
   "execution_count": 20,
   "id": "raising-mixer",
   "metadata": {},
   "outputs": [],
   "source": [
    "# filename = 'models/model_05.sav'\n",
    "# pickle.dump(model_05, open(filename, 'wb'))"
   ]
  },
  {
   "cell_type": "code",
   "execution_count": 21,
   "id": "warming-episode",
   "metadata": {},
   "outputs": [
    {
     "name": "stdout",
     "output_type": "stream",
     "text": [
      "-0.06853453861644376\n"
     ]
    }
   ],
   "source": [
    "y_pred = model_05.predict(X_test)\n",
    "print(r2_score(y_test, y_pred))"
   ]
  },
  {
   "cell_type": "markdown",
   "id": "herbal-local",
   "metadata": {},
   "source": [
    "No."
   ]
  },
  {
   "cell_type": "markdown",
   "id": "received-generator",
   "metadata": {},
   "source": [
    "### 06 - default params, weather added, polynomials - 3rd order; some features removed"
   ]
  },
  {
   "cell_type": "code",
   "execution_count": 29,
   "id": "quarterly-highway",
   "metadata": {},
   "outputs": [],
   "source": [
    "cols = ['arr_hour_rank', 'month_rank', 'haul_length', 'fl_num_speek_rank', 'carrier_rank',\n",
    "        'origin_delay',\n",
    "       'origin_precip_cat', 'origin_snow_cat',\n",
    "       'origin_windgust_cat', 'origin_cloud_cat', 'dest_precip_cat',\n",
    "       'dest_snow_cat', 'dest_windgust_cat', 'dest_cloud_cat']\n",
    "\n",
    "X = df[cols].to_numpy()\n",
    "y = df.arr_delay.to_numpy()\n",
    "\n",
    "poly = PolynomialFeatures(3)\n",
    "X_poly = poly.fit_transform(X)\n",
    "\n",
    "X_train, X_test, y_train, y_test = train_test_split(X_poly, y, test_size=0.2)"
   ]
  },
  {
   "cell_type": "code",
   "execution_count": 30,
   "id": "everyday-albuquerque",
   "metadata": {},
   "outputs": [
    {
     "data": {
      "text/plain": [
       "0.07899706462415756"
      ]
     },
     "execution_count": 30,
     "metadata": {},
     "output_type": "execute_result"
    }
   ],
   "source": [
    "model_06 = LinearRegression()\n",
    "model_06.fit(X_train, y_train)\n",
    "model_06.score(X_test, y_test)"
   ]
  },
  {
   "cell_type": "markdown",
   "id": "sharing-virtue",
   "metadata": {},
   "source": [
    "0.079"
   ]
  },
  {
   "cell_type": "code",
   "execution_count": 31,
   "id": "dutch-termination",
   "metadata": {},
   "outputs": [],
   "source": [
    "# filename = 'models/model_06.sav'\n",
    "# pickle.dump(model_06, open(filename, 'wb'))"
   ]
  },
  {
   "cell_type": "markdown",
   "id": "statewide-wells",
   "metadata": {},
   "source": [
    "### 07 - Repeat 06 but Scale Features First"
   ]
  },
  {
   "cell_type": "code",
   "execution_count": null,
   "id": "commercial-remains",
   "metadata": {},
   "outputs": [],
   "source": [
    "cols = ['arr_hour_rank', 'month_rank', 'haul_length', 'fl_num_speek_rank', 'carrier_rank',\n",
    "        'origin_delay',\n",
    "       'origin_precip_cat', 'origin_snow_cat',\n",
    "       'origin_windgust_cat', 'origin_cloud_cat', 'dest_precip_cat',\n",
    "       'dest_snow_cat', 'dest_windgust_cat', 'dest_cloud_cat']\n",
    "\n",
    "ss = StandardScaler()\n",
    "X = ss.fit_transform(df[cols])\n",
    "y = df['arr_delay'].to_numpy()\n",
    "\n",
    "poly = PolynomialFeatures(3)\n",
    "X_poly = poly.fit_transform(X)\n",
    "\n",
    "X_train, X_test, y_train, y_test = train_test_split(X_poly, y, test_size=0.2)"
   ]
  },
  {
   "cell_type": "code",
   "execution_count": 35,
   "id": "permanent-looking",
   "metadata": {},
   "outputs": [
    {
     "data": {
      "text/plain": [
       "0.07852707824026739"
      ]
     },
     "execution_count": 35,
     "metadata": {},
     "output_type": "execute_result"
    }
   ],
   "source": [
    "model_07 = LinearRegression()\n",
    "model_07.fit(X_train, y_train)\n",
    "model_07.score(X_test, y_test)"
   ]
  },
  {
   "cell_type": "markdown",
   "id": "adjusted-winner",
   "metadata": {},
   "source": [
    "0.079 on the test data vs. 0.08 on the training data"
   ]
  },
  {
   "cell_type": "code",
   "execution_count": 36,
   "id": "million-variety",
   "metadata": {},
   "outputs": [],
   "source": [
    "# filename = 'models/model_07.sav'\n",
    "# pickle.dump(model_07, open(filename, 'wb'))"
   ]
  },
  {
   "cell_type": "code",
   "execution_count": 37,
   "id": "changed-communist",
   "metadata": {},
   "outputs": [
    {
     "data": {
      "text/plain": [
       "0.08082897931570343"
      ]
     },
     "execution_count": 37,
     "metadata": {},
     "output_type": "execute_result"
    }
   ],
   "source": [
    "model_07.score(X_train, y_train)"
   ]
  },
  {
   "cell_type": "markdown",
   "id": "closed-source",
   "metadata": {},
   "source": [
    "### 08 - Hail Mary Random Forest"
   ]
  },
  {
   "cell_type": "code",
   "execution_count": 38,
   "id": "sought-apartment",
   "metadata": {},
   "outputs": [
    {
     "data": {
      "text/plain": [
       "RandomForestRegressor()"
      ]
     },
     "execution_count": 38,
     "metadata": {},
     "output_type": "execute_result"
    }
   ],
   "source": [
    "cols = ['arr_hour_rank', 'month_rank', 'haul_length', 'fl_num_speek_rank', 'carrier_rank',\n",
    "        'origin_delay',\n",
    "       'origin_precip_cat', 'origin_snow_cat',\n",
    "       'origin_windgust_cat', 'origin_cloud_cat', 'dest_precip_cat',\n",
    "       'dest_snow_cat', 'dest_windgust_cat', 'dest_cloud_cat']\n",
    "\n",
    "X = df[cols].to_numpy()\n",
    "y = df.arr_delay.to_numpy()\n",
    "\n",
    "X_train, X_test, y_train, y_test = train_test_split(X, y, test_size=0.2)\n",
    "\n",
    "model_08 = RandomForestRegressor()\n",
    "model_08.fit(X_train, y_train)"
   ]
  },
  {
   "cell_type": "code",
   "execution_count": 39,
   "id": "nasty-fantasy",
   "metadata": {},
   "outputs": [
    {
     "data": {
      "text/plain": [
       "0.028683238835234715"
      ]
     },
     "execution_count": 39,
     "metadata": {},
     "output_type": "execute_result"
    }
   ],
   "source": [
    "y_pred = model_08.predict(X_test)\n",
    "r2_score(y_test, y_pred)"
   ]
  },
  {
   "cell_type": "markdown",
   "id": "vietnamese-ceremony",
   "metadata": {},
   "source": [
    "0.029 - bad"
   ]
  },
  {
   "cell_type": "code",
   "execution_count": null,
   "id": "respective-mediterranean",
   "metadata": {},
   "outputs": [],
   "source": [
    "# filename = 'models/model_07.sav'\n",
    "# pickle.dump(model_07, open(filename, 'wb'))"
   ]
  },
  {
   "cell_type": "markdown",
   "id": "several-window",
   "metadata": {},
   "source": [
    "# 09 - Elastic Net with 2nd order polynomials"
   ]
  },
  {
   "cell_type": "code",
   "execution_count": 41,
   "id": "precise-smith",
   "metadata": {},
   "outputs": [],
   "source": [
    "cols = ['arr_hour_rank', 'month_rank', 'haul_length', 'fl_num_speek_rank', 'carrier_rank',\n",
    "        'origin_delay',\n",
    "       'origin_precip_cat', 'origin_snow_cat',\n",
    "       'origin_windgust_cat', 'origin_cloud_cat', 'dest_precip_cat',\n",
    "       'dest_snow_cat', 'dest_windgust_cat', 'dest_cloud_cat']\n",
    "\n",
    "ss = StandardScaler()\n",
    "X = ss.fit_transform(df[cols])\n",
    "y = df['arr_delay'].to_numpy()\n",
    "\n",
    "poly = PolynomialFeatures(2)\n",
    "X_poly = poly.fit_transform(X)\n",
    "\n",
    "X_train, X_test, y_train, y_test = train_test_split(X_poly, y, test_size=0.2)"
   ]
  },
  {
   "cell_type": "code",
   "execution_count": 44,
   "id": "whole-silly",
   "metadata": {},
   "outputs": [
    {
     "data": {
      "text/plain": [
       "ElasticNet()"
      ]
     },
     "execution_count": 44,
     "metadata": {},
     "output_type": "execute_result"
    }
   ],
   "source": [
    "model_09 = ElasticNet()\n",
    "model_09.fit(X_train, y_train)"
   ]
  },
  {
   "cell_type": "code",
   "execution_count": 45,
   "id": "dedicated-marker",
   "metadata": {},
   "outputs": [
    {
     "data": {
      "text/plain": [
       "0.04668579077470347"
      ]
     },
     "execution_count": 45,
     "metadata": {},
     "output_type": "execute_result"
    }
   ],
   "source": [
    "model_09.score(X_test, y_test)"
   ]
  },
  {
   "cell_type": "markdown",
   "id": "affecting-bangkok",
   "metadata": {},
   "source": [
    "0.045. More evidence that overfitting isn't the problem - regularisation makes it worse."
   ]
  },
  {
   "cell_type": "markdown",
   "id": "angry-rochester",
   "metadata": {},
   "source": [
    "### 10 - Elastic Net with 3rd order polynomials"
   ]
  },
  {
   "cell_type": "code",
   "execution_count": 46,
   "id": "sophisticated-input",
   "metadata": {},
   "outputs": [],
   "source": [
    "cols = ['arr_hour_rank', 'month_rank', 'haul_length', 'fl_num_speek_rank', 'carrier_rank',\n",
    "        'origin_delay',\n",
    "       'origin_precip_cat', 'origin_snow_cat',\n",
    "       'origin_windgust_cat', 'origin_cloud_cat', 'dest_precip_cat',\n",
    "       'dest_snow_cat', 'dest_windgust_cat', 'dest_cloud_cat']\n",
    "\n",
    "ss = StandardScaler()\n",
    "X = ss.fit_transform(df[cols])\n",
    "y = df['arr_delay'].to_numpy()\n",
    "\n",
    "poly = PolynomialFeatures(3)\n",
    "X_poly = poly.fit_transform(X)\n",
    "\n",
    "X_train, X_test, y_train, y_test = train_test_split(X_poly, y, test_size=0.2)"
   ]
  },
  {
   "cell_type": "code",
   "execution_count": 48,
   "id": "illegal-practitioner",
   "metadata": {},
   "outputs": [
    {
     "data": {
      "text/plain": [
       "ElasticNet()"
      ]
     },
     "execution_count": 48,
     "metadata": {},
     "output_type": "execute_result"
    }
   ],
   "source": [
    "model_10 = ElasticNet()\n",
    "model_10.fit(X_train, y_train)"
   ]
  },
  {
   "cell_type": "code",
   "execution_count": 49,
   "id": "desirable-robertson",
   "metadata": {},
   "outputs": [
    {
     "data": {
      "text/plain": [
       "0.05783878467534331"
      ]
     },
     "execution_count": 49,
     "metadata": {},
     "output_type": "execute_result"
    }
   ],
   "source": [
    "model_10.score(X_test, y_test)"
   ]
  },
  {
   "cell_type": "code",
   "execution_count": 50,
   "id": "pressed-certificate",
   "metadata": {},
   "outputs": [],
   "source": [
    "# filename = 'models/model_10.sav'\n",
    "# pickle.dump(model_10, open(filename, 'wb'))"
   ]
  },
  {
   "cell_type": "markdown",
   "id": "adjacent-recycling",
   "metadata": {},
   "source": [
    "## 11 - All features; Elastic Net with 3rd order polynomials; GridSearch"
   ]
  },
  {
   "cell_type": "code",
   "execution_count": null,
   "id": "qualified-phoenix",
   "metadata": {},
   "outputs": [],
   "source": [
    "cols = ['arr_hour_rank', 'month_rank', 'haul_length', 'fl_num_speek_rank', 'carrier_rank', 'weekday',\n",
    "        'delay_dep_h', 'delay_arr_h', 'busy_origin', 'busy_dest', 'origin_delay',\n",
    "       'origin_precip_cat', 'origin_snow_cat',\n",
    "       'origin_windgust_cat', 'origin_cloud_cat', 'dest_precip_cat',\n",
    "       'dest_snow_cat', 'dest_windgust_cat', 'dest_cloud_cat']\n",
    "\n",
    "ss = StandardScaler()\n",
    "X = ss.fit_transform(df[cols])\n",
    "y = df['arr_delay'].to_numpy()\n",
    "\n",
    "poly = PolynomialFeatures(3)\n",
    "X_poly = poly.fit_transform(X)\n",
    "\n",
    "X_train, X_test, y_train, y_test = train_test_split(X_poly, y, test_size=0.2)"
   ]
  },
  {
   "cell_type": "code",
   "execution_count": null,
   "id": "statistical-failure",
   "metadata": {},
   "outputs": [],
   "source": [
    "params = {'alpha': [0.001, 0.01, 0.1],\n",
    "         'l1_ratio': [0.9, 0.5, 0.1]}\n",
    "model_11 = GridSearchCV(estimator=ElasticNet(), param_grid=params, verbose=3)\n",
    "model_11.fit(X_train, y_train)"
   ]
  },
  {
   "cell_type": "code",
   "execution_count": null,
   "id": "prospective-poultry",
   "metadata": {},
   "outputs": [],
   "source": [
    "filename = 'models/model_11.sav'\n",
    "pickle.dump(model_11, open(filename, 'wb'))"
   ]
  },
  {
   "cell_type": "code",
   "execution_count": null,
   "id": "experienced-correlation",
   "metadata": {},
   "outputs": [],
   "source": []
  }
 ],
 "metadata": {
  "kernelspec": {
   "display_name": "Python 3",
   "language": "python",
   "name": "python3"
  },
  "language_info": {
   "codemirror_mode": {
    "name": "ipython",
    "version": 3
   },
   "file_extension": ".py",
   "mimetype": "text/x-python",
   "name": "python",
   "nbconvert_exporter": "python",
   "pygments_lexer": "ipython3",
   "version": "3.6.10"
  }
 },
 "nbformat": 4,
 "nbformat_minor": 5
}
