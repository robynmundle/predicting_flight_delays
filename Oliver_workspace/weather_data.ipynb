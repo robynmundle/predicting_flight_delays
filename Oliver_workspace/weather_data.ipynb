{
 "cells": [
  {
   "cell_type": "markdown",
   "id": "forbidden-lexington",
   "metadata": {},
   "source": [
    "# Weather API data"
   ]
  },
  {
   "cell_type": "code",
   "execution_count": 1,
   "id": "nuclear-wrist",
   "metadata": {},
   "outputs": [],
   "source": [
    "import pandas as pd\n",
    "import requests\n",
    "import json\n",
    "import re\n",
    "from datetime import datetime, date, timedelta\n",
    "from IPython.display import JSON\n",
    "import numpy as np\n",
    "from my_access import visual_crossing, visual_crossing2"
   ]
  },
  {
   "cell_type": "markdown",
   "id": "starting-charles",
   "metadata": {},
   "source": [
    "### Get Coordinates for Airports\n",
    "Latitude and longitude data from the [airport codes dataset](https://datahub.io/core/airport-codes#resource-airport-codes)"
   ]
  },
  {
   "cell_type": "code",
   "execution_count": 2,
   "id": "through-independence",
   "metadata": {},
   "outputs": [],
   "source": [
    "# get airport codes from flights table\n",
    "ori = pd.read_csv('flights_sample_random_cleaned.csv').origin.unique()\n",
    "dest = pd.read_csv('flights_sample_random_cleaned.csv').dest.unique()\n",
    "airport_codes = np.union1d(ori, dest)"
   ]
  },
  {
   "cell_type": "code",
   "execution_count": 3,
   "id": "prompt-suicide",
   "metadata": {},
   "outputs": [],
   "source": [
    "apts = pd.read_csv('airport-codes_csv.csv')\n",
    "apts = apts[apts.iso_country == \"US\"]\n",
    "apts = apts[['iata_code', 'coordinates']].set_index('iata_code')"
   ]
  },
  {
   "cell_type": "code",
   "execution_count": 4,
   "id": "indonesian-ultimate",
   "metadata": {},
   "outputs": [],
   "source": [
    "def swap(c):\n",
    "    l = c.split(\",\")\n",
    "    return f\"{l[1].strip()}, {l[0].strip()}\"\n",
    "    \n",
    "apts['coordinates'] = apts['coordinates'].apply(swap)"
   ]
  },
  {
   "cell_type": "code",
   "execution_count": 5,
   "id": "pursuant-freight",
   "metadata": {},
   "outputs": [],
   "source": [
    "latlong = []\n",
    "for code in airport_codes:\n",
    "    try:\n",
    "        latlong.append(apts.loc[code].coordinates)\n",
    "    except KeyError:\n",
    "        latlong.append(np.nan)"
   ]
  },
  {
   "cell_type": "code",
   "execution_count": 6,
   "id": "liberal-coordination",
   "metadata": {},
   "outputs": [],
   "source": [
    "apt_coords = pd.DataFrame(latlong, index=airport_codes, columns=['lat_long'])"
   ]
  },
  {
   "cell_type": "code",
   "execution_count": 7,
   "id": "signal-ambassador",
   "metadata": {},
   "outputs": [],
   "source": [
    "# apt_coords.to_csv('airport_coordinates.csv')"
   ]
  }
 ],
 "metadata": {
  "kernelspec": {
   "display_name": "Python 3",
   "language": "python",
   "name": "python3"
  },
  "language_info": {
   "codemirror_mode": {
    "name": "ipython",
    "version": 3
   },
   "file_extension": ".py",
   "mimetype": "text/x-python",
   "name": "python",
   "nbconvert_exporter": "python",
   "pygments_lexer": "ipython3",
   "version": "3.6.10"
  }
 },
 "nbformat": 4,
 "nbformat_minor": 5
}
