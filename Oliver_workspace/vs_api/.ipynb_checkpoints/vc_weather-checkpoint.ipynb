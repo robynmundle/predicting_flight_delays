{
 "cells": [
  {
   "cell_type": "markdown",
   "metadata": {},
   "source": [
    "# Visual Crossing API requests"
   ]
  },
  {
   "cell_type": "code",
   "execution_count": 1,
   "metadata": {},
   "outputs": [],
   "source": [
    "# import packages\n",
    "import pandas as pd\n",
    "import requests\n",
    "import json\n",
    "import re\n",
    "from datetime import datetime, date, timedelta\n",
    "from IPython.display import JSON\n",
    "\n",
    "from vs_api import *"
   ]
  },
  {
   "cell_type": "code",
   "execution_count": 2,
   "metadata": {},
   "outputs": [],
   "source": [
    "# load airport lat-long data\n",
    "apt_coords = pd.read_csv('airport_coordinates.csv').rename(columns={\"Unnamed: 0\": \"code\"}).set_index('code')"
   ]
  },
  {
   "cell_type": "code",
   "execution_count": 3,
   "metadata": {},
   "outputs": [
    {
     "data": {
      "text/plain": [
       "['2020-05-24', '2020-05-25', '2020-05-26']"
      ]
     },
     "execution_count": 3,
     "metadata": {},
     "output_type": "execute_result"
    }
   ],
   "source": [
    "# generate list of dates to \n",
    "start_date = # string - format YYYY-MM-DD\n",
    "end_date =  # string - format YYYY-MM-DD\n",
    "\n",
    "datelist = generate_dates(start_date, end_date)\n",
    "apt_code = \"LAX\"\n",
    "api_key = # api key goes here"
   ]
  },
  {
   "cell_type": "markdown",
   "metadata": {},
   "source": [
    "DANGER: check details before running this. Commented out for safety."
   ]
  },
  {
   "cell_type": "code",
   "execution_count": null,
   "metadata": {},
   "outputs": [],
   "source": [
    "# for date in datelist:\n",
    "#     if get_save(apt_code, date, api_key) != 200:\n",
    "#         print(f\"Request for {apt_code} on {date} failed.\")\n",
    "#         break\n",
    "#     else:\n",
    "#         print(f\"Data for {apt_code} on {date} retrieved successfully.\")"
   ]
  }
 ],
 "metadata": {
  "kernelspec": {
   "display_name": "Python 3",
   "language": "python",
   "name": "python3"
  },
  "language_info": {
   "codemirror_mode": {
    "name": "ipython",
    "version": 3
   },
   "file_extension": ".py",
   "mimetype": "text/x-python",
   "name": "python",
   "nbconvert_exporter": "python",
   "pygments_lexer": "ipython3",
   "version": "3.8.3"
  }
 },
 "nbformat": 4,
 "nbformat_minor": 5
}
