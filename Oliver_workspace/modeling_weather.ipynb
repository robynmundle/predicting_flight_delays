{
 "cells": [
  {
   "cell_type": "code",
   "execution_count": 282,
   "id": "medieval-moses",
   "metadata": {},
   "outputs": [],
   "source": [
    "import pandas as pd\n",
    "import numpy as np\n",
    "import matplotlib.pyplot as plt\n",
    "from datetime import datetime\n",
    "\n",
    "import pickle\n",
    "\n",
    "from sklearn.model_selection import train_test_split\n",
    "from sklearn.linear_model import LinearRegression\n",
    "from sklearn.metrics import r2_score"
   ]
  },
  {
   "cell_type": "code",
   "execution_count": 36,
   "id": "heard-surgeon",
   "metadata": {},
   "outputs": [],
   "source": [
    "# functions\n",
    "\n",
    "def rem_outliers(df, col):\n",
    "    ''' Remove outliers which fall outside of 3 standard deviations above and below the mean of the data set\n",
    "            Input\n",
    "                (0) dataframe containing the data\n",
    "                (1) column to remove outliers from\n",
    "            Output\n",
    "                rows of df which are classified as outliers in the specified column are directly removed\n",
    "                print out stating count of outliers removed '''\n",
    "    mean, cutoff = np.mean(df[col]), np.std(df[col]) * 3   # 3 stddev outside the mean\n",
    "    lower, upper = mean - cutoff, mean + cutoff\n",
    "    outliers = [x for x in df[col] if x < lower or x > upper]\n",
    "    df.drop(df[(df[col] > upper) | (df[col] < lower)].index, inplace=True)\n",
    "    return f'{len(outliers)} outliers removed'"
   ]
  },
  {
   "cell_type": "markdown",
   "id": "educational-friendship",
   "metadata": {},
   "source": [
    "# Models incorporating weather data"
   ]
  },
  {
   "cell_type": "code",
   "execution_count": 49,
   "id": "mexican-clark",
   "metadata": {},
   "outputs": [],
   "source": [
    "# import joined table\n",
    "df = pd.read_csv('data/flights_for_weather_joined.csv')\n",
    "# drop useless columns\n",
    "df.drop(columns=['Unnamed: 0', 'origin_city_name', 'dest_city_name', 'dup'], inplace=True)\n",
    "# split data\n",
    "mask = np.random.rand(len(df)) < 0.8\n",
    "df_train = df[mask].copy()\n",
    "df_test = df[~mask].copy()"
   ]
  },
  {
   "cell_type": "code",
   "execution_count": 50,
   "id": "stone-observer",
   "metadata": {},
   "outputs": [
    {
     "data": {
      "text/plain": [
       "'87638 outliers removed'"
      ]
     },
     "execution_count": 50,
     "metadata": {},
     "output_type": "execute_result"
    }
   ],
   "source": [
    "# remove outliers for arr_delay\n",
    "rem_outliers(df_train, 'arr_delay')"
   ]
  },
  {
   "cell_type": "code",
   "execution_count": 52,
   "id": "forward-database",
   "metadata": {},
   "outputs": [],
   "source": [
    "# get mean delays per carrier\n",
    "carrier_delays = df_train.groupby('mkt_unique_carrier').mean()['arr_delay'].sort_values()"
   ]
  },
  {
   "cell_type": "code",
   "execution_count": 53,
   "id": "opened-stand",
   "metadata": {},
   "outputs": [
    {
     "data": {
      "text/plain": [
       "mkt_unique_carrier\n",
       "DL   -3.795260\n",
       "B6   -3.527778\n",
       "VX   -3.035804\n",
       "NK   -1.871818\n",
       "AS   -1.808097\n",
       "UA   -1.423439\n",
       "HA   -0.991369\n",
       "WN   -0.375860\n",
       "F9   -0.292586\n",
       "G4    0.900838\n",
       "AA    1.204283\n",
       "Name: arr_delay, dtype: float64"
      ]
     },
     "execution_count": 53,
     "metadata": {},
     "output_type": "execute_result"
    }
   ],
   "source": [
    "carrier_delays.sort_values()"
   ]
  },
  {
   "cell_type": "code",
   "execution_count": 54,
   "id": "included-heritage",
   "metadata": {},
   "outputs": [
    {
     "data": {
      "text/plain": [
       "<BarContainer object of 11 artists>"
      ]
     },
     "execution_count": 54,
     "metadata": {},
     "output_type": "execute_result"
    },
    {
     "data": {
      "image/png": "[encoded data removed]",
      "text/plain": [
       "<Figure size 432x288 with 1 Axes>"
      ]
     },
     "metadata": {
      "needs_background": "light"
     },
     "output_type": "display_data"
    }
   ],
   "source": [
    "plt.bar(x=carrier_delays.index, height=carrier_delays.values)"
   ]
  },
  {
   "cell_type": "markdown",
   "id": "quarterly-reach",
   "metadata": {},
   "source": [
    "There seems to be a significant difference in average delays per carrier, so that's worth factoring in."
   ]
  },
  {
   "cell_type": "code",
   "execution_count": 55,
   "id": "dated-initial",
   "metadata": {},
   "outputs": [],
   "source": [
    "# create rankings for carriers\n",
    "rankings = {}\n",
    "for carr in carrier_delays.index:\n",
    "    if carrier_delays[carr] <= -2:\n",
    "        rankings[carr] = 0\n",
    "    elif carrier_delays[carr] > -2 and carrier_delays[carr] <= 0:\n",
    "        rankings[carr] = 1\n",
    "    elif carrier_delays[carr] > 0:\n",
    "        rankings[carr] = 2\n",
    "        \n",
    "def rank_carrier(carr):\n",
    "    return rankings[carr]\n",
    "\n",
    "df_train['carrier_speed_rank'] = df_train['mkt_unique_carrier'].apply(rank_carrier)"
   ]
  },
  {
   "cell_type": "code",
   "execution_count": 74,
   "id": "adult-edwards",
   "metadata": {},
   "outputs": [
    {
     "data": {
      "text/plain": [
       "Text(0.5, 1.0, 'Mean delay times by flight number')"
      ]
     },
     "execution_count": 74,
     "metadata": {},
     "output_type": "execute_result"
    },
    {
     "data": {
      "image/png": "[encoded data removed]",
      "text/plain": [
       "<Figure size 432x288 with 1 Axes>"
      ]
     },
     "metadata": {
      "needs_background": "light"
     },
     "output_type": "display_data"
    }
   ],
   "source": [
    "# check distribution of mean delay per flight number\n",
    "flight_num_delay = df_train.groupby(['op_unique_carrier','op_carrier_fl_num']).mean().arr_delay.sort_values()\n",
    "\n",
    "plt.hist(flight_num_delay, bins=50)\n",
    "plt.xlabel(\"mean_delay\")\n",
    "plt.title(\"Mean delay times by flight number\")"
   ]
  },
  {
   "cell_type": "code",
   "execution_count": 75,
   "id": "everyday-russell",
   "metadata": {},
   "outputs": [
    {
     "data": {
      "text/plain": [
       "op_unique_carrier  op_carrier_fl_num\n",
       "OO                 4749                 0\n",
       "DL                 2214                 0\n",
       "B6                 1088                 0\n",
       "EV                 5299                 0\n",
       "UA                 641                  0\n",
       "                                       ..\n",
       "G4                 2109                 4\n",
       "9E                 5540                 4\n",
       "ZW                 3156                 4\n",
       "AS                 280                  4\n",
       "AA                 2162                 4\n",
       "Name: arr_delay, Length: 24903, dtype: category\n",
       "Categories (5, int64): [0 < 1 < 2 < 3 < 4]"
      ]
     },
     "execution_count": 75,
     "metadata": {},
     "output_type": "execute_result"
    }
   ],
   "source": [
    "# bin by mean delay time\n",
    "ranks = pd.qcut(flight_num_delay, 5, labels = [0,1,2,3,4])\n",
    "ranks"
   ]
  },
  {
   "cell_type": "code",
   "execution_count": 77,
   "id": "affected-granny",
   "metadata": {},
   "outputs": [],
   "source": [
    "df_train['flight_num_speed_rank'] = df_train.apply(lambda x: ranks.loc[x.op_unique_carrier, x.op_carrier_fl_num], axis=1)"
   ]
  },
  {
   "cell_type": "code",
   "execution_count": 86,
   "id": "meaning-state",
   "metadata": {},
   "outputs": [],
   "source": [
    "# add month column\n",
    "def month(datestring):\n",
    "    date = datetime.strptime(datestring, \"%Y-%m-%d\")\n",
    "    return date.month\n",
    "\n",
    "df_train['month'] = df_train.fl_date.apply(month)"
   ]
  },
  {
   "cell_type": "code",
   "execution_count": 93,
   "id": "third-consortium",
   "metadata": {},
   "outputs": [
    {
     "data": {
      "text/plain": [
       "Text(0.5, 1.0, 'mean delays per month')"
      ]
     },
     "execution_count": 93,
     "metadata": {},
     "output_type": "execute_result"
    },
    {
     "data": {
      "image/png": "[encoded data removed]",
      "text/plain": [
       "<Figure size 432x288 with 1 Axes>"
      ]
     },
     "metadata": {
      "needs_background": "light"
     },
     "output_type": "display_data"
    }
   ],
   "source": [
    "# check correlation of month with delay\n",
    "month_delays = df_train.groupby('month').mean().arr_delay\n",
    "\n",
    "plt.bar(x=month_delays.index, height=month_delays.values)\n",
    "plt.xlabel(\"month\")\n",
    "plt.ylabel(\"mean arr_delay\")\n",
    "plt.title(\"mean delays per month\")"
   ]
  },
  {
   "cell_type": "code",
   "execution_count": 99,
   "id": "offensive-scope",
   "metadata": {},
   "outputs": [],
   "source": [
    "# bin months by mean delays\n",
    "bins = pd.qcut(month_delays, 3, labels=[0,1,2])\n",
    "df_train['month_rank'] = df_train.month.apply(lambda x: bins.loc[x])"
   ]
  },
  {
   "cell_type": "code",
   "execution_count": 112,
   "id": "conscious-mapping",
   "metadata": {},
   "outputs": [],
   "source": [
    "# add columns for hour of departure and arrival \n",
    "def hour(t):\n",
    "    s = str(t)\n",
    "    if len(s) < 3:\n",
    "        return 0\n",
    "    elif len(s) == 3:\n",
    "        return int(s[0])\n",
    "    elif len(s) == 4:\n",
    "        if int(s[:2]) == 24:\n",
    "            return 0\n",
    "        else:\n",
    "            return int(s[:2])\n",
    "\n",
    "df_train['dep_hour'] = df_train.crs_dep_time.apply(hour)\n",
    "df_train['arr_hour'] = df_train.crs_arr_time.apply(hour)"
   ]
  },
  {
   "cell_type": "code",
   "execution_count": 128,
   "id": "nutritional-fence",
   "metadata": {},
   "outputs": [
    {
     "data": {
      "text/plain": [
       "<BarContainer object of 24 artists>"
      ]
     },
     "execution_count": 128,
     "metadata": {},
     "output_type": "execute_result"
    },
    {
     "data": {
      "image/png": "[encoded data removed]",
      "text/plain": [
       "<Figure size 432x288 with 1 Axes>"
      ]
     },
     "metadata": {
      "needs_background": "light"
     },
     "output_type": "display_data"
    }
   ],
   "source": [
    "# relate hour of departure to arr_delay\n",
    "dep_hour_delay = df_train.groupby('dep_hour').mean().arr_delay\n",
    "plt.bar(x=dep_hour_delay.index, height=dep_hour_delay.values)"
   ]
  },
  {
   "cell_type": "code",
   "execution_count": 138,
   "id": "fancy-skirt",
   "metadata": {},
   "outputs": [],
   "source": [
    "# 0300 is an outlier because there's only one case of it\n",
    "ranks = pd.qcut(dep_hour_delay, 3, labels=[0,1,2])\n",
    "\n",
    "df_train['dep_hour_rank'] = df_train.dep_hour.apply(lambda x: ranks.loc[x])"
   ]
  },
  {
   "cell_type": "code",
   "execution_count": 135,
   "id": "equal-tower",
   "metadata": {},
   "outputs": [
    {
     "data": {
      "text/plain": [
       "<BarContainer object of 24 artists>"
      ]
     },
     "execution_count": 135,
     "metadata": {},
     "output_type": "execute_result"
    },
    {
     "data": {
      "image/png": "[encoded data removed]",
      "text/plain": [
       "<Figure size 432x288 with 1 Axes>"
      ]
     },
     "metadata": {
      "needs_background": "light"
     },
     "output_type": "display_data"
    }
   ],
   "source": [
    "# same for arrival hour\n",
    "arr_hour_delay = df_train.groupby('arr_hour').mean().arr_delay\n",
    "plt.bar(x=arr_hour_delay.index, height=arr_hour_delay.values)"
   ]
  },
  {
   "cell_type": "code",
   "execution_count": 140,
   "id": "unique-opening",
   "metadata": {},
   "outputs": [],
   "source": [
    "# bin values\n",
    "ranks = pd.qcut(arr_hour_delay, 3, labels=[0,1,2])\n",
    "\n",
    "df_train['arr_hour_rank'] = df_train.arr_hour.apply(lambda x: ranks.loc[x])"
   ]
  },
  {
   "cell_type": "code",
   "execution_count": 142,
   "id": "bacterial-language",
   "metadata": {},
   "outputs": [],
   "source": [
    "# save progress\n",
    "# df_train.to_csv('data/weather_features_save.csv')"
   ]
  },
  {
   "cell_type": "markdown",
   "id": "exact-chapter",
   "metadata": {},
   "source": [
    "#### Weather columns"
   ]
  },
  {
   "cell_type": "code",
   "execution_count": 143,
   "id": "smart-fields",
   "metadata": {},
   "outputs": [
    {
     "data": {
      "text/html": [
       "<div>\n",
       "<style scoped>\n",
       "    .dataframe tbody tr th:only-of-type {\n",
       "        vertical-align: middle;\n",
       "    }\n",
       "\n",
       "    .dataframe tbody tr th {\n",
       "        vertical-align: top;\n",
       "    }\n",
       "\n",
       "    .dataframe thead th {\n",
       "        text-align: right;\n",
       "    }\n",
       "</style>\n",
       "<table border=\"1\" class=\"dataframe\">\n",
       "  <thead>\n",
       "    <tr style=\"text-align: right;\">\n",
       "      <th></th>\n",
       "      <th>fl_date</th>\n",
       "      <th>mkt_unique_carrier</th>\n",
       "      <th>mkt_carrier_fl_num</th>\n",
       "      <th>op_unique_carrier</th>\n",
       "      <th>tail_num</th>\n",
       "      <th>op_carrier_fl_num</th>\n",
       "      <th>origin_airport_id</th>\n",
       "      <th>origin</th>\n",
       "      <th>dest_airport_id</th>\n",
       "      <th>dest</th>\n",
       "      <th>...</th>\n",
       "      <th>cloudcover</th>\n",
       "      <th>carrier_speed_rank</th>\n",
       "      <th>flight_num_speed_rank</th>\n",
       "      <th>month</th>\n",
       "      <th>month_rank</th>\n",
       "      <th>dep_hour</th>\n",
       "      <th>arr_hour</th>\n",
       "      <th>hour_rank</th>\n",
       "      <th>dep_hour_rank</th>\n",
       "      <th>arr_hour_rank</th>\n",
       "    </tr>\n",
       "  </thead>\n",
       "  <tbody>\n",
       "    <tr>\n",
       "      <th>0</th>\n",
       "      <td>2018-01-01</td>\n",
       "      <td>DL</td>\n",
       "      <td>3494</td>\n",
       "      <td>9E</td>\n",
       "      <td>N302PQ</td>\n",
       "      <td>3494</td>\n",
       "      <td>10397</td>\n",
       "      <td>ATL</td>\n",
       "      <td>15412</td>\n",
       "      <td>TYS</td>\n",
       "      <td>...</td>\n",
       "      <td>74.3</td>\n",
       "      <td>0</td>\n",
       "      <td>1</td>\n",
       "      <td>1</td>\n",
       "      <td>0</td>\n",
       "      <td>19</td>\n",
       "      <td>20</td>\n",
       "      <td>2</td>\n",
       "      <td>2</td>\n",
       "      <td>2</td>\n",
       "    </tr>\n",
       "    <tr>\n",
       "      <th>1</th>\n",
       "      <td>2018-01-01</td>\n",
       "      <td>DL</td>\n",
       "      <td>3500</td>\n",
       "      <td>9E</td>\n",
       "      <td>N316PQ</td>\n",
       "      <td>3500</td>\n",
       "      <td>10397</td>\n",
       "      <td>ATL</td>\n",
       "      <td>10431</td>\n",
       "      <td>AVL</td>\n",
       "      <td>...</td>\n",
       "      <td>74.3</td>\n",
       "      <td>0</td>\n",
       "      <td>0</td>\n",
       "      <td>1</td>\n",
       "      <td>0</td>\n",
       "      <td>22</td>\n",
       "      <td>22</td>\n",
       "      <td>2</td>\n",
       "      <td>2</td>\n",
       "      <td>2</td>\n",
       "    </tr>\n",
       "    <tr>\n",
       "      <th>2</th>\n",
       "      <td>2018-01-01</td>\n",
       "      <td>DL</td>\n",
       "      <td>3513</td>\n",
       "      <td>9E</td>\n",
       "      <td>N316PQ</td>\n",
       "      <td>3513</td>\n",
       "      <td>10397</td>\n",
       "      <td>ATL</td>\n",
       "      <td>11995</td>\n",
       "      <td>GSO</td>\n",
       "      <td>...</td>\n",
       "      <td>74.3</td>\n",
       "      <td>0</td>\n",
       "      <td>3</td>\n",
       "      <td>1</td>\n",
       "      <td>0</td>\n",
       "      <td>15</td>\n",
       "      <td>16</td>\n",
       "      <td>1</td>\n",
       "      <td>1</td>\n",
       "      <td>1</td>\n",
       "    </tr>\n",
       "    <tr>\n",
       "      <th>3</th>\n",
       "      <td>2018-01-01</td>\n",
       "      <td>B6</td>\n",
       "      <td>1</td>\n",
       "      <td>B6</td>\n",
       "      <td>N954JB</td>\n",
       "      <td>1</td>\n",
       "      <td>12478</td>\n",
       "      <td>JFK</td>\n",
       "      <td>11697</td>\n",
       "      <td>FLL</td>\n",
       "      <td>...</td>\n",
       "      <td>24.9</td>\n",
       "      <td>0</td>\n",
       "      <td>2</td>\n",
       "      <td>1</td>\n",
       "      <td>0</td>\n",
       "      <td>10</td>\n",
       "      <td>14</td>\n",
       "      <td>1</td>\n",
       "      <td>1</td>\n",
       "      <td>1</td>\n",
       "    </tr>\n",
       "    <tr>\n",
       "      <th>4</th>\n",
       "      <td>2018-01-01</td>\n",
       "      <td>B6</td>\n",
       "      <td>3</td>\n",
       "      <td>B6</td>\n",
       "      <td>N965JB</td>\n",
       "      <td>3</td>\n",
       "      <td>12478</td>\n",
       "      <td>JFK</td>\n",
       "      <td>14843</td>\n",
       "      <td>SJU</td>\n",
       "      <td>...</td>\n",
       "      <td>24.9</td>\n",
       "      <td>0</td>\n",
       "      <td>1</td>\n",
       "      <td>1</td>\n",
       "      <td>0</td>\n",
       "      <td>11</td>\n",
       "      <td>15</td>\n",
       "      <td>1</td>\n",
       "      <td>1</td>\n",
       "      <td>1</td>\n",
       "    </tr>\n",
       "  </tbody>\n",
       "</table>\n",
       "<p>5 rows × 42 columns</p>\n",
       "</div>"
      ],
      "text/plain": [
       "      fl_date mkt_unique_carrier  mkt_carrier_fl_num op_unique_carrier  \\\n",
       "0  2018-01-01                 DL                3494                9E   \n",
       "1  2018-01-01                 DL                3500                9E   \n",
       "2  2018-01-01                 DL                3513                9E   \n",
       "3  2018-01-01                 B6                   1                B6   \n",
       "4  2018-01-01                 B6                   3                B6   \n",
       "\n",
       "  tail_num  op_carrier_fl_num  origin_airport_id origin  dest_airport_id dest  \\\n",
       "0   N302PQ               3494              10397    ATL            15412  TYS   \n",
       "1   N316PQ               3500              10397    ATL            10431  AVL   \n",
       "2   N316PQ               3513              10397    ATL            11995  GSO   \n",
       "3   N954JB                  1              12478    JFK            11697  FLL   \n",
       "4   N965JB                  3              12478    JFK            14843  SJU   \n",
       "\n",
       "   ...  cloudcover  carrier_speed_rank  flight_num_speed_rank  month  \\\n",
       "0  ...        74.3                   0                      1      1   \n",
       "1  ...        74.3                   0                      0      1   \n",
       "2  ...        74.3                   0                      3      1   \n",
       "3  ...        24.9                   0                      2      1   \n",
       "4  ...        24.9                   0                      1      1   \n",
       "\n",
       "   month_rank  dep_hour  arr_hour  hour_rank  dep_hour_rank  arr_hour_rank  \n",
       "0           0        19        20          2              2              2  \n",
       "1           0        22        22          2              2              2  \n",
       "2           0        15        16          1              1              1  \n",
       "3           0        10        14          1              1              1  \n",
       "4           0        11        15          1              1              1  \n",
       "\n",
       "[5 rows x 42 columns]"
      ]
     },
     "execution_count": 143,
     "metadata": {},
     "output_type": "execute_result"
    }
   ],
   "source": [
    "df_train.head()"
   ]
  },
  {
   "cell_type": "code",
   "execution_count": 146,
   "id": "relative-acrobat",
   "metadata": {},
   "outputs": [
    {
     "name": "stdout",
     "output_type": "stream",
     "text": [
      "3225494\n",
      "3089145\n"
     ]
    }
   ],
   "source": [
    "print(len(df_train))\n",
    "df_train.dropna(inplace=True)\n",
    "print(len(df_train))"
   ]
  },
  {
   "cell_type": "code",
   "execution_count": 153,
   "id": "organized-convenience",
   "metadata": {},
   "outputs": [
    {
     "data": {
      "text/plain": [
       "(array([2.700057e+06, 1.539390e+05, 8.353800e+04, 5.511000e+04,\n",
       "        3.832000e+04, 1.920000e+04, 1.430200e+04, 5.101000e+03,\n",
       "        7.824000e+03, 1.956000e+03, 1.612000e+03, 1.106000e+03,\n",
       "        1.287000e+03, 1.661000e+03, 2.709000e+03, 0.000000e+00,\n",
       "        3.610000e+02, 0.000000e+00, 6.560000e+02, 4.060000e+02]),\n",
       " array([  0.   ,   5.941,  11.882,  17.823,  23.764,  29.705,  35.646,\n",
       "         41.587,  47.528,  53.469,  59.41 ,  65.351,  71.292,  77.233,\n",
       "         83.174,  89.115,  95.056, 100.997, 106.938, 112.879, 118.82 ]),\n",
       " <a list of 20 Patch objects>)"
      ]
     },
     "execution_count": 153,
     "metadata": {},
     "output_type": "execute_result"
    },
    {
     "data": {
      "image/png": "[encoded data removed]",
      "text/plain": [
       "<Figure size 432x288 with 1 Axes>"
      ]
     },
     "metadata": {
      "needs_background": "light"
     },
     "output_type": "display_data"
    }
   ],
   "source": [
    "# check distribution of weather columns\n",
    "plt.hist(df_train.precip, bins=20)"
   ]
  },
  {
   "cell_type": "code",
   "execution_count": 169,
   "id": "fleet-maine",
   "metadata": {},
   "outputs": [
    {
     "data": {
      "text/plain": [
       "precip\n",
       "light        2.076177\n",
       "moderate     8.457450\n",
       "heavy       11.300880\n",
       "Name: arr_delay, dtype: float64"
      ]
     },
     "execution_count": 169,
     "metadata": {},
     "output_type": "execute_result"
    }
   ],
   "source": [
    "# how well does nonzero precipitation correlate with delays?\n",
    "df_precip = df_train[df_train.precip != 0]\n",
    "precip = pd.cut(df_precip.precip, 3, labels = ['light','moderate','heavy'])\n",
    "df_precip.groupby(precip).mean().arr_delay\n",
    "# plt.scatter(x=precip.precip, y=precip.arr_delay)"
   ]
  },
  {
   "cell_type": "code",
   "execution_count": 199,
   "id": "auburn-challenge",
   "metadata": {},
   "outputs": [],
   "source": [
    "precip = pd.cut(df_precip.precip, 3, labels=[\"light\", \"moderate\", \"heavy\"])\n",
    "df_train['precip_cat'] = precip.astype(str)\n",
    "df_train.precip_cat.fillna(value=\"None\", inplace=True)"
   ]
  },
  {
   "cell_type": "code",
   "execution_count": 212,
   "id": "similar-conditions",
   "metadata": {},
   "outputs": [
    {
     "data": {
      "text/plain": [
       "Text(0, 0.5, 'Mean arr_delay')"
      ]
     },
     "execution_count": 212,
     "metadata": {},
     "output_type": "execute_result"
    },
    {
     "data": {
      "image/png": "[encoded data removed]",
      "text/plain": [
       "<Figure size 432x288 with 1 Axes>"
      ]
     },
     "metadata": {
      "needs_background": "light"
     },
     "output_type": "display_data"
    }
   ],
   "source": [
    "precip_means = df_train.groupby('precip_cat').mean().arr_delay.sort_values()\n",
    "plt.bar(x=precip_means.index, height=precip_means.values)\n",
    "plt.title(\"Effect of precipitation on delays\")\n",
    "plt.xlabel(\"Precipitation level\")\n",
    "plt.ylabel(\"Mean arr_delay\")"
   ]
  },
  {
   "cell_type": "markdown",
   "id": "olive-viking",
   "metadata": {},
   "source": [
    "#### Snow"
   ]
  },
  {
   "cell_type": "code",
   "execution_count": 149,
   "id": "sweet-reproduction",
   "metadata": {},
   "outputs": [
    {
     "data": {
      "text/plain": [
       "(array([3.029975e+06, 2.014900e+04, 2.010800e+04, 3.715000e+03,\n",
       "        6.960000e+03, 1.980000e+03, 1.474000e+03, 7.140000e+02,\n",
       "        2.380000e+03, 2.790000e+02, 2.240000e+02, 0.000000e+00,\n",
       "        4.300000e+02, 0.000000e+00, 6.440000e+02, 0.000000e+00,\n",
       "        1.700000e+01, 0.000000e+00, 0.000000e+00, 9.600000e+01]),\n",
       " array([ 0.   ,  0.737,  1.474,  2.211,  2.948,  3.685,  4.422,  5.159,\n",
       "         5.896,  6.633,  7.37 ,  8.107,  8.844,  9.581, 10.318, 11.055,\n",
       "        11.792, 12.529, 13.266, 14.003, 14.74 ]),\n",
       " <a list of 20 Patch objects>)"
      ]
     },
     "execution_count": 149,
     "metadata": {},
     "output_type": "execute_result"
    },
    {
     "data": {
      "image/png": "[encoded data removed]",
      "text/plain": [
       "<Figure size 432x288 with 1 Axes>"
      ]
     },
     "metadata": {
      "needs_background": "light"
     },
     "output_type": "display_data"
    }
   ],
   "source": [
    "plt.hist(df_train.snow, bins=20)"
   ]
  },
  {
   "cell_type": "code",
   "execution_count": 223,
   "id": "amateur-fisher",
   "metadata": {},
   "outputs": [
    {
     "data": {
      "text/plain": [
       "snow\n",
       "light    4.559622\n",
       "heavy    8.346590\n",
       "Name: arr_delay, dtype: float64"
      ]
     },
     "execution_count": 223,
     "metadata": {},
     "output_type": "execute_result"
    }
   ],
   "source": [
    "df_snow = df_train[df_train.snow != 0]\n",
    "snowcats = pd.qcut(df_snow.snow, 2, labels=[\"light\", \"heavy\"])\n",
    "df_snow.groupby(snowcats).mean().arr_delay"
   ]
  },
  {
   "cell_type": "code",
   "execution_count": 224,
   "id": "brilliant-arctic",
   "metadata": {},
   "outputs": [],
   "source": [
    "# add this into df_train\n",
    "df_train['snow_cat'] = snowcats.astype(str)\n",
    "df_train.snow_cat.fillna(value=\"None\", inplace=True)"
   ]
  },
  {
   "cell_type": "code",
   "execution_count": 225,
   "id": "organized-arbor",
   "metadata": {},
   "outputs": [
    {
     "data": {
      "text/plain": [
       "None     3014545\n",
       "light      37738\n",
       "heavy      36862\n",
       "Name: snow_cat, dtype: int64"
      ]
     },
     "execution_count": 225,
     "metadata": {},
     "output_type": "execute_result"
    }
   ],
   "source": [
    "df_train.snow_cat.value_counts()"
   ]
  },
  {
   "cell_type": "code",
   "execution_count": 228,
   "id": "mexican-interpretation",
   "metadata": {},
   "outputs": [
    {
     "data": {
      "text/plain": [
       "Text(0, 0.5, 'Mean arr_delay')"
      ]
     },
     "execution_count": 228,
     "metadata": {},
     "output_type": "execute_result"
    },
    {
     "data": {
      "image/png": "[encoded data removed]",
      "text/plain": [
       "<Figure size 432x288 with 1 Axes>"
      ]
     },
     "metadata": {
      "needs_background": "light"
     },
     "output_type": "display_data"
    }
   ],
   "source": [
    "snow_means = df_train.groupby('snow_cat').mean().arr_delay.sort_values()\n",
    "plt.bar(x=snow_means.index, height=snow_means.values)\n",
    "plt.title(\"Effect of snow on delays\")\n",
    "plt.xlabel(\"Snow level\")\n",
    "plt.ylabel(\"Mean arr_delay\")"
   ]
  },
  {
   "cell_type": "markdown",
   "id": "minute-fundamental",
   "metadata": {},
   "source": [
    "#### Windgust"
   ]
  },
  {
   "cell_type": "code",
   "execution_count": 233,
   "id": "turkish-presentation",
   "metadata": {},
   "outputs": [
    {
     "data": {
      "text/plain": [
       "(array([1.036987e+06, 0.000000e+00, 8.340000e+02, 0.000000e+00,\n",
       "        3.126140e+05, 5.929360e+05, 3.340840e+05, 3.049480e+05,\n",
       "        2.216490e+05, 1.098660e+05, 7.347900e+04, 3.737200e+04,\n",
       "        3.792700e+04, 1.242400e+04, 6.593000e+03, 4.835000e+03,\n",
       "        7.060000e+02, 1.228000e+03, 2.770000e+02, 3.860000e+02]),\n",
       " array([  0.   ,   6.285,  12.57 ,  18.855,  25.14 ,  31.425,  37.71 ,\n",
       "         43.995,  50.28 ,  56.565,  62.85 ,  69.135,  75.42 ,  81.705,\n",
       "         87.99 ,  94.275, 100.56 , 106.845, 113.13 , 119.415, 125.7  ]),\n",
       " <a list of 20 Patch objects>)"
      ]
     },
     "execution_count": 233,
     "metadata": {},
     "output_type": "execute_result"
    },
    {
     "data": {
      "image/png": "[encoded data removed]",
      "text/plain": [
       "<Figure size 432x288 with 1 Axes>"
      ]
     },
     "metadata": {
      "needs_background": "light"
     },
     "output_type": "display_data"
    }
   ],
   "source": [
    "plt.hist(df_train.windgust, bins=20)"
   ]
  },
  {
   "cell_type": "code",
   "execution_count": 242,
   "id": "formal-armstrong",
   "metadata": {},
   "outputs": [
    {
     "data": {
      "text/plain": [
       "windgust\n",
       "light      -1.590572\n",
       "moderate   -0.423411\n",
       "strong      0.693297\n",
       "Name: arr_delay, dtype: float64"
      ]
     },
     "execution_count": 242,
     "metadata": {},
     "output_type": "execute_result"
    }
   ],
   "source": [
    "# bin only on nonzero values\n",
    "df_wind = df_train[df_train.windgust != 0]\n",
    "bins = pd.qcut(df_wind.windgust, 3, labels=['light','moderate','strong'])\n",
    "df_wind.groupby(bins).mean().arr_delay.sort_values()\n"
   ]
  },
  {
   "cell_type": "code",
   "execution_count": 237,
   "id": "finite-degree",
   "metadata": {},
   "outputs": [],
   "source": []
  },
  {
   "cell_type": "code",
   "execution_count": 246,
   "id": "stuck-locking",
   "metadata": {},
   "outputs": [],
   "source": [
    "df_train['windgust_cat'] = bins.astype(str)\n",
    "df_train.windgust_cat.fillna(value=\"None\", inplace=True)"
   ]
  },
  {
   "cell_type": "markdown",
   "id": "mobile-movement",
   "metadata": {},
   "source": [
    "### cloudcover"
   ]
  },
  {
   "cell_type": "code",
   "execution_count": 248,
   "id": "extended-polymer",
   "metadata": {},
   "outputs": [
    {
     "data": {
      "text/plain": [
       "(array([ 80165., 152488., 240236., 297745., 382701., 418303., 423236.,\n",
       "        350213., 334110., 409948.]),\n",
       " array([  0.,  10.,  20.,  30.,  40.,  50.,  60.,  70.,  80.,  90., 100.]),\n",
       " <a list of 10 Patch objects>)"
      ]
     },
     "execution_count": 248,
     "metadata": {},
     "output_type": "execute_result"
    },
    {
     "data": {
      "image/png": "[encoded data removed]",
      "text/plain": [
       "<Figure size 432x288 with 1 Axes>"
      ]
     },
     "metadata": {
      "needs_background": "light"
     },
     "output_type": "display_data"
    }
   ],
   "source": [
    "plt.hist(df_train.cloudcover)"
   ]
  },
  {
   "cell_type": "code",
   "execution_count": 256,
   "id": "canadian-unknown",
   "metadata": {},
   "outputs": [
    {
     "data": {
      "text/plain": [
       "cloudcover\n",
       "0   -2.594220\n",
       "1   -1.539841\n",
       "2    0.735651\n",
       "Name: arr_delay, dtype: float64"
      ]
     },
     "execution_count": 256,
     "metadata": {},
     "output_type": "execute_result"
    }
   ],
   "source": [
    "bins = pd.qcut(df_train.cloudcover, 3, labels=[0,1,2])\n",
    "df_train.groupby(bins).mean().arr_delay.sort_values()"
   ]
  },
  {
   "cell_type": "code",
   "execution_count": 257,
   "id": "resistant-sunset",
   "metadata": {},
   "outputs": [],
   "source": [
    "df_train['cloud_cat'] = bins"
   ]
  },
  {
   "cell_type": "code",
   "execution_count": 259,
   "id": "incorporated-homework",
   "metadata": {},
   "outputs": [],
   "source": [
    "# df_train.to_csv('data/weather_feature_save.csv')"
   ]
  },
  {
   "cell_type": "code",
   "execution_count": 260,
   "id": "therapeutic-singapore",
   "metadata": {},
   "outputs": [
    {
     "data": {
      "text/plain": [
       "Index(['fl_date', 'mkt_unique_carrier', 'mkt_carrier_fl_num',\n",
       "       'op_unique_carrier', 'tail_num', 'op_carrier_fl_num',\n",
       "       'origin_airport_id', 'origin', 'dest_airport_id', 'dest',\n",
       "       'crs_dep_time', 'dep_time', 'dep_delay', 'taxi_out', 'wheels_off',\n",
       "       'wheels_on', 'taxi_in', 'crs_arr_time', 'arr_time', 'arr_delay',\n",
       "       'diverted', 'crs_elapsed_time', 'actual_elapsed_time', 'distance',\n",
       "       'carrier_delay', 'weather_delay', 'nas_delay', 'security_delay',\n",
       "       'late_aircraft_delay', 'precip', 'snow', 'windgust', 'cloudcover',\n",
       "       'carrier_speed_rank', 'flight_num_speed_rank', 'month', 'month_rank',\n",
       "       'dep_hour', 'arr_hour', 'hour_rank', 'dep_hour_rank', 'arr_hour_rank',\n",
       "       'precip_cat', 'snow_cat', 'windgust_cat', 'cloud_cat'],\n",
       "      dtype='object')"
      ]
     },
     "execution_count": 260,
     "metadata": {},
     "output_type": "execute_result"
    }
   ],
   "source": [
    "df_train.columns"
   ]
  },
  {
   "cell_type": "code",
   "execution_count": 263,
   "id": "contrary-simpson",
   "metadata": {},
   "outputs": [
    {
     "data": {
      "text/html": [
       "<div>\n",
       "<style scoped>\n",
       "    .dataframe tbody tr th:only-of-type {\n",
       "        vertical-align: middle;\n",
       "    }\n",
       "\n",
       "    .dataframe tbody tr th {\n",
       "        vertical-align: top;\n",
       "    }\n",
       "\n",
       "    .dataframe thead th {\n",
       "        text-align: right;\n",
       "    }\n",
       "</style>\n",
       "<table border=\"1\" class=\"dataframe\">\n",
       "  <thead>\n",
       "    <tr style=\"text-align: right;\">\n",
       "      <th></th>\n",
       "      <th>carrier_speed_rank</th>\n",
       "      <th>flight_num_speed_rank</th>\n",
       "      <th>month_rank</th>\n",
       "      <th>dep_hour_rank</th>\n",
       "      <th>arr_hour_rank</th>\n",
       "      <th>precip_cat</th>\n",
       "      <th>snow_cat</th>\n",
       "      <th>windgust_cat</th>\n",
       "      <th>cloud_cat</th>\n",
       "      <th>arr_delay</th>\n",
       "    </tr>\n",
       "  </thead>\n",
       "  <tbody>\n",
       "    <tr>\n",
       "      <th>0</th>\n",
       "      <td>0</td>\n",
       "      <td>1</td>\n",
       "      <td>0</td>\n",
       "      <td>2</td>\n",
       "      <td>2</td>\n",
       "      <td>None</td>\n",
       "      <td>None</td>\n",
       "      <td>moderate</td>\n",
       "      <td>2</td>\n",
       "      <td>-2.0</td>\n",
       "    </tr>\n",
       "    <tr>\n",
       "      <th>1</th>\n",
       "      <td>0</td>\n",
       "      <td>0</td>\n",
       "      <td>0</td>\n",
       "      <td>2</td>\n",
       "      <td>2</td>\n",
       "      <td>None</td>\n",
       "      <td>None</td>\n",
       "      <td>moderate</td>\n",
       "      <td>2</td>\n",
       "      <td>-6.0</td>\n",
       "    </tr>\n",
       "    <tr>\n",
       "      <th>2</th>\n",
       "      <td>0</td>\n",
       "      <td>3</td>\n",
       "      <td>0</td>\n",
       "      <td>1</td>\n",
       "      <td>1</td>\n",
       "      <td>None</td>\n",
       "      <td>None</td>\n",
       "      <td>moderate</td>\n",
       "      <td>2</td>\n",
       "      <td>-12.0</td>\n",
       "    </tr>\n",
       "    <tr>\n",
       "      <th>3</th>\n",
       "      <td>0</td>\n",
       "      <td>2</td>\n",
       "      <td>0</td>\n",
       "      <td>1</td>\n",
       "      <td>1</td>\n",
       "      <td>None</td>\n",
       "      <td>None</td>\n",
       "      <td>strong</td>\n",
       "      <td>0</td>\n",
       "      <td>74.0</td>\n",
       "    </tr>\n",
       "    <tr>\n",
       "      <th>4</th>\n",
       "      <td>0</td>\n",
       "      <td>1</td>\n",
       "      <td>0</td>\n",
       "      <td>1</td>\n",
       "      <td>1</td>\n",
       "      <td>None</td>\n",
       "      <td>None</td>\n",
       "      <td>strong</td>\n",
       "      <td>0</td>\n",
       "      <td>32.0</td>\n",
       "    </tr>\n",
       "    <tr>\n",
       "      <th>...</th>\n",
       "      <td>...</td>\n",
       "      <td>...</td>\n",
       "      <td>...</td>\n",
       "      <td>...</td>\n",
       "      <td>...</td>\n",
       "      <td>...</td>\n",
       "      <td>...</td>\n",
       "      <td>...</td>\n",
       "      <td>...</td>\n",
       "      <td>...</td>\n",
       "    </tr>\n",
       "    <tr>\n",
       "      <th>4141424</th>\n",
       "      <td>2</td>\n",
       "      <td>3</td>\n",
       "      <td>2</td>\n",
       "      <td>2</td>\n",
       "      <td>2</td>\n",
       "      <td>None</td>\n",
       "      <td>None</td>\n",
       "      <td>light</td>\n",
       "      <td>0</td>\n",
       "      <td>-15.0</td>\n",
       "    </tr>\n",
       "    <tr>\n",
       "      <th>4141426</th>\n",
       "      <td>2</td>\n",
       "      <td>2</td>\n",
       "      <td>2</td>\n",
       "      <td>1</td>\n",
       "      <td>1</td>\n",
       "      <td>None</td>\n",
       "      <td>None</td>\n",
       "      <td>light</td>\n",
       "      <td>0</td>\n",
       "      <td>-19.0</td>\n",
       "    </tr>\n",
       "    <tr>\n",
       "      <th>4141428</th>\n",
       "      <td>2</td>\n",
       "      <td>4</td>\n",
       "      <td>2</td>\n",
       "      <td>2</td>\n",
       "      <td>2</td>\n",
       "      <td>light</td>\n",
       "      <td>None</td>\n",
       "      <td>strong</td>\n",
       "      <td>1</td>\n",
       "      <td>82.0</td>\n",
       "    </tr>\n",
       "    <tr>\n",
       "      <th>4141429</th>\n",
       "      <td>2</td>\n",
       "      <td>4</td>\n",
       "      <td>2</td>\n",
       "      <td>2</td>\n",
       "      <td>2</td>\n",
       "      <td>light</td>\n",
       "      <td>None</td>\n",
       "      <td>strong</td>\n",
       "      <td>1</td>\n",
       "      <td>22.0</td>\n",
       "    </tr>\n",
       "    <tr>\n",
       "      <th>4141430</th>\n",
       "      <td>2</td>\n",
       "      <td>3</td>\n",
       "      <td>2</td>\n",
       "      <td>0</td>\n",
       "      <td>0</td>\n",
       "      <td>light</td>\n",
       "      <td>None</td>\n",
       "      <td>strong</td>\n",
       "      <td>1</td>\n",
       "      <td>2.0</td>\n",
       "    </tr>\n",
       "  </tbody>\n",
       "</table>\n",
       "<p>3089145 rows × 10 columns</p>\n",
       "</div>"
      ],
      "text/plain": [
       "         carrier_speed_rank  flight_num_speed_rank  month_rank  dep_hour_rank  \\\n",
       "0                         0                      1           0              2   \n",
       "1                         0                      0           0              2   \n",
       "2                         0                      3           0              1   \n",
       "3                         0                      2           0              1   \n",
       "4                         0                      1           0              1   \n",
       "...                     ...                    ...         ...            ...   \n",
       "4141424                   2                      3           2              2   \n",
       "4141426                   2                      2           2              1   \n",
       "4141428                   2                      4           2              2   \n",
       "4141429                   2                      4           2              2   \n",
       "4141430                   2                      3           2              0   \n",
       "\n",
       "         arr_hour_rank precip_cat snow_cat windgust_cat cloud_cat  arr_delay  \n",
       "0                    2       None     None     moderate         2       -2.0  \n",
       "1                    2       None     None     moderate         2       -6.0  \n",
       "2                    1       None     None     moderate         2      -12.0  \n",
       "3                    1       None     None       strong         0       74.0  \n",
       "4                    1       None     None       strong         0       32.0  \n",
       "...                ...        ...      ...          ...       ...        ...  \n",
       "4141424              2       None     None        light         0      -15.0  \n",
       "4141426              1       None     None        light         0      -19.0  \n",
       "4141428              2      light     None       strong         1       82.0  \n",
       "4141429              2      light     None       strong         1       22.0  \n",
       "4141430              0      light     None       strong         1        2.0  \n",
       "\n",
       "[3089145 rows x 10 columns]"
      ]
     },
     "execution_count": 263,
     "metadata": {},
     "output_type": "execute_result"
    }
   ],
   "source": [
    "feats = df_train[['carrier_speed_rank', 'flight_num_speed_rank', 'month_rank',\n",
    "                  'dep_hour_rank', 'arr_hour_rank', 'precip_cat', 'snow_cat',\n",
    "                  'windgust_cat', 'cloud_cat','arr_delay']]\n",
    "feats"
   ]
  },
  {
   "cell_type": "code",
   "execution_count": 266,
   "id": "silent-holmes",
   "metadata": {},
   "outputs": [],
   "source": [
    "feats = pd.get_dummies(data=feats)"
   ]
  },
  {
   "cell_type": "markdown",
   "id": "million-future",
   "metadata": {},
   "source": [
    "# Model 1: LinReg, sample of data, weather only"
   ]
  },
  {
   "cell_type": "code",
   "execution_count": 274,
   "id": "complex-bankruptcy",
   "metadata": {},
   "outputs": [],
   "source": [
    "# create sample of data\n",
    "feats_sample = feats.sample(n=10000, random_state=58)"
   ]
  },
  {
   "cell_type": "code",
   "execution_count": 277,
   "id": "enabling-practitioner",
   "metadata": {},
   "outputs": [],
   "source": [
    "X = feats_sample[['precip_cat_None',\n",
    "       'precip_cat_heavy', 'precip_cat_light', 'precip_cat_moderate',\n",
    "       'snow_cat_None', 'snow_cat_heavy', 'snow_cat_light',\n",
    "       'windgust_cat_None', 'windgust_cat_light', 'windgust_cat_moderate',\n",
    "       'windgust_cat_strong', 'cloud_cat_0', 'cloud_cat_1', 'cloud_cat_2']].to_numpy()\n",
    "y = feats_sample.arr_delay\n",
    "\n",
    "X_train, X_test, y_train, y_test = train_test_split(X, y, test_size=0.2)"
   ]
  },
  {
   "cell_type": "code",
   "execution_count": 279,
   "id": "unable-perception",
   "metadata": {},
   "outputs": [
    {
     "data": {
      "text/plain": [
       "LinearRegression()"
      ]
     },
     "execution_count": 279,
     "metadata": {},
     "output_type": "execute_result"
    }
   ],
   "source": [
    "lr = LinearRegression()\n",
    "lr.fit(X_train, y_train)"
   ]
  },
  {
   "cell_type": "code",
   "execution_count": 294,
   "id": "after-manual",
   "metadata": {},
   "outputs": [],
   "source": [
    "filename = 'models/lr.sav'\n",
    "pickle.dump(lr, open(filename, 'wb'))"
   ]
  },
  {
   "cell_type": "code",
   "execution_count": 281,
   "id": "dated-counter",
   "metadata": {},
   "outputs": [
    {
     "data": {
      "text/plain": [
       "0.026503953784403622"
      ]
     },
     "execution_count": 281,
     "metadata": {},
     "output_type": "execute_result"
    }
   ],
   "source": [
    "lr.score(X_test, y_test)"
   ]
  },
  {
   "cell_type": "markdown",
   "id": "brutal-landing",
   "metadata": {},
   "source": [
    "# Model 2: Whole set, weather only"
   ]
  },
  {
   "cell_type": "code",
   "execution_count": 283,
   "id": "compliant-husband",
   "metadata": {},
   "outputs": [],
   "source": [
    "X = feats[['precip_cat_None',\n",
    "       'precip_cat_heavy', 'precip_cat_light', 'precip_cat_moderate',\n",
    "       'snow_cat_None', 'snow_cat_heavy', 'snow_cat_light',\n",
    "       'windgust_cat_None', 'windgust_cat_light', 'windgust_cat_moderate',\n",
    "       'windgust_cat_strong', 'cloud_cat_0', 'cloud_cat_1', 'cloud_cat_2']].to_numpy()\n",
    "y = feats.arr_delay\n",
    "\n",
    "X_train, X_test, y_train, y_test = train_test_split(X, y, test_size=0.2)"
   ]
  },
  {
   "cell_type": "code",
   "execution_count": 284,
   "id": "specified-fusion",
   "metadata": {},
   "outputs": [
    {
     "data": {
      "text/plain": [
       "LinearRegression()"
      ]
     },
     "execution_count": 284,
     "metadata": {},
     "output_type": "execute_result"
    }
   ],
   "source": [
    "lr2 = LinearRegression()\n",
    "lr2.fit(X_train, y_train)"
   ]
  },
  {
   "cell_type": "code",
   "execution_count": 295,
   "id": "consolidated-ticket",
   "metadata": {},
   "outputs": [],
   "source": [
    "filename = 'models/lr2.sav'\n",
    "pickle.dump(lr2, open(filename, 'wb'))"
   ]
  },
  {
   "cell_type": "code",
   "execution_count": 285,
   "id": "sublime-prefix",
   "metadata": {},
   "outputs": [
    {
     "data": {
      "text/plain": [
       "0.01747998952818297"
      ]
     },
     "execution_count": 285,
     "metadata": {},
     "output_type": "execute_result"
    }
   ],
   "source": [
    "lr2.score(X_test, y_test)"
   ]
  },
  {
   "cell_type": "markdown",
   "id": "specific-falls",
   "metadata": {},
   "source": [
    "# Model 3: Linear Regression, whole set, all features"
   ]
  },
  {
   "cell_type": "code",
   "execution_count": 287,
   "id": "difficult-basket",
   "metadata": {},
   "outputs": [],
   "source": [
    "X = feats.drop(columns='arr_delay').to_numpy()\n",
    "y = feats.arr_delay.to_numpy()\n",
    "\n",
    "X_train, X_test, y_train, y_test = train_test_split(X, y, test_size=0.2)"
   ]
  },
  {
   "cell_type": "code",
   "execution_count": 288,
   "id": "instrumental-easter",
   "metadata": {},
   "outputs": [
    {
     "data": {
      "text/plain": [
       "LinearRegression()"
      ]
     },
     "execution_count": 288,
     "metadata": {},
     "output_type": "execute_result"
    }
   ],
   "source": [
    "lr3 = LinearRegression()\n",
    "lr3.fit(X_train, y_train)"
   ]
  },
  {
   "cell_type": "code",
   "execution_count": 296,
   "id": "enhanced-kentucky",
   "metadata": {},
   "outputs": [],
   "source": [
    "filename = 'models/lr3.sav'\n",
    "pickle.dump(lr3, open(filename, 'wb'))"
   ]
  },
  {
   "cell_type": "code",
   "execution_count": 290,
   "id": "diverse-luther",
   "metadata": {},
   "outputs": [
    {
     "data": {
      "text/plain": [
       "0.07250786250338603"
      ]
     },
     "execution_count": 290,
     "metadata": {},
     "output_type": "execute_result"
    }
   ],
   "source": [
    "lr3.score(X_test, y_test)"
   ]
  }
 ],
 "metadata": {
  "kernelspec": {
   "display_name": "Python 3",
   "language": "python",
   "name": "python3"
  },
  "language_info": {
   "codemirror_mode": {
    "name": "ipython",
    "version": 3
   },
   "file_extension": ".py",
   "mimetype": "text/x-python",
   "name": "python",
   "nbconvert_exporter": "python",
   "pygments_lexer": "ipython3",
   "version": "3.6.10"
  }
 },
 "nbformat": 4,
 "nbformat_minor": 5
}
