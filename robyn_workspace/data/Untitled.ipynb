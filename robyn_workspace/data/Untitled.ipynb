{
 "cells": [
  {
   "cell_type": "markdown",
   "id": "aerial-bunch",
   "metadata": {},
   "source": [
    "editing the flights250k_cleaned csv for preparation of google cloud csv upload"
   ]
  },
  {
   "cell_type": "code",
   "execution_count": null,
   "id": "established-denver",
   "metadata": {},
   "outputs": [],
   "source": [
    "flights = pd.read_csv('flights250k_cleaned.csv', index_col=0)\n",
    "flights.to_csv('flights_stripped.csv', index=False, headers=False)"
   ]
  },
  {
   "cell_type": "code",
   "execution_count": 3,
   "id": "australian-weather",
   "metadata": {},
   "outputs": [
    {
     "ename": "ModuleNotFoundError",
     "evalue": "No module named 'gcp'",
     "output_type": "error",
     "traceback": [
      "\u001b[0;31m---------------------------------------------------------------------------\u001b[0m",
      "\u001b[0;31mModuleNotFoundError\u001b[0m                       Traceback (most recent call last)",
      "\u001b[0;32m<ipython-input-3-95d45f1e2e1e>\u001b[0m in \u001b[0;36m<module>\u001b[0;34m\u001b[0m\n\u001b[0;32m----> 1\u001b[0;31m \u001b[0;32mimport\u001b[0m \u001b[0mgcp\u001b[0m\u001b[0;34m\u001b[0m\u001b[0;34m\u001b[0m\u001b[0m\n\u001b[0m",
      "\u001b[0;31mModuleNotFoundError\u001b[0m: No module named 'gcp'"
     ]
    }
   ],
   "source": [
    "import gcp"
   ]
  },
  {
   "cell_type": "code",
   "execution_count": null,
   "id": "comfortable-investigation",
   "metadata": {},
   "outputs": [],
   "source": []
  }
 ],
 "metadata": {
  "kernelspec": {
   "display_name": "LHL_Bootcamp",
   "language": "python",
   "name": "lhl_bootcamp"
  },
  "language_info": {
   "codemirror_mode": {
    "name": "ipython",
    "version": 3
   },
   "file_extension": ".py",
   "mimetype": "text/x-python",
   "name": "python",
   "nbconvert_exporter": "python",
   "pygments_lexer": "ipython3",
   "version": "3.7.10"
  }
 },
 "nbformat": 4,
 "nbformat_minor": 5
}
