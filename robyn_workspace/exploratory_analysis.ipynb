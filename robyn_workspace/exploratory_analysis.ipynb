{
 "cells": [
  {
   "cell_type": "code",
   "execution_count": 1,
   "metadata": {},
   "outputs": [],
   "source": [
    "import pandas as pd\n",
    "pd.set_option('display.max_columns', None)\n",
    "import numpy as np\n",
    "import matplotlib.pyplot as plt\n",
    "import seaborn as sns\n",
    "import os\n",
    "from sqlalchemy import create_engine\n",
    "import time\n",
    "from IPython.core.interactiveshell import InteractiveShell\n",
    "InteractiveShell.ast_node_interactivity = \"all\"\n",
    "import warnings\n",
    "warnings.filterwarnings('ignore')\n",
    "from PIL import Image\n",
    "import scipy.stats as st\n",
    "from datetime import datetime, date, time\n",
    "import plotly.graph_objects as go\n",
    "import plotly.express as px\n",
    "%matplotlib inline"
   ]
  },
  {
   "cell_type": "markdown",
   "metadata": {},
   "source": [
    "## Exploratory Data Analysis\n",
    "\n",
    "Use this notebook to get familiar with the datasets we have. There is 10 questions we need to answer during the EDA.\n",
    "\n",
    "\n",
    "We shouldn't limit our EDA to these 10 questions. Let's be creative :)."
   ]
  },
  {
   "cell_type": "markdown",
   "metadata": {},
   "source": [
    "#### Data Cleaning"
   ]
  },
  {
   "cell_type": "code",
   "execution_count": 2,
   "metadata": {},
   "outputs": [
    {
     "data": {
      "text/html": [
       "<div>\n",
       "<style scoped>\n",
       "    .dataframe tbody tr th:only-of-type {\n",
       "        vertical-align: middle;\n",
       "    }\n",
       "\n",
       "    .dataframe tbody tr th {\n",
       "        vertical-align: top;\n",
       "    }\n",
       "\n",
       "    .dataframe thead th {\n",
       "        text-align: right;\n",
       "    }\n",
       "</style>\n",
       "<table border=\"1\" class=\"dataframe\">\n",
       "  <thead>\n",
       "    <tr style=\"text-align: right;\">\n",
       "      <th></th>\n",
       "      <th>fl_date</th>\n",
       "      <th>mkt_unique_carrier</th>\n",
       "      <th>branded_code_share</th>\n",
       "      <th>mkt_carrier</th>\n",
       "      <th>mkt_carrier_fl_num</th>\n",
       "      <th>op_unique_carrier</th>\n",
       "      <th>tail_num</th>\n",
       "      <th>op_carrier_fl_num</th>\n",
       "      <th>origin_airport_id</th>\n",
       "      <th>origin</th>\n",
       "      <th>origin_city_name</th>\n",
       "      <th>dest_airport_id</th>\n",
       "      <th>dest</th>\n",
       "      <th>dest_city_name</th>\n",
       "      <th>crs_dep_time</th>\n",
       "      <th>dep_time</th>\n",
       "      <th>dep_delay</th>\n",
       "      <th>taxi_out</th>\n",
       "      <th>wheels_off</th>\n",
       "      <th>wheels_on</th>\n",
       "      <th>taxi_in</th>\n",
       "      <th>crs_arr_time</th>\n",
       "      <th>arr_time</th>\n",
       "      <th>arr_delay</th>\n",
       "      <th>diverted</th>\n",
       "      <th>dup</th>\n",
       "      <th>crs_elapsed_time</th>\n",
       "      <th>actual_elapsed_time</th>\n",
       "      <th>air_time</th>\n",
       "      <th>flights</th>\n",
       "      <th>distance</th>\n",
       "      <th>carrier_delay</th>\n",
       "      <th>weather_delay</th>\n",
       "      <th>nas_delay</th>\n",
       "      <th>security_delay</th>\n",
       "      <th>late_aircraft_delay</th>\n",
       "      <th>first_dep_time</th>\n",
       "      <th>total_add_gtime</th>\n",
       "      <th>longest_add_gtime</th>\n",
       "    </tr>\n",
       "  </thead>\n",
       "  <tbody>\n",
       "    <tr>\n",
       "      <th>0</th>\n",
       "      <td>2018-06-17</td>\n",
       "      <td>WN</td>\n",
       "      <td>WN</td>\n",
       "      <td>WN</td>\n",
       "      <td>5273</td>\n",
       "      <td>WN</td>\n",
       "      <td>N299WN</td>\n",
       "      <td>5273</td>\n",
       "      <td>14492</td>\n",
       "      <td>RDU</td>\n",
       "      <td>Raleigh/Durham, NC</td>\n",
       "      <td>15304</td>\n",
       "      <td>TPA</td>\n",
       "      <td>Tampa, FL</td>\n",
       "      <td>1220</td>\n",
       "      <td>1220.0</td>\n",
       "      <td>0.0</td>\n",
       "      <td>16.0</td>\n",
       "      <td>1236.0</td>\n",
       "      <td>1357.0</td>\n",
       "      <td>17.0</td>\n",
       "      <td>1400</td>\n",
       "      <td>1414.0</td>\n",
       "      <td>14.0</td>\n",
       "      <td>0.0</td>\n",
       "      <td>N</td>\n",
       "      <td>100.0</td>\n",
       "      <td>114.0</td>\n",
       "      <td>81.0</td>\n",
       "      <td>1.0</td>\n",
       "      <td>587.0</td>\n",
       "      <td>0.0</td>\n",
       "      <td>0.0</td>\n",
       "      <td>0.0</td>\n",
       "      <td>0.0</td>\n",
       "      <td>0.0</td>\n",
       "      <td>NaN</td>\n",
       "      <td>0.0</td>\n",
       "      <td>0.0</td>\n",
       "    </tr>\n",
       "    <tr>\n",
       "      <th>1</th>\n",
       "      <td>2019-02-15</td>\n",
       "      <td>UA</td>\n",
       "      <td>UA_CODESHARE</td>\n",
       "      <td>UA</td>\n",
       "      <td>5421</td>\n",
       "      <td>OO</td>\n",
       "      <td>N787SK</td>\n",
       "      <td>5421</td>\n",
       "      <td>11109</td>\n",
       "      <td>COS</td>\n",
       "      <td>Colorado Springs, CO</td>\n",
       "      <td>11292</td>\n",
       "      <td>DEN</td>\n",
       "      <td>Denver, CO</td>\n",
       "      <td>1150</td>\n",
       "      <td>1142.0</td>\n",
       "      <td>-8.0</td>\n",
       "      <td>19.0</td>\n",
       "      <td>1201.0</td>\n",
       "      <td>1220.0</td>\n",
       "      <td>4.0</td>\n",
       "      <td>1242</td>\n",
       "      <td>1224.0</td>\n",
       "      <td>-18.0</td>\n",
       "      <td>0.0</td>\n",
       "      <td>N</td>\n",
       "      <td>52.0</td>\n",
       "      <td>42.0</td>\n",
       "      <td>19.0</td>\n",
       "      <td>1.0</td>\n",
       "      <td>73.0</td>\n",
       "      <td>0.0</td>\n",
       "      <td>0.0</td>\n",
       "      <td>0.0</td>\n",
       "      <td>0.0</td>\n",
       "      <td>0.0</td>\n",
       "      <td>NaN</td>\n",
       "      <td>0.0</td>\n",
       "      <td>0.0</td>\n",
       "    </tr>\n",
       "    <tr>\n",
       "      <th>2</th>\n",
       "      <td>2018-01-30</td>\n",
       "      <td>WN</td>\n",
       "      <td>WN</td>\n",
       "      <td>WN</td>\n",
       "      <td>492</td>\n",
       "      <td>WN</td>\n",
       "      <td>N791SW</td>\n",
       "      <td>492</td>\n",
       "      <td>11433</td>\n",
       "      <td>DTW</td>\n",
       "      <td>Detroit, MI</td>\n",
       "      <td>10821</td>\n",
       "      <td>BWI</td>\n",
       "      <td>Baltimore, MD</td>\n",
       "      <td>535</td>\n",
       "      <td>529.0</td>\n",
       "      <td>-6.0</td>\n",
       "      <td>30.0</td>\n",
       "      <td>559.0</td>\n",
       "      <td>703.0</td>\n",
       "      <td>2.0</td>\n",
       "      <td>715</td>\n",
       "      <td>705.0</td>\n",
       "      <td>-10.0</td>\n",
       "      <td>0.0</td>\n",
       "      <td>N</td>\n",
       "      <td>100.0</td>\n",
       "      <td>96.0</td>\n",
       "      <td>64.0</td>\n",
       "      <td>1.0</td>\n",
       "      <td>409.0</td>\n",
       "      <td>0.0</td>\n",
       "      <td>0.0</td>\n",
       "      <td>0.0</td>\n",
       "      <td>0.0</td>\n",
       "      <td>0.0</td>\n",
       "      <td>NaN</td>\n",
       "      <td>0.0</td>\n",
       "      <td>0.0</td>\n",
       "    </tr>\n",
       "    <tr>\n",
       "      <th>3</th>\n",
       "      <td>2019-01-15</td>\n",
       "      <td>UA</td>\n",
       "      <td>UA</td>\n",
       "      <td>UA</td>\n",
       "      <td>1822</td>\n",
       "      <td>UA</td>\n",
       "      <td>N401UA</td>\n",
       "      <td>1822</td>\n",
       "      <td>11298</td>\n",
       "      <td>DFW</td>\n",
       "      <td>Dallas/Fort Worth, TX</td>\n",
       "      <td>11292</td>\n",
       "      <td>DEN</td>\n",
       "      <td>Denver, CO</td>\n",
       "      <td>905</td>\n",
       "      <td>856.0</td>\n",
       "      <td>-9.0</td>\n",
       "      <td>37.0</td>\n",
       "      <td>933.0</td>\n",
       "      <td>1009.0</td>\n",
       "      <td>8.0</td>\n",
       "      <td>1018</td>\n",
       "      <td>1017.0</td>\n",
       "      <td>-1.0</td>\n",
       "      <td>0.0</td>\n",
       "      <td>N</td>\n",
       "      <td>133.0</td>\n",
       "      <td>141.0</td>\n",
       "      <td>96.0</td>\n",
       "      <td>1.0</td>\n",
       "      <td>641.0</td>\n",
       "      <td>0.0</td>\n",
       "      <td>0.0</td>\n",
       "      <td>0.0</td>\n",
       "      <td>0.0</td>\n",
       "      <td>0.0</td>\n",
       "      <td>NaN</td>\n",
       "      <td>0.0</td>\n",
       "      <td>0.0</td>\n",
       "    </tr>\n",
       "    <tr>\n",
       "      <th>4</th>\n",
       "      <td>2018-03-26</td>\n",
       "      <td>DL</td>\n",
       "      <td>DL</td>\n",
       "      <td>DL</td>\n",
       "      <td>2149</td>\n",
       "      <td>DL</td>\n",
       "      <td>N374NW</td>\n",
       "      <td>2149</td>\n",
       "      <td>12953</td>\n",
       "      <td>LGA</td>\n",
       "      <td>New York, NY</td>\n",
       "      <td>13487</td>\n",
       "      <td>MSP</td>\n",
       "      <td>Minneapolis, MN</td>\n",
       "      <td>1123</td>\n",
       "      <td>1129.0</td>\n",
       "      <td>6.0</td>\n",
       "      <td>37.0</td>\n",
       "      <td>1206.0</td>\n",
       "      <td>1339.0</td>\n",
       "      <td>3.0</td>\n",
       "      <td>1341</td>\n",
       "      <td>1342.0</td>\n",
       "      <td>1.0</td>\n",
       "      <td>0.0</td>\n",
       "      <td>N</td>\n",
       "      <td>198.0</td>\n",
       "      <td>193.0</td>\n",
       "      <td>153.0</td>\n",
       "      <td>1.0</td>\n",
       "      <td>1020.0</td>\n",
       "      <td>0.0</td>\n",
       "      <td>0.0</td>\n",
       "      <td>0.0</td>\n",
       "      <td>0.0</td>\n",
       "      <td>0.0</td>\n",
       "      <td>NaN</td>\n",
       "      <td>0.0</td>\n",
       "      <td>0.0</td>\n",
       "    </tr>\n",
       "  </tbody>\n",
       "</table>\n",
       "</div>"
      ],
      "text/plain": [
       "      fl_date mkt_unique_carrier branded_code_share mkt_carrier  \\\n",
       "0  2018-06-17                 WN                 WN          WN   \n",
       "1  2019-02-15                 UA       UA_CODESHARE          UA   \n",
       "2  2018-01-30                 WN                 WN          WN   \n",
       "3  2019-01-15                 UA                 UA          UA   \n",
       "4  2018-03-26                 DL                 DL          DL   \n",
       "\n",
       "   mkt_carrier_fl_num op_unique_carrier tail_num  op_carrier_fl_num  \\\n",
       "0                5273                WN   N299WN               5273   \n",
       "1                5421                OO   N787SK               5421   \n",
       "2                 492                WN   N791SW                492   \n",
       "3                1822                UA   N401UA               1822   \n",
       "4                2149                DL   N374NW               2149   \n",
       "\n",
       "   origin_airport_id origin       origin_city_name  dest_airport_id dest  \\\n",
       "0              14492    RDU     Raleigh/Durham, NC            15304  TPA   \n",
       "1              11109    COS   Colorado Springs, CO            11292  DEN   \n",
       "2              11433    DTW            Detroit, MI            10821  BWI   \n",
       "3              11298    DFW  Dallas/Fort Worth, TX            11292  DEN   \n",
       "4              12953    LGA           New York, NY            13487  MSP   \n",
       "\n",
       "    dest_city_name  crs_dep_time  dep_time  dep_delay  taxi_out  wheels_off  \\\n",
       "0        Tampa, FL          1220    1220.0        0.0      16.0      1236.0   \n",
       "1       Denver, CO          1150    1142.0       -8.0      19.0      1201.0   \n",
       "2    Baltimore, MD           535     529.0       -6.0      30.0       559.0   \n",
       "3       Denver, CO           905     856.0       -9.0      37.0       933.0   \n",
       "4  Minneapolis, MN          1123    1129.0        6.0      37.0      1206.0   \n",
       "\n",
       "   wheels_on  taxi_in  crs_arr_time  arr_time  arr_delay  diverted dup  \\\n",
       "0     1357.0     17.0          1400    1414.0       14.0       0.0   N   \n",
       "1     1220.0      4.0          1242    1224.0      -18.0       0.0   N   \n",
       "2      703.0      2.0           715     705.0      -10.0       0.0   N   \n",
       "3     1009.0      8.0          1018    1017.0       -1.0       0.0   N   \n",
       "4     1339.0      3.0          1341    1342.0        1.0       0.0   N   \n",
       "\n",
       "   crs_elapsed_time  actual_elapsed_time  air_time  flights  distance  \\\n",
       "0             100.0                114.0      81.0      1.0     587.0   \n",
       "1              52.0                 42.0      19.0      1.0      73.0   \n",
       "2             100.0                 96.0      64.0      1.0     409.0   \n",
       "3             133.0                141.0      96.0      1.0     641.0   \n",
       "4             198.0                193.0     153.0      1.0    1020.0   \n",
       "\n",
       "   carrier_delay  weather_delay  nas_delay  security_delay  \\\n",
       "0            0.0            0.0        0.0             0.0   \n",
       "1            0.0            0.0        0.0             0.0   \n",
       "2            0.0            0.0        0.0             0.0   \n",
       "3            0.0            0.0        0.0             0.0   \n",
       "4            0.0            0.0        0.0             0.0   \n",
       "\n",
       "   late_aircraft_delay  first_dep_time  total_add_gtime  longest_add_gtime  \n",
       "0                  0.0             NaN              0.0                0.0  \n",
       "1                  0.0             NaN              0.0                0.0  \n",
       "2                  0.0             NaN              0.0                0.0  \n",
       "3                  0.0             NaN              0.0                0.0  \n",
       "4                  0.0             NaN              0.0                0.0  "
      ]
     },
     "execution_count": 2,
     "metadata": {},
     "output_type": "execute_result"
    },
    {
     "data": {
      "text/plain": [
       "(9855, 39)"
      ]
     },
     "execution_count": 2,
     "metadata": {},
     "output_type": "execute_result"
    }
   ],
   "source": [
    "flight10k = pd.read_csv('data/flights10K.csv', index_col=0)\n",
    "# remove empty flanking column\n",
    "flight10k.drop(columns='no_name', inplace=True)\n",
    "# if flight cancelled, remove from dataset since we want to prdecit flights that ARE leaving\n",
    "flight10k = flight10k[flight10k['cancelled'] == 0] # 0 meaning not cancelled\n",
    "flight10k.drop(columns=['cancelled','cancellation_code'], inplace=True)\n",
    "# time count columns NaN to be filled with 0 since no time elapsed\n",
    "time_counts = ['dep_delay','arr_delay','carrier_delay','weather_delay','nas_delay','security_delay','late_aircraft_delay','total_add_gtime','longest_add_gtime','taxi_out','taxi_in']\n",
    "flight10k[time_counts] = flight10k[time_counts].fillna(0)\n",
    "# filling remaining empty NaN time columns with related columns information (i.e. wheels_off == dep_time/wheels_on == arr_time/actual_elapsed_time == CRS_elapsed_time) plotted earlier\n",
    "flight10k['wheels_off'] = flight10k['wheels_off'].fillna(flight10k['crs_dep_time'])\n",
    "flight10k['wheels_on'] = flight10k['wheels_on'].fillna(flight10k['crs_arr_time'])\n",
    "flight10k['arr_time'] = flight10k['arr_time'].fillna(flight10k['crs_arr_time'])\n",
    "flight10k['actual_elapsed_time'] = flight10k['actual_elapsed_time'].fillna(flight10k['crs_elapsed_time'])\n",
    "flight10k['air_time'] = flight10k['air_time'].fillna(flight10k['crs_elapsed_time'])\n",
    "\n",
    "# have a look at the dataset\n",
    "flight10k.head()\n",
    "flight10k.shape"
   ]
  },
  {
   "cell_type": "code",
   "execution_count": 3,
   "metadata": {},
   "outputs": [
    {
     "name": "stdout",
     "output_type": "stream",
     "text": [
      "Column \t\t # Nan Values\n"
     ]
    },
    {
     "data": {
      "text/plain": [
       "first_dep_time    9778\n",
       "dtype: int64"
      ]
     },
     "execution_count": 3,
     "metadata": {},
     "output_type": "execute_result"
    }
   ],
   "source": [
    "# function to quickly display columns with remaining null values -- used iteratively to quickly clean the df in the cell above\n",
    "def whatsleft(df):\n",
    "    '''Functions like df.isnull().sum() except only shows the remaining columns with values missing'''\n",
    "    nan_cols = [col for col in df.columns if df[col].isnull().sum() > 0]\n",
    "    print('Column \\t\\t # Nan Values')\n",
    "    return df[nan_cols].isnull().sum()\n",
    "\n",
    "whatsleft(flight10k)"
   ]
  },
  {
   "cell_type": "code",
   "execution_count": 4,
   "metadata": {},
   "outputs": [],
   "source": [
    "# first_dep_time: First Gate Departure Time at Origin Airport\n",
    "# 9778 / 9855 empty =  99+% NaN -- let's drop this column\n",
    "flight10k.drop(columns='first_dep_time', inplace=True)"
   ]
  },
  {
   "cell_type": "markdown",
   "metadata": {},
   "source": [
    "#### **Task 1**: Test the hypothesis that the delay is from Normal distribution. and that **mean** of the delay is 0. Be careful about the outliers."
   ]
  },
  {
   "cell_type": "markdown",
   "metadata": {},
   "source": [
    "plot distribution of arrival delays"
   ]
  },
  {
   "cell_type": "code",
   "execution_count": 5,
   "metadata": {},
   "outputs": [
    {
     "data": {
      "image/png": "[encoded data removed]",
      "text/plain": [
       "<Figure size 1296x288 with 2 Axes>"
      ]
     },
     "metadata": {
      "needs_background": "light"
     },
     "output_type": "display_data"
    }
   ],
   "source": [
    "fig, ax = plt.subplots(1,2, figsize=(18,4));\n",
    "sns.distplot(flight10k['arr_delay'], color='b', ax=ax[0]);\n",
    "ax[0].set_title('Distribution of Arrival Delay Time (Min)', fontsize=14);\n",
    "ax[0].set_xlim([min(flight10k['arr_delay'].values), max(flight10k['arr_delay'].values)]);\n",
    "\n",
    "sns.boxplot(flight10k['arr_delay'], ax=ax[1]);\n",
    "ax[1].set_title('Arrival Delay Time (Min)');\n",
    "plt.show();"
   ]
  },
  {
   "cell_type": "code",
   "execution_count": 6,
   "metadata": {},
   "outputs": [
    {
     "data": {
      "text/plain": [
       "count    9855.000000\n",
       "mean        5.681684\n",
       "std        51.206438\n",
       "min       -75.000000\n",
       "25%       -15.000000\n",
       "50%        -6.000000\n",
       "75%         8.000000\n",
       "max      1430.000000\n",
       "Name: arr_delay, dtype: float64"
      ]
     },
     "execution_count": 6,
     "metadata": {},
     "output_type": "execute_result"
    }
   ],
   "source": [
    "flight10k['arr_delay'].describe()"
   ]
  },
  {
   "cell_type": "markdown",
   "metadata": {},
   "source": [
    "Observaton: high stdev and data spread. Need to remove outliers:"
   ]
  },
  {
   "cell_type": "code",
   "execution_count": 5,
   "metadata": {},
   "outputs": [],
   "source": [
    "def rem_outliers(df, col):\n",
    "    ''' Remove outliers which fall outside of 3 standard deviations above and below the mean of the data set\n",
    "            Input\n",
    "                (0) dataframe containing the data\n",
    "                (1) column to remove outliers from\n",
    "            Output\n",
    "                rows of df which are classified as outliers in the specified column are directly removed\n",
    "                print out stating count of outliers removed '''\n",
    "    mean, cutoff = np.mean(df[col]), np.std(df[col]) * 3   # 3 stddev outside the mean\n",
    "    lower, upper = mean - cutoff, mean + cutoff\n",
    "    outliers = [x for x in df[col] if x < lower or x > upper]\n",
    "    df.drop(df[(df[col] > upper) | (df[col] < lower)].index, inplace=True)\n",
    "    return f'{len(outliers)} outliers removed'"
   ]
  },
  {
   "cell_type": "code",
   "execution_count": 6,
   "metadata": {},
   "outputs": [
    {
     "data": {
      "text/plain": [
       "'138 outliers removed'"
      ]
     },
     "execution_count": 6,
     "metadata": {},
     "output_type": "execute_result"
    }
   ],
   "source": [
    "rem_outliers(flight10k, 'arr_delay')"
   ]
  },
  {
   "cell_type": "markdown",
   "metadata": {},
   "source": [
    "plot distribution of arrival delays after outlier removal"
   ]
  },
  {
   "cell_type": "code",
   "execution_count": 9,
   "metadata": {},
   "outputs": [
    {
     "data": {
      "image/png": "[encoded data removed]",
      "text/plain": [
       "<Figure size 1296x288 with 2 Axes>"
      ]
     },
     "metadata": {
      "needs_background": "light"
     },
     "output_type": "display_data"
    }
   ],
   "source": [
    "arr_delay = flight10k['arr_delay'].values\n",
    "\n",
    "fig, ax = plt.subplots(1,2, figsize=(18,4));\n",
    "sns.distplot(arr_delay, color='b', ax=ax[0]);\n",
    "ax[0].set_title('Distribution of Arrival Delay Time (Min)', fontsize=14);\n",
    "ax[0].set_xlim([min(arr_delay), max(arr_delay)]);\n",
    "\n",
    "sns.boxplot(arr_delay, ax=ax[1]);\n",
    "ax[1].set_title('Arrival Delay Time (Min)');\n",
    "plt.show();"
   ]
  },
  {
   "cell_type": "code",
   "execution_count": 10,
   "metadata": {},
   "outputs": [
    {
     "data": {
      "text/plain": [
       "count    9717.000000\n",
       "mean        1.597098\n",
       "std        29.432871\n",
       "min       -75.000000\n",
       "25%       -15.000000\n",
       "50%        -6.000000\n",
       "75%         7.000000\n",
       "max       159.000000\n",
       "Name: arr_delay, dtype: float64"
      ]
     },
     "execution_count": 10,
     "metadata": {},
     "output_type": "execute_result"
    }
   ],
   "source": [
    "flight10k['arr_delay'].describe()"
   ]
  },
  {
   "cell_type": "markdown",
   "metadata": {},
   "source": [
    "test null hypothesis of normal distribution using Shapiro-Wilks test via scipy.stats"
   ]
  },
  {
   "cell_type": "code",
   "execution_count": 7,
   "metadata": {},
   "outputs": [
    {
     "name": "stdout",
     "output_type": "stream",
     "text": [
      "Reject Null Hypothesis, Not Normal Distribution\n"
     ]
    }
   ],
   "source": [
    "pval = st.shapiro(flight10k['arr_delay'])[1]\n",
    "if pval > 0.05:\n",
    "    print('Accept Null Hypothesis of Normal Distribution')\n",
    "elif pval < 0.05:\n",
    "    print('Reject Null Hypothesis, Not Normal Distribution')"
   ]
  },
  {
   "cell_type": "markdown",
   "metadata": {},
   "source": [
    "#### **Task 2**: Is average/median monthly delay different during the year? If yes, which are months with the biggest delays and what could be the reason?"
   ]
  },
  {
   "cell_type": "code",
   "execution_count": 7,
   "metadata": {},
   "outputs": [
    {
     "data": {
      "text/html": [
       "<div>\n",
       "<style scoped>\n",
       "    .dataframe tbody tr th:only-of-type {\n",
       "        vertical-align: middle;\n",
       "    }\n",
       "\n",
       "    .dataframe tbody tr th {\n",
       "        vertical-align: top;\n",
       "    }\n",
       "\n",
       "    .dataframe thead th {\n",
       "        text-align: right;\n",
       "    }\n",
       "</style>\n",
       "<table border=\"1\" class=\"dataframe\">\n",
       "  <thead>\n",
       "    <tr style=\"text-align: right;\">\n",
       "      <th></th>\n",
       "      <th>fl_month</th>\n",
       "      <th>arr_delay</th>\n",
       "    </tr>\n",
       "  </thead>\n",
       "  <tbody>\n",
       "    <tr>\n",
       "      <th>5</th>\n",
       "      <td>6</td>\n",
       "      <td>5.714959</td>\n",
       "    </tr>\n",
       "    <tr>\n",
       "      <th>6</th>\n",
       "      <td>7</td>\n",
       "      <td>5.007491</td>\n",
       "    </tr>\n",
       "    <tr>\n",
       "      <th>7</th>\n",
       "      <td>8</td>\n",
       "      <td>4.000000</td>\n",
       "    </tr>\n",
       "    <tr>\n",
       "      <th>3</th>\n",
       "      <td>4</td>\n",
       "      <td>1.534031</td>\n",
       "    </tr>\n",
       "    <tr>\n",
       "      <th>4</th>\n",
       "      <td>5</td>\n",
       "      <td>1.518343</td>\n",
       "    </tr>\n",
       "    <tr>\n",
       "      <th>10</th>\n",
       "      <td>11</td>\n",
       "      <td>1.187042</td>\n",
       "    </tr>\n",
       "    <tr>\n",
       "      <th>9</th>\n",
       "      <td>10</td>\n",
       "      <td>0.524318</td>\n",
       "    </tr>\n",
       "    <tr>\n",
       "      <th>1</th>\n",
       "      <td>2</td>\n",
       "      <td>0.410687</td>\n",
       "    </tr>\n",
       "    <tr>\n",
       "      <th>0</th>\n",
       "      <td>1</td>\n",
       "      <td>0.259109</td>\n",
       "    </tr>\n",
       "    <tr>\n",
       "      <th>2</th>\n",
       "      <td>3</td>\n",
       "      <td>-0.257485</td>\n",
       "    </tr>\n",
       "    <tr>\n",
       "      <th>11</th>\n",
       "      <td>12</td>\n",
       "      <td>-0.451247</td>\n",
       "    </tr>\n",
       "    <tr>\n",
       "      <th>8</th>\n",
       "      <td>9</td>\n",
       "      <td>-0.780856</td>\n",
       "    </tr>\n",
       "  </tbody>\n",
       "</table>\n",
       "</div>"
      ],
      "text/plain": [
       "    fl_month  arr_delay\n",
       "5          6   5.714959\n",
       "6          7   5.007491\n",
       "7          8   4.000000\n",
       "3          4   1.534031\n",
       "4          5   1.518343\n",
       "10        11   1.187042\n",
       "9         10   0.524318\n",
       "1          2   0.410687\n",
       "0          1   0.259109\n",
       "2          3  -0.257485\n",
       "11        12  -0.451247\n",
       "8          9  -0.780856"
      ]
     },
     "execution_count": 7,
     "metadata": {},
     "output_type": "execute_result"
    }
   ],
   "source": [
    "# convert date to datetime in order to grab the month\n",
    "flight10k['fl_date'] = pd.to_datetime(flight10k['fl_date'])\n",
    "flight10k['fl_month'] = flight10k['fl_date'].dt.month\n",
    "\n",
    "monthly = flight10k[['fl_month','arr_delay']].groupby('fl_month').agg('mean')\n",
    "monthly.reset_index(inplace=True)\n",
    "monthly.sort_values('arr_delay', ascending=False)"
   ]
  },
  {
   "cell_type": "markdown",
   "metadata": {},
   "source": [
    "We see that this highest delays occur during the summer months -- this might correlate to a higher traffic season as people are taking vacations"
   ]
  },
  {
   "cell_type": "code",
   "execution_count": 149,
   "metadata": {},
   "outputs": [
    {
     "data": {
      "text/html": [
       "<div>\n",
       "<style scoped>\n",
       "    .dataframe tbody tr th:only-of-type {\n",
       "        vertical-align: middle;\n",
       "    }\n",
       "\n",
       "    .dataframe tbody tr th {\n",
       "        vertical-align: top;\n",
       "    }\n",
       "\n",
       "    .dataframe thead th {\n",
       "        text-align: right;\n",
       "    }\n",
       "</style>\n",
       "<table border=\"1\" class=\"dataframe\">\n",
       "  <thead>\n",
       "    <tr style=\"text-align: right;\">\n",
       "      <th></th>\n",
       "      <th>fl_month</th>\n",
       "      <th>avg_arr_delay</th>\n",
       "      <th>count_flights</th>\n",
       "    </tr>\n",
       "  </thead>\n",
       "  <tbody>\n",
       "    <tr>\n",
       "      <th>5</th>\n",
       "      <td>6</td>\n",
       "      <td>5.714959</td>\n",
       "      <td>849</td>\n",
       "    </tr>\n",
       "    <tr>\n",
       "      <th>6</th>\n",
       "      <td>7</td>\n",
       "      <td>5.007491</td>\n",
       "      <td>801</td>\n",
       "    </tr>\n",
       "    <tr>\n",
       "      <th>7</th>\n",
       "      <td>8</td>\n",
       "      <td>4.000000</td>\n",
       "      <td>890</td>\n",
       "    </tr>\n",
       "    <tr>\n",
       "      <th>3</th>\n",
       "      <td>4</td>\n",
       "      <td>1.534031</td>\n",
       "      <td>764</td>\n",
       "    </tr>\n",
       "    <tr>\n",
       "      <th>4</th>\n",
       "      <td>5</td>\n",
       "      <td>1.518343</td>\n",
       "      <td>845</td>\n",
       "    </tr>\n",
       "    <tr>\n",
       "      <th>10</th>\n",
       "      <td>11</td>\n",
       "      <td>1.187042</td>\n",
       "      <td>818</td>\n",
       "    </tr>\n",
       "    <tr>\n",
       "      <th>9</th>\n",
       "      <td>10</td>\n",
       "      <td>0.524318</td>\n",
       "      <td>843</td>\n",
       "    </tr>\n",
       "    <tr>\n",
       "      <th>1</th>\n",
       "      <td>2</td>\n",
       "      <td>0.410687</td>\n",
       "      <td>655</td>\n",
       "    </tr>\n",
       "    <tr>\n",
       "      <th>0</th>\n",
       "      <td>1</td>\n",
       "      <td>0.259109</td>\n",
       "      <td>741</td>\n",
       "    </tr>\n",
       "    <tr>\n",
       "      <th>2</th>\n",
       "      <td>3</td>\n",
       "      <td>-0.257485</td>\n",
       "      <td>835</td>\n",
       "    </tr>\n",
       "    <tr>\n",
       "      <th>11</th>\n",
       "      <td>12</td>\n",
       "      <td>-0.451247</td>\n",
       "      <td>882</td>\n",
       "    </tr>\n",
       "    <tr>\n",
       "      <th>8</th>\n",
       "      <td>9</td>\n",
       "      <td>-0.780856</td>\n",
       "      <td>794</td>\n",
       "    </tr>\n",
       "  </tbody>\n",
       "</table>\n",
       "</div>"
      ],
      "text/plain": [
       "    fl_month  avg_arr_delay  count_flights\n",
       "5          6       5.714959            849\n",
       "6          7       5.007491            801\n",
       "7          8       4.000000            890\n",
       "3          4       1.534031            764\n",
       "4          5       1.518343            845\n",
       "10        11       1.187042            818\n",
       "9         10       0.524318            843\n",
       "1          2       0.410687            655\n",
       "0          1       0.259109            741\n",
       "2          3      -0.257485            835\n",
       "11        12      -0.451247            882\n",
       "8          9      -0.780856            794"
      ]
     },
     "execution_count": 149,
     "metadata": {},
     "output_type": "execute_result"
    }
   ],
   "source": [
    "# same as above but let's add in a count of flights for explanation\n",
    "monthly = flight10k[['fl_month','arr_delay','mkt_carrier_fl_num']].groupby('fl_month').agg({'arr_delay':'mean','mkt_carrier_fl_num':'count'})\n",
    "monthly.reset_index(inplace=True)\n",
    "monthly.rename(columns={'arr_delay':'avg_arr_delay','mkt_carrier_fl_num':'count_flights'}, inplace=True)\n",
    "monthly.sort_values('avg_arr_delay', ascending=False)"
   ]
  },
  {
   "cell_type": "markdown",
   "metadata": {},
   "source": [
    "count of flights did not explain higher delays for some months -- let's have a look at all the different delay types within the months"
   ]
  },
  {
   "cell_type": "code",
   "execution_count": 150,
   "metadata": {},
   "outputs": [
    {
     "data": {
      "text/html": [
       "<div>\n",
       "<style scoped>\n",
       "    .dataframe tbody tr th:only-of-type {\n",
       "        vertical-align: middle;\n",
       "    }\n",
       "\n",
       "    .dataframe tbody tr th {\n",
       "        vertical-align: top;\n",
       "    }\n",
       "\n",
       "    .dataframe thead th {\n",
       "        text-align: right;\n",
       "    }\n",
       "</style>\n",
       "<table border=\"1\" class=\"dataframe\">\n",
       "  <thead>\n",
       "    <tr style=\"text-align: right;\">\n",
       "      <th></th>\n",
       "      <th>fl_month</th>\n",
       "      <th>dep_delay</th>\n",
       "      <th>carrier_delay</th>\n",
       "      <th>weather_delay</th>\n",
       "      <th>nas_delay</th>\n",
       "      <th>security_delay</th>\n",
       "      <th>late_aircraft_delay</th>\n",
       "      <th>arr_delay</th>\n",
       "    </tr>\n",
       "  </thead>\n",
       "  <tbody>\n",
       "    <tr>\n",
       "      <th>0</th>\n",
       "      <td>6</td>\n",
       "      <td>10.184923</td>\n",
       "      <td>3.202591</td>\n",
       "      <td>0.702002</td>\n",
       "      <td>3.049470</td>\n",
       "      <td>0.000000</td>\n",
       "      <td>4.984688</td>\n",
       "      <td>5.714959</td>\n",
       "    </tr>\n",
       "    <tr>\n",
       "      <th>1</th>\n",
       "      <td>7</td>\n",
       "      <td>9.230961</td>\n",
       "      <td>3.172285</td>\n",
       "      <td>0.357054</td>\n",
       "      <td>3.508115</td>\n",
       "      <td>0.000000</td>\n",
       "      <td>4.444444</td>\n",
       "      <td>5.007491</td>\n",
       "    </tr>\n",
       "    <tr>\n",
       "      <th>2</th>\n",
       "      <td>8</td>\n",
       "      <td>8.237079</td>\n",
       "      <td>3.016854</td>\n",
       "      <td>0.567416</td>\n",
       "      <td>3.077528</td>\n",
       "      <td>0.024719</td>\n",
       "      <td>4.173034</td>\n",
       "      <td>4.000000</td>\n",
       "    </tr>\n",
       "    <tr>\n",
       "      <th>3</th>\n",
       "      <td>4</td>\n",
       "      <td>6.693717</td>\n",
       "      <td>2.477749</td>\n",
       "      <td>0.227749</td>\n",
       "      <td>2.308901</td>\n",
       "      <td>0.037958</td>\n",
       "      <td>3.607330</td>\n",
       "      <td>1.534031</td>\n",
       "    </tr>\n",
       "    <tr>\n",
       "      <th>4</th>\n",
       "      <td>5</td>\n",
       "      <td>6.590533</td>\n",
       "      <td>2.427219</td>\n",
       "      <td>0.478107</td>\n",
       "      <td>2.655621</td>\n",
       "      <td>0.000000</td>\n",
       "      <td>3.817751</td>\n",
       "      <td>1.518343</td>\n",
       "    </tr>\n",
       "    <tr>\n",
       "      <th>5</th>\n",
       "      <td>11</td>\n",
       "      <td>5.734719</td>\n",
       "      <td>2.343521</td>\n",
       "      <td>0.319071</td>\n",
       "      <td>2.221271</td>\n",
       "      <td>0.000000</td>\n",
       "      <td>3.685819</td>\n",
       "      <td>1.187042</td>\n",
       "    </tr>\n",
       "    <tr>\n",
       "      <th>6</th>\n",
       "      <td>10</td>\n",
       "      <td>4.431791</td>\n",
       "      <td>1.823250</td>\n",
       "      <td>0.090154</td>\n",
       "      <td>2.398577</td>\n",
       "      <td>0.000000</td>\n",
       "      <td>3.150652</td>\n",
       "      <td>0.524318</td>\n",
       "    </tr>\n",
       "    <tr>\n",
       "      <th>7</th>\n",
       "      <td>2</td>\n",
       "      <td>6.158779</td>\n",
       "      <td>2.964885</td>\n",
       "      <td>0.346565</td>\n",
       "      <td>3.326718</td>\n",
       "      <td>0.000000</td>\n",
       "      <td>3.000000</td>\n",
       "      <td>0.410687</td>\n",
       "    </tr>\n",
       "    <tr>\n",
       "      <th>8</th>\n",
       "      <td>1</td>\n",
       "      <td>6.685560</td>\n",
       "      <td>2.757085</td>\n",
       "      <td>0.350877</td>\n",
       "      <td>2.363023</td>\n",
       "      <td>0.000000</td>\n",
       "      <td>3.712551</td>\n",
       "      <td>0.259109</td>\n",
       "    </tr>\n",
       "    <tr>\n",
       "      <th>9</th>\n",
       "      <td>3</td>\n",
       "      <td>5.452695</td>\n",
       "      <td>2.176048</td>\n",
       "      <td>0.319760</td>\n",
       "      <td>2.189222</td>\n",
       "      <td>0.025150</td>\n",
       "      <td>2.655090</td>\n",
       "      <td>-0.257485</td>\n",
       "    </tr>\n",
       "    <tr>\n",
       "      <th>10</th>\n",
       "      <td>12</td>\n",
       "      <td>6.349206</td>\n",
       "      <td>1.968254</td>\n",
       "      <td>0.536281</td>\n",
       "      <td>2.173469</td>\n",
       "      <td>0.005669</td>\n",
       "      <td>3.546485</td>\n",
       "      <td>-0.451247</td>\n",
       "    </tr>\n",
       "    <tr>\n",
       "      <th>11</th>\n",
       "      <td>9</td>\n",
       "      <td>4.141058</td>\n",
       "      <td>2.026448</td>\n",
       "      <td>0.090680</td>\n",
       "      <td>2.309824</td>\n",
       "      <td>0.001259</td>\n",
       "      <td>3.183879</td>\n",
       "      <td>-0.780856</td>\n",
       "    </tr>\n",
       "  </tbody>\n",
       "</table>\n",
       "</div>"
      ],
      "text/plain": [
       "    fl_month  dep_delay  carrier_delay  weather_delay  nas_delay  \\\n",
       "0          6  10.184923       3.202591       0.702002   3.049470   \n",
       "1          7   9.230961       3.172285       0.357054   3.508115   \n",
       "2          8   8.237079       3.016854       0.567416   3.077528   \n",
       "3          4   6.693717       2.477749       0.227749   2.308901   \n",
       "4          5   6.590533       2.427219       0.478107   2.655621   \n",
       "5         11   5.734719       2.343521       0.319071   2.221271   \n",
       "6         10   4.431791       1.823250       0.090154   2.398577   \n",
       "7          2   6.158779       2.964885       0.346565   3.326718   \n",
       "8          1   6.685560       2.757085       0.350877   2.363023   \n",
       "9          3   5.452695       2.176048       0.319760   2.189222   \n",
       "10        12   6.349206       1.968254       0.536281   2.173469   \n",
       "11         9   4.141058       2.026448       0.090680   2.309824   \n",
       "\n",
       "    security_delay  late_aircraft_delay  arr_delay  \n",
       "0         0.000000             4.984688   5.714959  \n",
       "1         0.000000             4.444444   5.007491  \n",
       "2         0.024719             4.173034   4.000000  \n",
       "3         0.037958             3.607330   1.534031  \n",
       "4         0.000000             3.817751   1.518343  \n",
       "5         0.000000             3.685819   1.187042  \n",
       "6         0.000000             3.150652   0.524318  \n",
       "7         0.000000             3.000000   0.410687  \n",
       "8         0.000000             3.712551   0.259109  \n",
       "9         0.025150             2.655090  -0.257485  \n",
       "10        0.005669             3.546485  -0.451247  \n",
       "11        0.001259             3.183879  -0.780856  "
      ]
     },
     "execution_count": 150,
     "metadata": {},
     "output_type": "execute_result"
    }
   ],
   "source": [
    "delays = flight10k[['fl_month','dep_delay','carrier_delay','weather_delay','nas_delay','security_delay','late_aircraft_delay','arr_delay']]\n",
    "delay_means = delays.groupby('fl_month').agg('mean').sort_values('arr_delay', ascending=False)\n",
    "delay_means.reset_index(inplace=True)\n",
    "delay_means"
   ]
  },
  {
   "cell_type": "code",
   "execution_count": 151,
   "metadata": {},
   "outputs": [
    {
     "data": {
      "image/png": "[encoded data removed]",
      "text/plain": [
       "<Figure size 864x576 with 1 Axes>"
      ]
     },
     "metadata": {
      "needs_background": "light"
     },
     "output_type": "display_data"
    }
   ],
   "source": [
    "delay_means.plot(x=\"fl_month\", y=['dep_delay','carrier_delay','weather_delay','nas_delay','security_delay','late_aircraft_delay'], kind=\"bar\", figsize=(12,8));\n",
    "plt.title('Delays per Month');\n",
    "plt.xlabel('Month in Order of Decreasing Arrival Delays');\n",
    "plt.ylabel('Average Time (min)');"
   ]
  },
  {
   "cell_type": "markdown",
   "metadata": {},
   "source": [
    "From other delays, we can see that we have increased departure delays and late aircraft delays which correlate to the increased arrival delays"
   ]
  },
  {
   "cell_type": "markdown",
   "metadata": {},
   "source": [
    "can we check the count of seats on flights by pulling in the passengers?"
   ]
  },
  {
   "cell_type": "code",
   "execution_count": 8,
   "metadata": {},
   "outputs": [
    {
     "data": {
      "text/html": [
       "<div>\n",
       "<style scoped>\n",
       "    .dataframe tbody tr th:only-of-type {\n",
       "        vertical-align: middle;\n",
       "    }\n",
       "\n",
       "    .dataframe tbody tr th {\n",
       "        vertical-align: top;\n",
       "    }\n",
       "\n",
       "    .dataframe thead th {\n",
       "        text-align: right;\n",
       "    }\n",
       "</style>\n",
       "<table border=\"1\" class=\"dataframe\">\n",
       "  <thead>\n",
       "    <tr style=\"text-align: right;\">\n",
       "      <th></th>\n",
       "      <th>departures_scheduled</th>\n",
       "      <th>departures_performed</th>\n",
       "      <th>payload</th>\n",
       "      <th>seats</th>\n",
       "      <th>passengers</th>\n",
       "      <th>freight</th>\n",
       "      <th>mail</th>\n",
       "      <th>distance</th>\n",
       "      <th>ramp_to_ramp</th>\n",
       "      <th>air_time</th>\n",
       "      <th>unique_carrier</th>\n",
       "      <th>airline_id</th>\n",
       "      <th>unique_carrier_name</th>\n",
       "      <th>region</th>\n",
       "      <th>carrier</th>\n",
       "      <th>carrier_name</th>\n",
       "      <th>carrier_group</th>\n",
       "      <th>carrier_group_new</th>\n",
       "      <th>origin_airport_id</th>\n",
       "      <th>origin_city_market_id</th>\n",
       "      <th>origin</th>\n",
       "      <th>origin_city_name</th>\n",
       "      <th>origin_country</th>\n",
       "      <th>origin_country_name</th>\n",
       "      <th>dest_airport_id</th>\n",
       "      <th>dest_city_market_id</th>\n",
       "      <th>dest</th>\n",
       "      <th>dest_city_name</th>\n",
       "      <th>dest_country</th>\n",
       "      <th>dest_country_name</th>\n",
       "      <th>aircraft_group</th>\n",
       "      <th>aircraft_type</th>\n",
       "      <th>aircraft_config</th>\n",
       "      <th>year</th>\n",
       "      <th>month</th>\n",
       "      <th>distance_group</th>\n",
       "      <th>class</th>\n",
       "      <th>data_source</th>\n",
       "    </tr>\n",
       "  </thead>\n",
       "  <tbody>\n",
       "    <tr>\n",
       "      <th>0</th>\n",
       "      <td>0.0</td>\n",
       "      <td>1.0</td>\n",
       "      <td>2803.0</td>\n",
       "      <td>14.0</td>\n",
       "      <td>6.0</td>\n",
       "      <td>0.0</td>\n",
       "      <td>0.0</td>\n",
       "      <td>5582.0</td>\n",
       "      <td>0.0</td>\n",
       "      <td>0.0</td>\n",
       "      <td>12Q</td>\n",
       "      <td>21423</td>\n",
       "      <td>Unijet</td>\n",
       "      <td>I</td>\n",
       "      <td>12Q</td>\n",
       "      <td>Unijet</td>\n",
       "      <td>0</td>\n",
       "      <td>0</td>\n",
       "      <td>12900</td>\n",
       "      <td>30920</td>\n",
       "      <td>LBG</td>\n",
       "      <td>Paris, France</td>\n",
       "      <td>FR</td>\n",
       "      <td>France</td>\n",
       "      <td>14771</td>\n",
       "      <td>32457</td>\n",
       "      <td>SFO</td>\n",
       "      <td>San Francisco, CA</td>\n",
       "      <td>US</td>\n",
       "      <td>United States</td>\n",
       "      <td>7</td>\n",
       "      <td>775</td>\n",
       "      <td>1</td>\n",
       "      <td>2015</td>\n",
       "      <td>11</td>\n",
       "      <td>12</td>\n",
       "      <td>L</td>\n",
       "      <td>IF</td>\n",
       "    </tr>\n",
       "    <tr>\n",
       "      <th>1</th>\n",
       "      <td>4.0</td>\n",
       "      <td>4.0</td>\n",
       "      <td>274750.0</td>\n",
       "      <td>0.0</td>\n",
       "      <td>0.0</td>\n",
       "      <td>130961.0</td>\n",
       "      <td>7580.0</td>\n",
       "      <td>491.0</td>\n",
       "      <td>359.0</td>\n",
       "      <td>295.0</td>\n",
       "      <td>5X</td>\n",
       "      <td>19917</td>\n",
       "      <td>United Parcel Service</td>\n",
       "      <td>D</td>\n",
       "      <td>5X</td>\n",
       "      <td>United Parcel Service</td>\n",
       "      <td>3</td>\n",
       "      <td>3</td>\n",
       "      <td>14730</td>\n",
       "      <td>33044</td>\n",
       "      <td>SDF</td>\n",
       "      <td>Louisville, KY</td>\n",
       "      <td>US</td>\n",
       "      <td>United States</td>\n",
       "      <td>13198</td>\n",
       "      <td>33198</td>\n",
       "      <td>MCI</td>\n",
       "      <td>Kansas City, MO</td>\n",
       "      <td>US</td>\n",
       "      <td>United States</td>\n",
       "      <td>6</td>\n",
       "      <td>622</td>\n",
       "      <td>2</td>\n",
       "      <td>2015</td>\n",
       "      <td>5</td>\n",
       "      <td>1</td>\n",
       "      <td>G</td>\n",
       "      <td>DU</td>\n",
       "    </tr>\n",
       "    <tr>\n",
       "      <th>2</th>\n",
       "      <td>53.0</td>\n",
       "      <td>47.0</td>\n",
       "      <td>470000.0</td>\n",
       "      <td>2350.0</td>\n",
       "      <td>1537.0</td>\n",
       "      <td>0.0</td>\n",
       "      <td>0.0</td>\n",
       "      <td>642.0</td>\n",
       "      <td>5760.0</td>\n",
       "      <td>4510.0</td>\n",
       "      <td>EV</td>\n",
       "      <td>20366</td>\n",
       "      <td>ExpressJet Airlines LLC</td>\n",
       "      <td>D</td>\n",
       "      <td>EV</td>\n",
       "      <td>ExpressJet Airlines Inc.</td>\n",
       "      <td>3</td>\n",
       "      <td>3</td>\n",
       "      <td>14730</td>\n",
       "      <td>33044</td>\n",
       "      <td>SDF</td>\n",
       "      <td>Louisville, KY</td>\n",
       "      <td>US</td>\n",
       "      <td>United States</td>\n",
       "      <td>11618</td>\n",
       "      <td>31703</td>\n",
       "      <td>EWR</td>\n",
       "      <td>Newark, NJ</td>\n",
       "      <td>US</td>\n",
       "      <td>United States</td>\n",
       "      <td>6</td>\n",
       "      <td>675</td>\n",
       "      <td>1</td>\n",
       "      <td>2016</td>\n",
       "      <td>2</td>\n",
       "      <td>2</td>\n",
       "      <td>F</td>\n",
       "      <td>DU</td>\n",
       "    </tr>\n",
       "    <tr>\n",
       "      <th>3</th>\n",
       "      <td>52.0</td>\n",
       "      <td>47.0</td>\n",
       "      <td>1405300.0</td>\n",
       "      <td>5170.0</td>\n",
       "      <td>4400.0</td>\n",
       "      <td>6976.0</td>\n",
       "      <td>11941.0</td>\n",
       "      <td>1029.0</td>\n",
       "      <td>8875.0</td>\n",
       "      <td>7163.0</td>\n",
       "      <td>DL</td>\n",
       "      <td>19790</td>\n",
       "      <td>Delta Air Lines Inc.</td>\n",
       "      <td>D</td>\n",
       "      <td>DL</td>\n",
       "      <td>Delta Air Lines Inc.</td>\n",
       "      <td>3</td>\n",
       "      <td>3</td>\n",
       "      <td>12478</td>\n",
       "      <td>31703</td>\n",
       "      <td>JFK</td>\n",
       "      <td>New York, NY</td>\n",
       "      <td>US</td>\n",
       "      <td>United States</td>\n",
       "      <td>13487</td>\n",
       "      <td>31650</td>\n",
       "      <td>MSP</td>\n",
       "      <td>Minneapolis, MN</td>\n",
       "      <td>US</td>\n",
       "      <td>United States</td>\n",
       "      <td>6</td>\n",
       "      <td>608</td>\n",
       "      <td>1</td>\n",
       "      <td>2018</td>\n",
       "      <td>3</td>\n",
       "      <td>3</td>\n",
       "      <td>F</td>\n",
       "      <td>DU</td>\n",
       "    </tr>\n",
       "    <tr>\n",
       "      <th>4</th>\n",
       "      <td>1.0</td>\n",
       "      <td>1.0</td>\n",
       "      <td>10000.0</td>\n",
       "      <td>50.0</td>\n",
       "      <td>39.0</td>\n",
       "      <td>0.0</td>\n",
       "      <td>0.0</td>\n",
       "      <td>109.0</td>\n",
       "      <td>56.0</td>\n",
       "      <td>31.0</td>\n",
       "      <td>OO</td>\n",
       "      <td>20304</td>\n",
       "      <td>SkyWest Airlines Inc.</td>\n",
       "      <td>D</td>\n",
       "      <td>OO</td>\n",
       "      <td>SkyWest Airlines Inc.</td>\n",
       "      <td>3</td>\n",
       "      <td>3</td>\n",
       "      <td>11898</td>\n",
       "      <td>31898</td>\n",
       "      <td>GFK</td>\n",
       "      <td>Grand Forks, ND</td>\n",
       "      <td>US</td>\n",
       "      <td>United States</td>\n",
       "      <td>10631</td>\n",
       "      <td>30631</td>\n",
       "      <td>BJI</td>\n",
       "      <td>Bemidji, MN</td>\n",
       "      <td>US</td>\n",
       "      <td>United States</td>\n",
       "      <td>6</td>\n",
       "      <td>629</td>\n",
       "      <td>1</td>\n",
       "      <td>2018</td>\n",
       "      <td>6</td>\n",
       "      <td>1</td>\n",
       "      <td>F</td>\n",
       "      <td>DU</td>\n",
       "    </tr>\n",
       "  </tbody>\n",
       "</table>\n",
       "</div>"
      ],
      "text/plain": [
       "   departures_scheduled  departures_performed    payload   seats  passengers  \\\n",
       "0                   0.0                   1.0     2803.0    14.0         6.0   \n",
       "1                   4.0                   4.0   274750.0     0.0         0.0   \n",
       "2                  53.0                  47.0   470000.0  2350.0      1537.0   \n",
       "3                  52.0                  47.0  1405300.0  5170.0      4400.0   \n",
       "4                   1.0                   1.0    10000.0    50.0        39.0   \n",
       "\n",
       "    freight     mail  distance  ramp_to_ramp  air_time unique_carrier  \\\n",
       "0       0.0      0.0    5582.0           0.0       0.0            12Q   \n",
       "1  130961.0   7580.0     491.0         359.0     295.0             5X   \n",
       "2       0.0      0.0     642.0        5760.0    4510.0             EV   \n",
       "3    6976.0  11941.0    1029.0        8875.0    7163.0             DL   \n",
       "4       0.0      0.0     109.0          56.0      31.0             OO   \n",
       "\n",
       "   airline_id      unique_carrier_name region carrier  \\\n",
       "0       21423                   Unijet      I     12Q   \n",
       "1       19917    United Parcel Service      D      5X   \n",
       "2       20366  ExpressJet Airlines LLC      D      EV   \n",
       "3       19790     Delta Air Lines Inc.      D      DL   \n",
       "4       20304    SkyWest Airlines Inc.      D      OO   \n",
       "\n",
       "               carrier_name  carrier_group  carrier_group_new  \\\n",
       "0                    Unijet              0                  0   \n",
       "1     United Parcel Service              3                  3   \n",
       "2  ExpressJet Airlines Inc.              3                  3   \n",
       "3      Delta Air Lines Inc.              3                  3   \n",
       "4     SkyWest Airlines Inc.              3                  3   \n",
       "\n",
       "   origin_airport_id  origin_city_market_id origin origin_city_name  \\\n",
       "0              12900                  30920    LBG    Paris, France   \n",
       "1              14730                  33044    SDF   Louisville, KY   \n",
       "2              14730                  33044    SDF   Louisville, KY   \n",
       "3              12478                  31703    JFK     New York, NY   \n",
       "4              11898                  31898    GFK  Grand Forks, ND   \n",
       "\n",
       "  origin_country origin_country_name  dest_airport_id  dest_city_market_id  \\\n",
       "0             FR              France            14771                32457   \n",
       "1             US       United States            13198                33198   \n",
       "2             US       United States            11618                31703   \n",
       "3             US       United States            13487                31650   \n",
       "4             US       United States            10631                30631   \n",
       "\n",
       "  dest     dest_city_name dest_country dest_country_name  aircraft_group  \\\n",
       "0  SFO  San Francisco, CA           US     United States               7   \n",
       "1  MCI    Kansas City, MO           US     United States               6   \n",
       "2  EWR         Newark, NJ           US     United States               6   \n",
       "3  MSP    Minneapolis, MN           US     United States               6   \n",
       "4  BJI        Bemidji, MN           US     United States               6   \n",
       "\n",
       "   aircraft_type  aircraft_config  year  month  distance_group class  \\\n",
       "0            775                1  2015     11              12     L   \n",
       "1            622                2  2015      5               1     G   \n",
       "2            675                1  2016      2               2     F   \n",
       "3            608                1  2018      3               3     F   \n",
       "4            629                1  2018      6               1     F   \n",
       "\n",
       "  data_source  \n",
       "0          IF  \n",
       "1          DU  \n",
       "2          DU  \n",
       "3          DU  \n",
       "4          DU  "
      ]
     },
     "execution_count": 8,
     "metadata": {},
     "output_type": "execute_result"
    }
   ],
   "source": [
    "pass10k = pd.read_csv('data/passengers10K.csv', index_col=0) # this has a month listed which we could group by to count the seats\n",
    "pass10k.head()"
   ]
  },
  {
   "cell_type": "code",
   "execution_count": 153,
   "metadata": {},
   "outputs": [
    {
     "data": {
      "image/png": "[encoded data removed]",
      "text/plain": [
       "<Figure size 432x288 with 1 Axes>"
      ]
     },
     "metadata": {
      "needs_background": "light"
     },
     "output_type": "display_data"
    }
   ],
   "source": [
    "passmonthly = pass10k[['month','passengers']].groupby('month').agg('sum').sort_values('passengers', ascending=False)\n",
    "passmonthly.plot(kind='bar');"
   ]
  },
  {
   "cell_type": "markdown",
   "metadata": {},
   "source": [
    "I don't think joining this on will make much explanation to increased delays for the summer months\n",
    "\n",
    "#### What other parameters can we use to explain *what the reason could be* for higher traffic months?"
   ]
  },
  {
   "cell_type": "markdown",
   "metadata": {},
   "source": [
    " "
   ]
  },
  {
   "cell_type": "markdown",
   "metadata": {},
   "source": [
    "#### **Task 3**: Does the weather affect the delay? \n",
    "Use the API to pull the weather information for flights. There is no need to get weather for ALL flights. We can choose the right representative sample. Let's focus on four weather types:\n",
    "- sunny\n",
    "- cloudy\n",
    "- rainy\n",
    "- snow.\n",
    "Test the hypothesis that these 4 delays are from the same distribution. If they are not, which ones are significantly different?"
   ]
  },
  {
   "cell_type": "code",
   "execution_count": 154,
   "metadata": {},
   "outputs": [],
   "source": [
    "# Oliver's insight here"
   ]
  },
  {
   "cell_type": "code",
   "execution_count": null,
   "metadata": {},
   "outputs": [],
   "source": []
  },
  {
   "cell_type": "markdown",
   "metadata": {},
   "source": [
    "#### **Task 4**: How are taxi times changing during the day? Does higher traffic lead to bigger taxi times?"
   ]
  },
  {
   "cell_type": "code",
   "execution_count": 9,
   "metadata": {},
   "outputs": [],
   "source": [
    "def time_day(df, col):\n",
    "    ''' Input:\n",
    "            (0) df containing flight information\n",
    "            (1) corresponding column of time of flight (i.e. departure or arrival) (format hhmm)\n",
    "        Output:\n",
    "            re-write of time column into categorical MORNING, AFTERNOON, EVENING, or OVERNIGHT'''\n",
    "    gethour(df, col)\n",
    "    timeday = []\n",
    "    for i in df[col]:\n",
    "        if (i>=23) or (i<5):\n",
    "            timeday.append('overnight')\n",
    "        elif (i>=5) and (i<12):\n",
    "            timeday.append('morning')\n",
    "        elif (i>=12) and (i<18):\n",
    "            timeday.append('afternoon')\n",
    "        elif (i>=18) and (i<23):\n",
    "            timeday.append('evening')\n",
    "    df[col] = timeday"
   ]
  },
  {
   "cell_type": "code",
   "execution_count": 17,
   "metadata": {},
   "outputs": [],
   "source": [
    "#time_day(flight10k, 'crs_dep_time')\n",
    "#time_day(flight10k, 'crs_arr_time')\n",
    "taxiout = flight10k[['crs_dep_time','taxi_out']].groupby('crs_dep_time').agg('mean').reset_index()\n",
    "taxiin = flight10k[['crs_arr_time','taxi_in']].groupby('crs_arr_time').agg('mean').reset_index()"
   ]
  },
  {
   "cell_type": "code",
   "execution_count": 18,
   "metadata": {},
   "outputs": [],
   "source": [
    "taxi = taxiout.merge(taxiin, left_on='crs_dep_time', right_on='crs_arr_time', how='outer')\n",
    "taxi.drop(columns=['crs_arr_time'], inplace=True)"
   ]
  },
  {
   "cell_type": "code",
   "execution_count": 27,
   "metadata": {},
   "outputs": [
    {
     "data": {
      "image/png": "[encoded data removed]",
      "text/plain": [
       "<Figure size 432x288 with 1 Axes>"
      ]
     },
     "metadata": {
      "needs_background": "light"
     },
     "output_type": "display_data"
    }
   ],
   "source": [
    "from matplotlib.font_manager import FontProperties\n",
    "\n",
    "fontP = FontProperties();\n",
    "fontP.set_size('medium');\n",
    "\n",
    "ax = fig.add_subplot();\n",
    "ax = taxi.plot.bar(x='crs_dep_time', rot=0);\n",
    "ax.set_xlabel('Time of Day');\n",
    "ax.set_ylabel('Mean Taxi Length (min)');\n",
    "ax.set_title('Taxis Time vs. Time of Day');\n",
    "plt.legend(bbox_to_anchor=(1.0, 1), loc='upper left', prop=fontP);\n",
    "#fig.savefig('images/taxi_timeofday.png');"
   ]
  },
  {
   "cell_type": "markdown",
   "metadata": {},
   "source": [
    "There does not seem to be a relationship between the average length of the taxi and the time of day"
   ]
  },
  {
   "cell_type": "markdown",
   "metadata": {},
   "source": [
    "#### **Task 5**: What is the average percentage of delays that is already created before departure? (aka are arrival delays caused by departure delays?) Are airlines able to lower the delay during the flights?"
   ]
  },
  {
   "cell_type": "code",
   "execution_count": null,
   "metadata": {},
   "outputs": [],
   "source": []
  },
  {
   "cell_type": "code",
   "execution_count": null,
   "metadata": {},
   "outputs": [],
   "source": []
  },
  {
   "cell_type": "markdown",
   "metadata": {},
   "source": [
    "#### **Task 6**: How many states cover 50% of US air traffic? "
   ]
  },
  {
   "cell_type": "markdown",
   "metadata": {},
   "source": [
    "See individual Task6 notebook due to plotly plotting issues within this notebook. Images will be imported back here."
   ]
  },
  {
   "cell_type": "code",
   "execution_count": 20,
   "metadata": {},
   "outputs": [
    {
     "name": "stdout",
     "output_type": "stream",
     "text": [
      "Number of US States comprising 50% US air traffic:  7\n",
      "US States:  ['TX', 'CA', 'FL', 'IL', 'GA', 'NY', 'NC']\n"
     ]
    }
   ],
   "source": [
    "# code snippet from Task6 notebook for result\n",
    "def get_state(df, col, new_col):\n",
    "    '''split the string of City, State text to grab only the end state code (2 letters) regardless of city name length\n",
    "                Input:\n",
    "                    (0) dataframe containing information\n",
    "                    (1) col = column containing City, State Code information to pull state from\n",
    "                    (2) name of the new column which will be appended to the end of the df\n",
    "                Output:\n",
    "                    df[new_col] containing state code only'''\n",
    "    value=[]\n",
    "    for i in df[col]:\n",
    "        i = str(i)\n",
    "        value.append(i[-2:])\n",
    "    df[new_col] = value        \n",
    "\n",
    "get_state(flight10k, 'origin_city_name', 'state_origin')\n",
    "get_state(flight10k, 'dest_city_name', 'state_dest')\n",
    "origin = flight10k[['mkt_carrier_fl_num','state_origin']].groupby('state_origin').agg('count').sort_values('mkt_carrier_fl_num',ascending=False).rename(columns={'mkt_carrier_fl_num':'nflights'})\n",
    "origin['pflights'] = origin['nflights']/sum(origin['nflights'])*100\n",
    "origin.reset_index(inplace=True)\n",
    "top50 = []\n",
    "perc = 0\n",
    "for index, row in origin.iterrows():\n",
    "    perc += row['pflights']\n",
    "    if perc > 50:\n",
    "        break\n",
    "    top50.append(row['state_origin'])\n",
    "\n",
    "print('Number of US States comprising 50% US air traffic: ', len(top50))\n",
    "print('US States: ', top50)"
   ]
  },
  {
   "cell_type": "markdown",
   "metadata": {},
   "source": [
    "<img src='images/choropleth_USflights_origin.png'>\n",
    "<img src='images/choropleth_USflights_dest.png'>"
   ]
  },
  {
   "cell_type": "markdown",
   "metadata": {},
   "source": [
    "#### **Task 7**: Test the hypothesis whether planes fly faster when there is the departure delay? "
   ]
  },
  {
   "cell_type": "markdown",
   "metadata": {},
   "source": [
    "Logic: if arr_delay < dep_delay, then we know they flew faster to compensate for the dep_delay. Let's get a new subset of the whole dataframe, grabbing *only* the arr_delay and dep_delay"
   ]
  },
  {
   "cell_type": "code",
   "execution_count": 21,
   "metadata": {},
   "outputs": [],
   "source": [
    "# Postgres username, password, and database name\n",
    "POSTGRES_ADDRESS = 'mid-term-project.ca2jkepgjpne.us-east-2.rds.amazonaws.com'\n",
    "POSTGRES_PORT = '5432'\n",
    "POSTGRES_USERNAME = os.environ['midterm_user']\n",
    "POSTGRES_PASSWORD = os.environ['midterm_pass']\n",
    "POSTGRES_DBNAME = 'mid_term_project'\n",
    "# A long string that contains the necessary Postgres login information\n",
    "postgres_str = ('postgresql://{username}:{password}@{ipaddress}:{port}/{dbname}'\n",
    "                .format(username=POSTGRES_USERNAME,\n",
    "               password=POSTGRES_PASSWORD,\n",
    "               ipaddress=POSTGRES_ADDRESS,\n",
    "               port=POSTGRES_PORT,\n",
    "               dbname=POSTGRES_DBNAME))\n",
    "# Create the connection\n",
    "database = create_engine(postgres_str)\n",
    "\n",
    "# new subset of delays for whole dataset if possible, pre-screen for NaN/early (neg) and non-cancelled\n",
    "#delays_req = pd.read_sql_query('''SELECT dep_delay, arr_delay FROM flights WHERE dep_delay > 0 AND cancelled <> 1;''', database)\n",
    "#delays_req.to_csv('data/delays.csv')"
   ]
  },
  {
   "cell_type": "code",
   "execution_count": 22,
   "metadata": {},
   "outputs": [
    {
     "data": {
      "text/html": [
       "<div>\n",
       "<style scoped>\n",
       "    .dataframe tbody tr th:only-of-type {\n",
       "        vertical-align: middle;\n",
       "    }\n",
       "\n",
       "    .dataframe tbody tr th {\n",
       "        vertical-align: top;\n",
       "    }\n",
       "\n",
       "    .dataframe thead th {\n",
       "        text-align: right;\n",
       "    }\n",
       "</style>\n",
       "<table border=\"1\" class=\"dataframe\">\n",
       "  <thead>\n",
       "    <tr style=\"text-align: right;\">\n",
       "      <th></th>\n",
       "      <th>dep_delay</th>\n",
       "      <th>arr_delay</th>\n",
       "    </tr>\n",
       "  </thead>\n",
       "  <tbody>\n",
       "    <tr>\n",
       "      <th>0</th>\n",
       "      <td>151.0</td>\n",
       "      <td>186.0</td>\n",
       "    </tr>\n",
       "    <tr>\n",
       "      <th>1</th>\n",
       "      <td>1.0</td>\n",
       "      <td>-10.0</td>\n",
       "    </tr>\n",
       "    <tr>\n",
       "      <th>2</th>\n",
       "      <td>46.0</td>\n",
       "      <td>17.0</td>\n",
       "    </tr>\n",
       "    <tr>\n",
       "      <th>3</th>\n",
       "      <td>71.0</td>\n",
       "      <td>62.0</td>\n",
       "    </tr>\n",
       "    <tr>\n",
       "      <th>4</th>\n",
       "      <td>41.0</td>\n",
       "      <td>35.0</td>\n",
       "    </tr>\n",
       "  </tbody>\n",
       "</table>\n",
       "</div>"
      ],
      "text/plain": [
       "   dep_delay  arr_delay\n",
       "0      151.0      186.0\n",
       "1        1.0      -10.0\n",
       "2       46.0       17.0\n",
       "3       71.0       62.0\n",
       "4       41.0       35.0"
      ]
     },
     "execution_count": 22,
     "metadata": {},
     "output_type": "execute_result"
    },
    {
     "data": {
      "text/plain": [
       "(5335958, 2)"
      ]
     },
     "execution_count": 22,
     "metadata": {},
     "output_type": "execute_result"
    }
   ],
   "source": [
    "delays = pd.read_csv('data/delays.csv', index_col=0)\n",
    "delays.head()\n",
    "delays.shape"
   ]
  },
  {
   "cell_type": "code",
   "execution_count": 23,
   "metadata": {},
   "outputs": [],
   "source": [
    "#test if dep_delay > arr_delay, then return 1 for \n",
    "def fast(df):\n",
    "    '''If the arrival delay count in min is less than the departure delay, \n",
    "            then return 1 for 'fast' since the plane must have gone faster to make-up for the delayed departure\n",
    "            else return 0 for 'not fast' as the arrival delay was as long or longer than departure delays'''\n",
    "    if df['dep_delay'] > df['arr_delay']:\n",
    "        return 1 # sped up during flight\n",
    "    else: \n",
    "        return 0 # remained behind schedule\n",
    "\n",
    "# caution in restarting kernel, this cell takes a while but is necessary to plot task 7 in the next cell    \n",
    "delays['fast'] = delays.apply(fast, 1)"
   ]
  },
  {
   "cell_type": "code",
   "execution_count": 24,
   "metadata": {},
   "outputs": [
    {
     "data": {
      "image/png": "[encoded data removed]",
      "text/plain": [
       "<Figure size 432x288 with 1 Axes>"
      ]
     },
     "metadata": {},
     "output_type": "display_data"
    }
   ],
   "source": [
    "count_speed = delays.groupby('fast').count()['dep_delay']\n",
    "explode = (0, 0.1) # this makes the graph look fancy with a piece of the pie coming out\n",
    "fig, ax = plt.subplots();\n",
    "ax.pie(count_speed.values, explode=explode, labels=[\"Not Faster\", \"Faster than Departure Delays\"], autopct='%1.1f%%'); # loading the perc of pie for each piece\n",
    "ax.set_title=(\"Depature Delayed Flights\");\n",
    "plt.legend(loc='lower center');\n",
    "plt.savefig('images/t7_faster_flightdelay.png');"
   ]
  },
  {
   "cell_type": "markdown",
   "metadata": {},
   "source": [
    "Yes, planes often fly faster when there is the departure delay"
   ]
  },
  {
   "cell_type": "markdown",
   "metadata": {},
   "source": [
    "#### **Task 8**: When (which hour) do most 'LONG', 'SHORT', 'MEDIUM' haul flights take off?"
   ]
  },
  {
   "cell_type": "code",
   "execution_count": 156,
   "metadata": {},
   "outputs": [
    {
     "data": {
      "image/png": "[encoded data removed]",
      "text/plain": [
       "<Figure size 432x288 with 1 Axes>"
      ]
     },
     "metadata": {
      "needs_background": "light"
     },
     "output_type": "display_data"
    }
   ],
   "source": [
    "# need to distinguish what makes a 'long, short or medium' haul flight. then count each occurance against dep_time\n",
    "# use crs_elapsed_time since we know this information before the flight takes off: 'CRS Elapsed Time of Flight, in Minutes'\n",
    "sns.distplot(flight10k['crs_elapsed_time']);"
   ]
  },
  {
   "cell_type": "markdown",
   "metadata": {},
   "source": [
    "#### Domain Knowledge on Flight Haul Durations \n",
    "[Source](http://themcggroup.com/blog/the-differences-between-longhaul-and-shorthaul-piloting/bp67/#:~:text=Short-haul%20is%20a%20flight,lasting%20between%203-6%20hours)\n",
    "* Short-haul is a flight lasting anywhere from 30 minutes to 3 hours. \n",
    "* Medium-haul is defined by flights lasting between 3-6 hours.\n",
    "* Thus, Long-haul is defined by longer than 6 hours\n"
   ]
  },
  {
   "cell_type": "code",
   "execution_count": 10,
   "metadata": {},
   "outputs": [],
   "source": [
    "def haul(df, col):\n",
    "    '''Determine if flight length is SHORT, MEDIUM or LONG based on expected elapsed flight time. \n",
    "            Input \n",
    "            (0) df containing flight information, \n",
    "            (1) column containing the elapsed flight time in minutes\n",
    "                  \n",
    "            Output\n",
    "            'haul_length' column determining haul length category per row in df'''\n",
    "    length=[]\n",
    "    for i in df[col]:\n",
    "        if i < (3*60): # up to 3 hours\n",
    "            length.append('short')\n",
    "        elif (i >= (3*60)) and (i < (6*60)): # 3-6 hours\n",
    "            length.append('medium')\n",
    "        elif i >= (6*60):\n",
    "            length.append('long') # 6+ hours\n",
    "    df['haul_length'] = length\n",
    "    \n",
    "def gethour(df,col):\n",
    "    '''Convert hhmm to hh (24-hr) hour-only output\n",
    "            Input \n",
    "            (0) df containing flight information, \n",
    "            (1) column containing the hhmm time\n",
    "                  \n",
    "            Output\n",
    "            rewrite on input column in rounded hh format'''\n",
    "    values = []\n",
    "    for i in df[col]:\n",
    "        mins = (i % 100) / 60 \n",
    "        hour = i // 100\n",
    "        hh = round(hour+mins)\n",
    "        values.append(hh)\n",
    "    df[col] = values"
   ]
  },
  {
   "cell_type": "code",
   "execution_count": 121,
   "metadata": {},
   "outputs": [],
   "source": [
    "haul(flight10k, 'crs_elapsed_time')\n",
    "gethour(flight10k, 'crs_dep_time') # departure time given by CRS before flight takes off (as seen in flights_test)"
   ]
  },
  {
   "cell_type": "code",
   "execution_count": 123,
   "metadata": {},
   "outputs": [
    {
     "data": {
      "image/png": "[encoded data removed]",
      "text/plain": [
       "<Figure size 432x288 with 1 Axes>"
      ]
     },
     "metadata": {
      "needs_background": "light"
     },
     "output_type": "display_data"
    },
    {
     "data": {
      "image/png": "[encoded data removed]",
      "text/plain": [
       "<Figure size 432x288 with 1 Axes>"
      ]
     },
     "metadata": {
      "needs_background": "light"
     },
     "output_type": "display_data"
    },
    {
     "data": {
      "image/png": "[encoded data removed]",
      "text/plain": [
       "<Figure size 432x288 with 1 Axes>"
      ]
     },
     "metadata": {
      "needs_background": "light"
     },
     "output_type": "display_data"
    }
   ],
   "source": [
    "long = flight10k['haul_length'] == 'long'\n",
    "med = flight10k['haul_length'] == 'medium'\n",
    "short = flight10k['haul_length'] == 'short'\n",
    "\n",
    "L = flight10k[long][['crs_dep_time','mkt_carrier_fl_num']].groupby('crs_dep_time').agg('count').sort_values('mkt_carrier_fl_num',ascending=False).rename(columns={'mkt_carrier_fl_num':'num_flights'});\n",
    "ax = L.plot(kind='bar', title='Long-Haul Flights',rot=0, legend=False, color='r');\n",
    "ax.set(xlabel='Time of Day (24h)', ylabel='Number of Flights');\n",
    "M = flight10k[med][['crs_dep_time','mkt_carrier_fl_num']].groupby('crs_dep_time').agg('count').sort_values('mkt_carrier_fl_num',ascending=False).rename(columns={'mkt_carrier_fl_num':'num_flights'})\n",
    "ax = M.plot(kind='bar', title='Medium-Haul Flights',rot=0, legend=False, color='b');\n",
    "ax.set(xlabel='Time of Day (24h)', ylabel='Number of Flights');\n",
    "S = flight10k[short][['crs_dep_time','mkt_carrier_fl_num']].groupby('crs_dep_time').agg('count').sort_values('mkt_carrier_fl_num',ascending=False).rename(columns={'mkt_carrier_fl_num':'num_flights'})\n",
    "ax = S.plot(kind='bar', title='Short-Haul Flights',rot=0, legend=False, color='g');\n",
    "ax.set(xlabel='Time of Day (24h)', ylabel='Number of Flights');"
   ]
  },
  {
   "cell_type": "markdown",
   "metadata": {},
   "source": [
    "* We can see that LONG haul flights are most commonly departing in the morning (8am) followed closely by after work (5 and 6pm)\n",
    "* We can see that MEDIUM haul flights are most commonly departing in the mornings (8am, noon, 7am, 10am) \n",
    "* We can see that SHORT haul flights are most commonly departing in the midday (12pm and 10am) followed closely by before/after work times (6pm and 6am)"
   ]
  },
  {
   "cell_type": "markdown",
   "metadata": {},
   "source": [
    " "
   ]
  },
  {
   "cell_type": "markdown",
   "metadata": {},
   "source": [
    "### **Task 9**: Find the top 10 the bussiest airports. Does the biggest number of flights mean that the biggest number of passengers went through the particular airport? How much traffic do these 10 airports cover?"
   ]
  },
  {
   "cell_type": "code",
   "execution_count": 214,
   "metadata": {},
   "outputs": [
    {
     "data": {
      "text/html": [
       "<div>\n",
       "<style scoped>\n",
       "    .dataframe tbody tr th:only-of-type {\n",
       "        vertical-align: middle;\n",
       "    }\n",
       "\n",
       "    .dataframe tbody tr th {\n",
       "        vertical-align: top;\n",
       "    }\n",
       "\n",
       "    .dataframe thead th {\n",
       "        text-align: right;\n",
       "    }\n",
       "</style>\n",
       "<table border=\"1\" class=\"dataframe\">\n",
       "  <thead>\n",
       "    <tr style=\"text-align: right;\">\n",
       "      <th></th>\n",
       "      <th>departures_scheduled</th>\n",
       "      <th>departures_performed</th>\n",
       "      <th>payload</th>\n",
       "      <th>seats</th>\n",
       "      <th>passengers</th>\n",
       "      <th>freight</th>\n",
       "      <th>mail</th>\n",
       "      <th>distance</th>\n",
       "      <th>ramp_to_ramp</th>\n",
       "      <th>air_time</th>\n",
       "      <th>unique_carrier</th>\n",
       "      <th>airline_id</th>\n",
       "      <th>unique_carrier_name</th>\n",
       "      <th>region</th>\n",
       "      <th>carrier</th>\n",
       "      <th>carrier_name</th>\n",
       "      <th>carrier_group</th>\n",
       "      <th>carrier_group_new</th>\n",
       "      <th>origin_airport_id</th>\n",
       "      <th>origin_city_market_id</th>\n",
       "      <th>origin</th>\n",
       "      <th>origin_city_name</th>\n",
       "      <th>origin_country</th>\n",
       "      <th>origin_country_name</th>\n",
       "      <th>dest_airport_id</th>\n",
       "      <th>dest_city_market_id</th>\n",
       "      <th>dest</th>\n",
       "      <th>dest_city_name</th>\n",
       "      <th>dest_country</th>\n",
       "      <th>dest_country_name</th>\n",
       "      <th>aircraft_group</th>\n",
       "      <th>aircraft_type</th>\n",
       "      <th>aircraft_config</th>\n",
       "      <th>year</th>\n",
       "      <th>month</th>\n",
       "      <th>distance_group</th>\n",
       "      <th>class</th>\n",
       "      <th>data_source</th>\n",
       "    </tr>\n",
       "  </thead>\n",
       "  <tbody>\n",
       "    <tr>\n",
       "      <th>0</th>\n",
       "      <td>0.0</td>\n",
       "      <td>1.0</td>\n",
       "      <td>2803.0</td>\n",
       "      <td>14.0</td>\n",
       "      <td>6.0</td>\n",
       "      <td>0.0</td>\n",
       "      <td>0.0</td>\n",
       "      <td>5582.0</td>\n",
       "      <td>0.0</td>\n",
       "      <td>0.0</td>\n",
       "      <td>12Q</td>\n",
       "      <td>21423</td>\n",
       "      <td>Unijet</td>\n",
       "      <td>I</td>\n",
       "      <td>12Q</td>\n",
       "      <td>Unijet</td>\n",
       "      <td>0</td>\n",
       "      <td>0</td>\n",
       "      <td>12900</td>\n",
       "      <td>30920</td>\n",
       "      <td>LBG</td>\n",
       "      <td>Paris, France</td>\n",
       "      <td>FR</td>\n",
       "      <td>France</td>\n",
       "      <td>14771</td>\n",
       "      <td>32457</td>\n",
       "      <td>SFO</td>\n",
       "      <td>San Francisco, CA</td>\n",
       "      <td>US</td>\n",
       "      <td>United States</td>\n",
       "      <td>7</td>\n",
       "      <td>775</td>\n",
       "      <td>1</td>\n",
       "      <td>2015</td>\n",
       "      <td>11</td>\n",
       "      <td>12</td>\n",
       "      <td>L</td>\n",
       "      <td>IF</td>\n",
       "    </tr>\n",
       "    <tr>\n",
       "      <th>1</th>\n",
       "      <td>4.0</td>\n",
       "      <td>4.0</td>\n",
       "      <td>274750.0</td>\n",
       "      <td>0.0</td>\n",
       "      <td>0.0</td>\n",
       "      <td>130961.0</td>\n",
       "      <td>7580.0</td>\n",
       "      <td>491.0</td>\n",
       "      <td>359.0</td>\n",
       "      <td>295.0</td>\n",
       "      <td>5X</td>\n",
       "      <td>19917</td>\n",
       "      <td>United Parcel Service</td>\n",
       "      <td>D</td>\n",
       "      <td>5X</td>\n",
       "      <td>United Parcel Service</td>\n",
       "      <td>3</td>\n",
       "      <td>3</td>\n",
       "      <td>14730</td>\n",
       "      <td>33044</td>\n",
       "      <td>SDF</td>\n",
       "      <td>Louisville, KY</td>\n",
       "      <td>US</td>\n",
       "      <td>United States</td>\n",
       "      <td>13198</td>\n",
       "      <td>33198</td>\n",
       "      <td>MCI</td>\n",
       "      <td>Kansas City, MO</td>\n",
       "      <td>US</td>\n",
       "      <td>United States</td>\n",
       "      <td>6</td>\n",
       "      <td>622</td>\n",
       "      <td>2</td>\n",
       "      <td>2015</td>\n",
       "      <td>5</td>\n",
       "      <td>1</td>\n",
       "      <td>G</td>\n",
       "      <td>DU</td>\n",
       "    </tr>\n",
       "    <tr>\n",
       "      <th>2</th>\n",
       "      <td>53.0</td>\n",
       "      <td>47.0</td>\n",
       "      <td>470000.0</td>\n",
       "      <td>2350.0</td>\n",
       "      <td>1537.0</td>\n",
       "      <td>0.0</td>\n",
       "      <td>0.0</td>\n",
       "      <td>642.0</td>\n",
       "      <td>5760.0</td>\n",
       "      <td>4510.0</td>\n",
       "      <td>EV</td>\n",
       "      <td>20366</td>\n",
       "      <td>ExpressJet Airlines LLC</td>\n",
       "      <td>D</td>\n",
       "      <td>EV</td>\n",
       "      <td>ExpressJet Airlines Inc.</td>\n",
       "      <td>3</td>\n",
       "      <td>3</td>\n",
       "      <td>14730</td>\n",
       "      <td>33044</td>\n",
       "      <td>SDF</td>\n",
       "      <td>Louisville, KY</td>\n",
       "      <td>US</td>\n",
       "      <td>United States</td>\n",
       "      <td>11618</td>\n",
       "      <td>31703</td>\n",
       "      <td>EWR</td>\n",
       "      <td>Newark, NJ</td>\n",
       "      <td>US</td>\n",
       "      <td>United States</td>\n",
       "      <td>6</td>\n",
       "      <td>675</td>\n",
       "      <td>1</td>\n",
       "      <td>2016</td>\n",
       "      <td>2</td>\n",
       "      <td>2</td>\n",
       "      <td>F</td>\n",
       "      <td>DU</td>\n",
       "    </tr>\n",
       "    <tr>\n",
       "      <th>3</th>\n",
       "      <td>52.0</td>\n",
       "      <td>47.0</td>\n",
       "      <td>1405300.0</td>\n",
       "      <td>5170.0</td>\n",
       "      <td>4400.0</td>\n",
       "      <td>6976.0</td>\n",
       "      <td>11941.0</td>\n",
       "      <td>1029.0</td>\n",
       "      <td>8875.0</td>\n",
       "      <td>7163.0</td>\n",
       "      <td>DL</td>\n",
       "      <td>19790</td>\n",
       "      <td>Delta Air Lines Inc.</td>\n",
       "      <td>D</td>\n",
       "      <td>DL</td>\n",
       "      <td>Delta Air Lines Inc.</td>\n",
       "      <td>3</td>\n",
       "      <td>3</td>\n",
       "      <td>12478</td>\n",
       "      <td>31703</td>\n",
       "      <td>JFK</td>\n",
       "      <td>New York, NY</td>\n",
       "      <td>US</td>\n",
       "      <td>United States</td>\n",
       "      <td>13487</td>\n",
       "      <td>31650</td>\n",
       "      <td>MSP</td>\n",
       "      <td>Minneapolis, MN</td>\n",
       "      <td>US</td>\n",
       "      <td>United States</td>\n",
       "      <td>6</td>\n",
       "      <td>608</td>\n",
       "      <td>1</td>\n",
       "      <td>2018</td>\n",
       "      <td>3</td>\n",
       "      <td>3</td>\n",
       "      <td>F</td>\n",
       "      <td>DU</td>\n",
       "    </tr>\n",
       "    <tr>\n",
       "      <th>4</th>\n",
       "      <td>1.0</td>\n",
       "      <td>1.0</td>\n",
       "      <td>10000.0</td>\n",
       "      <td>50.0</td>\n",
       "      <td>39.0</td>\n",
       "      <td>0.0</td>\n",
       "      <td>0.0</td>\n",
       "      <td>109.0</td>\n",
       "      <td>56.0</td>\n",
       "      <td>31.0</td>\n",
       "      <td>OO</td>\n",
       "      <td>20304</td>\n",
       "      <td>SkyWest Airlines Inc.</td>\n",
       "      <td>D</td>\n",
       "      <td>OO</td>\n",
       "      <td>SkyWest Airlines Inc.</td>\n",
       "      <td>3</td>\n",
       "      <td>3</td>\n",
       "      <td>11898</td>\n",
       "      <td>31898</td>\n",
       "      <td>GFK</td>\n",
       "      <td>Grand Forks, ND</td>\n",
       "      <td>US</td>\n",
       "      <td>United States</td>\n",
       "      <td>10631</td>\n",
       "      <td>30631</td>\n",
       "      <td>BJI</td>\n",
       "      <td>Bemidji, MN</td>\n",
       "      <td>US</td>\n",
       "      <td>United States</td>\n",
       "      <td>6</td>\n",
       "      <td>629</td>\n",
       "      <td>1</td>\n",
       "      <td>2018</td>\n",
       "      <td>6</td>\n",
       "      <td>1</td>\n",
       "      <td>F</td>\n",
       "      <td>DU</td>\n",
       "    </tr>\n",
       "    <tr>\n",
       "      <th>...</th>\n",
       "      <td>...</td>\n",
       "      <td>...</td>\n",
       "      <td>...</td>\n",
       "      <td>...</td>\n",
       "      <td>...</td>\n",
       "      <td>...</td>\n",
       "      <td>...</td>\n",
       "      <td>...</td>\n",
       "      <td>...</td>\n",
       "      <td>...</td>\n",
       "      <td>...</td>\n",
       "      <td>...</td>\n",
       "      <td>...</td>\n",
       "      <td>...</td>\n",
       "      <td>...</td>\n",
       "      <td>...</td>\n",
       "      <td>...</td>\n",
       "      <td>...</td>\n",
       "      <td>...</td>\n",
       "      <td>...</td>\n",
       "      <td>...</td>\n",
       "      <td>...</td>\n",
       "      <td>...</td>\n",
       "      <td>...</td>\n",
       "      <td>...</td>\n",
       "      <td>...</td>\n",
       "      <td>...</td>\n",
       "      <td>...</td>\n",
       "      <td>...</td>\n",
       "      <td>...</td>\n",
       "      <td>...</td>\n",
       "      <td>...</td>\n",
       "      <td>...</td>\n",
       "      <td>...</td>\n",
       "      <td>...</td>\n",
       "      <td>...</td>\n",
       "      <td>...</td>\n",
       "      <td>...</td>\n",
       "    </tr>\n",
       "    <tr>\n",
       "      <th>9995</th>\n",
       "      <td>0.0</td>\n",
       "      <td>1.0</td>\n",
       "      <td>30010.0</td>\n",
       "      <td>128.0</td>\n",
       "      <td>120.0</td>\n",
       "      <td>119.0</td>\n",
       "      <td>0.0</td>\n",
       "      <td>1539.0</td>\n",
       "      <td>269.0</td>\n",
       "      <td>246.0</td>\n",
       "      <td>UA</td>\n",
       "      <td>19977</td>\n",
       "      <td>United Air Lines Inc.</td>\n",
       "      <td>D</td>\n",
       "      <td>UA</td>\n",
       "      <td>United Air Lines Inc.</td>\n",
       "      <td>3</td>\n",
       "      <td>3</td>\n",
       "      <td>11057</td>\n",
       "      <td>31057</td>\n",
       "      <td>CLT</td>\n",
       "      <td>Charlotte, NC</td>\n",
       "      <td>US</td>\n",
       "      <td>United States</td>\n",
       "      <td>11921</td>\n",
       "      <td>31921</td>\n",
       "      <td>GJT</td>\n",
       "      <td>Grand Junction, CO</td>\n",
       "      <td>US</td>\n",
       "      <td>United States</td>\n",
       "      <td>6</td>\n",
       "      <td>698</td>\n",
       "      <td>1</td>\n",
       "      <td>2016</td>\n",
       "      <td>6</td>\n",
       "      <td>4</td>\n",
       "      <td>F</td>\n",
       "      <td>DU</td>\n",
       "    </tr>\n",
       "    <tr>\n",
       "      <th>9996</th>\n",
       "      <td>0.0</td>\n",
       "      <td>3.0</td>\n",
       "      <td>78600.0</td>\n",
       "      <td>300.0</td>\n",
       "      <td>288.0</td>\n",
       "      <td>0.0</td>\n",
       "      <td>0.0</td>\n",
       "      <td>42.0</td>\n",
       "      <td>145.0</td>\n",
       "      <td>57.0</td>\n",
       "      <td>B6</td>\n",
       "      <td>20409</td>\n",
       "      <td>JetBlue Airways</td>\n",
       "      <td>D</td>\n",
       "      <td>B6</td>\n",
       "      <td>JetBlue Airways</td>\n",
       "      <td>3</td>\n",
       "      <td>3</td>\n",
       "      <td>14027</td>\n",
       "      <td>34027</td>\n",
       "      <td>PBI</td>\n",
       "      <td>West Palm Beach/Palm Beach, FL</td>\n",
       "      <td>US</td>\n",
       "      <td>United States</td>\n",
       "      <td>11697</td>\n",
       "      <td>32467</td>\n",
       "      <td>FLL</td>\n",
       "      <td>Fort Lauderdale, FL</td>\n",
       "      <td>US</td>\n",
       "      <td>United States</td>\n",
       "      <td>6</td>\n",
       "      <td>678</td>\n",
       "      <td>1</td>\n",
       "      <td>2019</td>\n",
       "      <td>6</td>\n",
       "      <td>1</td>\n",
       "      <td>F</td>\n",
       "      <td>DU</td>\n",
       "    </tr>\n",
       "    <tr>\n",
       "      <th>9997</th>\n",
       "      <td>0.0</td>\n",
       "      <td>4.0</td>\n",
       "      <td>13600.0</td>\n",
       "      <td>36.0</td>\n",
       "      <td>32.0</td>\n",
       "      <td>1.0</td>\n",
       "      <td>25.0</td>\n",
       "      <td>22.0</td>\n",
       "      <td>60.0</td>\n",
       "      <td>44.0</td>\n",
       "      <td>H6</td>\n",
       "      <td>20336</td>\n",
       "      <td>Hageland Aviation Service</td>\n",
       "      <td>D</td>\n",
       "      <td>H6</td>\n",
       "      <td>Hageland Aviation Service</td>\n",
       "      <td>1</td>\n",
       "      <td>5</td>\n",
       "      <td>10241</td>\n",
       "      <td>30241</td>\n",
       "      <td>AKI</td>\n",
       "      <td>Akiak, AK</td>\n",
       "      <td>US</td>\n",
       "      <td>United States</td>\n",
       "      <td>10551</td>\n",
       "      <td>30113</td>\n",
       "      <td>BET</td>\n",
       "      <td>Bethel, AK</td>\n",
       "      <td>US</td>\n",
       "      <td>United States</td>\n",
       "      <td>4</td>\n",
       "      <td>416</td>\n",
       "      <td>1</td>\n",
       "      <td>2015</td>\n",
       "      <td>7</td>\n",
       "      <td>1</td>\n",
       "      <td>F</td>\n",
       "      <td>DU</td>\n",
       "    </tr>\n",
       "    <tr>\n",
       "      <th>9998</th>\n",
       "      <td>27.0</td>\n",
       "      <td>27.0</td>\n",
       "      <td>985214.0</td>\n",
       "      <td>4050.0</td>\n",
       "      <td>3490.0</td>\n",
       "      <td>2347.0</td>\n",
       "      <td>5960.0</td>\n",
       "      <td>1825.0</td>\n",
       "      <td>6762.0</td>\n",
       "      <td>6187.0</td>\n",
       "      <td>UA</td>\n",
       "      <td>19977</td>\n",
       "      <td>United Air Lines Inc.</td>\n",
       "      <td>D</td>\n",
       "      <td>UA</td>\n",
       "      <td>United Air Lines Inc.</td>\n",
       "      <td>3</td>\n",
       "      <td>3</td>\n",
       "      <td>12266</td>\n",
       "      <td>31453</td>\n",
       "      <td>IAH</td>\n",
       "      <td>Houston, TX</td>\n",
       "      <td>US</td>\n",
       "      <td>United States</td>\n",
       "      <td>14057</td>\n",
       "      <td>34057</td>\n",
       "      <td>PDX</td>\n",
       "      <td>Portland, OR</td>\n",
       "      <td>US</td>\n",
       "      <td>United States</td>\n",
       "      <td>6</td>\n",
       "      <td>694</td>\n",
       "      <td>1</td>\n",
       "      <td>2016</td>\n",
       "      <td>8</td>\n",
       "      <td>4</td>\n",
       "      <td>F</td>\n",
       "      <td>DU</td>\n",
       "    </tr>\n",
       "    <tr>\n",
       "      <th>9999</th>\n",
       "      <td>0.0</td>\n",
       "      <td>1.0</td>\n",
       "      <td>34584.0</td>\n",
       "      <td>126.0</td>\n",
       "      <td>121.0</td>\n",
       "      <td>0.0</td>\n",
       "      <td>0.0</td>\n",
       "      <td>710.0</td>\n",
       "      <td>103.0</td>\n",
       "      <td>93.0</td>\n",
       "      <td>SY</td>\n",
       "      <td>20422</td>\n",
       "      <td>Sun Country Airlines d/b/a MN Airlines</td>\n",
       "      <td>D</td>\n",
       "      <td>SY</td>\n",
       "      <td>Sun Country Airlines d/b/a MN Airlines</td>\n",
       "      <td>2</td>\n",
       "      <td>2</td>\n",
       "      <td>11267</td>\n",
       "      <td>31267</td>\n",
       "      <td>DAY</td>\n",
       "      <td>Dayton, OH</td>\n",
       "      <td>US</td>\n",
       "      <td>United States</td>\n",
       "      <td>11973</td>\n",
       "      <td>31973</td>\n",
       "      <td>GPT</td>\n",
       "      <td>Gulfport/Biloxi, MS</td>\n",
       "      <td>US</td>\n",
       "      <td>United States</td>\n",
       "      <td>6</td>\n",
       "      <td>612</td>\n",
       "      <td>1</td>\n",
       "      <td>2018</td>\n",
       "      <td>9</td>\n",
       "      <td>2</td>\n",
       "      <td>L</td>\n",
       "      <td>DU</td>\n",
       "    </tr>\n",
       "  </tbody>\n",
       "</table>\n",
       "<p>10000 rows × 38 columns</p>\n",
       "</div>"
      ],
      "text/plain": [
       "      departures_scheduled  departures_performed    payload   seats  \\\n",
       "0                      0.0                   1.0     2803.0    14.0   \n",
       "1                      4.0                   4.0   274750.0     0.0   \n",
       "2                     53.0                  47.0   470000.0  2350.0   \n",
       "3                     52.0                  47.0  1405300.0  5170.0   \n",
       "4                      1.0                   1.0    10000.0    50.0   \n",
       "...                    ...                   ...        ...     ...   \n",
       "9995                   0.0                   1.0    30010.0   128.0   \n",
       "9996                   0.0                   3.0    78600.0   300.0   \n",
       "9997                   0.0                   4.0    13600.0    36.0   \n",
       "9998                  27.0                  27.0   985214.0  4050.0   \n",
       "9999                   0.0                   1.0    34584.0   126.0   \n",
       "\n",
       "      passengers   freight     mail  distance  ramp_to_ramp  air_time  \\\n",
       "0            6.0       0.0      0.0    5582.0           0.0       0.0   \n",
       "1            0.0  130961.0   7580.0     491.0         359.0     295.0   \n",
       "2         1537.0       0.0      0.0     642.0        5760.0    4510.0   \n",
       "3         4400.0    6976.0  11941.0    1029.0        8875.0    7163.0   \n",
       "4           39.0       0.0      0.0     109.0          56.0      31.0   \n",
       "...          ...       ...      ...       ...           ...       ...   \n",
       "9995       120.0     119.0      0.0    1539.0         269.0     246.0   \n",
       "9996       288.0       0.0      0.0      42.0         145.0      57.0   \n",
       "9997        32.0       1.0     25.0      22.0          60.0      44.0   \n",
       "9998      3490.0    2347.0   5960.0    1825.0        6762.0    6187.0   \n",
       "9999       121.0       0.0      0.0     710.0         103.0      93.0   \n",
       "\n",
       "     unique_carrier  airline_id                     unique_carrier_name  \\\n",
       "0               12Q       21423                                  Unijet   \n",
       "1                5X       19917                   United Parcel Service   \n",
       "2                EV       20366                 ExpressJet Airlines LLC   \n",
       "3                DL       19790                    Delta Air Lines Inc.   \n",
       "4                OO       20304                   SkyWest Airlines Inc.   \n",
       "...             ...         ...                                     ...   \n",
       "9995             UA       19977                   United Air Lines Inc.   \n",
       "9996             B6       20409                         JetBlue Airways   \n",
       "9997             H6       20336               Hageland Aviation Service   \n",
       "9998             UA       19977                   United Air Lines Inc.   \n",
       "9999             SY       20422  Sun Country Airlines d/b/a MN Airlines   \n",
       "\n",
       "     region carrier                            carrier_name  carrier_group  \\\n",
       "0         I     12Q                                  Unijet              0   \n",
       "1         D      5X                   United Parcel Service              3   \n",
       "2         D      EV                ExpressJet Airlines Inc.              3   \n",
       "3         D      DL                    Delta Air Lines Inc.              3   \n",
       "4         D      OO                   SkyWest Airlines Inc.              3   \n",
       "...     ...     ...                                     ...            ...   \n",
       "9995      D      UA                   United Air Lines Inc.              3   \n",
       "9996      D      B6                         JetBlue Airways              3   \n",
       "9997      D      H6               Hageland Aviation Service              1   \n",
       "9998      D      UA                   United Air Lines Inc.              3   \n",
       "9999      D      SY  Sun Country Airlines d/b/a MN Airlines              2   \n",
       "\n",
       "      carrier_group_new  origin_airport_id  origin_city_market_id origin  \\\n",
       "0                     0              12900                  30920    LBG   \n",
       "1                     3              14730                  33044    SDF   \n",
       "2                     3              14730                  33044    SDF   \n",
       "3                     3              12478                  31703    JFK   \n",
       "4                     3              11898                  31898    GFK   \n",
       "...                 ...                ...                    ...    ...   \n",
       "9995                  3              11057                  31057    CLT   \n",
       "9996                  3              14027                  34027    PBI   \n",
       "9997                  5              10241                  30241    AKI   \n",
       "9998                  3              12266                  31453    IAH   \n",
       "9999                  2              11267                  31267    DAY   \n",
       "\n",
       "                    origin_city_name origin_country origin_country_name  \\\n",
       "0                      Paris, France             FR              France   \n",
       "1                     Louisville, KY             US       United States   \n",
       "2                     Louisville, KY             US       United States   \n",
       "3                       New York, NY             US       United States   \n",
       "4                    Grand Forks, ND             US       United States   \n",
       "...                              ...            ...                 ...   \n",
       "9995                   Charlotte, NC             US       United States   \n",
       "9996  West Palm Beach/Palm Beach, FL             US       United States   \n",
       "9997                       Akiak, AK             US       United States   \n",
       "9998                     Houston, TX             US       United States   \n",
       "9999                      Dayton, OH             US       United States   \n",
       "\n",
       "      dest_airport_id  dest_city_market_id dest       dest_city_name  \\\n",
       "0               14771                32457  SFO    San Francisco, CA   \n",
       "1               13198                33198  MCI      Kansas City, MO   \n",
       "2               11618                31703  EWR           Newark, NJ   \n",
       "3               13487                31650  MSP      Minneapolis, MN   \n",
       "4               10631                30631  BJI          Bemidji, MN   \n",
       "...               ...                  ...  ...                  ...   \n",
       "9995            11921                31921  GJT   Grand Junction, CO   \n",
       "9996            11697                32467  FLL  Fort Lauderdale, FL   \n",
       "9997            10551                30113  BET           Bethel, AK   \n",
       "9998            14057                34057  PDX         Portland, OR   \n",
       "9999            11973                31973  GPT  Gulfport/Biloxi, MS   \n",
       "\n",
       "     dest_country dest_country_name  aircraft_group  aircraft_type  \\\n",
       "0              US     United States               7            775   \n",
       "1              US     United States               6            622   \n",
       "2              US     United States               6            675   \n",
       "3              US     United States               6            608   \n",
       "4              US     United States               6            629   \n",
       "...           ...               ...             ...            ...   \n",
       "9995           US     United States               6            698   \n",
       "9996           US     United States               6            678   \n",
       "9997           US     United States               4            416   \n",
       "9998           US     United States               6            694   \n",
       "9999           US     United States               6            612   \n",
       "\n",
       "      aircraft_config  year  month  distance_group class data_source  \n",
       "0                   1  2015     11              12     L          IF  \n",
       "1                   2  2015      5               1     G          DU  \n",
       "2                   1  2016      2               2     F          DU  \n",
       "3                   1  2018      3               3     F          DU  \n",
       "4                   1  2018      6               1     F          DU  \n",
       "...               ...   ...    ...             ...   ...         ...  \n",
       "9995                1  2016      6               4     F          DU  \n",
       "9996                1  2019      6               1     F          DU  \n",
       "9997                1  2015      7               1     F          DU  \n",
       "9998                1  2016      8               4     F          DU  \n",
       "9999                1  2018      9               2     L          DU  \n",
       "\n",
       "[10000 rows x 38 columns]"
      ]
     },
     "execution_count": 214,
     "metadata": {},
     "output_type": "execute_result"
    }
   ],
   "source": [
    "pass10k"
   ]
  },
  {
   "cell_type": "code",
   "execution_count": 238,
   "metadata": {},
   "outputs": [],
   "source": [
    "def busiest_ten(flight_df, airport_col, pass_df, pass_col):\n",
    "    ''' Input:\n",
    "            (0) dataframe of flight information\n",
    "            (1) corresponding column containing airport codes (i.e. origin or destination)\n",
    "            (2) dataframe of passenger information\n",
    "            (3) corresponding column containing passengers for airport code match\n",
    "        Output \n",
    "            New df of 10 busiest airports with \n",
    "                count of flights, \n",
    "                sum of passengers and \n",
    "                percentage of air traffic each airport covers'''\n",
    "    # step one, new df containing airport code and count of flights -- grabbing only top10\n",
    "    df = pd.DataFrame(flight_df[airport_col].value_counts()[:10]).reset_index().rename(columns={'index':'airport',airport_col:'count'})\n",
    "    # step two, add in second df containing passengers\n",
    "    df = df.merge(pass_df[[airport_col, pass_col]].groupby(airport_col).agg('sum'), left_on='airport', right_on=airport_col, how='left')\n",
    "    # step three, calculate percentage of total air traffic for each airport\n",
    "    perc_list = []\n",
    "    for x in df['count']:\n",
    "        perc_list.append((x / flight_df[airport_col].count()) * 100)\n",
    "    df['p_airtraffic'] = perc_list\n",
    "    return df"
   ]
  },
  {
   "cell_type": "code",
   "execution_count": 238,
   "metadata": {},
   "outputs": [
    {
     "name": "stdout",
     "output_type": "stream",
     "text": [
      "Top 10 Busiest Origin Airports:  ['ATL', 'ORD', 'DFW', 'DEN', 'LAX', 'CLT', 'IAH', 'LAS', 'DTW', 'SEA']\n",
      "Top 10 Busiest Destination Airports:  ['ATL', 'ORD', 'DFW', 'CLT', 'DEN', 'LAX', 'SEA', 'SFO', 'PHX', 'IAH']\n"
     ]
    }
   ],
   "source": [
    "busiest_origin = busiest_ten(flight10k,'origin',pass10k,'passengers')\n",
    "busiest_dest = busiest_ten(flight10k,'dest',pass10k,'passengers')\n",
    "\n",
    "print('Top 10 Busiest Origin Airports: ',busiest_origin['airport'].tolist())\n",
    "print('Top 10 Busiest Destination Airports: ',busiest_dest['airport'].tolist())"
   ]
  },
  {
   "cell_type": "markdown",
   "metadata": {},
   "source": [
    "Plotly Visualization of the Airports"
   ]
  },
  {
   "cell_type": "code",
   "execution_count": 196,
   "metadata": {},
   "outputs": [
    {
     "data": {
      "application/vnd.plotly.v1+json": {
       "config": {
        "plotlyServerURL": "https://plot.ly"
       },
       "data": [
        {
         "customdata": [
          [
           493
          ],
          [
           484
          ],
          [
           387
          ],
          [
           328
          ],
          [
           292
          ],
          [
           283
          ],
          [
           234
          ],
          [
           233
          ],
          [
           231
          ],
          [
           228
          ]
         ],
         "geo": "geo",
         "hovertemplate": "<b>%{hovertext}</b><br><br>count=%{marker.color}<br>lat=%{lat}<br>lon=%{lon}<extra></extra>",
         "hovertext": [
          "ATL",
          "ORD",
          "DFW",
          "DEN",
          "LAX",
          "CLT",
          "IAH",
          "LAS",
          "DTW",
          "SEA"
         ],
         "lat": [
          "33.6367",
          "41.9786",
          "32.896801",
          "39.861698150635",
          "33.942501",
          "35.2140007019043",
          "29.984399795532227",
          "36.08010101",
          "42.212398529052734",
          "47.449001"
         ],
         "legendgroup": "",
         "locationmode": "USA-states",
         "lon": [
          " -84.428101",
          " -87.9048",
          " -97.038002",
          " -104.672996521",
          " -118.407997",
          " -80.94309997558594",
          " -95.34140014648438",
          " -115.1520004",
          " -83.35340118408203",
          " -122.308998"
         ],
         "marker": {
          "color": [
           493,
           484,
           387,
           328,
           292,
           283,
           234,
           233,
           231,
           228
          ],
          "coloraxis": "coloraxis",
          "size": [
           493,
           484,
           387,
           328,
           292,
           283,
           234,
           233,
           231,
           228
          ],
          "sizemode": "area",
          "sizeref": 1.2325,
          "symbol": "circle"
         },
         "mode": "markers",
         "name": "",
         "showlegend": false,
         "type": "scattergeo"
        }
       ],
       "layout": {
        "autosize": true,
        "coloraxis": {
         "colorbar": {
          "title": {
           "text": "count"
          }
         },
         "colorscale": [
          [
           0,
           "#440154"
          ],
          [
           0.1111111111111111,
           "#482878"
          ],
          [
           0.2222222222222222,
           "#3e4989"
          ],
          [
           0.3333333333333333,
           "#31688e"
          ],
          [
           0.4444444444444444,
           "#26828e"
          ],
          [
           0.5555555555555556,
           "#1f9e89"
          ],
          [
           0.6666666666666666,
           "#35b779"
          ],
          [
           0.7777777777777778,
           "#6ece58"
          ],
          [
           0.8888888888888888,
           "#b5de2b"
          ],
          [
           1,
           "#fde725"
          ]
         ]
        },
        "geo": {
         "center": {
          "lat": 37.284601820178715,
          "lon": -93.6693131460531
         },
         "domain": {
          "x": [
           0,
           1
          ],
          "y": [
           0,
           1
          ]
         },
         "landcolor": "rgb(217, 217, 217)",
         "projection": {
          "scale": 9.189586839976283
         },
         "scope": "usa"
        },
        "legend": {
         "itemsizing": "constant",
         "tracegroupgap": 0
        },
        "margin": {
         "t": 60
        },
        "template": {
         "data": {
          "bar": [
           {
            "error_x": {
             "color": "#2a3f5f"
            },
            "error_y": {
             "color": "#2a3f5f"
            },
            "marker": {
             "line": {
              "color": "#E5ECF6",
              "width": 0.5
             }
            },
            "type": "bar"
           }
          ],
          "barpolar": [
           {
            "marker": {
             "line": {
              "color": "#E5ECF6",
              "width": 0.5
             }
            },
            "type": "barpolar"
           }
          ],
          "carpet": [
           {
            "aaxis": {
             "endlinecolor": "#2a3f5f",
             "gridcolor": "white",
             "linecolor": "white",
             "minorgridcolor": "white",
             "startlinecolor": "#2a3f5f"
            },
            "baxis": {
             "endlinecolor": "#2a3f5f",
             "gridcolor": "white",
             "linecolor": "white",
             "minorgridcolor": "white",
             "startlinecolor": "#2a3f5f"
            },
            "type": "carpet"
           }
          ],
          "choropleth": [
           {
            "colorbar": {
             "outlinewidth": 0,
             "ticks": ""
            },
            "type": "choropleth"
           }
          ],
          "contour": [
           {
            "colorbar": {
             "outlinewidth": 0,
             "ticks": ""
            },
            "colorscale": [
             [
              0,
              "#0d0887"
             ],
             [
              0.1111111111111111,
              "#46039f"
             ],
             [
              0.2222222222222222,
              "#7201a8"
             ],
             [
              0.3333333333333333,
              "#9c179e"
             ],
             [
              0.4444444444444444,
              "#bd3786"
             ],
             [
              0.5555555555555556,
              "#d8576b"
             ],
             [
              0.6666666666666666,
              "#ed7953"
             ],
             [
              0.7777777777777778,
              "#fb9f3a"
             ],
             [
              0.8888888888888888,
              "#fdca26"
             ],
             [
              1,
              "#f0f921"
             ]
            ],
            "type": "contour"
           }
          ],
          "contourcarpet": [
           {
            "colorbar": {
             "outlinewidth": 0,
             "ticks": ""
            },
            "type": "contourcarpet"
           }
          ],
          "heatmap": [
           {
            "colorbar": {
             "outlinewidth": 0,
             "ticks": ""
            },
            "colorscale": [
             [
              0,
              "#0d0887"
             ],
             [
              0.1111111111111111,
              "#46039f"
             ],
             [
              0.2222222222222222,
              "#7201a8"
             ],
             [
              0.3333333333333333,
              "#9c179e"
             ],
             [
              0.4444444444444444,
              "#bd3786"
             ],
             [
              0.5555555555555556,
              "#d8576b"
             ],
             [
              0.6666666666666666,
              "#ed7953"
             ],
             [
              0.7777777777777778,
              "#fb9f3a"
             ],
             [
              0.8888888888888888,
              "#fdca26"
             ],
             [
              1,
              "#f0f921"
             ]
            ],
            "type": "heatmap"
           }
          ],
          "heatmapgl": [
           {
            "colorbar": {
             "outlinewidth": 0,
             "ticks": ""
            },
            "colorscale": [
             [
              0,
              "#0d0887"
             ],
             [
              0.1111111111111111,
              "#46039f"
             ],
             [
              0.2222222222222222,
              "#7201a8"
             ],
             [
              0.3333333333333333,
              "#9c179e"
             ],
             [
              0.4444444444444444,
              "#bd3786"
             ],
             [
              0.5555555555555556,
              "#d8576b"
             ],
             [
              0.6666666666666666,
              "#ed7953"
             ],
             [
              0.7777777777777778,
              "#fb9f3a"
             ],
             [
              0.8888888888888888,
              "#fdca26"
             ],
             [
              1,
              "#f0f921"
             ]
            ],
            "type": "heatmapgl"
           }
          ],
          "histogram": [
           {
            "marker": {
             "colorbar": {
              "outlinewidth": 0,
              "ticks": ""
             }
            },
            "type": "histogram"
           }
          ],
          "histogram2d": [
           {
            "colorbar": {
             "outlinewidth": 0,
             "ticks": ""
            },
            "colorscale": [
             [
              0,
              "#0d0887"
             ],
             [
              0.1111111111111111,
              "#46039f"
             ],
             [
              0.2222222222222222,
              "#7201a8"
             ],
             [
              0.3333333333333333,
              "#9c179e"
             ],
             [
              0.4444444444444444,
              "#bd3786"
             ],
             [
              0.5555555555555556,
              "#d8576b"
             ],
             [
              0.6666666666666666,
              "#ed7953"
             ],
             [
              0.7777777777777778,
              "#fb9f3a"
             ],
             [
              0.8888888888888888,
              "#fdca26"
             ],
             [
              1,
              "#f0f921"
             ]
            ],
            "type": "histogram2d"
           }
          ],
          "histogram2dcontour": [
           {
            "colorbar": {
             "outlinewidth": 0,
             "ticks": ""
            },
            "colorscale": [
             [
              0,
              "#0d0887"
             ],
             [
              0.1111111111111111,
              "#46039f"
             ],
             [
              0.2222222222222222,
              "#7201a8"
             ],
             [
              0.3333333333333333,
              "#9c179e"
             ],
             [
              0.4444444444444444,
              "#bd3786"
             ],
             [
              0.5555555555555556,
              "#d8576b"
             ],
             [
              0.6666666666666666,
              "#ed7953"
             ],
             [
              0.7777777777777778,
              "#fb9f3a"
             ],
             [
              0.8888888888888888,
              "#fdca26"
             ],
             [
              1,
              "#f0f921"
             ]
            ],
            "type": "histogram2dcontour"
           }
          ],
          "mesh3d": [
           {
            "colorbar": {
             "outlinewidth": 0,
             "ticks": ""
            },
            "type": "mesh3d"
           }
          ],
          "parcoords": [
           {
            "line": {
             "colorbar": {
              "outlinewidth": 0,
              "ticks": ""
             }
            },
            "type": "parcoords"
           }
          ],
          "pie": [
           {
            "automargin": true,
            "type": "pie"
           }
          ],
          "scatter": [
           {
            "marker": {
             "colorbar": {
              "outlinewidth": 0,
              "ticks": ""
             }
            },
            "type": "scatter"
           }
          ],
          "scatter3d": [
           {
            "line": {
             "colorbar": {
              "outlinewidth": 0,
              "ticks": ""
             }
            },
            "marker": {
             "colorbar": {
              "outlinewidth": 0,
              "ticks": ""
             }
            },
            "type": "scatter3d"
           }
          ],
          "scattercarpet": [
           {
            "marker": {
             "colorbar": {
              "outlinewidth": 0,
              "ticks": ""
             }
            },
            "type": "scattercarpet"
           }
          ],
          "scattergeo": [
           {
            "marker": {
             "colorbar": {
              "outlinewidth": 0,
              "ticks": ""
             }
            },
            "type": "scattergeo"
           }
          ],
          "scattergl": [
           {
            "marker": {
             "colorbar": {
              "outlinewidth": 0,
              "ticks": ""
             }
            },
            "type": "scattergl"
           }
          ],
          "scattermapbox": [
           {
            "marker": {
             "colorbar": {
              "outlinewidth": 0,
              "ticks": ""
             }
            },
            "type": "scattermapbox"
           }
          ],
          "scatterpolar": [
           {
            "marker": {
             "colorbar": {
              "outlinewidth": 0,
              "ticks": ""
             }
            },
            "type": "scatterpolar"
           }
          ],
          "scatterpolargl": [
           {
            "marker": {
             "colorbar": {
              "outlinewidth": 0,
              "ticks": ""
             }
            },
            "type": "scatterpolargl"
           }
          ],
          "scatterternary": [
           {
            "marker": {
             "colorbar": {
              "outlinewidth": 0,
              "ticks": ""
             }
            },
            "type": "scatterternary"
           }
          ],
          "surface": [
           {
            "colorbar": {
             "outlinewidth": 0,
             "ticks": ""
            },
            "colorscale": [
             [
              0,
              "#0d0887"
             ],
             [
              0.1111111111111111,
              "#46039f"
             ],
             [
              0.2222222222222222,
              "#7201a8"
             ],
             [
              0.3333333333333333,
              "#9c179e"
             ],
             [
              0.4444444444444444,
              "#bd3786"
             ],
             [
              0.5555555555555556,
              "#d8576b"
             ],
             [
              0.6666666666666666,
              "#ed7953"
             ],
             [
              0.7777777777777778,
              "#fb9f3a"
             ],
             [
              0.8888888888888888,
              "#fdca26"
             ],
             [
              1,
              "#f0f921"
             ]
            ],
            "type": "surface"
           }
          ],
          "table": [
           {
            "cells": {
             "fill": {
              "color": "#EBF0F8"
             },
             "line": {
              "color": "white"
             }
            },
            "header": {
             "fill": {
              "color": "#C8D4E3"
             },
             "line": {
              "color": "white"
             }
            },
            "type": "table"
           }
          ]
         },
         "layout": {
          "annotationdefaults": {
           "arrowcolor": "#2a3f5f",
           "arrowhead": 0,
           "arrowwidth": 1
          },
          "autotypenumbers": "strict",
          "coloraxis": {
           "colorbar": {
            "outlinewidth": 0,
            "ticks": ""
           }
          },
          "colorscale": {
           "diverging": [
            [
             0,
             "#8e0152"
            ],
            [
             0.1,
             "#c51b7d"
            ],
            [
             0.2,
             "#de77ae"
            ],
            [
             0.3,
             "#f1b6da"
            ],
            [
             0.4,
             "#fde0ef"
            ],
            [
             0.5,
             "#f7f7f7"
            ],
            [
             0.6,
             "#e6f5d0"
            ],
            [
             0.7,
             "#b8e186"
            ],
            [
             0.8,
             "#7fbc41"
            ],
            [
             0.9,
             "#4d9221"
            ],
            [
             1,
             "#276419"
            ]
           ],
           "sequential": [
            [
             0,
             "#0d0887"
            ],
            [
             0.1111111111111111,
             "#46039f"
            ],
            [
             0.2222222222222222,
             "#7201a8"
            ],
            [
             0.3333333333333333,
             "#9c179e"
            ],
            [
             0.4444444444444444,
             "#bd3786"
            ],
            [
             0.5555555555555556,
             "#d8576b"
            ],
            [
             0.6666666666666666,
             "#ed7953"
            ],
            [
             0.7777777777777778,
             "#fb9f3a"
            ],
            [
             0.8888888888888888,
             "#fdca26"
            ],
            [
             1,
             "#f0f921"
            ]
           ],
           "sequentialminus": [
            [
             0,
             "#0d0887"
            ],
            [
             0.1111111111111111,
             "#46039f"
            ],
            [
             0.2222222222222222,
             "#7201a8"
            ],
            [
             0.3333333333333333,
             "#9c179e"
            ],
            [
             0.4444444444444444,
             "#bd3786"
            ],
            [
             0.5555555555555556,
             "#d8576b"
            ],
            [
             0.6666666666666666,
             "#ed7953"
            ],
            [
             0.7777777777777778,
             "#fb9f3a"
            ],
            [
             0.8888888888888888,
             "#fdca26"
            ],
            [
             1,
             "#f0f921"
            ]
           ]
          },
          "colorway": [
           "#636efa",
           "#EF553B",
           "#00cc96",
           "#ab63fa",
           "#FFA15A",
           "#19d3f3",
           "#FF6692",
           "#B6E880",
           "#FF97FF",
           "#FECB52"
          ],
          "font": {
           "color": "#2a3f5f"
          },
          "geo": {
           "bgcolor": "white",
           "lakecolor": "white",
           "landcolor": "#E5ECF6",
           "showlakes": true,
           "showland": true,
           "subunitcolor": "white"
          },
          "hoverlabel": {
           "align": "left"
          },
          "hovermode": "closest",
          "mapbox": {
           "style": "light"
          },
          "paper_bgcolor": "white",
          "plot_bgcolor": "#E5ECF6",
          "polar": {
           "angularaxis": {
            "gridcolor": "white",
            "linecolor": "white",
            "ticks": ""
           },
           "bgcolor": "#E5ECF6",
           "radialaxis": {
            "gridcolor": "white",
            "linecolor": "white",
            "ticks": ""
           }
          },
          "scene": {
           "xaxis": {
            "backgroundcolor": "#E5ECF6",
            "gridcolor": "white",
            "gridwidth": 2,
            "linecolor": "white",
            "showbackground": true,
            "ticks": "",
            "zerolinecolor": "white"
           },
           "yaxis": {
            "backgroundcolor": "#E5ECF6",
            "gridcolor": "white",
            "gridwidth": 2,
            "linecolor": "white",
            "showbackground": true,
            "ticks": "",
            "zerolinecolor": "white"
           },
           "zaxis": {
            "backgroundcolor": "#E5ECF6",
            "gridcolor": "white",
            "gridwidth": 2,
            "linecolor": "white",
            "showbackground": true,
            "ticks": "",
            "zerolinecolor": "white"
           }
          },
          "shapedefaults": {
           "line": {
            "color": "#2a3f5f"
           }
          },
          "ternary": {
           "aaxis": {
            "gridcolor": "white",
            "linecolor": "white",
            "ticks": ""
           },
           "baxis": {
            "gridcolor": "white",
            "linecolor": "white",
            "ticks": ""
           },
           "bgcolor": "#E5ECF6",
           "caxis": {
            "gridcolor": "white",
            "linecolor": "white",
            "ticks": ""
           }
          },
          "title": {
           "x": 0.05
          },
          "xaxis": {
           "automargin": true,
           "gridcolor": "white",
           "linecolor": "white",
           "ticks": "",
           "title": {
            "standoff": 15
           },
           "zerolinecolor": "white",
           "zerolinewidth": 2
          },
          "yaxis": {
           "automargin": true,
           "gridcolor": "white",
           "linecolor": "white",
           "ticks": "",
           "title": {
            "standoff": 15
           },
           "zerolinecolor": "white",
           "zerolinewidth": 2
          }
         }
        },
        "title": {
         "text": "2018-2019 Origin Airport Traffic in the US<br>Hover for more info"
        }
       }
      },
      "image/png": "[encoded data removed]",
      "text/html": [
       "<div>                            <div id=\"c0b1f5db-c6c0-4068-b6c1-3c93e8be31aa\" class=\"plotly-graph-div\" style=\"height:525px; width:100%;\"></div>            <script type=\"text/javascript\">                require([\"plotly\"], function(Plotly) {                    window.PLOTLYENV=window.PLOTLYENV || {};                                    if (document.getElementById(\"c0b1f5db-c6c0-4068-b6c1-3c93e8be31aa\")) {                    Plotly.newPlot(                        \"c0b1f5db-c6c0-4068-b6c1-3c93e8be31aa\",                        [{\"customdata\": [[493], [484], [387], [328], [292], [283], [234], [233], [231], [228]], \"geo\": \"geo\", \"hovertemplate\": \"<b>%{hovertext}</b><br><br>count=%{marker.color}<br>lat=%{lat}<br>lon=%{lon}<extra></extra>\", \"hovertext\": [\"ATL\", \"ORD\", \"DFW\", \"DEN\", \"LAX\", \"CLT\", \"IAH\", \"LAS\", \"DTW\", \"SEA\"], \"lat\": [\"33.6367\", \"41.9786\", \"32.896801\", \"39.861698150635\", \"33.942501\", \"35.2140007019043\", \"29.984399795532227\", \"36.08010101\", \"42.212398529052734\", \"47.449001\"], \"legendgroup\": \"\", \"locationmode\": \"USA-states\", \"lon\": [\" -84.428101\", \" -87.9048\", \" -97.038002\", \" -104.672996521\", \" -118.407997\", \" -80.94309997558594\", \" -95.34140014648438\", \" -115.1520004\", \" -83.35340118408203\", \" -122.308998\"], \"marker\": {\"color\": [493, 484, 387, 328, 292, 283, 234, 233, 231, 228], \"coloraxis\": \"coloraxis\", \"size\": [493, 484, 387, 328, 292, 283, 234, 233, 231, 228], \"sizemode\": \"area\", \"sizeref\": 1.2325, \"symbol\": \"circle\"}, \"mode\": \"markers\", \"name\": \"\", \"showlegend\": false, \"type\": \"scattergeo\"}],                        {\"coloraxis\": {\"colorbar\": {\"title\": {\"text\": \"count\"}}, \"colorscale\": [[0.0, \"#440154\"], [0.1111111111111111, \"#482878\"], [0.2222222222222222, \"#3e4989\"], [0.3333333333333333, \"#31688e\"], [0.4444444444444444, \"#26828e\"], [0.5555555555555556, \"#1f9e89\"], [0.6666666666666666, \"#35b779\"], [0.7777777777777778, \"#6ece58\"], [0.8888888888888888, \"#b5de2b\"], [1.0, \"#fde725\"]]}, \"geo\": {\"center\": {}, \"domain\": {\"x\": [0.0, 1.0], \"y\": [0.0, 1.0]}, \"landcolor\": \"rgb(217, 217, 217)\", \"scope\": \"usa\"}, \"legend\": {\"itemsizing\": \"constant\", \"tracegroupgap\": 0}, \"margin\": {\"t\": 60}, \"template\": {\"data\": {\"bar\": [{\"error_x\": {\"color\": \"#2a3f5f\"}, \"error_y\": {\"color\": \"#2a3f5f\"}, \"marker\": {\"line\": {\"color\": \"#E5ECF6\", \"width\": 0.5}}, \"type\": \"bar\"}], \"barpolar\": [{\"marker\": {\"line\": {\"color\": \"#E5ECF6\", \"width\": 0.5}}, \"type\": \"barpolar\"}], \"carpet\": [{\"aaxis\": {\"endlinecolor\": \"#2a3f5f\", \"gridcolor\": \"white\", \"linecolor\": \"white\", \"minorgridcolor\": \"white\", \"startlinecolor\": \"#2a3f5f\"}, \"baxis\": {\"endlinecolor\": \"#2a3f5f\", \"gridcolor\": \"white\", \"linecolor\": \"white\", \"minorgridcolor\": \"white\", \"startlinecolor\": \"#2a3f5f\"}, \"type\": \"carpet\"}], \"choropleth\": [{\"colorbar\": {\"outlinewidth\": 0, \"ticks\": \"\"}, \"type\": \"choropleth\"}], \"contour\": [{\"colorbar\": {\"outlinewidth\": 0, \"ticks\": \"\"}, \"colorscale\": [[0.0, \"#0d0887\"], [0.1111111111111111, \"#46039f\"], [0.2222222222222222, \"#7201a8\"], [0.3333333333333333, \"#9c179e\"], [0.4444444444444444, \"#bd3786\"], [0.5555555555555556, \"#d8576b\"], [0.6666666666666666, \"#ed7953\"], [0.7777777777777778, \"#fb9f3a\"], [0.8888888888888888, \"#fdca26\"], [1.0, \"#f0f921\"]], \"type\": \"contour\"}], \"contourcarpet\": [{\"colorbar\": {\"outlinewidth\": 0, \"ticks\": \"\"}, \"type\": \"contourcarpet\"}], \"heatmap\": [{\"colorbar\": {\"outlinewidth\": 0, \"ticks\": \"\"}, \"colorscale\": [[0.0, \"#0d0887\"], [0.1111111111111111, \"#46039f\"], [0.2222222222222222, \"#7201a8\"], [0.3333333333333333, \"#9c179e\"], [0.4444444444444444, \"#bd3786\"], [0.5555555555555556, \"#d8576b\"], [0.6666666666666666, \"#ed7953\"], [0.7777777777777778, \"#fb9f3a\"], [0.8888888888888888, \"#fdca26\"], [1.0, \"#f0f921\"]], \"type\": \"heatmap\"}], \"heatmapgl\": [{\"colorbar\": {\"outlinewidth\": 0, \"ticks\": \"\"}, \"colorscale\": [[0.0, \"#0d0887\"], [0.1111111111111111, \"#46039f\"], [0.2222222222222222, \"#7201a8\"], [0.3333333333333333, \"#9c179e\"], [0.4444444444444444, \"#bd3786\"], [0.5555555555555556, \"#d8576b\"], [0.6666666666666666, \"#ed7953\"], [0.7777777777777778, \"#fb9f3a\"], [0.8888888888888888, \"#fdca26\"], [1.0, \"#f0f921\"]], \"type\": \"heatmapgl\"}], \"histogram\": [{\"marker\": {\"colorbar\": {\"outlinewidth\": 0, \"ticks\": \"\"}}, \"type\": \"histogram\"}], \"histogram2d\": [{\"colorbar\": {\"outlinewidth\": 0, \"ticks\": \"\"}, \"colorscale\": [[0.0, \"#0d0887\"], [0.1111111111111111, \"#46039f\"], [0.2222222222222222, \"#7201a8\"], [0.3333333333333333, \"#9c179e\"], [0.4444444444444444, \"#bd3786\"], [0.5555555555555556, \"#d8576b\"], [0.6666666666666666, \"#ed7953\"], [0.7777777777777778, \"#fb9f3a\"], [0.8888888888888888, \"#fdca26\"], [1.0, \"#f0f921\"]], \"type\": \"histogram2d\"}], \"histogram2dcontour\": [{\"colorbar\": {\"outlinewidth\": 0, \"ticks\": \"\"}, \"colorscale\": [[0.0, \"#0d0887\"], [0.1111111111111111, \"#46039f\"], [0.2222222222222222, \"#7201a8\"], [0.3333333333333333, \"#9c179e\"], [0.4444444444444444, \"#bd3786\"], [0.5555555555555556, \"#d8576b\"], [0.6666666666666666, \"#ed7953\"], [0.7777777777777778, \"#fb9f3a\"], [0.8888888888888888, \"#fdca26\"], [1.0, \"#f0f921\"]], \"type\": \"histogram2dcontour\"}], \"mesh3d\": [{\"colorbar\": {\"outlinewidth\": 0, \"ticks\": \"\"}, \"type\": \"mesh3d\"}], \"parcoords\": [{\"line\": {\"colorbar\": {\"outlinewidth\": 0, \"ticks\": \"\"}}, \"type\": \"parcoords\"}], \"pie\": [{\"automargin\": true, \"type\": \"pie\"}], \"scatter\": [{\"marker\": {\"colorbar\": {\"outlinewidth\": 0, \"ticks\": \"\"}}, \"type\": \"scatter\"}], \"scatter3d\": [{\"line\": {\"colorbar\": {\"outlinewidth\": 0, \"ticks\": \"\"}}, \"marker\": {\"colorbar\": {\"outlinewidth\": 0, \"ticks\": \"\"}}, \"type\": \"scatter3d\"}], \"scattercarpet\": [{\"marker\": {\"colorbar\": {\"outlinewidth\": 0, \"ticks\": \"\"}}, \"type\": \"scattercarpet\"}], \"scattergeo\": [{\"marker\": {\"colorbar\": {\"outlinewidth\": 0, \"ticks\": \"\"}}, \"type\": \"scattergeo\"}], \"scattergl\": [{\"marker\": {\"colorbar\": {\"outlinewidth\": 0, \"ticks\": \"\"}}, \"type\": \"scattergl\"}], \"scattermapbox\": [{\"marker\": {\"colorbar\": {\"outlinewidth\": 0, \"ticks\": \"\"}}, \"type\": \"scattermapbox\"}], \"scatterpolar\": [{\"marker\": {\"colorbar\": {\"outlinewidth\": 0, \"ticks\": \"\"}}, \"type\": \"scatterpolar\"}], \"scatterpolargl\": [{\"marker\": {\"colorbar\": {\"outlinewidth\": 0, \"ticks\": \"\"}}, \"type\": \"scatterpolargl\"}], \"scatterternary\": [{\"marker\": {\"colorbar\": {\"outlinewidth\": 0, \"ticks\": \"\"}}, \"type\": \"scatterternary\"}], \"surface\": [{\"colorbar\": {\"outlinewidth\": 0, \"ticks\": \"\"}, \"colorscale\": [[0.0, \"#0d0887\"], [0.1111111111111111, \"#46039f\"], [0.2222222222222222, \"#7201a8\"], [0.3333333333333333, \"#9c179e\"], [0.4444444444444444, \"#bd3786\"], [0.5555555555555556, \"#d8576b\"], [0.6666666666666666, \"#ed7953\"], [0.7777777777777778, \"#fb9f3a\"], [0.8888888888888888, \"#fdca26\"], [1.0, \"#f0f921\"]], \"type\": \"surface\"}], \"table\": [{\"cells\": {\"fill\": {\"color\": \"#EBF0F8\"}, \"line\": {\"color\": \"white\"}}, \"header\": {\"fill\": {\"color\": \"#C8D4E3\"}, \"line\": {\"color\": \"white\"}}, \"type\": \"table\"}]}, \"layout\": {\"annotationdefaults\": {\"arrowcolor\": \"#2a3f5f\", \"arrowhead\": 0, \"arrowwidth\": 1}, \"autotypenumbers\": \"strict\", \"coloraxis\": {\"colorbar\": {\"outlinewidth\": 0, \"ticks\": \"\"}}, \"colorscale\": {\"diverging\": [[0, \"#8e0152\"], [0.1, \"#c51b7d\"], [0.2, \"#de77ae\"], [0.3, \"#f1b6da\"], [0.4, \"#fde0ef\"], [0.5, \"#f7f7f7\"], [0.6, \"#e6f5d0\"], [0.7, \"#b8e186\"], [0.8, \"#7fbc41\"], [0.9, \"#4d9221\"], [1, \"#276419\"]], \"sequential\": [[0.0, \"#0d0887\"], [0.1111111111111111, \"#46039f\"], [0.2222222222222222, \"#7201a8\"], [0.3333333333333333, \"#9c179e\"], [0.4444444444444444, \"#bd3786\"], [0.5555555555555556, \"#d8576b\"], [0.6666666666666666, \"#ed7953\"], [0.7777777777777778, \"#fb9f3a\"], [0.8888888888888888, \"#fdca26\"], [1.0, \"#f0f921\"]], \"sequentialminus\": [[0.0, \"#0d0887\"], [0.1111111111111111, \"#46039f\"], [0.2222222222222222, \"#7201a8\"], [0.3333333333333333, \"#9c179e\"], [0.4444444444444444, \"#bd3786\"], [0.5555555555555556, \"#d8576b\"], [0.6666666666666666, \"#ed7953\"], [0.7777777777777778, \"#fb9f3a\"], [0.8888888888888888, \"#fdca26\"], [1.0, \"#f0f921\"]]}, \"colorway\": [\"#636efa\", \"#EF553B\", \"#00cc96\", \"#ab63fa\", \"#FFA15A\", \"#19d3f3\", \"#FF6692\", \"#B6E880\", \"#FF97FF\", \"#FECB52\"], \"font\": {\"color\": \"#2a3f5f\"}, \"geo\": {\"bgcolor\": \"white\", \"lakecolor\": \"white\", \"landcolor\": \"#E5ECF6\", \"showlakes\": true, \"showland\": true, \"subunitcolor\": \"white\"}, \"hoverlabel\": {\"align\": \"left\"}, \"hovermode\": \"closest\", \"mapbox\": {\"style\": \"light\"}, \"paper_bgcolor\": \"white\", \"plot_bgcolor\": \"#E5ECF6\", \"polar\": {\"angularaxis\": {\"gridcolor\": \"white\", \"linecolor\": \"white\", \"ticks\": \"\"}, \"bgcolor\": \"#E5ECF6\", \"radialaxis\": {\"gridcolor\": \"white\", \"linecolor\": \"white\", \"ticks\": \"\"}}, \"scene\": {\"xaxis\": {\"backgroundcolor\": \"#E5ECF6\", \"gridcolor\": \"white\", \"gridwidth\": 2, \"linecolor\": \"white\", \"showbackground\": true, \"ticks\": \"\", \"zerolinecolor\": \"white\"}, \"yaxis\": {\"backgroundcolor\": \"#E5ECF6\", \"gridcolor\": \"white\", \"gridwidth\": 2, \"linecolor\": \"white\", \"showbackground\": true, \"ticks\": \"\", \"zerolinecolor\": \"white\"}, \"zaxis\": {\"backgroundcolor\": \"#E5ECF6\", \"gridcolor\": \"white\", \"gridwidth\": 2, \"linecolor\": \"white\", \"showbackground\": true, \"ticks\": \"\", \"zerolinecolor\": \"white\"}}, \"shapedefaults\": {\"line\": {\"color\": \"#2a3f5f\"}}, \"ternary\": {\"aaxis\": {\"gridcolor\": \"white\", \"linecolor\": \"white\", \"ticks\": \"\"}, \"baxis\": {\"gridcolor\": \"white\", \"linecolor\": \"white\", \"ticks\": \"\"}, \"bgcolor\": \"#E5ECF6\", \"caxis\": {\"gridcolor\": \"white\", \"linecolor\": \"white\", \"ticks\": \"\"}}, \"title\": {\"x\": 0.05}, \"xaxis\": {\"automargin\": true, \"gridcolor\": \"white\", \"linecolor\": \"white\", \"ticks\": \"\", \"title\": {\"standoff\": 15}, \"zerolinecolor\": \"white\", \"zerolinewidth\": 2}, \"yaxis\": {\"automargin\": true, \"gridcolor\": \"white\", \"linecolor\": \"white\", \"ticks\": \"\", \"title\": {\"standoff\": 15}, \"zerolinecolor\": \"white\", \"zerolinewidth\": 2}}}, \"title\": {\"text\": \"2018-2019 Origin Airport Traffic in the US<br>Hover for more info\"}},                        {\"responsive\": true}                    ).then(function(){\n",
       "                            \n",
       "var gd = document.getElementById('c0b1f5db-c6c0-4068-b6c1-3c93e8be31aa');\n",
       "var x = new MutationObserver(function (mutations, observer) {{\n",
       "        var display = window.getComputedStyle(gd).display;\n",
       "        if (!display || display === 'none') {{\n",
       "            console.log([gd, 'removed!']);\n",
       "            Plotly.purge(gd);\n",
       "            observer.disconnect();\n",
       "        }}\n",
       "}});\n",
       "\n",
       "// Listen for the removal of the full notebook cells\n",
       "var notebookContainer = gd.closest('#notebook-container');\n",
       "if (notebookContainer) {{\n",
       "    x.observe(notebookContainer, {childList: true});\n",
       "}}\n",
       "\n",
       "// Listen for the clearing of the current output cell\n",
       "var outputEl = gd.closest('.output');\n",
       "if (outputEl) {{\n",
       "    x.observe(outputEl, {childList: true});\n",
       "}}\n",
       "\n",
       "                        })                };                });            </script>        </div>"
      ]
     },
     "metadata": {},
     "output_type": "display_data"
    },
    {
     "data": {
      "application/vnd.plotly.v1+json": {
       "config": {
        "plotlyServerURL": "https://plot.ly"
       },
       "data": [
        {
         "customdata": [
          [
           515
          ],
          [
           471
          ],
          [
           369
          ],
          [
           318
          ],
          [
           316
          ],
          [
           283
          ],
          [
           229
          ],
          [
           222
          ],
          [
           219
          ],
          [
           214
          ]
         ],
         "geo": "geo",
         "hovertemplate": "<b>%{hovertext}</b><br><br>count=%{marker.color}<br>lat=%{lat}<br>lon=%{lon}<extra></extra>",
         "hovertext": [
          "ATL",
          "ORD",
          "DFW",
          "CLT",
          "DEN",
          "LAX",
          "SEA",
          "SFO",
          "PHX",
          "IAH"
         ],
         "lat": [
          "33.6367",
          "41.9786",
          "32.896801",
          "35.2140007019043",
          "39.861698150635",
          "33.942501",
          "47.449001",
          "37.61899948120117",
          "33.43429946899414",
          "29.984399795532227"
         ],
         "legendgroup": "",
         "locationmode": "USA-states",
         "lon": [
          " -84.428101",
          " -87.9048",
          " -97.038002",
          " -80.94309997558594",
          " -104.672996521",
          " -118.407997",
          " -122.308998",
          " -122.375",
          " -112.01200103759766",
          " -95.34140014648438"
         ],
         "marker": {
          "color": [
           515,
           471,
           369,
           318,
           316,
           283,
           229,
           222,
           219,
           214
          ],
          "coloraxis": "coloraxis",
          "size": [
           515,
           471,
           369,
           318,
           316,
           283,
           229,
           222,
           219,
           214
          ],
          "sizemode": "area",
          "sizeref": 1.2875,
          "symbol": "circle"
         },
         "mode": "markers",
         "name": "",
         "showlegend": false,
         "type": "scattergeo"
        }
       ],
       "layout": {
        "autosize": true,
        "coloraxis": {
         "colorbar": {
          "title": {
           "text": "count"
          }
         },
         "colorscale": [
          [
           0,
           "#440154"
          ],
          [
           0.1111111111111111,
           "#482878"
          ],
          [
           0.2222222222222222,
           "#3e4989"
          ],
          [
           0.3333333333333333,
           "#31688e"
          ],
          [
           0.4444444444444444,
           "#26828e"
          ],
          [
           0.5555555555555556,
           "#1f9e89"
          ],
          [
           0.6666666666666666,
           "#35b779"
          ],
          [
           0.7777777777777778,
           "#6ece58"
          ],
          [
           0.8888888888888888,
           "#b5de2b"
          ],
          [
           1,
           "#fde725"
          ]
         ]
        },
        "geo": {
         "center": {},
         "domain": {
          "x": [
           0,
           1
          ],
          "y": [
           0,
           1
          ]
         },
         "landcolor": "rgb(217, 217, 217)",
         "scope": "usa"
        },
        "legend": {
         "itemsizing": "constant",
         "tracegroupgap": 0
        },
        "margin": {
         "t": 60
        },
        "template": {
         "data": {
          "bar": [
           {
            "error_x": {
             "color": "#2a3f5f"
            },
            "error_y": {
             "color": "#2a3f5f"
            },
            "marker": {
             "line": {
              "color": "#E5ECF6",
              "width": 0.5
             }
            },
            "type": "bar"
           }
          ],
          "barpolar": [
           {
            "marker": {
             "line": {
              "color": "#E5ECF6",
              "width": 0.5
             }
            },
            "type": "barpolar"
           }
          ],
          "carpet": [
           {
            "aaxis": {
             "endlinecolor": "#2a3f5f",
             "gridcolor": "white",
             "linecolor": "white",
             "minorgridcolor": "white",
             "startlinecolor": "#2a3f5f"
            },
            "baxis": {
             "endlinecolor": "#2a3f5f",
             "gridcolor": "white",
             "linecolor": "white",
             "minorgridcolor": "white",
             "startlinecolor": "#2a3f5f"
            },
            "type": "carpet"
           }
          ],
          "choropleth": [
           {
            "colorbar": {
             "outlinewidth": 0,
             "ticks": ""
            },
            "type": "choropleth"
           }
          ],
          "contour": [
           {
            "colorbar": {
             "outlinewidth": 0,
             "ticks": ""
            },
            "colorscale": [
             [
              0,
              "#0d0887"
             ],
             [
              0.1111111111111111,
              "#46039f"
             ],
             [
              0.2222222222222222,
              "#7201a8"
             ],
             [
              0.3333333333333333,
              "#9c179e"
             ],
             [
              0.4444444444444444,
              "#bd3786"
             ],
             [
              0.5555555555555556,
              "#d8576b"
             ],
             [
              0.6666666666666666,
              "#ed7953"
             ],
             [
              0.7777777777777778,
              "#fb9f3a"
             ],
             [
              0.8888888888888888,
              "#fdca26"
             ],
             [
              1,
              "#f0f921"
             ]
            ],
            "type": "contour"
           }
          ],
          "contourcarpet": [
           {
            "colorbar": {
             "outlinewidth": 0,
             "ticks": ""
            },
            "type": "contourcarpet"
           }
          ],
          "heatmap": [
           {
            "colorbar": {
             "outlinewidth": 0,
             "ticks": ""
            },
            "colorscale": [
             [
              0,
              "#0d0887"
             ],
             [
              0.1111111111111111,
              "#46039f"
             ],
             [
              0.2222222222222222,
              "#7201a8"
             ],
             [
              0.3333333333333333,
              "#9c179e"
             ],
             [
              0.4444444444444444,
              "#bd3786"
             ],
             [
              0.5555555555555556,
              "#d8576b"
             ],
             [
              0.6666666666666666,
              "#ed7953"
             ],
             [
              0.7777777777777778,
              "#fb9f3a"
             ],
             [
              0.8888888888888888,
              "#fdca26"
             ],
             [
              1,
              "#f0f921"
             ]
            ],
            "type": "heatmap"
           }
          ],
          "heatmapgl": [
           {
            "colorbar": {
             "outlinewidth": 0,
             "ticks": ""
            },
            "colorscale": [
             [
              0,
              "#0d0887"
             ],
             [
              0.1111111111111111,
              "#46039f"
             ],
             [
              0.2222222222222222,
              "#7201a8"
             ],
             [
              0.3333333333333333,
              "#9c179e"
             ],
             [
              0.4444444444444444,
              "#bd3786"
             ],
             [
              0.5555555555555556,
              "#d8576b"
             ],
             [
              0.6666666666666666,
              "#ed7953"
             ],
             [
              0.7777777777777778,
              "#fb9f3a"
             ],
             [
              0.8888888888888888,
              "#fdca26"
             ],
             [
              1,
              "#f0f921"
             ]
            ],
            "type": "heatmapgl"
           }
          ],
          "histogram": [
           {
            "marker": {
             "colorbar": {
              "outlinewidth": 0,
              "ticks": ""
             }
            },
            "type": "histogram"
           }
          ],
          "histogram2d": [
           {
            "colorbar": {
             "outlinewidth": 0,
             "ticks": ""
            },
            "colorscale": [
             [
              0,
              "#0d0887"
             ],
             [
              0.1111111111111111,
              "#46039f"
             ],
             [
              0.2222222222222222,
              "#7201a8"
             ],
             [
              0.3333333333333333,
              "#9c179e"
             ],
             [
              0.4444444444444444,
              "#bd3786"
             ],
             [
              0.5555555555555556,
              "#d8576b"
             ],
             [
              0.6666666666666666,
              "#ed7953"
             ],
             [
              0.7777777777777778,
              "#fb9f3a"
             ],
             [
              0.8888888888888888,
              "#fdca26"
             ],
             [
              1,
              "#f0f921"
             ]
            ],
            "type": "histogram2d"
           }
          ],
          "histogram2dcontour": [
           {
            "colorbar": {
             "outlinewidth": 0,
             "ticks": ""
            },
            "colorscale": [
             [
              0,
              "#0d0887"
             ],
             [
              0.1111111111111111,
              "#46039f"
             ],
             [
              0.2222222222222222,
              "#7201a8"
             ],
             [
              0.3333333333333333,
              "#9c179e"
             ],
             [
              0.4444444444444444,
              "#bd3786"
             ],
             [
              0.5555555555555556,
              "#d8576b"
             ],
             [
              0.6666666666666666,
              "#ed7953"
             ],
             [
              0.7777777777777778,
              "#fb9f3a"
             ],
             [
              0.8888888888888888,
              "#fdca26"
             ],
             [
              1,
              "#f0f921"
             ]
            ],
            "type": "histogram2dcontour"
           }
          ],
          "mesh3d": [
           {
            "colorbar": {
             "outlinewidth": 0,
             "ticks": ""
            },
            "type": "mesh3d"
           }
          ],
          "parcoords": [
           {
            "line": {
             "colorbar": {
              "outlinewidth": 0,
              "ticks": ""
             }
            },
            "type": "parcoords"
           }
          ],
          "pie": [
           {
            "automargin": true,
            "type": "pie"
           }
          ],
          "scatter": [
           {
            "marker": {
             "colorbar": {
              "outlinewidth": 0,
              "ticks": ""
             }
            },
            "type": "scatter"
           }
          ],
          "scatter3d": [
           {
            "line": {
             "colorbar": {
              "outlinewidth": 0,
              "ticks": ""
             }
            },
            "marker": {
             "colorbar": {
              "outlinewidth": 0,
              "ticks": ""
             }
            },
            "type": "scatter3d"
           }
          ],
          "scattercarpet": [
           {
            "marker": {
             "colorbar": {
              "outlinewidth": 0,
              "ticks": ""
             }
            },
            "type": "scattercarpet"
           }
          ],
          "scattergeo": [
           {
            "marker": {
             "colorbar": {
              "outlinewidth": 0,
              "ticks": ""
             }
            },
            "type": "scattergeo"
           }
          ],
          "scattergl": [
           {
            "marker": {
             "colorbar": {
              "outlinewidth": 0,
              "ticks": ""
             }
            },
            "type": "scattergl"
           }
          ],
          "scattermapbox": [
           {
            "marker": {
             "colorbar": {
              "outlinewidth": 0,
              "ticks": ""
             }
            },
            "type": "scattermapbox"
           }
          ],
          "scatterpolar": [
           {
            "marker": {
             "colorbar": {
              "outlinewidth": 0,
              "ticks": ""
             }
            },
            "type": "scatterpolar"
           }
          ],
          "scatterpolargl": [
           {
            "marker": {
             "colorbar": {
              "outlinewidth": 0,
              "ticks": ""
             }
            },
            "type": "scatterpolargl"
           }
          ],
          "scatterternary": [
           {
            "marker": {
             "colorbar": {
              "outlinewidth": 0,
              "ticks": ""
             }
            },
            "type": "scatterternary"
           }
          ],
          "surface": [
           {
            "colorbar": {
             "outlinewidth": 0,
             "ticks": ""
            },
            "colorscale": [
             [
              0,
              "#0d0887"
             ],
             [
              0.1111111111111111,
              "#46039f"
             ],
             [
              0.2222222222222222,
              "#7201a8"
             ],
             [
              0.3333333333333333,
              "#9c179e"
             ],
             [
              0.4444444444444444,
              "#bd3786"
             ],
             [
              0.5555555555555556,
              "#d8576b"
             ],
             [
              0.6666666666666666,
              "#ed7953"
             ],
             [
              0.7777777777777778,
              "#fb9f3a"
             ],
             [
              0.8888888888888888,
              "#fdca26"
             ],
             [
              1,
              "#f0f921"
             ]
            ],
            "type": "surface"
           }
          ],
          "table": [
           {
            "cells": {
             "fill": {
              "color": "#EBF0F8"
             },
             "line": {
              "color": "white"
             }
            },
            "header": {
             "fill": {
              "color": "#C8D4E3"
             },
             "line": {
              "color": "white"
             }
            },
            "type": "table"
           }
          ]
         },
         "layout": {
          "annotationdefaults": {
           "arrowcolor": "#2a3f5f",
           "arrowhead": 0,
           "arrowwidth": 1
          },
          "autotypenumbers": "strict",
          "coloraxis": {
           "colorbar": {
            "outlinewidth": 0,
            "ticks": ""
           }
          },
          "colorscale": {
           "diverging": [
            [
             0,
             "#8e0152"
            ],
            [
             0.1,
             "#c51b7d"
            ],
            [
             0.2,
             "#de77ae"
            ],
            [
             0.3,
             "#f1b6da"
            ],
            [
             0.4,
             "#fde0ef"
            ],
            [
             0.5,
             "#f7f7f7"
            ],
            [
             0.6,
             "#e6f5d0"
            ],
            [
             0.7,
             "#b8e186"
            ],
            [
             0.8,
             "#7fbc41"
            ],
            [
             0.9,
             "#4d9221"
            ],
            [
             1,
             "#276419"
            ]
           ],
           "sequential": [
            [
             0,
             "#0d0887"
            ],
            [
             0.1111111111111111,
             "#46039f"
            ],
            [
             0.2222222222222222,
             "#7201a8"
            ],
            [
             0.3333333333333333,
             "#9c179e"
            ],
            [
             0.4444444444444444,
             "#bd3786"
            ],
            [
             0.5555555555555556,
             "#d8576b"
            ],
            [
             0.6666666666666666,
             "#ed7953"
            ],
            [
             0.7777777777777778,
             "#fb9f3a"
            ],
            [
             0.8888888888888888,
             "#fdca26"
            ],
            [
             1,
             "#f0f921"
            ]
           ],
           "sequentialminus": [
            [
             0,
             "#0d0887"
            ],
            [
             0.1111111111111111,
             "#46039f"
            ],
            [
             0.2222222222222222,
             "#7201a8"
            ],
            [
             0.3333333333333333,
             "#9c179e"
            ],
            [
             0.4444444444444444,
             "#bd3786"
            ],
            [
             0.5555555555555556,
             "#d8576b"
            ],
            [
             0.6666666666666666,
             "#ed7953"
            ],
            [
             0.7777777777777778,
             "#fb9f3a"
            ],
            [
             0.8888888888888888,
             "#fdca26"
            ],
            [
             1,
             "#f0f921"
            ]
           ]
          },
          "colorway": [
           "#636efa",
           "#EF553B",
           "#00cc96",
           "#ab63fa",
           "#FFA15A",
           "#19d3f3",
           "#FF6692",
           "#B6E880",
           "#FF97FF",
           "#FECB52"
          ],
          "font": {
           "color": "#2a3f5f"
          },
          "geo": {
           "bgcolor": "white",
           "lakecolor": "white",
           "landcolor": "#E5ECF6",
           "showlakes": true,
           "showland": true,
           "subunitcolor": "white"
          },
          "hoverlabel": {
           "align": "left"
          },
          "hovermode": "closest",
          "mapbox": {
           "style": "light"
          },
          "paper_bgcolor": "white",
          "plot_bgcolor": "#E5ECF6",
          "polar": {
           "angularaxis": {
            "gridcolor": "white",
            "linecolor": "white",
            "ticks": ""
           },
           "bgcolor": "#E5ECF6",
           "radialaxis": {
            "gridcolor": "white",
            "linecolor": "white",
            "ticks": ""
           }
          },
          "scene": {
           "xaxis": {
            "backgroundcolor": "#E5ECF6",
            "gridcolor": "white",
            "gridwidth": 2,
            "linecolor": "white",
            "showbackground": true,
            "ticks": "",
            "zerolinecolor": "white"
           },
           "yaxis": {
            "backgroundcolor": "#E5ECF6",
            "gridcolor": "white",
            "gridwidth": 2,
            "linecolor": "white",
            "showbackground": true,
            "ticks": "",
            "zerolinecolor": "white"
           },
           "zaxis": {
            "backgroundcolor": "#E5ECF6",
            "gridcolor": "white",
            "gridwidth": 2,
            "linecolor": "white",
            "showbackground": true,
            "ticks": "",
            "zerolinecolor": "white"
           }
          },
          "shapedefaults": {
           "line": {
            "color": "#2a3f5f"
           }
          },
          "ternary": {
           "aaxis": {
            "gridcolor": "white",
            "linecolor": "white",
            "ticks": ""
           },
           "baxis": {
            "gridcolor": "white",
            "linecolor": "white",
            "ticks": ""
           },
           "bgcolor": "#E5ECF6",
           "caxis": {
            "gridcolor": "white",
            "linecolor": "white",
            "ticks": ""
           }
          },
          "title": {
           "x": 0.05
          },
          "xaxis": {
           "automargin": true,
           "gridcolor": "white",
           "linecolor": "white",
           "ticks": "",
           "title": {
            "standoff": 15
           },
           "zerolinecolor": "white",
           "zerolinewidth": 2
          },
          "yaxis": {
           "automargin": true,
           "gridcolor": "white",
           "linecolor": "white",
           "ticks": "",
           "title": {
            "standoff": 15
           },
           "zerolinecolor": "white",
           "zerolinewidth": 2
          }
         }
        },
        "title": {
         "text": "2018-2019 Destination Airport Traffic in the US<br>Hover for more info"
        }
       }
      },
      "image/png": "[encoded data removed]",
      "text/html": [
       "<div>                            <div id=\"ad81841a-879f-47ee-ad84-bee5f4f66fd4\" class=\"plotly-graph-div\" style=\"height:525px; width:100%;\"></div>            <script type=\"text/javascript\">                require([\"plotly\"], function(Plotly) {                    window.PLOTLYENV=window.PLOTLYENV || {};                                    if (document.getElementById(\"ad81841a-879f-47ee-ad84-bee5f4f66fd4\")) {                    Plotly.newPlot(                        \"ad81841a-879f-47ee-ad84-bee5f4f66fd4\",                        [{\"customdata\": [[515], [471], [369], [318], [316], [283], [229], [222], [219], [214]], \"geo\": \"geo\", \"hovertemplate\": \"<b>%{hovertext}</b><br><br>count=%{marker.color}<br>lat=%{lat}<br>lon=%{lon}<extra></extra>\", \"hovertext\": [\"ATL\", \"ORD\", \"DFW\", \"CLT\", \"DEN\", \"LAX\", \"SEA\", \"SFO\", \"PHX\", \"IAH\"], \"lat\": [\"33.6367\", \"41.9786\", \"32.896801\", \"35.2140007019043\", \"39.861698150635\", \"33.942501\", \"47.449001\", \"37.61899948120117\", \"33.43429946899414\", \"29.984399795532227\"], \"legendgroup\": \"\", \"locationmode\": \"USA-states\", \"lon\": [\" -84.428101\", \" -87.9048\", \" -97.038002\", \" -80.94309997558594\", \" -104.672996521\", \" -118.407997\", \" -122.308998\", \" -122.375\", \" -112.01200103759766\", \" -95.34140014648438\"], \"marker\": {\"color\": [515, 471, 369, 318, 316, 283, 229, 222, 219, 214], \"coloraxis\": \"coloraxis\", \"size\": [515, 471, 369, 318, 316, 283, 229, 222, 219, 214], \"sizemode\": \"area\", \"sizeref\": 1.2875, \"symbol\": \"circle\"}, \"mode\": \"markers\", \"name\": \"\", \"showlegend\": false, \"type\": \"scattergeo\"}],                        {\"coloraxis\": {\"colorbar\": {\"title\": {\"text\": \"count\"}}, \"colorscale\": [[0.0, \"#440154\"], [0.1111111111111111, \"#482878\"], [0.2222222222222222, \"#3e4989\"], [0.3333333333333333, \"#31688e\"], [0.4444444444444444, \"#26828e\"], [0.5555555555555556, \"#1f9e89\"], [0.6666666666666666, \"#35b779\"], [0.7777777777777778, \"#6ece58\"], [0.8888888888888888, \"#b5de2b\"], [1.0, \"#fde725\"]]}, \"geo\": {\"center\": {}, \"domain\": {\"x\": [0.0, 1.0], \"y\": [0.0, 1.0]}, \"landcolor\": \"rgb(217, 217, 217)\", \"scope\": \"usa\"}, \"legend\": {\"itemsizing\": \"constant\", \"tracegroupgap\": 0}, \"margin\": {\"t\": 60}, \"template\": {\"data\": {\"bar\": [{\"error_x\": {\"color\": \"#2a3f5f\"}, \"error_y\": {\"color\": \"#2a3f5f\"}, \"marker\": {\"line\": {\"color\": \"#E5ECF6\", \"width\": 0.5}}, \"type\": \"bar\"}], \"barpolar\": [{\"marker\": {\"line\": {\"color\": \"#E5ECF6\", \"width\": 0.5}}, \"type\": \"barpolar\"}], \"carpet\": [{\"aaxis\": {\"endlinecolor\": \"#2a3f5f\", \"gridcolor\": \"white\", \"linecolor\": \"white\", \"minorgridcolor\": \"white\", \"startlinecolor\": \"#2a3f5f\"}, \"baxis\": {\"endlinecolor\": \"#2a3f5f\", \"gridcolor\": \"white\", \"linecolor\": \"white\", \"minorgridcolor\": \"white\", \"startlinecolor\": \"#2a3f5f\"}, \"type\": \"carpet\"}], \"choropleth\": [{\"colorbar\": {\"outlinewidth\": 0, \"ticks\": \"\"}, \"type\": \"choropleth\"}], \"contour\": [{\"colorbar\": {\"outlinewidth\": 0, \"ticks\": \"\"}, \"colorscale\": [[0.0, \"#0d0887\"], [0.1111111111111111, \"#46039f\"], [0.2222222222222222, \"#7201a8\"], [0.3333333333333333, \"#9c179e\"], [0.4444444444444444, \"#bd3786\"], [0.5555555555555556, \"#d8576b\"], [0.6666666666666666, \"#ed7953\"], [0.7777777777777778, \"#fb9f3a\"], [0.8888888888888888, \"#fdca26\"], [1.0, \"#f0f921\"]], \"type\": \"contour\"}], \"contourcarpet\": [{\"colorbar\": {\"outlinewidth\": 0, \"ticks\": \"\"}, \"type\": \"contourcarpet\"}], \"heatmap\": [{\"colorbar\": {\"outlinewidth\": 0, \"ticks\": \"\"}, \"colorscale\": [[0.0, \"#0d0887\"], [0.1111111111111111, \"#46039f\"], [0.2222222222222222, \"#7201a8\"], [0.3333333333333333, \"#9c179e\"], [0.4444444444444444, \"#bd3786\"], [0.5555555555555556, \"#d8576b\"], [0.6666666666666666, \"#ed7953\"], [0.7777777777777778, \"#fb9f3a\"], [0.8888888888888888, \"#fdca26\"], [1.0, \"#f0f921\"]], \"type\": \"heatmap\"}], \"heatmapgl\": [{\"colorbar\": {\"outlinewidth\": 0, \"ticks\": \"\"}, \"colorscale\": [[0.0, \"#0d0887\"], [0.1111111111111111, \"#46039f\"], [0.2222222222222222, \"#7201a8\"], [0.3333333333333333, \"#9c179e\"], [0.4444444444444444, \"#bd3786\"], [0.5555555555555556, \"#d8576b\"], [0.6666666666666666, \"#ed7953\"], [0.7777777777777778, \"#fb9f3a\"], [0.8888888888888888, \"#fdca26\"], [1.0, \"#f0f921\"]], \"type\": \"heatmapgl\"}], \"histogram\": [{\"marker\": {\"colorbar\": {\"outlinewidth\": 0, \"ticks\": \"\"}}, \"type\": \"histogram\"}], \"histogram2d\": [{\"colorbar\": {\"outlinewidth\": 0, \"ticks\": \"\"}, \"colorscale\": [[0.0, \"#0d0887\"], [0.1111111111111111, \"#46039f\"], [0.2222222222222222, \"#7201a8\"], [0.3333333333333333, \"#9c179e\"], [0.4444444444444444, \"#bd3786\"], [0.5555555555555556, \"#d8576b\"], [0.6666666666666666, \"#ed7953\"], [0.7777777777777778, \"#fb9f3a\"], [0.8888888888888888, \"#fdca26\"], [1.0, \"#f0f921\"]], \"type\": \"histogram2d\"}], \"histogram2dcontour\": [{\"colorbar\": {\"outlinewidth\": 0, \"ticks\": \"\"}, \"colorscale\": [[0.0, \"#0d0887\"], [0.1111111111111111, \"#46039f\"], [0.2222222222222222, \"#7201a8\"], [0.3333333333333333, \"#9c179e\"], [0.4444444444444444, \"#bd3786\"], [0.5555555555555556, \"#d8576b\"], [0.6666666666666666, \"#ed7953\"], [0.7777777777777778, \"#fb9f3a\"], [0.8888888888888888, \"#fdca26\"], [1.0, \"#f0f921\"]], \"type\": \"histogram2dcontour\"}], \"mesh3d\": [{\"colorbar\": {\"outlinewidth\": 0, \"ticks\": \"\"}, \"type\": \"mesh3d\"}], \"parcoords\": [{\"line\": {\"colorbar\": {\"outlinewidth\": 0, \"ticks\": \"\"}}, \"type\": \"parcoords\"}], \"pie\": [{\"automargin\": true, \"type\": \"pie\"}], \"scatter\": [{\"marker\": {\"colorbar\": {\"outlinewidth\": 0, \"ticks\": \"\"}}, \"type\": \"scatter\"}], \"scatter3d\": [{\"line\": {\"colorbar\": {\"outlinewidth\": 0, \"ticks\": \"\"}}, \"marker\": {\"colorbar\": {\"outlinewidth\": 0, \"ticks\": \"\"}}, \"type\": \"scatter3d\"}], \"scattercarpet\": [{\"marker\": {\"colorbar\": {\"outlinewidth\": 0, \"ticks\": \"\"}}, \"type\": \"scattercarpet\"}], \"scattergeo\": [{\"marker\": {\"colorbar\": {\"outlinewidth\": 0, \"ticks\": \"\"}}, \"type\": \"scattergeo\"}], \"scattergl\": [{\"marker\": {\"colorbar\": {\"outlinewidth\": 0, \"ticks\": \"\"}}, \"type\": \"scattergl\"}], \"scattermapbox\": [{\"marker\": {\"colorbar\": {\"outlinewidth\": 0, \"ticks\": \"\"}}, \"type\": \"scattermapbox\"}], \"scatterpolar\": [{\"marker\": {\"colorbar\": {\"outlinewidth\": 0, \"ticks\": \"\"}}, \"type\": \"scatterpolar\"}], \"scatterpolargl\": [{\"marker\": {\"colorbar\": {\"outlinewidth\": 0, \"ticks\": \"\"}}, \"type\": \"scatterpolargl\"}], \"scatterternary\": [{\"marker\": {\"colorbar\": {\"outlinewidth\": 0, \"ticks\": \"\"}}, \"type\": \"scatterternary\"}], \"surface\": [{\"colorbar\": {\"outlinewidth\": 0, \"ticks\": \"\"}, \"colorscale\": [[0.0, \"#0d0887\"], [0.1111111111111111, \"#46039f\"], [0.2222222222222222, \"#7201a8\"], [0.3333333333333333, \"#9c179e\"], [0.4444444444444444, \"#bd3786\"], [0.5555555555555556, \"#d8576b\"], [0.6666666666666666, \"#ed7953\"], [0.7777777777777778, \"#fb9f3a\"], [0.8888888888888888, \"#fdca26\"], [1.0, \"#f0f921\"]], \"type\": \"surface\"}], \"table\": [{\"cells\": {\"fill\": {\"color\": \"#EBF0F8\"}, \"line\": {\"color\": \"white\"}}, \"header\": {\"fill\": {\"color\": \"#C8D4E3\"}, \"line\": {\"color\": \"white\"}}, \"type\": \"table\"}]}, \"layout\": {\"annotationdefaults\": {\"arrowcolor\": \"#2a3f5f\", \"arrowhead\": 0, \"arrowwidth\": 1}, \"autotypenumbers\": \"strict\", \"coloraxis\": {\"colorbar\": {\"outlinewidth\": 0, \"ticks\": \"\"}}, \"colorscale\": {\"diverging\": [[0, \"#8e0152\"], [0.1, \"#c51b7d\"], [0.2, \"#de77ae\"], [0.3, \"#f1b6da\"], [0.4, \"#fde0ef\"], [0.5, \"#f7f7f7\"], [0.6, \"#e6f5d0\"], [0.7, \"#b8e186\"], [0.8, \"#7fbc41\"], [0.9, \"#4d9221\"], [1, \"#276419\"]], \"sequential\": [[0.0, \"#0d0887\"], [0.1111111111111111, \"#46039f\"], [0.2222222222222222, \"#7201a8\"], [0.3333333333333333, \"#9c179e\"], [0.4444444444444444, \"#bd3786\"], [0.5555555555555556, \"#d8576b\"], [0.6666666666666666, \"#ed7953\"], [0.7777777777777778, \"#fb9f3a\"], [0.8888888888888888, \"#fdca26\"], [1.0, \"#f0f921\"]], \"sequentialminus\": [[0.0, \"#0d0887\"], [0.1111111111111111, \"#46039f\"], [0.2222222222222222, \"#7201a8\"], [0.3333333333333333, \"#9c179e\"], [0.4444444444444444, \"#bd3786\"], [0.5555555555555556, \"#d8576b\"], [0.6666666666666666, \"#ed7953\"], [0.7777777777777778, \"#fb9f3a\"], [0.8888888888888888, \"#fdca26\"], [1.0, \"#f0f921\"]]}, \"colorway\": [\"#636efa\", \"#EF553B\", \"#00cc96\", \"#ab63fa\", \"#FFA15A\", \"#19d3f3\", \"#FF6692\", \"#B6E880\", \"#FF97FF\", \"#FECB52\"], \"font\": {\"color\": \"#2a3f5f\"}, \"geo\": {\"bgcolor\": \"white\", \"lakecolor\": \"white\", \"landcolor\": \"#E5ECF6\", \"showlakes\": true, \"showland\": true, \"subunitcolor\": \"white\"}, \"hoverlabel\": {\"align\": \"left\"}, \"hovermode\": \"closest\", \"mapbox\": {\"style\": \"light\"}, \"paper_bgcolor\": \"white\", \"plot_bgcolor\": \"#E5ECF6\", \"polar\": {\"angularaxis\": {\"gridcolor\": \"white\", \"linecolor\": \"white\", \"ticks\": \"\"}, \"bgcolor\": \"#E5ECF6\", \"radialaxis\": {\"gridcolor\": \"white\", \"linecolor\": \"white\", \"ticks\": \"\"}}, \"scene\": {\"xaxis\": {\"backgroundcolor\": \"#E5ECF6\", \"gridcolor\": \"white\", \"gridwidth\": 2, \"linecolor\": \"white\", \"showbackground\": true, \"ticks\": \"\", \"zerolinecolor\": \"white\"}, \"yaxis\": {\"backgroundcolor\": \"#E5ECF6\", \"gridcolor\": \"white\", \"gridwidth\": 2, \"linecolor\": \"white\", \"showbackground\": true, \"ticks\": \"\", \"zerolinecolor\": \"white\"}, \"zaxis\": {\"backgroundcolor\": \"#E5ECF6\", \"gridcolor\": \"white\", \"gridwidth\": 2, \"linecolor\": \"white\", \"showbackground\": true, \"ticks\": \"\", \"zerolinecolor\": \"white\"}}, \"shapedefaults\": {\"line\": {\"color\": \"#2a3f5f\"}}, \"ternary\": {\"aaxis\": {\"gridcolor\": \"white\", \"linecolor\": \"white\", \"ticks\": \"\"}, \"baxis\": {\"gridcolor\": \"white\", \"linecolor\": \"white\", \"ticks\": \"\"}, \"bgcolor\": \"#E5ECF6\", \"caxis\": {\"gridcolor\": \"white\", \"linecolor\": \"white\", \"ticks\": \"\"}}, \"title\": {\"x\": 0.05}, \"xaxis\": {\"automargin\": true, \"gridcolor\": \"white\", \"linecolor\": \"white\", \"ticks\": \"\", \"title\": {\"standoff\": 15}, \"zerolinecolor\": \"white\", \"zerolinewidth\": 2}, \"yaxis\": {\"automargin\": true, \"gridcolor\": \"white\", \"linecolor\": \"white\", \"ticks\": \"\", \"title\": {\"standoff\": 15}, \"zerolinecolor\": \"white\", \"zerolinewidth\": 2}}}, \"title\": {\"text\": \"2018-2019 Destination Airport Traffic in the US<br>Hover for more info\"}},                        {\"responsive\": true}                    ).then(function(){\n",
       "                            \n",
       "var gd = document.getElementById('ad81841a-879f-47ee-ad84-bee5f4f66fd4');\n",
       "var x = new MutationObserver(function (mutations, observer) {{\n",
       "        var display = window.getComputedStyle(gd).display;\n",
       "        if (!display || display === 'none') {{\n",
       "            console.log([gd, 'removed!']);\n",
       "            Plotly.purge(gd);\n",
       "            observer.disconnect();\n",
       "        }}\n",
       "}});\n",
       "\n",
       "// Listen for the removal of the full notebook cells\n",
       "var notebookContainer = gd.closest('#notebook-container');\n",
       "if (notebookContainer) {{\n",
       "    x.observe(notebookContainer, {childList: true});\n",
       "}}\n",
       "\n",
       "// Listen for the clearing of the current output cell\n",
       "var outputEl = gd.closest('.output');\n",
       "if (outputEl) {{\n",
       "    x.observe(outputEl, {childList: true});\n",
       "}}\n",
       "\n",
       "                        })                };                });            </script>        </div>"
      ]
     },
     "metadata": {},
     "output_type": "display_data"
    }
   ],
   "source": [
    "# add-in lat/long coords for each airport -- this was generated by Oliver which I'm utilizing here\n",
    "port_loc = pd.read_csv('../Oliver_workspace/vc_api/airport_coordinates.csv')\n",
    "busiest_origin = busiest_origin.merge(port_loc, left_on='airport', right_on='Unnamed: 0', how='left')\n",
    "busiest_origin.drop(columns='Unnamed: 0',inplace=True)\n",
    "busiest_dest = busiest_dest.merge(port_loc, left_on='airport', right_on='Unnamed: 0', how='left')\n",
    "busiest_dest.drop(columns='Unnamed: 0',inplace=True)\n",
    "# split lat_long for the plotly visualization\n",
    "busiest_origin[['lat','lon']] = busiest_origin.lat_long.str.split(\",\", expand=True,)\n",
    "busiest_origin.drop(columns='lat_long', inplace=True)\n",
    "busiest_dest[['lat','lon']] = busiest_dest.lat_long.str.split(\",\", expand=True,)\n",
    "busiest_dest.drop(columns='lat_long', inplace=True)\n",
    "\n",
    "# plot of origin airports\n",
    "fig = px.scatter_geo(busiest_origin,\n",
    "        locationmode = 'USA-states',\n",
    "        lon = busiest_origin[\"lon\"],\n",
    "        lat = busiest_origin[\"lat\"],\n",
    "        size = busiest_origin[\"count\"],\n",
    "        hover_name= busiest_origin[\"airport\"],\n",
    "        hover_data= [\"count\"],\n",
    "        color=busiest_origin[\"count\"],\n",
    "        color_continuous_scale=px.colors.sequential.Viridis)\n",
    "        \n",
    "fig.update_layout(\n",
    "        title_text = '2018-2019 Origin Airport Traffic in the US<br>Hover for more info',\n",
    "        geo = dict(\n",
    "            scope = 'usa',\n",
    "            landcolor = 'rgb(217, 217, 217)'))\n",
    "# plot of destination airports\n",
    "fig = px.scatter_geo(busiest_dest,\n",
    "        locationmode = 'USA-states',\n",
    "        lon = busiest_dest[\"lon\"],\n",
    "        lat = busiest_dest[\"lat\"],\n",
    "        size = busiest_dest[\"count\"],\n",
    "        hover_name= busiest_dest[\"airport\"],\n",
    "        hover_data= [\"count\"],\n",
    "        color=busiest_dest[\"count\"],\n",
    "        color_continuous_scale=px.colors.sequential.Viridis)\n",
    "        \n",
    "fig.update_layout(\n",
    "        title_text = '2018-2019 Destination Airport Traffic in the US<br>Hover for more info',\n",
    "        geo = dict(\n",
    "            scope = 'usa',\n",
    "            landcolor = 'rgb(217, 217, 217)'))"
   ]
  },
  {
   "cell_type": "markdown",
   "metadata": {},
   "source": [
    "Does the biggest number of flights mean that the biggest number of passengers went through the particular airport?"
   ]
  },
  {
   "cell_type": "code",
   "execution_count": 240,
   "metadata": {},
   "outputs": [
    {
     "data": {
      "image/png": "[encoded data removed]",
      "text/plain": [
       "<Figure size 432x288 with 2 Axes>"
      ]
     },
     "metadata": {
      "needs_background": "light"
     },
     "output_type": "display_data"
    },
    {
     "data": {
      "image/png": "[encoded data removed]",
      "text/plain": [
       "<Figure size 432x288 with 2 Axes>"
      ]
     },
     "metadata": {
      "needs_background": "light"
     },
     "output_type": "display_data"
    }
   ],
   "source": [
    "ax = busiest_origin.plot(x=\"airport\", y=\"count\", rot=0, kind=\"bar\", legend=False);\n",
    "ax.set_ylabel('Total Flights');\n",
    "ax.set_xlabel('');\n",
    "ax = busiest_origin['passengers'].plot(secondary_y=True, color='k', marker='o');\n",
    "ax.set_ylabel('Total Passengers');\n",
    "ax.set_title('Top 10 Busiest Origin Airports in USA');\n",
    "plt.show();\n",
    "\n",
    "ax = busiest_dest.plot(x=\"airport\", y=\"count\", rot=0, kind=\"bar\", legend=False);\n",
    "ax.set_ylabel('Total Flights');\n",
    "ax.set_xlabel('');\n",
    "ax = busiest_dest['passengers'].plot(secondary_y=True, color='k', marker='o');\n",
    "ax.set_ylabel('Total Passengers');\n",
    "ax.set_title('Top 10 Busiest Destination Airports in USA');\n",
    "plt.show();"
   ]
  },
  {
   "cell_type": "markdown",
   "metadata": {},
   "source": [
    "How much traffic do these 10 airports cover?"
   ]
  },
  {
   "cell_type": "code",
   "execution_count": 243,
   "metadata": {},
   "outputs": [
    {
     "name": "stdout",
     "output_type": "stream",
     "text": [
      "Top 10 Busiest Origin Airports: ['ATL', 'ORD', 'DFW', 'DEN', 'LAX', 'CLT', 'IAH', 'LAS', 'DTW', 'SEA']\n",
      "Percentage of Traffic Covered: 32.86%\n",
      "Top 10 Busiest Destination Airports: ['ATL', 'ORD', 'DFW', 'CLT', 'DEN', 'LAX', 'SEA', 'SFO', 'PHX', 'IAH']\n",
      "Percentage of Traffic Covered: 32.48%\n"
     ]
    }
   ],
   "source": [
    "print(f'Top 10 Busiest Origin Airports: {busiest_origin.airport.tolist()}\\nPercentage of Traffic Covered: {round(sum(busiest_origin.p_airtraffic),2)}%')\n",
    "print(f'Top 10 Busiest Destination Airports: {busiest_dest.airport.tolist()}\\nPercentage of Traffic Covered: {round(sum(busiest_dest.p_airtraffic),2)}%')"
   ]
  },
  {
   "cell_type": "markdown",
   "metadata": {},
   "source": [
    "I want to see how many flights we get with a busy-airport screen"
   ]
  },
  {
   "cell_type": "code",
   "execution_count": 263,
   "metadata": {},
   "outputs": [
    {
     "data": {
      "text/plain": [
       "(5719, 40)"
      ]
     },
     "execution_count": 263,
     "metadata": {},
     "output_type": "execute_result"
    }
   ],
   "source": [
    "busiest_origin = busiest_ten(flight10k,'origin',pass10k,'passengers')['airport'].tolist()\n",
    "busiest_dest = busiest_ten(flight10k,'dest',pass10k,'passengers')['airport'].tolist()\n",
    "\n",
    "busy_filter = (flight10k['origin'].isin(busiest_origin)) | (flight10k['dest'].isin(busiest_dest))\n",
    "flight10k[busy_filter].shape"
   ]
  },
  {
   "cell_type": "markdown",
   "metadata": {},
   "source": [
    " "
   ]
  },
  {
   "cell_type": "markdown",
   "metadata": {},
   "source": [
    "### **Task 10**: Do bigger delays lead to bigger fuel consumption per passenger? \n",
    "We need to do four things to answer this as accurate as possible:\n",
    "- Find out average monthly delay per air carrier (monthly delay is sum of all delays in 1 month)\n",
    "- Find out distance covered monthly by different air carriers\n",
    "- Find out number of passengers that were carried by different air carriers\n",
    "- Find out total fuel comsumption per air carrier.\n",
    "\n",
    "Use this information to get the average fuel comsumption per passenger per km. Is this higher for the airlines with bigger average delays?"
   ]
  },
  {
   "cell_type": "code",
   "execution_count": 29,
   "metadata": {},
   "outputs": [
    {
     "data": {
      "text/html": [
       "<div>\n",
       "<style scoped>\n",
       "    .dataframe tbody tr th:only-of-type {\n",
       "        vertical-align: middle;\n",
       "    }\n",
       "\n",
       "    .dataframe tbody tr th {\n",
       "        vertical-align: top;\n",
       "    }\n",
       "\n",
       "    .dataframe thead th {\n",
       "        text-align: right;\n",
       "    }\n",
       "</style>\n",
       "<table border=\"1\" class=\"dataframe\">\n",
       "  <thead>\n",
       "    <tr style=\"text-align: right;\">\n",
       "      <th></th>\n",
       "      <th>month</th>\n",
       "      <th>airline_id</th>\n",
       "      <th>unique_carrier</th>\n",
       "      <th>carrier</th>\n",
       "      <th>carrier_name</th>\n",
       "      <th>carrier_group_new</th>\n",
       "      <th>sdomt_gallons</th>\n",
       "      <th>satl_gallons</th>\n",
       "      <th>spac_gallons</th>\n",
       "      <th>slat_gallons</th>\n",
       "      <th>sint_gallons</th>\n",
       "      <th>ts_gallons</th>\n",
       "      <th>tdomt_gallons</th>\n",
       "      <th>tint_gallons</th>\n",
       "      <th>total_gallons</th>\n",
       "      <th>sdomt_cost</th>\n",
       "      <th>satl_cost</th>\n",
       "      <th>spac_cost</th>\n",
       "      <th>slat_cost</th>\n",
       "      <th>sint_cost</th>\n",
       "      <th>ts_cost</th>\n",
       "      <th>tdomt_cost</th>\n",
       "      <th>tint_cost</th>\n",
       "      <th>total_cost</th>\n",
       "      <th>year</th>\n",
       "    </tr>\n",
       "  </thead>\n",
       "  <tbody>\n",
       "    <tr>\n",
       "      <th>0</th>\n",
       "      <td>10</td>\n",
       "      <td>20436.0</td>\n",
       "      <td>F9</td>\n",
       "      <td>F9</td>\n",
       "      <td>Frontier Airlines Inc.</td>\n",
       "      <td>3</td>\n",
       "      <td>15956961.0</td>\n",
       "      <td>0.0</td>\n",
       "      <td>0.0</td>\n",
       "      <td>943502.0</td>\n",
       "      <td>943502.0</td>\n",
       "      <td>16900463.0</td>\n",
       "      <td>15992985.0</td>\n",
       "      <td>943502.0</td>\n",
       "      <td>16936487.0</td>\n",
       "      <td>22478579.0</td>\n",
       "      <td>0.0</td>\n",
       "      <td>0.0</td>\n",
       "      <td>1475956.0</td>\n",
       "      <td>1475956.0</td>\n",
       "      <td>23954535.0</td>\n",
       "      <td>22532980.0</td>\n",
       "      <td>1475956.0</td>\n",
       "      <td>24008936.0</td>\n",
       "      <td>2015</td>\n",
       "    </tr>\n",
       "    <tr>\n",
       "      <th>1</th>\n",
       "      <td>8</td>\n",
       "      <td>20107.0</td>\n",
       "      <td>FX</td>\n",
       "      <td>FX</td>\n",
       "      <td>Federal Express Corporation</td>\n",
       "      <td>3</td>\n",
       "      <td>57600477.0</td>\n",
       "      <td>15042547.0</td>\n",
       "      <td>23085768.0</td>\n",
       "      <td>2110647.0</td>\n",
       "      <td>40238962.0</td>\n",
       "      <td>97839439.0</td>\n",
       "      <td>59321547.0</td>\n",
       "      <td>41058655.0</td>\n",
       "      <td>100380202.0</td>\n",
       "      <td>108349000.0</td>\n",
       "      <td>28487000.0</td>\n",
       "      <td>44810000.0</td>\n",
       "      <td>4671000.0</td>\n",
       "      <td>77968000.0</td>\n",
       "      <td>186317000.0</td>\n",
       "      <td>111635000.0</td>\n",
       "      <td>79758327.0</td>\n",
       "      <td>191393327.0</td>\n",
       "      <td>2019</td>\n",
       "    </tr>\n",
       "    <tr>\n",
       "      <th>2</th>\n",
       "      <td>12</td>\n",
       "      <td>19393.0</td>\n",
       "      <td>WN</td>\n",
       "      <td>WN</td>\n",
       "      <td>Southwest Airlines Co.</td>\n",
       "      <td>3</td>\n",
       "      <td>168670614.0</td>\n",
       "      <td>0.0</td>\n",
       "      <td>0.0</td>\n",
       "      <td>1581759.0</td>\n",
       "      <td>1581759.0</td>\n",
       "      <td>170252373.0</td>\n",
       "      <td>168866327.0</td>\n",
       "      <td>1581759.0</td>\n",
       "      <td>170448086.0</td>\n",
       "      <td>309413568.0</td>\n",
       "      <td>0.0</td>\n",
       "      <td>0.0</td>\n",
       "      <td>3017318.0</td>\n",
       "      <td>3017318.0</td>\n",
       "      <td>312430886.0</td>\n",
       "      <td>309724573.0</td>\n",
       "      <td>3017318.0</td>\n",
       "      <td>312741891.0</td>\n",
       "      <td>2016</td>\n",
       "    </tr>\n",
       "    <tr>\n",
       "      <th>3</th>\n",
       "      <td>2</td>\n",
       "      <td>20402.0</td>\n",
       "      <td>GL</td>\n",
       "      <td>GL</td>\n",
       "      <td>Miami Air International</td>\n",
       "      <td>2</td>\n",
       "      <td>0.0</td>\n",
       "      <td>0.0</td>\n",
       "      <td>0.0</td>\n",
       "      <td>0.0</td>\n",
       "      <td>0.0</td>\n",
       "      <td>0.0</td>\n",
       "      <td>316608.0</td>\n",
       "      <td>254322.0</td>\n",
       "      <td>570930.0</td>\n",
       "      <td>0.0</td>\n",
       "      <td>0.0</td>\n",
       "      <td>0.0</td>\n",
       "      <td>0.0</td>\n",
       "      <td>0.0</td>\n",
       "      <td>0.0</td>\n",
       "      <td>706381.0</td>\n",
       "      <td>567415.0</td>\n",
       "      <td>1273796.0</td>\n",
       "      <td>2017</td>\n",
       "    </tr>\n",
       "    <tr>\n",
       "      <th>4</th>\n",
       "      <td>3</td>\n",
       "      <td>20190.0</td>\n",
       "      <td>9S</td>\n",
       "      <td>9S</td>\n",
       "      <td>Southern Air Inc.</td>\n",
       "      <td>2</td>\n",
       "      <td>1132125.0</td>\n",
       "      <td>2270891.0</td>\n",
       "      <td>4202599.0</td>\n",
       "      <td>11610.0</td>\n",
       "      <td>6485100.0</td>\n",
       "      <td>7617225.0</td>\n",
       "      <td>1132125.0</td>\n",
       "      <td>6485100.0</td>\n",
       "      <td>7617225.0</td>\n",
       "      <td>2452661.0</td>\n",
       "      <td>5438549.0</td>\n",
       "      <td>9316333.0</td>\n",
       "      <td>23597.0</td>\n",
       "      <td>14778479.0</td>\n",
       "      <td>17231140.0</td>\n",
       "      <td>2452661.0</td>\n",
       "      <td>14778479.0</td>\n",
       "      <td>17231140.0</td>\n",
       "      <td>2019</td>\n",
       "    </tr>\n",
       "  </tbody>\n",
       "</table>\n",
       "</div>"
      ],
      "text/plain": [
       "   month  airline_id unique_carrier carrier                 carrier_name  \\\n",
       "0     10     20436.0             F9      F9       Frontier Airlines Inc.   \n",
       "1      8     20107.0             FX      FX  Federal Express Corporation   \n",
       "2     12     19393.0             WN      WN       Southwest Airlines Co.   \n",
       "3      2     20402.0             GL      GL      Miami Air International   \n",
       "4      3     20190.0             9S      9S            Southern Air Inc.   \n",
       "\n",
       "   carrier_group_new  sdomt_gallons  satl_gallons  spac_gallons  slat_gallons  \\\n",
       "0                  3     15956961.0           0.0           0.0      943502.0   \n",
       "1                  3     57600477.0    15042547.0    23085768.0     2110647.0   \n",
       "2                  3    168670614.0           0.0           0.0     1581759.0   \n",
       "3                  2            0.0           0.0           0.0           0.0   \n",
       "4                  2      1132125.0     2270891.0     4202599.0       11610.0   \n",
       "\n",
       "   sint_gallons   ts_gallons  tdomt_gallons  tint_gallons  total_gallons  \\\n",
       "0      943502.0   16900463.0     15992985.0      943502.0     16936487.0   \n",
       "1    40238962.0   97839439.0     59321547.0    41058655.0    100380202.0   \n",
       "2     1581759.0  170252373.0    168866327.0     1581759.0    170448086.0   \n",
       "3           0.0          0.0       316608.0      254322.0       570930.0   \n",
       "4     6485100.0    7617225.0      1132125.0     6485100.0      7617225.0   \n",
       "\n",
       "    sdomt_cost   satl_cost   spac_cost  slat_cost   sint_cost      ts_cost  \\\n",
       "0   22478579.0         0.0         0.0  1475956.0   1475956.0   23954535.0   \n",
       "1  108349000.0  28487000.0  44810000.0  4671000.0  77968000.0  186317000.0   \n",
       "2  309413568.0         0.0         0.0  3017318.0   3017318.0  312430886.0   \n",
       "3          0.0         0.0         0.0        0.0         0.0          0.0   \n",
       "4    2452661.0   5438549.0   9316333.0    23597.0  14778479.0   17231140.0   \n",
       "\n",
       "    tdomt_cost   tint_cost   total_cost  year  \n",
       "0   22532980.0   1475956.0   24008936.0  2015  \n",
       "1  111635000.0  79758327.0  191393327.0  2019  \n",
       "2  309724573.0   3017318.0  312741891.0  2016  \n",
       "3     706381.0    567415.0    1273796.0  2017  \n",
       "4    2452661.0  14778479.0   17231140.0  2019  "
      ]
     },
     "execution_count": 29,
     "metadata": {},
     "output_type": "execute_result"
    },
    {
     "data": {
      "text/plain": [
       "(3035, 25)"
      ]
     },
     "execution_count": 29,
     "metadata": {},
     "output_type": "execute_result"
    }
   ],
   "source": [
    "fuel = pd.read_csv('data/fuel10K.csv', index_col=0)\n",
    "fuel.head()\n",
    "fuel.shape"
   ]
  },
  {
   "cell_type": "markdown",
   "metadata": {},
   "source": [
    "Find out average monthly delay per air carrier (monthly delay is sum of all delays in 1 month)"
   ]
  },
  {
   "cell_type": "code",
   "execution_count": 68,
   "metadata": {},
   "outputs": [],
   "source": [
    "monthly_delay = flight10k[['fl_month','op_unique_carrier','arr_delay']].groupby(['fl_month','op_unique_carrier']).sum().reset_index()\n",
    "monthly_delay = monthly_delay[['op_unique_carrier','arr_delay']].groupby('op_unique_carrier').mean().reset_index()\n",
    "#monthly_delay"
   ]
  },
  {
   "cell_type": "markdown",
   "metadata": {},
   "source": [
    "Find out distance covered monthly by different air carriers"
   ]
  },
  {
   "cell_type": "code",
   "execution_count": 69,
   "metadata": {},
   "outputs": [],
   "source": [
    "carr_dist = flight10k[['fl_month','op_unique_carrier','distance']].groupby(['fl_month','op_unique_carrier']).sum().reset_index()\n",
    "carr_dist = carr_dist[['op_unique_carrier','distance']].groupby('op_unique_carrier').mean().reset_index()\n",
    "#carr_dist"
   ]
  },
  {
   "cell_type": "markdown",
   "metadata": {},
   "source": [
    "Find out number of passengers that were carried by different air carriers"
   ]
  },
  {
   "cell_type": "code",
   "execution_count": 70,
   "metadata": {},
   "outputs": [],
   "source": [
    "carr_pass = pass10k[['month','unique_carrier','passengers']].groupby(['month','unique_carrier']).sum().reset_index()\n",
    "carr_pass = carr_pass[['unique_carrier','passengers']].groupby('unique_carrier').mean().reset_index()\n",
    "#carr_pass"
   ]
  },
  {
   "cell_type": "markdown",
   "metadata": {},
   "source": [
    "Find out total fuel comsumption per air carrier."
   ]
  },
  {
   "cell_type": "code",
   "execution_count": 71,
   "metadata": {},
   "outputs": [],
   "source": [
    "carrier_fuel = fuel[['unique_carrier','total_gallons']].groupby('unique_carrier').mean().reset_index()\n",
    "#carrier_fuel"
   ]
  },
  {
   "cell_type": "code",
   "execution_count": 81,
   "metadata": {},
   "outputs": [
    {
     "data": {
      "text/html": [
       "<div>\n",
       "<style scoped>\n",
       "    .dataframe tbody tr th:only-of-type {\n",
       "        vertical-align: middle;\n",
       "    }\n",
       "\n",
       "    .dataframe tbody tr th {\n",
       "        vertical-align: top;\n",
       "    }\n",
       "\n",
       "    .dataframe thead th {\n",
       "        text-align: right;\n",
       "    }\n",
       "</style>\n",
       "<table border=\"1\" class=\"dataframe\">\n",
       "  <thead>\n",
       "    <tr style=\"text-align: right;\">\n",
       "      <th></th>\n",
       "      <th>op_unique_carrier</th>\n",
       "      <th>arr_delay</th>\n",
       "      <th>distance</th>\n",
       "      <th>passengers</th>\n",
       "      <th>total_gallons</th>\n",
       "    </tr>\n",
       "  </thead>\n",
       "  <tbody>\n",
       "    <tr>\n",
       "      <th>0</th>\n",
       "      <td>9E</td>\n",
       "      <td>46.0</td>\n",
       "      <td>11810.583333</td>\n",
       "      <td>24077.75</td>\n",
       "      <td>0.0</td>\n",
       "    </tr>\n",
       "  </tbody>\n",
       "</table>\n",
       "</div>"
      ],
      "text/plain": [
       "  op_unique_carrier  arr_delay      distance  passengers  total_gallons\n",
       "0                9E       46.0  11810.583333    24077.75            0.0"
      ]
     },
     "execution_count": 81,
     "metadata": {},
     "output_type": "execute_result"
    }
   ],
   "source": [
    "# put it all together\n",
    "avg = monthly_delay.merge(carr_dist, left_on='op_unique_carrier', right_on='op_unique_carrier', how='outer')\n",
    "avg = avg.merge(carr_pass, left_on='op_unique_carrier', right_on='unique_carrier', how='left')\n",
    "avg = avg.merge(carrier_fuel, left_on='op_unique_carrier', right_on='unique_carrier', how='left')\n",
    "avg.drop(columns=['unique_carrier_x','unique_carrier_y'],inplace=True)\n",
    "avg = avg.fillna(0)\n",
    "avg.head(1)"
   ]
  },
  {
   "cell_type": "markdown",
   "metadata": {},
   "source": [
    "average fuel consumption per passenger per km"
   ]
  },
  {
   "cell_type": "code",
   "execution_count": 83,
   "metadata": {},
   "outputs": [
    {
     "data": {
      "text/html": [
       "<div>\n",
       "<style scoped>\n",
       "    .dataframe tbody tr th:only-of-type {\n",
       "        vertical-align: middle;\n",
       "    }\n",
       "\n",
       "    .dataframe tbody tr th {\n",
       "        vertical-align: top;\n",
       "    }\n",
       "\n",
       "    .dataframe thead th {\n",
       "        text-align: right;\n",
       "    }\n",
       "</style>\n",
       "<table border=\"1\" class=\"dataframe\">\n",
       "  <thead>\n",
       "    <tr style=\"text-align: right;\">\n",
       "      <th></th>\n",
       "      <th>op_unique_carrier</th>\n",
       "      <th>arr_delay</th>\n",
       "      <th>distance</th>\n",
       "      <th>passengers</th>\n",
       "      <th>total_gallons</th>\n",
       "      <th>gal_pass_km</th>\n",
       "    </tr>\n",
       "  </thead>\n",
       "  <tbody>\n",
       "    <tr>\n",
       "      <th>0</th>\n",
       "      <td>9E</td>\n",
       "      <td>46.000000</td>\n",
       "      <td>11810.583333</td>\n",
       "      <td>24077.750000</td>\n",
       "      <td>0.000000e+00</td>\n",
       "      <td>0.000000</td>\n",
       "    </tr>\n",
       "    <tr>\n",
       "      <th>1</th>\n",
       "      <td>AA</td>\n",
       "      <td>386.666667</td>\n",
       "      <td>93015.250000</td>\n",
       "      <td>247613.750000</td>\n",
       "      <td>2.918401e+08</td>\n",
       "      <td>0.012671</td>\n",
       "    </tr>\n",
       "    <tr>\n",
       "      <th>2</th>\n",
       "      <td>AS</td>\n",
       "      <td>-0.083333</td>\n",
       "      <td>33812.916667</td>\n",
       "      <td>48190.250000</td>\n",
       "      <td>4.699045e+07</td>\n",
       "      <td>0.028838</td>\n",
       "    </tr>\n",
       "    <tr>\n",
       "      <th>3</th>\n",
       "      <td>AX</td>\n",
       "      <td>62.500000</td>\n",
       "      <td>3661.666667</td>\n",
       "      <td>4957.250000</td>\n",
       "      <td>0.000000e+00</td>\n",
       "      <td>0.000000</td>\n",
       "    </tr>\n",
       "    <tr>\n",
       "      <th>4</th>\n",
       "      <td>B6</td>\n",
       "      <td>187.166667</td>\n",
       "      <td>33675.666667</td>\n",
       "      <td>65310.166667</td>\n",
       "      <td>6.608877e+07</td>\n",
       "      <td>0.030049</td>\n",
       "    </tr>\n",
       "  </tbody>\n",
       "</table>\n",
       "</div>"
      ],
      "text/plain": [
       "  op_unique_carrier   arr_delay      distance     passengers  total_gallons  \\\n",
       "0                9E   46.000000  11810.583333   24077.750000   0.000000e+00   \n",
       "1                AA  386.666667  93015.250000  247613.750000   2.918401e+08   \n",
       "2                AS   -0.083333  33812.916667   48190.250000   4.699045e+07   \n",
       "3                AX   62.500000   3661.666667    4957.250000   0.000000e+00   \n",
       "4                B6  187.166667  33675.666667   65310.166667   6.608877e+07   \n",
       "\n",
       "   gal_pass_km  \n",
       "0     0.000000  \n",
       "1     0.012671  \n",
       "2     0.028838  \n",
       "3     0.000000  \n",
       "4     0.030049  "
      ]
     },
     "execution_count": 83,
     "metadata": {},
     "output_type": "execute_result"
    }
   ],
   "source": [
    "avg['gal_pass_km']=avg.total_gallons / avg.passengers / avg.distance\n",
    "avg.head()"
   ]
  },
  {
   "cell_type": "markdown",
   "metadata": {},
   "source": [
    "Is this higher for the airlines with bigger average delays?"
   ]
  },
  {
   "cell_type": "code",
   "execution_count": 90,
   "metadata": {},
   "outputs": [
    {
     "data": {
      "text/plain": [
       "<AxesSubplot:xlabel='arr_delay', ylabel='gal_pass_km'>"
      ]
     },
     "execution_count": 90,
     "metadata": {},
     "output_type": "execute_result"
    },
    {
     "data": {
      "image/png": "[encoded data removed]",
      "text/plain": [
       "<Figure size 432x288 with 1 Axes>"
      ]
     },
     "metadata": {
      "needs_background": "light"
     },
     "output_type": "display_data"
    }
   ],
   "source": [
    "avg.plot(y='gal_pass_km', x='arr_delay', kind='scatter')"
   ]
  },
  {
   "cell_type": "markdown",
   "metadata": {},
   "source": [
    "No notable correlation between arrival delay and the fuel consumption?"
   ]
  },
  {
   "cell_type": "code",
   "execution_count": null,
   "metadata": {},
   "outputs": [],
   "source": []
  }
 ],
 "metadata": {
  "kernelspec": {
   "display_name": "Python 3",
   "language": "python",
   "name": "python3"
  },
  "language_info": {
   "codemirror_mode": {
    "name": "ipython",
    "version": 3
   },
   "file_extension": ".py",
   "mimetype": "text/x-python",
   "name": "python",
   "nbconvert_exporter": "python",
   "pygments_lexer": "ipython3",
   "version": "3.7.6"
  },
  "toc": {
   "base_numbering": 1,
   "nav_menu": {},
   "number_sections": true,
   "sideBar": true,
   "skip_h1_title": false,
   "title_cell": "Table of Contents",
   "title_sidebar": "Contents",
   "toc_cell": false,
   "toc_position": {},
   "toc_section_display": true,
   "toc_window_display": false
  },
  "varInspector": {
   "cols": {
    "lenName": 16,
    "lenType": 16,
    "lenVar": 40
   },
   "kernels_config": {
    "python": {
     "delete_cmd_postfix": "",
     "delete_cmd_prefix": "del ",
     "library": "var_list.py",
     "varRefreshCmd": "print(var_dic_list())"
    },
    "r": {
     "delete_cmd_postfix": ") ",
     "delete_cmd_prefix": "rm(",
     "library": "var_list.r",
     "varRefreshCmd": "cat(var_dic_list()) "
    }
   },
   "types_to_exclude": [
    "module",
    "function",
    "builtin_function_or_method",
    "instance",
    "_Feature"
   ],
   "window_display": false
  }
 },
 "nbformat": 4,
 "nbformat_minor": 4
}
