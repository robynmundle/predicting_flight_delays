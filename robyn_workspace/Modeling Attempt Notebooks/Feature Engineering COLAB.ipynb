{
  "nbformat": 4,
  "nbformat_minor": 5,
  "metadata": {
    "kernelspec": {
      "display_name": "LHL_Bootcamp",
      "language": "python",
      "name": "lhl_bootcamp"
    },
    "language_info": {
      "codemirror_mode": {
        "name": "ipython",
        "version": 3
      },
      "file_extension": ".py",
      "mimetype": "text/x-python",
      "name": "python",
      "nbconvert_exporter": "python",
      "pygments_lexer": "ipython3",
      "version": "3.7.10"
    },
    "colab": {
      "name": "Feature Engineering.ipynb",
      "provenance": [],
      "toc_visible": true,
      "include_colab_link": true
    }
  },
  "cells": [
    {
      "cell_type": "markdown",
      "metadata": {
        "id": "view-in-github",
        "colab_type": "text"
      },
      "source": [
        "<a href=\"https://colab.research.google.com/github/robynmundle/predicting_flight_delays/blob/main/robyn_workspace/Feature%20Engineering%20COLAB.ipynb\" target=\"_parent\"><img src=\"https://colab.research.google.com/assets/colab-badge.svg\" alt=\"Open In Colab\"/></a>"
      ]
    },
    {
      "cell_type": "markdown",
      "metadata": {
        "id": "royal-following"
      },
      "source": [
        "Import Packages"
      ],
      "id": "royal-following"
    },
    {
      "cell_type": "code",
      "metadata": {
        "id": "grateful-hebrew"
      },
      "source": [
        "import pandas as pd\n",
        "pd.set_option('display.max_columns', None)\n",
        "import numpy as np\n",
        "from sklearn import preprocessing\n",
        "import time\n",
        "from datetime import datetime, date, time\n",
        "from IPython.core.interactiveshell import InteractiveShell\n",
        "InteractiveShell.ast_node_interactivity = \"all\"\n",
        "import warnings\n",
        "warnings.filterwarnings('ignore')\n",
        "import copy"
      ],
      "id": "grateful-hebrew",
      "execution_count": 1,
      "outputs": []
    },
    {
      "cell_type": "markdown",
      "metadata": {
        "id": "perceived-connecticut"
      },
      "source": [
        "Completed Functions"
      ],
      "id": "perceived-connecticut"
    },
    {
      "cell_type": "code",
      "metadata": {
        "id": "greek-eagle"
      },
      "source": [
        "# CRS_ELAPSED_TIME --> HAUL_LENGTH\n",
        "def haul(df, col):\n",
        "    '''Determine if flight length is SHORT, MEDIUM or LONG based on expected elapsed flight time. \n",
        "            Input: \n",
        "            (0) df containing flight information, \n",
        "            (1) column containing the elapsed flight time in minutes   \n",
        "            Output:   'haul_length' column determining haul length category per row in df'''\n",
        "    length=[]\n",
        "    for i in df[col]:\n",
        "        if i < (3*60): # up to 3 hours\n",
        "            length.append(0) # 0 = SHORT HAUL\n",
        "        elif (i >= (3*60)) and (i < (6*60)): # 3-6 hours\n",
        "            length.append(1) # 1 = MEDIUM HAUL\n",
        "        elif i >= (6*60):# 6+ hours\n",
        "            length.append(2) # 2 = LONG HAUL\n",
        "    df['haul_length'] = length\n",
        "# example of implementation: haul(flight10k, 'crs_elapsed_time')\n",
        "\n",
        "# CRS_DEP_TIME (hhmm) --> CRS_DEP_TIME (hh) -- to be used within time_day function\n",
        "def gethour(df,col):\n",
        "    '''Convert hhmm to hh (24-hr) hour-only output\n",
        "            Input: \n",
        "            (0) df containing flight information, \n",
        "            (1) column containing the hhmm time                  \n",
        "            Output:   rewrite on input column in rounded hh format'''\n",
        "    values = []\n",
        "    for i in df[col]:\n",
        "        mins = (i % 100) / 60 \n",
        "        hour = i // 100\n",
        "        hh = round(hour+mins)\n",
        "        values.append(hh)\n",
        "    df[col] = values\n",
        "# example of implementation: gethour(flight10k, 'crs_dep_time')\n",
        "\n",
        "# CRS_DEP/ARR_TIME (hhmm) --> hot encoded categorical time of day 'morning, aft...' \n",
        "def time_day(df, col):\n",
        "    ''' Input:\n",
        "            (0) df containing flight information\n",
        "            (1) corresponding column of time of flight (i.e. departure or arrival) (format hhmm)\n",
        "        Output:   rewrite of time column into categorical MORNING, AFTERNOON, EVENING, or OVERNIGHT'''\n",
        "    gethour(df, col)\n",
        "    timeday = []\n",
        "    for i in df[col]:\n",
        "        if (i>=23) or (i<5):\n",
        "            timeday.append(0) # 0 = OVERNIGHT\n",
        "        elif (i>=5) and (i<12):\n",
        "            timeday.append(1) # 1 = MORNING\n",
        "        elif (i>=12) and (i<18):\n",
        "            timeday.append(2) # 2 = AFTERNOON\n",
        "        elif (i>=18) and (i<23):\n",
        "            timeday.append(3) # 3 = EVENING\n",
        "    return timeday\n",
        "# example of implementation: time_day(flight10k, 'crs_dep_time')"
      ],
      "id": "greek-eagle",
      "execution_count": 2,
      "outputs": []
    },
    {
      "cell_type": "markdown",
      "metadata": {
        "id": "pursuant-stamp"
      },
      "source": [
        "Open CSVs of Pre-Evaluated Features"
      ],
      "id": "pursuant-stamp"
    },
    {
      "cell_type": "code",
      "metadata": {
        "id": "fallen-interaction"
      },
      "source": [
        "airline_rating = pd.read_csv('data/airline_delay_rating.csv', index_col=0)\n",
        "origin_traffic = pd.read_csv('data/origin_traffic_rating.csv', index_col=0)\n",
        "origin_delay = pd.read_csv('data/origin_delay_rating.csv', index_col=0)\n",
        "dest_traffic = pd.read_csv('data/dest_traffic_rating.csv', index_col=0)\n",
        "delay_dep_h = pd.read_csv('data/crs_dep_time_delay_rating.csv', index_col=0)\n",
        "delay_arr_h = pd.read_csv('data/crs_arr_time_delay_rating.csv', index_col=0)"
      ],
      "id": "fallen-interaction",
      "execution_count": 4,
      "outputs": []
    },
    {
      "cell_type": "markdown",
      "metadata": {
        "id": "massive-longitude"
      },
      "source": [
        "Open CSV of Flight Information to Model"
      ],
      "id": "massive-longitude"
    },
    {
      "cell_type": "code",
      "metadata": {
        "id": "interpreted-passion",
        "outputId": "7e374601-aa66-4546-d925-5aa41b736a06",
        "colab": {
          "base_uri": "https://localhost:8080/",
          "height": 134
        }
      },
      "source": [
        "# This is for the dataset you want to investigate\n",
        "flights = pd.read_csv('data/flights250K.csv', index_col=0)\n",
        "flights.head(1)\n",
        "flights.shape"
      ],
      "id": "interpreted-passion",
      "execution_count": 16,
      "outputs": [
        {
          "output_type": "execute_result",
          "data": {
            "text/html": [
              "<div>\n",
              "<style scoped>\n",
              "    .dataframe tbody tr th:only-of-type {\n",
              "        vertical-align: middle;\n",
              "    }\n",
              "\n",
              "    .dataframe tbody tr th {\n",
              "        vertical-align: top;\n",
              "    }\n",
              "\n",
              "    .dataframe thead th {\n",
              "        text-align: right;\n",
              "    }\n",
              "</style>\n",
              "<table border=\"1\" class=\"dataframe\">\n",
              "  <thead>\n",
              "    <tr style=\"text-align: right;\">\n",
              "      <th></th>\n",
              "      <th>fl_date</th>\n",
              "      <th>mkt_unique_carrier</th>\n",
              "      <th>branded_code_share</th>\n",
              "      <th>mkt_carrier</th>\n",
              "      <th>mkt_carrier_fl_num</th>\n",
              "      <th>op_unique_carrier</th>\n",
              "      <th>tail_num</th>\n",
              "      <th>op_carrier_fl_num</th>\n",
              "      <th>origin_airport_id</th>\n",
              "      <th>origin</th>\n",
              "      <th>origin_city_name</th>\n",
              "      <th>dest_airport_id</th>\n",
              "      <th>dest</th>\n",
              "      <th>dest_city_name</th>\n",
              "      <th>crs_dep_time</th>\n",
              "      <th>dep_time</th>\n",
              "      <th>dep_delay</th>\n",
              "      <th>taxi_out</th>\n",
              "      <th>wheels_off</th>\n",
              "      <th>wheels_on</th>\n",
              "      <th>taxi_in</th>\n",
              "      <th>crs_arr_time</th>\n",
              "      <th>arr_time</th>\n",
              "      <th>arr_delay</th>\n",
              "      <th>cancelled</th>\n",
              "      <th>cancellation_code</th>\n",
              "      <th>diverted</th>\n",
              "      <th>dup</th>\n",
              "      <th>crs_elapsed_time</th>\n",
              "      <th>actual_elapsed_time</th>\n",
              "      <th>air_time</th>\n",
              "      <th>flights</th>\n",
              "      <th>distance</th>\n",
              "      <th>carrier_delay</th>\n",
              "      <th>weather_delay</th>\n",
              "      <th>nas_delay</th>\n",
              "      <th>security_delay</th>\n",
              "      <th>late_aircraft_delay</th>\n",
              "      <th>first_dep_time</th>\n",
              "      <th>total_add_gtime</th>\n",
              "      <th>longest_add_gtime</th>\n",
              "      <th>no_name</th>\n",
              "    </tr>\n",
              "  </thead>\n",
              "  <tbody>\n",
              "    <tr>\n",
              "      <th>0</th>\n",
              "      <td>2018-12-26</td>\n",
              "      <td>DL</td>\n",
              "      <td>DL_CODESHARE</td>\n",
              "      <td>DL</td>\n",
              "      <td>4598</td>\n",
              "      <td>OO</td>\n",
              "      <td>N641CA</td>\n",
              "      <td>4598</td>\n",
              "      <td>13851</td>\n",
              "      <td>OKC</td>\n",
              "      <td>Oklahoma City, OK</td>\n",
              "      <td>14869</td>\n",
              "      <td>SLC</td>\n",
              "      <td>Salt Lake City, UT</td>\n",
              "      <td>839</td>\n",
              "      <td>830.0</td>\n",
              "      <td>-9.0</td>\n",
              "      <td>15.0</td>\n",
              "      <td>845.0</td>\n",
              "      <td>945.0</td>\n",
              "      <td>25.0</td>\n",
              "      <td>1028</td>\n",
              "      <td>1010.0</td>\n",
              "      <td>-18.0</td>\n",
              "      <td>0.0</td>\n",
              "      <td>NaN</td>\n",
              "      <td>0.0</td>\n",
              "      <td>N</td>\n",
              "      <td>169.0</td>\n",
              "      <td>160.0</td>\n",
              "      <td>120.0</td>\n",
              "      <td>1.0</td>\n",
              "      <td>866.0</td>\n",
              "      <td>NaN</td>\n",
              "      <td>NaN</td>\n",
              "      <td>NaN</td>\n",
              "      <td>NaN</td>\n",
              "      <td>NaN</td>\n",
              "      <td>NaN</td>\n",
              "      <td>NaN</td>\n",
              "      <td>NaN</td>\n",
              "      <td>NaN</td>\n",
              "    </tr>\n",
              "  </tbody>\n",
              "</table>\n",
              "</div>"
            ],
            "text/plain": [
              "      fl_date mkt_unique_carrier branded_code_share mkt_carrier  \\\n",
              "0  2018-12-26                 DL       DL_CODESHARE          DL   \n",
              "\n",
              "   mkt_carrier_fl_num op_unique_carrier tail_num  op_carrier_fl_num  \\\n",
              "0                4598                OO   N641CA               4598   \n",
              "\n",
              "   origin_airport_id origin   origin_city_name  dest_airport_id dest  \\\n",
              "0              13851    OKC  Oklahoma City, OK            14869  SLC   \n",
              "\n",
              "       dest_city_name  crs_dep_time  dep_time  dep_delay  taxi_out  \\\n",
              "0  Salt Lake City, UT           839     830.0       -9.0      15.0   \n",
              "\n",
              "   wheels_off  wheels_on  taxi_in  crs_arr_time  arr_time  arr_delay  \\\n",
              "0       845.0      945.0     25.0          1028    1010.0      -18.0   \n",
              "\n",
              "   cancelled cancellation_code  diverted dup  crs_elapsed_time  \\\n",
              "0        0.0               NaN       0.0   N             169.0   \n",
              "\n",
              "   actual_elapsed_time  air_time  flights  distance  carrier_delay  \\\n",
              "0                160.0     120.0      1.0     866.0            NaN   \n",
              "\n",
              "   weather_delay  nas_delay  security_delay  late_aircraft_delay  \\\n",
              "0            NaN        NaN             NaN                  NaN   \n",
              "\n",
              "   first_dep_time  total_add_gtime  longest_add_gtime  no_name  \n",
              "0             NaN              NaN                NaN      NaN  "
            ]
          },
          "metadata": {
            "tags": []
          },
          "execution_count": 16
        },
        {
          "output_type": "execute_result",
          "data": {
            "text/plain": [
              "(250000, 42)"
            ]
          },
          "metadata": {
            "tags": []
          },
          "execution_count": 16
        }
      ]
    },
    {
      "cell_type": "markdown",
      "metadata": {
        "id": "reflected-genius"
      },
      "source": [
        "Build df based on columns we will use in transformation - Data Cleaning and Feature Implementation\n",
        "\n",
        "**See option A or B in first rows to build df based on training or test dataset**"
      ],
      "id": "reflected-genius"
    },
    {
      "cell_type": "code",
      "metadata": {
        "id": "guilty-being",
        "outputId": "4a7d6b1f-b16e-472a-a315-4e46a6efb9d4",
        "colab": {
          "base_uri": "https://localhost:8080/",
          "height": 221
        }
      },
      "source": [
        "# A - if this is a training dataset, we need arr_delay as our target variable so use this first block of code\n",
        "model_df = flights[flights['cancelled'] == 0][['arr_delay','fl_date','op_unique_carrier','origin','dest','crs_dep_time','crs_arr_time','crs_elapsed_time','distance']]\n",
        "# B - if this is a testing dataset, we will not have arr_delay and cannot include it\n",
        "#model_df = flights[flights['cancelled'] == 0][['tail_num','op_carrier_fl_num','fl_date','op_unique_carrier','origin','dest','crs_dep_time','crs_arr_time','crs_elapsed_time','distance']]\n",
        "\n",
        "model_df['crs_elapsed_time'] = model_df['crs_elapsed_time'].fillna(0)\n",
        "\n",
        "# first regression will be simple-- is the flight going to be delayed or not?\n",
        "if 'arr_delay' in model_df:\n",
        "    model_df['delay_flag'] = model_df['arr_delay'].map(lambda x: 0 if x <= 0 else 1)\n",
        "    arr_delay = model_df['arr_delay']\n",
        "    model_df.drop(columns='arr_delay', inplace=True)\n",
        "\n",
        "# label encode tail_num for identification of the flight later\n",
        "#le = preprocessing.LabelEncoder()\n",
        "#tail_num = model_df['tail_num'].values\n",
        "#model_df['tail_num'] = le.fit_transform(tail_num)\n",
        "\n",
        "# convert date to datetime in order to grab the month\n",
        "model_df['fl_date'] = pd.to_datetime(model_df['fl_date'])\n",
        "#model_df['year'] = model_df['fl_date'].dt.year\n",
        "model_df['month'] = model_df['fl_date'].dt.month\n",
        "model_df['day'] = model_df['fl_date'].dt.day\n",
        "model_df['weekday'] = model_df['fl_date'].dt.dayofweek\n",
        "model_df.drop(columns='fl_date', inplace=True) # this won't be needed after we got month\n",
        "\n",
        "# set delay rating based on expected performance of the airline\n",
        "model_df = model_df.merge(airline_rating, left_on='op_unique_carrier', right_on='airline', how='left')\n",
        "model_df.drop(columns=['op_unique_carrier','airline'],inplace=True) \n",
        "\n",
        "# obtain haul length of the flight using haul function defined above\n",
        "haul(model_df, 'crs_elapsed_time')\n",
        "#model_df.drop(columns=['crs_elapsed_time'],inplace=True)\n",
        "\n",
        "# new column of categorical time of day information using time_day function defined above as well as expected delays relating to the time of day departure\n",
        "model_df['dep_timeday'] = time_day(model_df, 'crs_dep_time')\n",
        "model_df['arr_timeday'] = time_day(model_df, 'crs_arr_time')\n",
        "model_df = model_df.merge(delay_dep_h, left_on='crs_dep_time', right_on='crs_dep_time', how='left')\n",
        "model_df = model_df.merge(delay_arr_h, left_on='crs_arr_time', right_on='crs_arr_time', how='left')\n",
        "model_df.drop(columns=['crs_dep_time','crs_arr_time'],inplace=True)\n",
        "\n",
        "# classify the expected traffic of the origin and departure airports\n",
        "model_df = model_df.merge(origin_traffic, left_on='origin', right_on='origin', how='left')\n",
        "model_df = model_df.merge(dest_traffic, left_on='dest', right_on='dest', how='left')\n",
        "model_df = model_df.fillna(model_df['busy_origin'].mean())\n",
        "model_df = model_df.merge(origin_delay, left_on='origin', right_on='origin', how='left')\n",
        "model_df.drop(columns=['origin','dest'],inplace=True)\n",
        "\n",
        "#if 'arr_delay' in model_df:\n",
        "#    training_full = model_df.copy(deep=True)\n",
        "#    model_df.drop(columns='arr_delay', inplace=True)\n",
        "\n",
        "# have a look at the dataset\n",
        "model_df.head()\n",
        "model_df.shape"
      ],
      "id": "guilty-being",
      "execution_count": 15,
      "outputs": [
        {
          "output_type": "execute_result",
          "data": {
            "text/html": [
              "<div>\n",
              "<style scoped>\n",
              "    .dataframe tbody tr th:only-of-type {\n",
              "        vertical-align: middle;\n",
              "    }\n",
              "\n",
              "    .dataframe tbody tr th {\n",
              "        vertical-align: top;\n",
              "    }\n",
              "\n",
              "    .dataframe thead th {\n",
              "        text-align: right;\n",
              "    }\n",
              "</style>\n",
              "<table border=\"1\" class=\"dataframe\">\n",
              "  <thead>\n",
              "    <tr style=\"text-align: right;\">\n",
              "      <th></th>\n",
              "      <th>crs_elapsed_time</th>\n",
              "      <th>distance</th>\n",
              "      <th>delay_flag</th>\n",
              "      <th>month</th>\n",
              "      <th>day</th>\n",
              "      <th>weekday</th>\n",
              "      <th>airline_delay</th>\n",
              "      <th>haul_length</th>\n",
              "      <th>dep_timeday</th>\n",
              "      <th>arr_timeday</th>\n",
              "      <th>delay_dep_h</th>\n",
              "      <th>delay_arr_h</th>\n",
              "      <th>busy_origin</th>\n",
              "      <th>busy_dest</th>\n",
              "      <th>origin_delay</th>\n",
              "    </tr>\n",
              "  </thead>\n",
              "  <tbody>\n",
              "    <tr>\n",
              "      <th>0</th>\n",
              "      <td>169.0</td>\n",
              "      <td>866.0</td>\n",
              "      <td>0</td>\n",
              "      <td>12</td>\n",
              "      <td>26</td>\n",
              "      <td>2</td>\n",
              "      <td>1</td>\n",
              "      <td>0</td>\n",
              "      <td>1</td>\n",
              "      <td>1</td>\n",
              "      <td>0</td>\n",
              "      <td>0</td>\n",
              "      <td>3</td>\n",
              "      <td>3</td>\n",
              "      <td>1</td>\n",
              "    </tr>\n",
              "    <tr>\n",
              "      <th>1</th>\n",
              "      <td>75.0</td>\n",
              "      <td>342.0</td>\n",
              "      <td>1</td>\n",
              "      <td>4</td>\n",
              "      <td>18</td>\n",
              "      <td>3</td>\n",
              "      <td>2</td>\n",
              "      <td>0</td>\n",
              "      <td>2</td>\n",
              "      <td>3</td>\n",
              "      <td>3</td>\n",
              "      <td>2</td>\n",
              "      <td>3</td>\n",
              "      <td>3</td>\n",
              "      <td>1</td>\n",
              "    </tr>\n",
              "    <tr>\n",
              "      <th>2</th>\n",
              "      <td>185.0</td>\n",
              "      <td>1024.0</td>\n",
              "      <td>0</td>\n",
              "      <td>10</td>\n",
              "      <td>30</td>\n",
              "      <td>1</td>\n",
              "      <td>2</td>\n",
              "      <td>1</td>\n",
              "      <td>1</td>\n",
              "      <td>1</td>\n",
              "      <td>0</td>\n",
              "      <td>0</td>\n",
              "      <td>4</td>\n",
              "      <td>4</td>\n",
              "      <td>2</td>\n",
              "    </tr>\n",
              "    <tr>\n",
              "      <th>3</th>\n",
              "      <td>99.0</td>\n",
              "      <td>331.0</td>\n",
              "      <td>0</td>\n",
              "      <td>3</td>\n",
              "      <td>9</td>\n",
              "      <td>5</td>\n",
              "      <td>2</td>\n",
              "      <td>0</td>\n",
              "      <td>1</td>\n",
              "      <td>1</td>\n",
              "      <td>0</td>\n",
              "      <td>0</td>\n",
              "      <td>3</td>\n",
              "      <td>4</td>\n",
              "      <td>2</td>\n",
              "    </tr>\n",
              "    <tr>\n",
              "      <th>4</th>\n",
              "      <td>80.0</td>\n",
              "      <td>284.0</td>\n",
              "      <td>0</td>\n",
              "      <td>3</td>\n",
              "      <td>29</td>\n",
              "      <td>4</td>\n",
              "      <td>1</td>\n",
              "      <td>0</td>\n",
              "      <td>1</td>\n",
              "      <td>1</td>\n",
              "      <td>0</td>\n",
              "      <td>1</td>\n",
              "      <td>1</td>\n",
              "      <td>3</td>\n",
              "      <td>1</td>\n",
              "    </tr>\n",
              "  </tbody>\n",
              "</table>\n",
              "</div>"
            ],
            "text/plain": [
              "   crs_elapsed_time  distance  delay_flag  month  day  weekday  airline_delay  \\\n",
              "0             169.0     866.0           0     12   26        2              1   \n",
              "1              75.0     342.0           1      4   18        3              2   \n",
              "2             185.0    1024.0           0     10   30        1              2   \n",
              "3              99.0     331.0           0      3    9        5              2   \n",
              "4              80.0     284.0           0      3   29        4              1   \n",
              "\n",
              "   haul_length  dep_timeday  arr_timeday  delay_dep_h  delay_arr_h  \\\n",
              "0            0            1            1            0            0   \n",
              "1            0            2            3            3            2   \n",
              "2            1            1            1            0            0   \n",
              "3            0            1            1            0            0   \n",
              "4            0            1            1            0            1   \n",
              "\n",
              "   busy_origin  busy_dest  origin_delay  \n",
              "0            3          3             1  \n",
              "1            3          3             1  \n",
              "2            4          4             2  \n",
              "3            3          4             2  \n",
              "4            1          3             1  "
            ]
          },
          "metadata": {
            "tags": []
          },
          "execution_count": 15
        },
        {
          "output_type": "execute_result",
          "data": {
            "text/plain": [
              "(54969, 15)"
            ]
          },
          "metadata": {
            "tags": []
          },
          "execution_count": 15
        }
      ]
    },
    {
      "cell_type": "code",
      "metadata": {
        "id": "worst-helicopter"
      },
      "source": [
        "training_full.head(1)\n",
        "training_full.shape"
      ],
      "id": "worst-helicopter",
      "execution_count": null,
      "outputs": []
    },
    {
      "cell_type": "code",
      "metadata": {
        "id": "magnetic-criterion"
      },
      "source": [
        "from sklearn.preprocessing import MinMaxScaler, RobustScaler, StandardScaler\n",
        "from sklearn.model_selection import train_test_split\n",
        "from sklearn.model_selection import GridSearchCV\n",
        "from sklearn import metrics\n",
        "from sklearn.model_selection import cross_val_score\n",
        "from sklearn.linear_model import LogisticRegression\n",
        "from sklearn.ensemble import RandomForestClassifier\n",
        "\n",
        "from sklearn.metrics import r2_score\n",
        "\n",
        "import seaborn as sns; sns.set(style='darkgrid', context='talk')\n",
        "import matplotlib.pyplot as plt"
      ],
      "id": "magnetic-criterion",
      "execution_count": 18,
      "outputs": []
    },
    {
      "cell_type": "markdown",
      "metadata": {
        "id": "accredited-clause"
      },
      "source": [
        "Data Scaling"
      ],
      "id": "accredited-clause"
    },
    {
      "cell_type": "code",
      "metadata": {
        "id": "legendary-mouth",
        "outputId": "e4e02983-0aab-4148-cdd3-478c587dc53e",
        "colab": {
          "base_uri": "https://localhost:8080/"
        }
      },
      "source": [
        "if 'delay_flag' in model_df: # training dataset\n",
        "    X = model_df.drop(columns=['delay_flag'])\n",
        "else: # testset\n",
        "    X = model_df\n",
        "y = model_df['delay_flag']\n",
        "X_train, X_test, y_train, y_test = train_test_split(X, y, test_size=0.2, random_state=42)\n",
        "\n",
        "scaler = RobustScaler()\n",
        "scaler.fit(X_train)\n",
        "X_train = scaler.transform(X_train)\n",
        "X_test = scaler.transform(X_test)"
      ],
      "id": "legendary-mouth",
      "execution_count": 19,
      "outputs": [
        {
          "output_type": "execute_result",
          "data": {
            "text/plain": [
              "RobustScaler(copy=True, quantile_range=(25.0, 75.0), with_centering=True,\n",
              "             with_scaling=True)"
            ]
          },
          "metadata": {
            "tags": []
          },
          "execution_count": 19
        }
      ]
    },
    {
      "cell_type": "markdown",
      "metadata": {
        "id": "drawn-helen"
      },
      "source": [
        "Logistic Regression -- is it a delay or not?"
      ],
      "id": "drawn-helen"
    },
    {
      "cell_type": "code",
      "metadata": {
        "id": "plain-township",
        "outputId": "4a522d45-6782-43bf-b382-fb8b89c477a1",
        "colab": {
          "base_uri": "https://localhost:8080/"
        }
      },
      "source": [
        "%%time\n",
        "# Logistic Regression \n",
        "log_params = {'penalty': ['l1', 'l2'], 'C': np.logspace(-4, 4, 20)}\n",
        "grid_log = GridSearchCV(LogisticRegression(), log_params, cv=5, verbose=True, n_jobs=-1)\n",
        "grid_log.fit(X_train, y_train)\n",
        "logreg = grid_log.best_estimator_\n",
        "print(logreg.get_params)\n",
        "logreg_score = cross_val_score(logreg, X_train, y_train, cv=5)\n",
        "print('\\nLogistic Regression Cross Validation Score: ', round(logreg_score.mean() * 100, 2).astype(str) + '%')\n",
        "print(\"Training R2 / Variance: \", round(grid_log.best_score_,2))\n",
        "print(f\"Residual Sum of Squares (RSS): {round(np.mean((grid_log.predict(X_test) - y_test) ** 2),2)}\")\n",
        "\n",
        "y_logreg = logreg.predict(X_test)\n",
        "print('\\nLogistic Regression - y_test')\n",
        "#print('Test R2 Score \\t{:.2f}'.format(metrics.r2_score(y_test, y_logreg)))\n",
        "print('Recall \\t\\t{:.2f}'.format(metrics.recall_score(y_test, y_logreg)))\n",
        "print('Precision \\t{:.2f}'.format(metrics.precision_score(y_test, y_logreg)))\n",
        "print('F1 Score \\t{:.2f}'.format(metrics.f1_score(y_test, y_logreg)))\n",
        "print('Accuracy \\t{:.2f} <--'.format(metrics.accuracy_score(y_test, y_logreg)))\n",
        "print('AUC Score \\t{:.2f}\\n'.format(metrics.roc_auc_score(y_test, y_logreg)))"
      ],
      "id": "plain-township",
      "execution_count": 20,
      "outputs": [
        {
          "output_type": "stream",
          "text": [
            "Fitting 5 folds for each of 40 candidates, totalling 200 fits\n"
          ],
          "name": "stdout"
        },
        {
          "output_type": "stream",
          "text": [
            "[Parallel(n_jobs=-1)]: Using backend LokyBackend with 2 concurrent workers.\n",
            "[Parallel(n_jobs=-1)]: Done 116 tasks      | elapsed:    7.2s\n",
            "[Parallel(n_jobs=-1)]: Done 200 out of 200 | elapsed:   12.8s finished\n"
          ],
          "name": "stderr"
        },
        {
          "output_type": "stream",
          "text": [
            "<bound method BaseEstimator.get_params of LogisticRegression(C=1.623776739188721, class_weight=None, dual=False,\n",
            "                   fit_intercept=True, intercept_scaling=1, l1_ratio=None,\n",
            "                   max_iter=100, multi_class='auto', n_jobs=None, penalty='l2',\n",
            "                   random_state=None, solver='lbfgs', tol=0.0001, verbose=0,\n",
            "                   warm_start=False)>\n",
            "\n",
            "Logistic Regression Cross Validation Score:  64.81%\n",
            "Training R2 / Variance:  0.65\n",
            "Residual Sum of Squares (RSS): 0.35\n",
            "\n",
            "Logistic Regression - y_test\n",
            "Recall \t\t0.00\n",
            "Precision \t0.48\n",
            "F1 Score \t0.01\n",
            "Accuracy \t0.65 <--\n",
            "AUC Score \t0.50\n",
            "\n",
            "CPU times: user 2.4 s, sys: 1.18 s, total: 3.59 s\n",
            "Wall time: 14.3 s\n"
          ],
          "name": "stdout"
        }
      ]
    },
    {
      "cell_type": "code",
      "metadata": {
        "id": "minus-services",
        "outputId": "2d80a3c8-82ba-4ee7-c7cc-46841ce5d5b4",
        "colab": {
          "base_uri": "https://localhost:8080/",
          "height": 338
        }
      },
      "source": [
        "y_score = logreg.decision_function(X_test)\n",
        "from sklearn.metrics import average_precision_score\n",
        "average_precision = average_precision_score(y_test, y_score)\n",
        "from sklearn.metrics import plot_precision_recall_curve\n",
        "disp = plot_precision_recall_curve(logreg, X_test, y_test)\n",
        "disp.ax_.set_title('2-class Precision-Recall curve: '\n",
        "                   'AP={0:0.2f}'.format(average_precision))"
      ],
      "id": "minus-services",
      "execution_count": 21,
      "outputs": [
        {
          "output_type": "execute_result",
          "data": {
            "text/plain": [
              "Text(0.5, 1.0, '2-class Precision-Recall curve: AP=0.41')"
            ]
          },
          "metadata": {
            "tags": []
          },
          "execution_count": 21
        },
        {
          "output_type": "display_data",
          "data": {
            "image/png": "[encoded data removed]",
            "text/plain": [
              "<Figure size 432x288 with 1 Axes>"
            ]
          },
          "metadata": {
            "tags": []
          }
        }
      ]
    },
    {
      "cell_type": "markdown",
      "metadata": {
        "id": "flush-thong"
      },
      "source": [
        "Wow ok those are some results! Let's predict the entire X now so we can implement this result as a column in the model_df to progress into another model that defines 'how much' the delay will be"
      ],
      "id": "flush-thong"
    },
    {
      "cell_type": "code",
      "metadata": {
        "id": "distant-extreme"
      },
      "source": [
        "y_logregX = logreg.predict(X)\n",
        "if 'delay_pred' not in model_df: \n",
        "    model_df['delay_pred'] = y_logregX\n",
        "    #model_df['tail_num'] = le.inverse_transform(model_df['tail_num'])\n",
        "#model_df.head()\n",
        "#model_df.shape"
      ],
      "id": "distant-extreme",
      "execution_count": 22,
      "outputs": []
    },
    {
      "cell_type": "code",
      "metadata": {
        "id": "equipped-uniform"
      },
      "source": [
        "model_df = model_df.join(arr_delay)\n",
        "model_df.dropna(inplace=True)\n",
        "#model_df.head()\n",
        "#model_df.shape"
      ],
      "id": "equipped-uniform",
      "execution_count": 23,
      "outputs": []
    },
    {
      "cell_type": "code",
      "metadata": {
        "id": "fleet-reservoir"
      },
      "source": [
        "model_df.drop(columns='delay_flag', inplace=True)\n",
        "delayed = model_df['delay_pred'] == 1\n",
        "model_df2 = model_df[delayed]\n",
        "#model_df2.head()\n",
        "#model_df2.shape"
      ],
      "id": "fleet-reservoir",
      "execution_count": 24,
      "outputs": []
    },
    {
      "cell_type": "code",
      "metadata": {
        "id": "vital-break",
        "outputId": "1b677491-be9b-4695-cfab-52b4180f60ec",
        "colab": {
          "base_uri": "https://localhost:8080/",
          "height": 97
        }
      },
      "source": [
        "delay_bin = []\n",
        "for i in model_df2['arr_delay']:\n",
        "    if i <= 5:\n",
        "        delay_bin.append(0) # no delay (within 5 minutes)\n",
        "    elif (i > 5) and (i <= 10):\n",
        "        delay_bin.append(1) # expect a 5 to 10 minute delay\n",
        "    elif (i > 10) and (i <= 20):\n",
        "        delay_bin.append(2) # expect a 10 to 20 minute delay\n",
        "    elif (i >= 20) and  (i <= 45):\n",
        "        delay_bin.append(3) # expect a 20 to 45 minute delay\n",
        "    elif (i > 45):\n",
        "        delay_bin.append(4) # expect a 45+ minute delay\n",
        "        \n",
        "model_df2['delay_range'] = delay_bin\n",
        "if 'arr_delay' in model_df2:\n",
        "    model_df2.drop(columns='arr_delay', inplace=True)\n",
        "model_df2.head(1)\n",
        "model_df2.shape\n",
        "#model_df2['delay_range'].value_counts()"
      ],
      "id": "vital-break",
      "execution_count": 25,
      "outputs": [
        {
          "output_type": "execute_result",
          "data": {
            "text/html": [
              "<div>\n",
              "<style scoped>\n",
              "    .dataframe tbody tr th:only-of-type {\n",
              "        vertical-align: middle;\n",
              "    }\n",
              "\n",
              "    .dataframe tbody tr th {\n",
              "        vertical-align: top;\n",
              "    }\n",
              "\n",
              "    .dataframe thead th {\n",
              "        text-align: right;\n",
              "    }\n",
              "</style>\n",
              "<table border=\"1\" class=\"dataframe\">\n",
              "  <thead>\n",
              "    <tr style=\"text-align: right;\">\n",
              "      <th></th>\n",
              "      <th>crs_elapsed_time</th>\n",
              "      <th>distance</th>\n",
              "      <th>month</th>\n",
              "      <th>day</th>\n",
              "      <th>weekday</th>\n",
              "      <th>airline_delay</th>\n",
              "      <th>haul_length</th>\n",
              "      <th>dep_timeday</th>\n",
              "      <th>arr_timeday</th>\n",
              "      <th>delay_dep_h</th>\n",
              "      <th>delay_arr_h</th>\n",
              "      <th>busy_origin</th>\n",
              "      <th>busy_dest</th>\n",
              "      <th>origin_delay</th>\n",
              "      <th>delay_pred</th>\n",
              "      <th>delay_range</th>\n",
              "    </tr>\n",
              "  </thead>\n",
              "  <tbody>\n",
              "    <tr>\n",
              "      <th>0</th>\n",
              "      <td>169.0</td>\n",
              "      <td>866.0</td>\n",
              "      <td>12</td>\n",
              "      <td>26</td>\n",
              "      <td>2</td>\n",
              "      <td>1</td>\n",
              "      <td>0</td>\n",
              "      <td>1</td>\n",
              "      <td>1</td>\n",
              "      <td>0</td>\n",
              "      <td>0</td>\n",
              "      <td>3</td>\n",
              "      <td>3</td>\n",
              "      <td>1</td>\n",
              "      <td>1</td>\n",
              "      <td>0</td>\n",
              "    </tr>\n",
              "  </tbody>\n",
              "</table>\n",
              "</div>"
            ],
            "text/plain": [
              "   crs_elapsed_time  distance  month  day  weekday  airline_delay  \\\n",
              "0             169.0     866.0     12   26        2              1   \n",
              "\n",
              "   haul_length  dep_timeday  arr_timeday  delay_dep_h  delay_arr_h  \\\n",
              "0            0            1            1            0            0   \n",
              "\n",
              "   busy_origin  busy_dest  origin_delay  delay_pred  delay_range  \n",
              "0            3          3             1           1            0  "
            ]
          },
          "metadata": {
            "tags": []
          },
          "execution_count": 25
        },
        {
          "output_type": "execute_result",
          "data": {
            "text/plain": [
              "(53906, 16)"
            ]
          },
          "metadata": {
            "tags": []
          },
          "execution_count": 25
        }
      ]
    },
    {
      "cell_type": "markdown",
      "metadata": {
        "id": "artistic-haiti"
      },
      "source": [
        "Second Model: Arrival Delay Range Prediction \n",
        "\n",
        "Data Scaling"
      ],
      "id": "artistic-haiti"
    },
    {
      "cell_type": "code",
      "metadata": {
        "id": "about-assets",
        "outputId": "18e73e09-ecec-4db3-8d85-e5195cd6f400",
        "colab": {
          "base_uri": "https://localhost:8080/"
        }
      },
      "source": [
        "if 'delay_range' in model_df: # training dataset\n",
        "    X = model_df2.drop(columns=['delay_range'])\n",
        "else: # testset\n",
        "    X = model_df2\n",
        "y = model_df2['delay_range']\n",
        "X_train, X_test, y_train, y_test = train_test_split(X, y, test_size=0.2, random_state=42)\n",
        "\n",
        "scaler = RobustScaler()\n",
        "scaler.fit(X_train)\n",
        "X_train = scaler.transform(X_train)\n",
        "X_test = scaler.transform(X_test)"
      ],
      "id": "about-assets",
      "execution_count": 26,
      "outputs": [
        {
          "output_type": "execute_result",
          "data": {
            "text/plain": [
              "RobustScaler(copy=True, quantile_range=(25.0, 75.0), with_centering=True,\n",
              "             with_scaling=True)"
            ]
          },
          "metadata": {
            "tags": []
          },
          "execution_count": 26
        }
      ]
    },
    {
      "cell_type": "markdown",
      "metadata": {
        "id": "mighty-spoke"
      },
      "source": [
        "Random Forest Classifier -- can we predict the predicted delay's time allotment?"
      ],
      "id": "mighty-spoke"
    },
    {
      "cell_type": "code",
      "metadata": {
        "id": "least-robin",
        "outputId": "669b7037-52a1-42b8-b9be-b0fe781304cd",
        "colab": {
          "base_uri": "https://localhost:8080/"
        }
      },
      "source": [
        "%%time\n",
        "tree_params = {\"n_estimators\": [100, 250, 500, 750, 1000],\n",
        "               'max_depth': [int(x) for x in np.linspace(1, 32, num = 5)]}\n",
        "grid_tree = GridSearchCV(RandomForestClassifier(), tree_params, cv=3, verbose=True, n_jobs=-1)\n",
        "grid_tree.fit(X_train, y_train)\n",
        "forest = grid_tree.best_estimator_\n",
        "print(forest.get_params)\n",
        "forest_score = cross_val_score(forest, X_train, y_train, cv=3)\n",
        "print('Random Forest Classifier Cross Validation Score: ', round(forest_score.mean() * 100, 2).astype(str) + '%')\n",
        "print(\"Training R2 / Variance: \", round(grid_tree.best_score_,2))\n",
        "print(f\"Residual Sum of Squares (RSS): {round(np.mean((grid_tree.predict(X_test) - y_test) ** 2),2)}\")\n",
        "\n",
        "y_forest = forest.predict(X_test)\n",
        "print('\\nRandom Forest Classifier - y_test')\n",
        "\n",
        "#print('AUC Score \\t{:.2f}\\n'.format(metrics.roc_auc_score(y_test, y_forest)))"
      ],
      "id": "least-robin",
      "execution_count": 29,
      "outputs": [
        {
          "output_type": "stream",
          "text": [
            "Fitting 3 folds for each of 25 candidates, totalling 75 fits\n"
          ],
          "name": "stdout"
        },
        {
          "output_type": "stream",
          "text": [
            "[Parallel(n_jobs=-1)]: Using backend LokyBackend with 2 concurrent workers.\n",
            "[Parallel(n_jobs=-1)]: Done  46 tasks      | elapsed:  4.1min\n",
            "[Parallel(n_jobs=-1)]: Done  75 out of  75 | elapsed:  8.1min finished\n"
          ],
          "name": "stderr"
        },
        {
          "output_type": "stream",
          "text": [
            "<bound method BaseEstimator.get_params of RandomForestClassifier(bootstrap=True, ccp_alpha=0.0, class_weight=None,\n",
            "                       criterion='gini', max_depth=16, max_features='auto',\n",
            "                       max_leaf_nodes=None, max_samples=None,\n",
            "                       min_impurity_decrease=0.0, min_impurity_split=None,\n",
            "                       min_samples_leaf=1, min_samples_split=2,\n",
            "                       min_weight_fraction_leaf=0.0, n_estimators=100,\n",
            "                       n_jobs=None, oob_score=False, random_state=None,\n",
            "                       verbose=0, warm_start=False)>\n",
            "Random Forest Classifier Cross Validation Score:  100.0%\n",
            "Training R2 / Variance:  1.0\n",
            "Residual Sum of Squares (RSS): 0.0\n",
            "\n",
            "Random Forest Classifier - y_test\n",
            "CPU times: user 11.6 s, sys: 395 ms, total: 12 s\n",
            "Wall time: 8min 12s\n"
          ],
          "name": "stdout"
        }
      ]
    },
    {
      "cell_type": "code",
      "metadata": {
        "id": "trying-nashville",
        "outputId": "031480ff-8d54-484b-bc2c-ee05b2bcca5a",
        "colab": {
          "base_uri": "https://localhost:8080/"
        }
      },
      "source": [
        "metrics.confusion_matrix(y_test, y_forest)"
      ],
      "id": "trying-nashville",
      "execution_count": 30,
      "outputs": [
        {
          "output_type": "execute_result",
          "data": {
            "text/plain": [
              "array([[7792,    0,    0,    0,    0],\n",
              "       [   0,  611,    0,    0,    0],\n",
              "       [   0,    0,  690,    0,    0],\n",
              "       [   0,    0,    0,  777,    0],\n",
              "       [   0,    0,    0,    0,  912]])"
            ]
          },
          "metadata": {
            "tags": []
          },
          "execution_count": 30
        }
      ]
    },
    {
      "cell_type": "code",
      "metadata": {
        "id": "sagWPY2dRa9R",
        "outputId": "45e3848f-73de-4b17-f4fe-1e9cde2166b7",
        "colab": {
          "base_uri": "https://localhost:8080/"
        }
      },
      "source": [
        "y_forest_proba = forest.predict_proba(X_test)\n",
        "print('AUC Score \\t{:.2f}\\n'.format(metrics.roc_auc_score(y_test, y_forest_proba, multi_class='ovr', average=\"weighted\")))"
      ],
      "id": "sagWPY2dRa9R",
      "execution_count": 36,
      "outputs": [
        {
          "output_type": "stream",
          "text": [
            "AUC Score \t1.00\n",
            "\n"
          ],
          "name": "stdout"
        }
      ]
    },
    {
      "cell_type": "code",
      "metadata": {
        "id": "6s2nIyw_ReKG",
        "outputId": "e27011bd-f8d5-4490-d045-9df866bf90eb",
        "colab": {
          "base_uri": "https://localhost:8080/"
        }
      },
      "source": [
        "forest.score(X_test, y_test)"
      ],
      "id": "6s2nIyw_ReKG",
      "execution_count": 38,
      "outputs": [
        {
          "output_type": "execute_result",
          "data": {
            "text/plain": [
              "1.0"
            ]
          },
          "metadata": {
            "tags": []
          },
          "execution_count": 38
        }
      ]
    },
    {
      "cell_type": "code",
      "metadata": {
        "id": "te2KYl6FS_oL"
      },
      "source": [
        ""
      ],
      "id": "te2KYl6FS_oL",
      "execution_count": null,
      "outputs": []
    }
  ]
}