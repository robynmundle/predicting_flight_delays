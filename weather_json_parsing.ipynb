{
 "cells": [
  {
   "cell_type": "markdown",
   "id": "interested-minneapolis",
   "metadata": {},
   "source": [
    "# Parsing JSON files for weather information"
   ]
  },
  {
   "cell_type": "code",
   "execution_count": 1,
   "id": "metropolitan-processor",
   "metadata": {},
   "outputs": [],
   "source": [
    "import pandas as pd\n",
    "import os\n",
    "import json\n",
    "\n",
    "import matplotlib.pyplot as plt"
   ]
  },
  {
   "cell_type": "markdown",
   "id": "fewer-delicious",
   "metadata": {},
   "source": [
    "#### **Task 3**: Does the weather affect the delay? \n",
    "Use the API to pull the weather information for flights. There is no need to get weather for ALL flights. We can choose the right representative sample. Let's focus on four weather types:\n",
    "- sunny\n",
    "- cloudy\n",
    "- rainy\n",
    "- snow.\n",
    "Test the hypothesis that these 4 delays are from the same distribution. If they are not, which ones are significantly different?"
   ]
  },
  {
   "cell_type": "code",
   "execution_count": 2,
   "id": "banned-apparatus",
   "metadata": {},
   "outputs": [],
   "source": [
    "# list json files\n",
    "directory = \"vc_api/weather-data/\"\n",
    "files = [file for file in os.listdir(directory) if not file.startswith(\".\")]\n",
    "\n",
    "airport = []\n",
    "date = []\n",
    "precip = []\n",
    "snow = []\n",
    "snowdepth = []\n",
    "windgust = []\n",
    "cloudcover = []\n",
    "icon = []\n",
    "\n",
    "for file in files:\n",
    "    with open(directory+file) as f:\n",
    "        j = json.load(f)\n",
    "    airport.append(file[:3]) # airport code\n",
    "    date.append(j['days'][0]['datetime'])\n",
    "    precip.append(j['days'][0]['precip'])\n",
    "    snow.append(j['days'][0]['snow'])\n",
    "    snowdepth.append(j['days'][0]['snowdepth'])\n",
    "    windgust.append(j['days'][0]['windgust'])\n",
    "    cloudcover.append(j['days'][0]['cloudcover'])\n",
    "    icon.append(j['days'][0]['icon'])\n",
    "\n",
    "# create DataFrame\n",
    "d = {'airport': airport, 'date': date, 'precip': precip, 'snow': snow, 'snowdepth': snowdepth,\n",
    "     'windgust': windgust, 'cloudcover': cloudcover, 'icon': icon}\n",
    "weather_df = pd.DataFrame(data=d)\n",
    "weather_df['date'] = pd.to_datetime(weather_df.date)"
   ]
  },
  {
   "cell_type": "code",
   "execution_count": 3,
   "id": "vietnamese-hormone",
   "metadata": {},
   "outputs": [
    {
     "data": {
      "text/html": [
       "<div>\n",
       "<style scoped>\n",
       "    .dataframe tbody tr th:only-of-type {\n",
       "        vertical-align: middle;\n",
       "    }\n",
       "\n",
       "    .dataframe tbody tr th {\n",
       "        vertical-align: top;\n",
       "    }\n",
       "\n",
       "    .dataframe thead th {\n",
       "        text-align: right;\n",
       "    }\n",
       "</style>\n",
       "<table border=\"1\" class=\"dataframe\">\n",
       "  <thead>\n",
       "    <tr style=\"text-align: right;\">\n",
       "      <th></th>\n",
       "      <th>airport</th>\n",
       "      <th>date</th>\n",
       "      <th>precip</th>\n",
       "      <th>snow</th>\n",
       "      <th>snowdepth</th>\n",
       "      <th>windgust</th>\n",
       "      <th>cloudcover</th>\n",
       "      <th>icon</th>\n",
       "    </tr>\n",
       "  </thead>\n",
       "  <tbody>\n",
       "    <tr>\n",
       "      <th>0</th>\n",
       "      <td>ABE</td>\n",
       "      <td>2019-01-31</td>\n",
       "      <td>0.0</td>\n",
       "      <td>0.0</td>\n",
       "      <td>8.71</td>\n",
       "      <td>35.3</td>\n",
       "      <td>0.0</td>\n",
       "      <td>clear-day</td>\n",
       "    </tr>\n",
       "    <tr>\n",
       "      <th>1</th>\n",
       "      <td>ABQ</td>\n",
       "      <td>2018-05-05</td>\n",
       "      <td>0.0</td>\n",
       "      <td>0.0</td>\n",
       "      <td>0.00</td>\n",
       "      <td>29.5</td>\n",
       "      <td>14.2</td>\n",
       "      <td>clear-day</td>\n",
       "    </tr>\n",
       "    <tr>\n",
       "      <th>2</th>\n",
       "      <td>ABQ</td>\n",
       "      <td>2018-07-03</td>\n",
       "      <td>0.0</td>\n",
       "      <td>0.0</td>\n",
       "      <td>0.00</td>\n",
       "      <td>61.2</td>\n",
       "      <td>75.2</td>\n",
       "      <td>wind</td>\n",
       "    </tr>\n",
       "    <tr>\n",
       "      <th>3</th>\n",
       "      <td>ABQ</td>\n",
       "      <td>2018-10-01</td>\n",
       "      <td>0.0</td>\n",
       "      <td>0.0</td>\n",
       "      <td>0.00</td>\n",
       "      <td>40.7</td>\n",
       "      <td>87.9</td>\n",
       "      <td>cloudy</td>\n",
       "    </tr>\n",
       "    <tr>\n",
       "      <th>4</th>\n",
       "      <td>ABQ</td>\n",
       "      <td>2018-12-21</td>\n",
       "      <td>0.0</td>\n",
       "      <td>0.0</td>\n",
       "      <td>0.00</td>\n",
       "      <td>42.5</td>\n",
       "      <td>75.9</td>\n",
       "      <td>cloudy</td>\n",
       "    </tr>\n",
       "  </tbody>\n",
       "</table>\n",
       "</div>"
      ],
      "text/plain": [
       "  airport       date  precip  snow  snowdepth  windgust  cloudcover       icon\n",
       "0     ABE 2019-01-31     0.0   0.0       8.71      35.3         0.0  clear-day\n",
       "1     ABQ 2018-05-05     0.0   0.0       0.00      29.5        14.2  clear-day\n",
       "2     ABQ 2018-07-03     0.0   0.0       0.00      61.2        75.2       wind\n",
       "3     ABQ 2018-10-01     0.0   0.0       0.00      40.7        87.9     cloudy\n",
       "4     ABQ 2018-12-21     0.0   0.0       0.00      42.5        75.9     cloudy"
      ]
     },
     "execution_count": 3,
     "metadata": {},
     "output_type": "execute_result"
    }
   ],
   "source": [
    "weather_df.head()"
   ]
  },
  {
   "cell_type": "code",
   "execution_count": 4,
   "id": "tested-cemetery",
   "metadata": {},
   "outputs": [],
   "source": [
    "# weather_df.to_csv('data/weather_03.csv')"
   ]
  },
  {
   "cell_type": "code",
   "execution_count": null,
   "id": "romance-pharmacology",
   "metadata": {},
   "outputs": [],
   "source": []
  }
 ],
 "metadata": {
  "kernelspec": {
   "display_name": "Python 3",
   "language": "python",
   "name": "python3"
  },
  "language_info": {
   "codemirror_mode": {
    "name": "ipython",
    "version": 3
   },
   "file_extension": ".py",
   "mimetype": "text/x-python",
   "name": "python",
   "nbconvert_exporter": "python",
   "pygments_lexer": "ipython3",
   "version": "3.6.10"
  }
 },
 "nbformat": 4,
 "nbformat_minor": 5
}
